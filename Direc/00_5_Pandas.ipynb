{
 "cells": [
  {
   "cell_type": "markdown",
   "metadata": {},
   "source": [
    "# Pandas"
   ]
  },
  {
   "cell_type": "code",
   "execution_count": 1,
   "metadata": {},
   "outputs": [],
   "source": [
    "import pandas as pd"
   ]
  },
  {
   "cell_type": "markdown",
   "metadata": {},
   "source": [
    "### Table(표) : DataFrame 다루기"
   ]
  },
  {
   "cell_type": "markdown",
   "metadata": {},
   "source": [
    "table(표) 구성요소  \n",
    "1) column  \n",
    "2) index  \n",
    "3) value  "
   ]
  },
  {
   "cell_type": "markdown",
   "metadata": {},
   "source": [
    "DataFrame과 Series  \n",
    "1) Series : 열 1개의 데이터 = Vector  \n",
    "2) DataFrame : 여러 열(Series)의 데이터 = Matrix"
   ]
  },
  {
   "cell_type": "code",
   "execution_count": 5,
   "metadata": {},
   "outputs": [
    {
     "data": {
      "text/plain": [
       "0    1\n",
       "1    2\n",
       "2    3\n",
       "3    4\n",
       "4    5\n",
       "dtype: int64"
      ]
     },
     "execution_count": 5,
     "metadata": {},
     "output_type": "execute_result"
    }
   ],
   "source": [
    "series = pd.Series([1, 2, 3, 4, 5])\n",
    "series"
   ]
  },
  {
   "cell_type": "code",
   "execution_count": 6,
   "metadata": {},
   "outputs": [
    {
     "data": {
      "text/plain": [
       "DatetimeIndex(['2019-07-22', '2019-07-23', '2019-07-24', '2019-07-25',\n",
       "               '2019-07-26', '2019-07-27'],\n",
       "              dtype='datetime64[ns]', freq='D')"
      ]
     },
     "execution_count": 6,
     "metadata": {},
     "output_type": "execute_result"
    }
   ],
   "source": [
    "dates = pd.date_range('20190722', periods=6)\n",
    "dates"
   ]
  },
  {
   "cell_type": "code",
   "execution_count": 7,
   "metadata": {},
   "outputs": [
    {
     "data": {
      "text/plain": [
       "DatetimeIndex(['2019-07-31', '2019-08-31', '2019-09-30', '2019-10-31',\n",
       "               '2019-11-30', '2019-12-31'],\n",
       "              dtype='datetime64[ns]', freq='M')"
      ]
     },
     "execution_count": 7,
     "metadata": {},
     "output_type": "execute_result"
    }
   ],
   "source": [
    "dates = pd.date_range('20190722', periods=6, \n",
    "                      freq='M')\n",
    "dates"
   ]
  },
  {
   "cell_type": "code",
   "execution_count": 8,
   "metadata": {},
   "outputs": [
    {
     "data": {
      "text/plain": [
       "DatetimeIndex(['2019-12-31', '2020-12-31', '2021-12-31', '2022-12-31',\n",
       "               '2023-12-31', '2024-12-31'],\n",
       "              dtype='datetime64[ns]', freq='A-DEC')"
      ]
     },
     "execution_count": 8,
     "metadata": {},
     "output_type": "execute_result"
    }
   ],
   "source": [
    "dates = pd.date_range('20190722', periods=6, \n",
    "                      freq='Y')\n",
    "dates"
   ]
  },
  {
   "cell_type": "code",
   "execution_count": 11,
   "metadata": {},
   "outputs": [
    {
     "data": {
      "text/html": [
       "<div>\n",
       "<style scoped>\n",
       "    .dataframe tbody tr th:only-of-type {\n",
       "        vertical-align: middle;\n",
       "    }\n",
       "\n",
       "    .dataframe tbody tr th {\n",
       "        vertical-align: top;\n",
       "    }\n",
       "\n",
       "    .dataframe thead th {\n",
       "        text-align: right;\n",
       "    }\n",
       "</style>\n",
       "<table border=\"1\" class=\"dataframe\">\n",
       "  <thead>\n",
       "    <tr style=\"text-align: right;\">\n",
       "      <th></th>\n",
       "      <th>0</th>\n",
       "      <th>1</th>\n",
       "      <th>2</th>\n",
       "      <th>3</th>\n",
       "      <th>4</th>\n",
       "    </tr>\n",
       "  </thead>\n",
       "  <tbody>\n",
       "    <tr>\n",
       "      <th>0</th>\n",
       "      <td>-0.431445</td>\n",
       "      <td>1.721107</td>\n",
       "      <td>0.501897</td>\n",
       "      <td>-0.323650</td>\n",
       "      <td>0.221939</td>\n",
       "    </tr>\n",
       "    <tr>\n",
       "      <th>1</th>\n",
       "      <td>0.954124</td>\n",
       "      <td>-0.504350</td>\n",
       "      <td>1.816743</td>\n",
       "      <td>0.647114</td>\n",
       "      <td>0.651512</td>\n",
       "    </tr>\n",
       "    <tr>\n",
       "      <th>2</th>\n",
       "      <td>1.076527</td>\n",
       "      <td>-1.649536</td>\n",
       "      <td>1.616412</td>\n",
       "      <td>1.381272</td>\n",
       "      <td>0.947338</td>\n",
       "    </tr>\n",
       "    <tr>\n",
       "      <th>3</th>\n",
       "      <td>0.905034</td>\n",
       "      <td>0.940234</td>\n",
       "      <td>-1.147800</td>\n",
       "      <td>-1.811143</td>\n",
       "      <td>-0.661600</td>\n",
       "    </tr>\n",
       "    <tr>\n",
       "      <th>4</th>\n",
       "      <td>-1.453631</td>\n",
       "      <td>-0.348765</td>\n",
       "      <td>1.305499</td>\n",
       "      <td>-1.594768</td>\n",
       "      <td>1.088734</td>\n",
       "    </tr>\n",
       "    <tr>\n",
       "      <th>5</th>\n",
       "      <td>1.758679</td>\n",
       "      <td>-0.192060</td>\n",
       "      <td>-0.287262</td>\n",
       "      <td>-1.319049</td>\n",
       "      <td>-0.720603</td>\n",
       "    </tr>\n",
       "  </tbody>\n",
       "</table>\n",
       "</div>"
      ],
      "text/plain": [
       "          0         1         2         3         4\n",
       "0 -0.431445  1.721107  0.501897 -0.323650  0.221939\n",
       "1  0.954124 -0.504350  1.816743  0.647114  0.651512\n",
       "2  1.076527 -1.649536  1.616412  1.381272  0.947338\n",
       "3  0.905034  0.940234 -1.147800 -1.811143 -0.661600\n",
       "4 -1.453631 -0.348765  1.305499 -1.594768  1.088734\n",
       "5  1.758679 -0.192060 -0.287262 -1.319049 -0.720603"
      ]
     },
     "execution_count": 11,
     "metadata": {},
     "output_type": "execute_result"
    }
   ],
   "source": [
    "#DataFrame = Matrix\n",
    "import numpy as np\n",
    "rand_arr = np.random.randn(6, 5)\n",
    "rand_df = pd.DataFrame(rand_arr)\n",
    "rand_df"
   ]
  },
  {
   "cell_type": "code",
   "execution_count": 14,
   "metadata": {},
   "outputs": [
    {
     "data": {
      "text/html": [
       "<div>\n",
       "<style scoped>\n",
       "    .dataframe tbody tr th:only-of-type {\n",
       "        vertical-align: middle;\n",
       "    }\n",
       "\n",
       "    .dataframe tbody tr th {\n",
       "        vertical-align: top;\n",
       "    }\n",
       "\n",
       "    .dataframe thead th {\n",
       "        text-align: right;\n",
       "    }\n",
       "</style>\n",
       "<table border=\"1\" class=\"dataframe\">\n",
       "  <thead>\n",
       "    <tr style=\"text-align: right;\">\n",
       "      <th></th>\n",
       "      <th>A</th>\n",
       "      <th>B</th>\n",
       "      <th>C</th>\n",
       "      <th>D</th>\n",
       "      <th>E</th>\n",
       "    </tr>\n",
       "  </thead>\n",
       "  <tbody>\n",
       "    <tr>\n",
       "      <th>2019-12-31</th>\n",
       "      <td>-0.431445</td>\n",
       "      <td>1.721107</td>\n",
       "      <td>0.501897</td>\n",
       "      <td>-0.323650</td>\n",
       "      <td>0.221939</td>\n",
       "    </tr>\n",
       "    <tr>\n",
       "      <th>2020-12-31</th>\n",
       "      <td>0.954124</td>\n",
       "      <td>-0.504350</td>\n",
       "      <td>1.816743</td>\n",
       "      <td>0.647114</td>\n",
       "      <td>0.651512</td>\n",
       "    </tr>\n",
       "    <tr>\n",
       "      <th>2021-12-31</th>\n",
       "      <td>1.076527</td>\n",
       "      <td>-1.649536</td>\n",
       "      <td>1.616412</td>\n",
       "      <td>1.381272</td>\n",
       "      <td>0.947338</td>\n",
       "    </tr>\n",
       "    <tr>\n",
       "      <th>2022-12-31</th>\n",
       "      <td>0.905034</td>\n",
       "      <td>0.940234</td>\n",
       "      <td>-1.147800</td>\n",
       "      <td>-1.811143</td>\n",
       "      <td>-0.661600</td>\n",
       "    </tr>\n",
       "    <tr>\n",
       "      <th>2023-12-31</th>\n",
       "      <td>-1.453631</td>\n",
       "      <td>-0.348765</td>\n",
       "      <td>1.305499</td>\n",
       "      <td>-1.594768</td>\n",
       "      <td>1.088734</td>\n",
       "    </tr>\n",
       "    <tr>\n",
       "      <th>2024-12-31</th>\n",
       "      <td>1.758679</td>\n",
       "      <td>-0.192060</td>\n",
       "      <td>-0.287262</td>\n",
       "      <td>-1.319049</td>\n",
       "      <td>-0.720603</td>\n",
       "    </tr>\n",
       "  </tbody>\n",
       "</table>\n",
       "</div>"
      ],
      "text/plain": [
       "                   A         B         C         D         E\n",
       "2019-12-31 -0.431445  1.721107  0.501897 -0.323650  0.221939\n",
       "2020-12-31  0.954124 -0.504350  1.816743  0.647114  0.651512\n",
       "2021-12-31  1.076527 -1.649536  1.616412  1.381272  0.947338\n",
       "2022-12-31  0.905034  0.940234 -1.147800 -1.811143 -0.661600\n",
       "2023-12-31 -1.453631 -0.348765  1.305499 -1.594768  1.088734\n",
       "2024-12-31  1.758679 -0.192060 -0.287262 -1.319049 -0.720603"
      ]
     },
     "execution_count": 14,
     "metadata": {},
     "output_type": "execute_result"
    }
   ],
   "source": [
    "rand_df = pd.DataFrame(rand_arr, columns=['A', 'B', 'C', 'D', 'E'],\n",
    "                      index=dates)\n",
    "rand_df"
   ]
  },
  {
   "cell_type": "code",
   "execution_count": 71,
   "metadata": {},
   "outputs": [
    {
     "data": {
      "text/html": [
       "<div>\n",
       "<style scoped>\n",
       "    .dataframe tbody tr th:only-of-type {\n",
       "        vertical-align: middle;\n",
       "    }\n",
       "\n",
       "    .dataframe tbody tr th {\n",
       "        vertical-align: top;\n",
       "    }\n",
       "\n",
       "    .dataframe thead th {\n",
       "        text-align: right;\n",
       "    }\n",
       "</style>\n",
       "<table border=\"1\" class=\"dataframe\">\n",
       "  <thead>\n",
       "    <tr style=\"text-align: right;\">\n",
       "      <th></th>\n",
       "      <th>date</th>\n",
       "      <th>genre</th>\n",
       "      <th>title</th>\n",
       "    </tr>\n",
       "  </thead>\n",
       "  <tbody>\n",
       "    <tr>\n",
       "      <th>0</th>\n",
       "      <td>20190715</td>\n",
       "      <td>adventure</td>\n",
       "      <td>spider-man</td>\n",
       "    </tr>\n",
       "    <tr>\n",
       "      <th>1</th>\n",
       "      <td>20190615</td>\n",
       "      <td>adventure</td>\n",
       "      <td>aladin</td>\n",
       "    </tr>\n",
       "    <tr>\n",
       "      <th>2</th>\n",
       "      <td>20190630</td>\n",
       "      <td>adventure</td>\n",
       "      <td>toystory</td>\n",
       "    </tr>\n",
       "    <tr>\n",
       "      <th>3</th>\n",
       "      <td>20190720</td>\n",
       "      <td>adventure</td>\n",
       "      <td>lion-king</td>\n",
       "    </tr>\n",
       "  </tbody>\n",
       "</table>\n",
       "</div>"
      ],
      "text/plain": [
       "       date      genre       title\n",
       "0  20190715  adventure  spider-man\n",
       "1  20190615  adventure      aladin\n",
       "2  20190630  adventure    toystory\n",
       "3  20190720  adventure   lion-king"
      ]
     },
     "execution_count": 71,
     "metadata": {},
     "output_type": "execute_result"
    }
   ],
   "source": [
    "data_dict ={\n",
    "    'title':['spider-man', 'aladin', 'toystory', 'lion-king'],\n",
    "    'date': ['20190715', '20190615', '20190630', '20190720'],\n",
    "    'genre': 'adventure'\n",
    "}\n",
    "\n",
    "movie_df = pd.DataFrame(data_dict)\n",
    "movie_df"
   ]
  },
  {
   "cell_type": "markdown",
   "metadata": {},
   "source": [
    "#### view df"
   ]
  },
  {
   "cell_type": "code",
   "execution_count": 21,
   "metadata": {},
   "outputs": [
    {
     "data": {
      "text/html": [
       "<div>\n",
       "<style scoped>\n",
       "    .dataframe tbody tr th:only-of-type {\n",
       "        vertical-align: middle;\n",
       "    }\n",
       "\n",
       "    .dataframe tbody tr th {\n",
       "        vertical-align: top;\n",
       "    }\n",
       "\n",
       "    .dataframe thead th {\n",
       "        text-align: right;\n",
       "    }\n",
       "</style>\n",
       "<table border=\"1\" class=\"dataframe\">\n",
       "  <thead>\n",
       "    <tr style=\"text-align: right;\">\n",
       "      <th></th>\n",
       "      <th>A</th>\n",
       "      <th>B</th>\n",
       "      <th>C</th>\n",
       "      <th>D</th>\n",
       "      <th>E</th>\n",
       "    </tr>\n",
       "  </thead>\n",
       "  <tbody>\n",
       "    <tr>\n",
       "      <th>2019-12-31</th>\n",
       "      <td>-0.431445</td>\n",
       "      <td>1.721107</td>\n",
       "      <td>0.501897</td>\n",
       "      <td>-0.323650</td>\n",
       "      <td>0.221939</td>\n",
       "    </tr>\n",
       "    <tr>\n",
       "      <th>2020-12-31</th>\n",
       "      <td>0.954124</td>\n",
       "      <td>-0.504350</td>\n",
       "      <td>1.816743</td>\n",
       "      <td>0.647114</td>\n",
       "      <td>0.651512</td>\n",
       "    </tr>\n",
       "  </tbody>\n",
       "</table>\n",
       "</div>"
      ],
      "text/plain": [
       "                   A         B         C         D         E\n",
       "2019-12-31 -0.431445  1.721107  0.501897 -0.323650  0.221939\n",
       "2020-12-31  0.954124 -0.504350  1.816743  0.647114  0.651512"
      ]
     },
     "execution_count": 21,
     "metadata": {},
     "output_type": "execute_result"
    }
   ],
   "source": [
    "rand_df.head(2) #상위 데이터 n개만 view; defaul = 5"
   ]
  },
  {
   "cell_type": "code",
   "execution_count": 22,
   "metadata": {},
   "outputs": [
    {
     "data": {
      "text/html": [
       "<div>\n",
       "<style scoped>\n",
       "    .dataframe tbody tr th:only-of-type {\n",
       "        vertical-align: middle;\n",
       "    }\n",
       "\n",
       "    .dataframe tbody tr th {\n",
       "        vertical-align: top;\n",
       "    }\n",
       "\n",
       "    .dataframe thead th {\n",
       "        text-align: right;\n",
       "    }\n",
       "</style>\n",
       "<table border=\"1\" class=\"dataframe\">\n",
       "  <thead>\n",
       "    <tr style=\"text-align: right;\">\n",
       "      <th></th>\n",
       "      <th>A</th>\n",
       "      <th>B</th>\n",
       "      <th>C</th>\n",
       "      <th>D</th>\n",
       "      <th>E</th>\n",
       "    </tr>\n",
       "  </thead>\n",
       "  <tbody>\n",
       "    <tr>\n",
       "      <th>2022-12-31</th>\n",
       "      <td>0.905034</td>\n",
       "      <td>0.940234</td>\n",
       "      <td>-1.147800</td>\n",
       "      <td>-1.811143</td>\n",
       "      <td>-0.661600</td>\n",
       "    </tr>\n",
       "    <tr>\n",
       "      <th>2023-12-31</th>\n",
       "      <td>-1.453631</td>\n",
       "      <td>-0.348765</td>\n",
       "      <td>1.305499</td>\n",
       "      <td>-1.594768</td>\n",
       "      <td>1.088734</td>\n",
       "    </tr>\n",
       "    <tr>\n",
       "      <th>2024-12-31</th>\n",
       "      <td>1.758679</td>\n",
       "      <td>-0.192060</td>\n",
       "      <td>-0.287262</td>\n",
       "      <td>-1.319049</td>\n",
       "      <td>-0.720603</td>\n",
       "    </tr>\n",
       "  </tbody>\n",
       "</table>\n",
       "</div>"
      ],
      "text/plain": [
       "                   A         B         C         D         E\n",
       "2022-12-31  0.905034  0.940234 -1.147800 -1.811143 -0.661600\n",
       "2023-12-31 -1.453631 -0.348765  1.305499 -1.594768  1.088734\n",
       "2024-12-31  1.758679 -0.192060 -0.287262 -1.319049 -0.720603"
      ]
     },
     "execution_count": 22,
     "metadata": {},
     "output_type": "execute_result"
    }
   ],
   "source": [
    "rand_df.tail(3) #하위 n개"
   ]
  },
  {
   "cell_type": "code",
   "execution_count": 23,
   "metadata": {},
   "outputs": [
    {
     "data": {
      "text/plain": [
       "DatetimeIndex(['2019-12-31', '2020-12-31', '2021-12-31', '2022-12-31',\n",
       "               '2023-12-31', '2024-12-31'],\n",
       "              dtype='datetime64[ns]', freq='A-DEC')"
      ]
     },
     "execution_count": 23,
     "metadata": {},
     "output_type": "execute_result"
    }
   ],
   "source": [
    "rand_df.index"
   ]
  },
  {
   "cell_type": "code",
   "execution_count": 24,
   "metadata": {},
   "outputs": [
    {
     "data": {
      "text/plain": [
       "Index(['A', 'B', 'C', 'D', 'E'], dtype='object')"
      ]
     },
     "execution_count": 24,
     "metadata": {},
     "output_type": "execute_result"
    }
   ],
   "source": [
    "rand_df.columns"
   ]
  },
  {
   "cell_type": "code",
   "execution_count": 25,
   "metadata": {},
   "outputs": [
    {
     "data": {
      "text/plain": [
       "array([[-0.43144476,  1.72110653,  0.50189655, -0.32365032,  0.22193875],\n",
       "       [ 0.95412444, -0.50434983,  1.81674266,  0.647114  ,  0.6515123 ],\n",
       "       [ 1.07652734, -1.64953575,  1.6164122 ,  1.38127224,  0.94733782],\n",
       "       [ 0.90503384,  0.94023445, -1.1477998 , -1.81114312, -0.66159978],\n",
       "       [-1.4536309 , -0.34876452,  1.30549888, -1.59476814,  1.08873439],\n",
       "       [ 1.75867904, -0.19205971, -0.28726205, -1.31904877, -0.72060251]])"
      ]
     },
     "execution_count": 25,
     "metadata": {},
     "output_type": "execute_result"
    }
   ],
   "source": [
    "rand_df.values"
   ]
  },
  {
   "cell_type": "code",
   "execution_count": 32,
   "metadata": {},
   "outputs": [
    {
     "data": {
      "text/html": [
       "<div>\n",
       "<style scoped>\n",
       "    .dataframe tbody tr th:only-of-type {\n",
       "        vertical-align: middle;\n",
       "    }\n",
       "\n",
       "    .dataframe tbody tr th {\n",
       "        vertical-align: top;\n",
       "    }\n",
       "\n",
       "    .dataframe thead th {\n",
       "        text-align: right;\n",
       "    }\n",
       "</style>\n",
       "<table border=\"1\" class=\"dataframe\">\n",
       "  <thead>\n",
       "    <tr style=\"text-align: right;\">\n",
       "      <th></th>\n",
       "      <th>A</th>\n",
       "      <th>B</th>\n",
       "      <th>C</th>\n",
       "      <th>D</th>\n",
       "      <th>E</th>\n",
       "    </tr>\n",
       "  </thead>\n",
       "  <tbody>\n",
       "    <tr>\n",
       "      <th>count</th>\n",
       "      <td>6.000000</td>\n",
       "      <td>6.000000</td>\n",
       "      <td>6.000000</td>\n",
       "      <td>6.000000</td>\n",
       "      <td>6.000000</td>\n",
       "    </tr>\n",
       "    <tr>\n",
       "      <th>mean</th>\n",
       "      <td>0.468215</td>\n",
       "      <td>-0.005561</td>\n",
       "      <td>0.634248</td>\n",
       "      <td>-0.503371</td>\n",
       "      <td>0.254553</td>\n",
       "    </tr>\n",
       "    <tr>\n",
       "      <th>std</th>\n",
       "      <td>1.180266</td>\n",
       "      <td>1.181518</td>\n",
       "      <td>1.170975</td>\n",
       "      <td>1.301886</td>\n",
       "      <td>0.790533</td>\n",
       "    </tr>\n",
       "    <tr>\n",
       "      <th>min</th>\n",
       "      <td>-1.453631</td>\n",
       "      <td>-1.649536</td>\n",
       "      <td>-1.147800</td>\n",
       "      <td>-1.811143</td>\n",
       "      <td>-0.720603</td>\n",
       "    </tr>\n",
       "    <tr>\n",
       "      <th>25%</th>\n",
       "      <td>-0.097325</td>\n",
       "      <td>-0.465453</td>\n",
       "      <td>-0.089972</td>\n",
       "      <td>-1.525838</td>\n",
       "      <td>-0.440715</td>\n",
       "    </tr>\n",
       "    <tr>\n",
       "      <th>50%</th>\n",
       "      <td>0.929579</td>\n",
       "      <td>-0.270412</td>\n",
       "      <td>0.903698</td>\n",
       "      <td>-0.821350</td>\n",
       "      <td>0.436726</td>\n",
       "    </tr>\n",
       "    <tr>\n",
       "      <th>75%</th>\n",
       "      <td>1.045927</td>\n",
       "      <td>0.657161</td>\n",
       "      <td>1.538684</td>\n",
       "      <td>0.404423</td>\n",
       "      <td>0.873381</td>\n",
       "    </tr>\n",
       "    <tr>\n",
       "      <th>max</th>\n",
       "      <td>1.758679</td>\n",
       "      <td>1.721107</td>\n",
       "      <td>1.816743</td>\n",
       "      <td>1.381272</td>\n",
       "      <td>1.088734</td>\n",
       "    </tr>\n",
       "  </tbody>\n",
       "</table>\n",
       "</div>"
      ],
      "text/plain": [
       "              A         B         C         D         E\n",
       "count  6.000000  6.000000  6.000000  6.000000  6.000000\n",
       "mean   0.468215 -0.005561  0.634248 -0.503371  0.254553\n",
       "std    1.180266  1.181518  1.170975  1.301886  0.790533\n",
       "min   -1.453631 -1.649536 -1.147800 -1.811143 -0.720603\n",
       "25%   -0.097325 -0.465453 -0.089972 -1.525838 -0.440715\n",
       "50%    0.929579 -0.270412  0.903698 -0.821350  0.436726\n",
       "75%    1.045927  0.657161  1.538684  0.404423  0.873381\n",
       "max    1.758679  1.721107  1.816743  1.381272  1.088734"
      ]
     },
     "execution_count": 32,
     "metadata": {},
     "output_type": "execute_result"
    }
   ],
   "source": [
    "#통계 데이터 view\n",
    "rand_df.describe() #number type에 대한 통계수치"
   ]
  },
  {
   "cell_type": "code",
   "execution_count": 31,
   "metadata": {},
   "outputs": [
    {
     "data": {
      "text/html": [
       "<div>\n",
       "<style scoped>\n",
       "    .dataframe tbody tr th:only-of-type {\n",
       "        vertical-align: middle;\n",
       "    }\n",
       "\n",
       "    .dataframe tbody tr th {\n",
       "        vertical-align: top;\n",
       "    }\n",
       "\n",
       "    .dataframe thead th {\n",
       "        text-align: right;\n",
       "    }\n",
       "</style>\n",
       "<table border=\"1\" class=\"dataframe\">\n",
       "  <thead>\n",
       "    <tr style=\"text-align: right;\">\n",
       "      <th></th>\n",
       "      <th>A</th>\n",
       "      <th>B</th>\n",
       "      <th>C</th>\n",
       "      <th>D</th>\n",
       "      <th>E</th>\n",
       "    </tr>\n",
       "  </thead>\n",
       "  <tbody>\n",
       "    <tr>\n",
       "      <th>count</th>\n",
       "      <td>6.000000</td>\n",
       "      <td>6.000000</td>\n",
       "      <td>6.000000</td>\n",
       "      <td>6.000000</td>\n",
       "      <td>6.000000</td>\n",
       "    </tr>\n",
       "    <tr>\n",
       "      <th>mean</th>\n",
       "      <td>0.468215</td>\n",
       "      <td>-0.005561</td>\n",
       "      <td>0.634248</td>\n",
       "      <td>-0.503371</td>\n",
       "      <td>0.254553</td>\n",
       "    </tr>\n",
       "    <tr>\n",
       "      <th>std</th>\n",
       "      <td>1.180266</td>\n",
       "      <td>1.181518</td>\n",
       "      <td>1.170975</td>\n",
       "      <td>1.301886</td>\n",
       "      <td>0.790533</td>\n",
       "    </tr>\n",
       "    <tr>\n",
       "      <th>min</th>\n",
       "      <td>-1.453631</td>\n",
       "      <td>-1.649536</td>\n",
       "      <td>-1.147800</td>\n",
       "      <td>-1.811143</td>\n",
       "      <td>-0.720603</td>\n",
       "    </tr>\n",
       "    <tr>\n",
       "      <th>25%</th>\n",
       "      <td>-0.097325</td>\n",
       "      <td>-0.465453</td>\n",
       "      <td>-0.089972</td>\n",
       "      <td>-1.525838</td>\n",
       "      <td>-0.440715</td>\n",
       "    </tr>\n",
       "    <tr>\n",
       "      <th>50%</th>\n",
       "      <td>0.929579</td>\n",
       "      <td>-0.270412</td>\n",
       "      <td>0.903698</td>\n",
       "      <td>-0.821350</td>\n",
       "      <td>0.436726</td>\n",
       "    </tr>\n",
       "    <tr>\n",
       "      <th>75%</th>\n",
       "      <td>1.045927</td>\n",
       "      <td>0.657161</td>\n",
       "      <td>1.538684</td>\n",
       "      <td>0.404423</td>\n",
       "      <td>0.873381</td>\n",
       "    </tr>\n",
       "    <tr>\n",
       "      <th>max</th>\n",
       "      <td>1.758679</td>\n",
       "      <td>1.721107</td>\n",
       "      <td>1.816743</td>\n",
       "      <td>1.381272</td>\n",
       "      <td>1.088734</td>\n",
       "    </tr>\n",
       "  </tbody>\n",
       "</table>\n",
       "</div>"
      ],
      "text/plain": [
       "              A         B         C         D         E\n",
       "count  6.000000  6.000000  6.000000  6.000000  6.000000\n",
       "mean   0.468215 -0.005561  0.634248 -0.503371  0.254553\n",
       "std    1.180266  1.181518  1.170975  1.301886  0.790533\n",
       "min   -1.453631 -1.649536 -1.147800 -1.811143 -0.720603\n",
       "25%   -0.097325 -0.465453 -0.089972 -1.525838 -0.440715\n",
       "50%    0.929579 -0.270412  0.903698 -0.821350  0.436726\n",
       "75%    1.045927  0.657161  1.538684  0.404423  0.873381\n",
       "max    1.758679  1.721107  1.816743  1.381272  1.088734"
      ]
     },
     "execution_count": 31,
     "metadata": {},
     "output_type": "execute_result"
    }
   ],
   "source": [
    "rand_df.describe(include='all') #number + object"
   ]
  },
  {
   "cell_type": "code",
   "execution_count": 33,
   "metadata": {},
   "outputs": [],
   "source": [
    "#rand_df.describe(include='O') #object"
   ]
  },
  {
   "cell_type": "code",
   "execution_count": 35,
   "metadata": {},
   "outputs": [
    {
     "name": "stdout",
     "output_type": "stream",
     "text": [
      "<class 'pandas.core.frame.DataFrame'>\n",
      "DatetimeIndex: 6 entries, 2019-12-31 to 2024-12-31\n",
      "Freq: A-DEC\n",
      "Data columns (total 5 columns):\n",
      "A    6 non-null float64\n",
      "B    6 non-null float64\n",
      "C    6 non-null float64\n",
      "D    6 non-null float64\n",
      "E    6 non-null float64\n",
      "dtypes: float64(5)\n",
      "memory usage: 288.0 bytes\n"
     ]
    }
   ],
   "source": [
    "rand_df.info() #column별 type, 결측치 여부 등"
   ]
  },
  {
   "cell_type": "markdown",
   "metadata": {},
   "source": [
    "#### select df (원하는 부분만 지정)"
   ]
  },
  {
   "cell_type": "code",
   "execution_count": 36,
   "metadata": {
    "scrolled": false
   },
   "outputs": [
    {
     "data": {
      "text/plain": [
       "2019-12-31   -0.431445\n",
       "2020-12-31    0.954124\n",
       "2021-12-31    1.076527\n",
       "2022-12-31    0.905034\n",
       "2023-12-31   -1.453631\n",
       "2024-12-31    1.758679\n",
       "Freq: A-DEC, Name: A, dtype: float64"
      ]
     },
     "execution_count": 36,
     "metadata": {},
     "output_type": "execute_result"
    }
   ],
   "source": [
    "#'A'column만 지정\n",
    "rand_df['A']"
   ]
  },
  {
   "cell_type": "code",
   "execution_count": 38,
   "metadata": {
    "scrolled": true
   },
   "outputs": [
    {
     "data": {
      "text/html": [
       "<div>\n",
       "<style scoped>\n",
       "    .dataframe tbody tr th:only-of-type {\n",
       "        vertical-align: middle;\n",
       "    }\n",
       "\n",
       "    .dataframe tbody tr th {\n",
       "        vertical-align: top;\n",
       "    }\n",
       "\n",
       "    .dataframe thead th {\n",
       "        text-align: right;\n",
       "    }\n",
       "</style>\n",
       "<table border=\"1\" class=\"dataframe\">\n",
       "  <thead>\n",
       "    <tr style=\"text-align: right;\">\n",
       "      <th></th>\n",
       "      <th>A</th>\n",
       "      <th>B</th>\n",
       "    </tr>\n",
       "  </thead>\n",
       "  <tbody>\n",
       "    <tr>\n",
       "      <th>2019-12-31</th>\n",
       "      <td>-0.431445</td>\n",
       "      <td>1.721107</td>\n",
       "    </tr>\n",
       "    <tr>\n",
       "      <th>2020-12-31</th>\n",
       "      <td>0.954124</td>\n",
       "      <td>-0.504350</td>\n",
       "    </tr>\n",
       "    <tr>\n",
       "      <th>2021-12-31</th>\n",
       "      <td>1.076527</td>\n",
       "      <td>-1.649536</td>\n",
       "    </tr>\n",
       "    <tr>\n",
       "      <th>2022-12-31</th>\n",
       "      <td>0.905034</td>\n",
       "      <td>0.940234</td>\n",
       "    </tr>\n",
       "    <tr>\n",
       "      <th>2023-12-31</th>\n",
       "      <td>-1.453631</td>\n",
       "      <td>-0.348765</td>\n",
       "    </tr>\n",
       "    <tr>\n",
       "      <th>2024-12-31</th>\n",
       "      <td>1.758679</td>\n",
       "      <td>-0.192060</td>\n",
       "    </tr>\n",
       "  </tbody>\n",
       "</table>\n",
       "</div>"
      ],
      "text/plain": [
       "                   A         B\n",
       "2019-12-31 -0.431445  1.721107\n",
       "2020-12-31  0.954124 -0.504350\n",
       "2021-12-31  1.076527 -1.649536\n",
       "2022-12-31  0.905034  0.940234\n",
       "2023-12-31 -1.453631 -0.348765\n",
       "2024-12-31  1.758679 -0.192060"
      ]
     },
     "execution_count": 38,
     "metadata": {},
     "output_type": "execute_result"
    }
   ],
   "source": [
    "#'A', 'B' column만 지정\n",
    "rand_df[['A', 'B']]"
   ]
  },
  {
   "cell_type": "code",
   "execution_count": 39,
   "metadata": {
    "scrolled": true
   },
   "outputs": [
    {
     "data": {
      "text/html": [
       "<div>\n",
       "<style scoped>\n",
       "    .dataframe tbody tr th:only-of-type {\n",
       "        vertical-align: middle;\n",
       "    }\n",
       "\n",
       "    .dataframe tbody tr th {\n",
       "        vertical-align: top;\n",
       "    }\n",
       "\n",
       "    .dataframe thead th {\n",
       "        text-align: right;\n",
       "    }\n",
       "</style>\n",
       "<table border=\"1\" class=\"dataframe\">\n",
       "  <thead>\n",
       "    <tr style=\"text-align: right;\">\n",
       "      <th></th>\n",
       "      <th>C</th>\n",
       "      <th>B</th>\n",
       "      <th>A</th>\n",
       "    </tr>\n",
       "  </thead>\n",
       "  <tbody>\n",
       "    <tr>\n",
       "      <th>2019-12-31</th>\n",
       "      <td>0.501897</td>\n",
       "      <td>1.721107</td>\n",
       "      <td>-0.431445</td>\n",
       "    </tr>\n",
       "    <tr>\n",
       "      <th>2020-12-31</th>\n",
       "      <td>1.816743</td>\n",
       "      <td>-0.504350</td>\n",
       "      <td>0.954124</td>\n",
       "    </tr>\n",
       "    <tr>\n",
       "      <th>2021-12-31</th>\n",
       "      <td>1.616412</td>\n",
       "      <td>-1.649536</td>\n",
       "      <td>1.076527</td>\n",
       "    </tr>\n",
       "    <tr>\n",
       "      <th>2022-12-31</th>\n",
       "      <td>-1.147800</td>\n",
       "      <td>0.940234</td>\n",
       "      <td>0.905034</td>\n",
       "    </tr>\n",
       "    <tr>\n",
       "      <th>2023-12-31</th>\n",
       "      <td>1.305499</td>\n",
       "      <td>-0.348765</td>\n",
       "      <td>-1.453631</td>\n",
       "    </tr>\n",
       "    <tr>\n",
       "      <th>2024-12-31</th>\n",
       "      <td>-0.287262</td>\n",
       "      <td>-0.192060</td>\n",
       "      <td>1.758679</td>\n",
       "    </tr>\n",
       "  </tbody>\n",
       "</table>\n",
       "</div>"
      ],
      "text/plain": [
       "                   C         B         A\n",
       "2019-12-31  0.501897  1.721107 -0.431445\n",
       "2020-12-31  1.816743 -0.504350  0.954124\n",
       "2021-12-31  1.616412 -1.649536  1.076527\n",
       "2022-12-31 -1.147800  0.940234  0.905034\n",
       "2023-12-31  1.305499 -0.348765 -1.453631\n",
       "2024-12-31 -0.287262 -0.192060  1.758679"
      ]
     },
     "execution_count": 39,
     "metadata": {},
     "output_type": "execute_result"
    }
   ],
   "source": [
    "#'C', 'B', 'A'column만 지정\n",
    "rand_df[['C', 'B', 'A']]"
   ]
  },
  {
   "cell_type": "code",
   "execution_count": 41,
   "metadata": {},
   "outputs": [
    {
     "data": {
      "text/plain": [
       "A   -0.431445\n",
       "B    1.721107\n",
       "C    0.501897\n",
       "D   -0.323650\n",
       "E    0.221939\n",
       "Name: 2019-12-31 00:00:00, dtype: float64"
      ]
     },
     "execution_count": 41,
     "metadata": {},
     "output_type": "execute_result"
    }
   ],
   "source": [
    "rand_df.loc['2019-12-31'] #index name으로 접근"
   ]
  },
  {
   "cell_type": "code",
   "execution_count": 45,
   "metadata": {},
   "outputs": [
    {
     "data": {
      "text/plain": [
       "A   -0.431445\n",
       "B    1.721107\n",
       "C    0.501897\n",
       "D   -0.323650\n",
       "E    0.221939\n",
       "Name: 2019-12-31 00:00:00, dtype: float64"
      ]
     },
     "execution_count": 45,
     "metadata": {},
     "output_type": "execute_result"
    }
   ],
   "source": [
    "rand_df.iloc[0] #index 순서로 접근"
   ]
  },
  {
   "cell_type": "code",
   "execution_count": 47,
   "metadata": {},
   "outputs": [
    {
     "data": {
      "text/plain": [
       "A   -0.431445\n",
       "B    1.721107\n",
       "C    0.501897\n",
       "D   -0.323650\n",
       "E    0.221939\n",
       "Name: 2019-12-31 00:00:00, dtype: float64"
      ]
     },
     "execution_count": 47,
     "metadata": {},
     "output_type": "execute_result"
    }
   ],
   "source": [
    "rand_df.ix[0] #둘다 가능"
   ]
  },
  {
   "cell_type": "code",
   "execution_count": 48,
   "metadata": {
    "scrolled": true
   },
   "outputs": [
    {
     "data": {
      "text/plain": [
       "A   -0.431445\n",
       "B    1.721107\n",
       "C    0.501897\n",
       "D   -0.323650\n",
       "E    0.221939\n",
       "Name: 2019-12-31 00:00:00, dtype: float64"
      ]
     },
     "execution_count": 48,
     "metadata": {},
     "output_type": "execute_result"
    }
   ],
   "source": [
    "rand_df.ix['2019-12-31'] #둘다 가능"
   ]
  },
  {
   "cell_type": "markdown",
   "metadata": {},
   "source": [
    "##### 슬라이싱"
   ]
  },
  {
   "cell_type": "code",
   "execution_count": 55,
   "metadata": {},
   "outputs": [
    {
     "data": {
      "text/plain": [
       "['B', 'C', 'D']"
      ]
     },
     "execution_count": 55,
     "metadata": {},
     "output_type": "execute_result"
    }
   ],
   "source": [
    "col = list(rand_df)[1:4] #B, C, D\n",
    "col"
   ]
  },
  {
   "cell_type": "code",
   "execution_count": 56,
   "metadata": {},
   "outputs": [
    {
     "data": {
      "text/html": [
       "<div>\n",
       "<style scoped>\n",
       "    .dataframe tbody tr th:only-of-type {\n",
       "        vertical-align: middle;\n",
       "    }\n",
       "\n",
       "    .dataframe tbody tr th {\n",
       "        vertical-align: top;\n",
       "    }\n",
       "\n",
       "    .dataframe thead th {\n",
       "        text-align: right;\n",
       "    }\n",
       "</style>\n",
       "<table border=\"1\" class=\"dataframe\">\n",
       "  <thead>\n",
       "    <tr style=\"text-align: right;\">\n",
       "      <th></th>\n",
       "      <th>B</th>\n",
       "      <th>C</th>\n",
       "      <th>D</th>\n",
       "    </tr>\n",
       "  </thead>\n",
       "  <tbody>\n",
       "    <tr>\n",
       "      <th>2019-12-31</th>\n",
       "      <td>1.721107</td>\n",
       "      <td>0.501897</td>\n",
       "      <td>-0.323650</td>\n",
       "    </tr>\n",
       "    <tr>\n",
       "      <th>2020-12-31</th>\n",
       "      <td>-0.504350</td>\n",
       "      <td>1.816743</td>\n",
       "      <td>0.647114</td>\n",
       "    </tr>\n",
       "    <tr>\n",
       "      <th>2021-12-31</th>\n",
       "      <td>-1.649536</td>\n",
       "      <td>1.616412</td>\n",
       "      <td>1.381272</td>\n",
       "    </tr>\n",
       "    <tr>\n",
       "      <th>2022-12-31</th>\n",
       "      <td>0.940234</td>\n",
       "      <td>-1.147800</td>\n",
       "      <td>-1.811143</td>\n",
       "    </tr>\n",
       "    <tr>\n",
       "      <th>2023-12-31</th>\n",
       "      <td>-0.348765</td>\n",
       "      <td>1.305499</td>\n",
       "      <td>-1.594768</td>\n",
       "    </tr>\n",
       "    <tr>\n",
       "      <th>2024-12-31</th>\n",
       "      <td>-0.192060</td>\n",
       "      <td>-0.287262</td>\n",
       "      <td>-1.319049</td>\n",
       "    </tr>\n",
       "  </tbody>\n",
       "</table>\n",
       "</div>"
      ],
      "text/plain": [
       "                   B         C         D\n",
       "2019-12-31  1.721107  0.501897 -0.323650\n",
       "2020-12-31 -0.504350  1.816743  0.647114\n",
       "2021-12-31 -1.649536  1.616412  1.381272\n",
       "2022-12-31  0.940234 -1.147800 -1.811143\n",
       "2023-12-31 -0.348765  1.305499 -1.594768\n",
       "2024-12-31 -0.192060 -0.287262 -1.319049"
      ]
     },
     "execution_count": 56,
     "metadata": {},
     "output_type": "execute_result"
    }
   ],
   "source": [
    "rand_df[col]"
   ]
  },
  {
   "cell_type": "code",
   "execution_count": 61,
   "metadata": {},
   "outputs": [],
   "source": [
    "col = rand_df.columns[:4]"
   ]
  },
  {
   "cell_type": "code",
   "execution_count": 62,
   "metadata": {},
   "outputs": [
    {
     "data": {
      "text/html": [
       "<div>\n",
       "<style scoped>\n",
       "    .dataframe tbody tr th:only-of-type {\n",
       "        vertical-align: middle;\n",
       "    }\n",
       "\n",
       "    .dataframe tbody tr th {\n",
       "        vertical-align: top;\n",
       "    }\n",
       "\n",
       "    .dataframe thead th {\n",
       "        text-align: right;\n",
       "    }\n",
       "</style>\n",
       "<table border=\"1\" class=\"dataframe\">\n",
       "  <thead>\n",
       "    <tr style=\"text-align: right;\">\n",
       "      <th></th>\n",
       "      <th>A</th>\n",
       "      <th>B</th>\n",
       "      <th>C</th>\n",
       "      <th>D</th>\n",
       "    </tr>\n",
       "  </thead>\n",
       "  <tbody>\n",
       "    <tr>\n",
       "      <th>2019-12-31</th>\n",
       "      <td>-0.431445</td>\n",
       "      <td>1.721107</td>\n",
       "      <td>0.501897</td>\n",
       "      <td>-0.323650</td>\n",
       "    </tr>\n",
       "    <tr>\n",
       "      <th>2020-12-31</th>\n",
       "      <td>0.954124</td>\n",
       "      <td>-0.504350</td>\n",
       "      <td>1.816743</td>\n",
       "      <td>0.647114</td>\n",
       "    </tr>\n",
       "    <tr>\n",
       "      <th>2021-12-31</th>\n",
       "      <td>1.076527</td>\n",
       "      <td>-1.649536</td>\n",
       "      <td>1.616412</td>\n",
       "      <td>1.381272</td>\n",
       "    </tr>\n",
       "    <tr>\n",
       "      <th>2022-12-31</th>\n",
       "      <td>0.905034</td>\n",
       "      <td>0.940234</td>\n",
       "      <td>-1.147800</td>\n",
       "      <td>-1.811143</td>\n",
       "    </tr>\n",
       "    <tr>\n",
       "      <th>2023-12-31</th>\n",
       "      <td>-1.453631</td>\n",
       "      <td>-0.348765</td>\n",
       "      <td>1.305499</td>\n",
       "      <td>-1.594768</td>\n",
       "    </tr>\n",
       "    <tr>\n",
       "      <th>2024-12-31</th>\n",
       "      <td>1.758679</td>\n",
       "      <td>-0.192060</td>\n",
       "      <td>-0.287262</td>\n",
       "      <td>-1.319049</td>\n",
       "    </tr>\n",
       "  </tbody>\n",
       "</table>\n",
       "</div>"
      ],
      "text/plain": [
       "                   A         B         C         D\n",
       "2019-12-31 -0.431445  1.721107  0.501897 -0.323650\n",
       "2020-12-31  0.954124 -0.504350  1.816743  0.647114\n",
       "2021-12-31  1.076527 -1.649536  1.616412  1.381272\n",
       "2022-12-31  0.905034  0.940234 -1.147800 -1.811143\n",
       "2023-12-31 -1.453631 -0.348765  1.305499 -1.594768\n",
       "2024-12-31  1.758679 -0.192060 -0.287262 -1.319049"
      ]
     },
     "execution_count": 62,
     "metadata": {},
     "output_type": "execute_result"
    }
   ],
   "source": [
    "rand_df[col]"
   ]
  },
  {
   "cell_type": "code",
   "execution_count": 63,
   "metadata": {},
   "outputs": [
    {
     "data": {
      "text/html": [
       "<div>\n",
       "<style scoped>\n",
       "    .dataframe tbody tr th:only-of-type {\n",
       "        vertical-align: middle;\n",
       "    }\n",
       "\n",
       "    .dataframe tbody tr th {\n",
       "        vertical-align: top;\n",
       "    }\n",
       "\n",
       "    .dataframe thead th {\n",
       "        text-align: right;\n",
       "    }\n",
       "</style>\n",
       "<table border=\"1\" class=\"dataframe\">\n",
       "  <thead>\n",
       "    <tr style=\"text-align: right;\">\n",
       "      <th></th>\n",
       "      <th>A</th>\n",
       "      <th>B</th>\n",
       "      <th>C</th>\n",
       "      <th>D</th>\n",
       "      <th>E</th>\n",
       "    </tr>\n",
       "  </thead>\n",
       "  <tbody>\n",
       "    <tr>\n",
       "      <th>2019-12-31</th>\n",
       "      <td>-0.431445</td>\n",
       "      <td>1.721107</td>\n",
       "      <td>0.501897</td>\n",
       "      <td>-0.323650</td>\n",
       "      <td>0.221939</td>\n",
       "    </tr>\n",
       "    <tr>\n",
       "      <th>2020-12-31</th>\n",
       "      <td>0.954124</td>\n",
       "      <td>-0.504350</td>\n",
       "      <td>1.816743</td>\n",
       "      <td>0.647114</td>\n",
       "      <td>0.651512</td>\n",
       "    </tr>\n",
       "    <tr>\n",
       "      <th>2021-12-31</th>\n",
       "      <td>1.076527</td>\n",
       "      <td>-1.649536</td>\n",
       "      <td>1.616412</td>\n",
       "      <td>1.381272</td>\n",
       "      <td>0.947338</td>\n",
       "    </tr>\n",
       "  </tbody>\n",
       "</table>\n",
       "</div>"
      ],
      "text/plain": [
       "                   A         B         C         D         E\n",
       "2019-12-31 -0.431445  1.721107  0.501897 -0.323650  0.221939\n",
       "2020-12-31  0.954124 -0.504350  1.816743  0.647114  0.651512\n",
       "2021-12-31  1.076527 -1.649536  1.616412  1.381272  0.947338"
      ]
     },
     "execution_count": 63,
     "metadata": {},
     "output_type": "execute_result"
    }
   ],
   "source": [
    "rand_df.loc['2019-12-31':'2021-12-31'] #0, 1, 2"
   ]
  },
  {
   "cell_type": "code",
   "execution_count": 64,
   "metadata": {},
   "outputs": [
    {
     "data": {
      "text/html": [
       "<div>\n",
       "<style scoped>\n",
       "    .dataframe tbody tr th:only-of-type {\n",
       "        vertical-align: middle;\n",
       "    }\n",
       "\n",
       "    .dataframe tbody tr th {\n",
       "        vertical-align: top;\n",
       "    }\n",
       "\n",
       "    .dataframe thead th {\n",
       "        text-align: right;\n",
       "    }\n",
       "</style>\n",
       "<table border=\"1\" class=\"dataframe\">\n",
       "  <thead>\n",
       "    <tr style=\"text-align: right;\">\n",
       "      <th></th>\n",
       "      <th>A</th>\n",
       "      <th>B</th>\n",
       "      <th>C</th>\n",
       "      <th>D</th>\n",
       "      <th>E</th>\n",
       "    </tr>\n",
       "  </thead>\n",
       "  <tbody>\n",
       "    <tr>\n",
       "      <th>2019-12-31</th>\n",
       "      <td>-0.431445</td>\n",
       "      <td>1.721107</td>\n",
       "      <td>0.501897</td>\n",
       "      <td>-0.323650</td>\n",
       "      <td>0.221939</td>\n",
       "    </tr>\n",
       "    <tr>\n",
       "      <th>2020-12-31</th>\n",
       "      <td>0.954124</td>\n",
       "      <td>-0.504350</td>\n",
       "      <td>1.816743</td>\n",
       "      <td>0.647114</td>\n",
       "      <td>0.651512</td>\n",
       "    </tr>\n",
       "    <tr>\n",
       "      <th>2021-12-31</th>\n",
       "      <td>1.076527</td>\n",
       "      <td>-1.649536</td>\n",
       "      <td>1.616412</td>\n",
       "      <td>1.381272</td>\n",
       "      <td>0.947338</td>\n",
       "    </tr>\n",
       "  </tbody>\n",
       "</table>\n",
       "</div>"
      ],
      "text/plain": [
       "                   A         B         C         D         E\n",
       "2019-12-31 -0.431445  1.721107  0.501897 -0.323650  0.221939\n",
       "2020-12-31  0.954124 -0.504350  1.816743  0.647114  0.651512\n",
       "2021-12-31  1.076527 -1.649536  1.616412  1.381272  0.947338"
      ]
     },
     "execution_count": 64,
     "metadata": {},
     "output_type": "execute_result"
    }
   ],
   "source": [
    "rand_df.iloc[0:3] #0, 1, 2"
   ]
  },
  {
   "cell_type": "code",
   "execution_count": 69,
   "metadata": {},
   "outputs": [
    {
     "data": {
      "text/html": [
       "<div>\n",
       "<style scoped>\n",
       "    .dataframe tbody tr th:only-of-type {\n",
       "        vertical-align: middle;\n",
       "    }\n",
       "\n",
       "    .dataframe tbody tr th {\n",
       "        vertical-align: top;\n",
       "    }\n",
       "\n",
       "    .dataframe thead th {\n",
       "        text-align: right;\n",
       "    }\n",
       "</style>\n",
       "<table border=\"1\" class=\"dataframe\">\n",
       "  <thead>\n",
       "    <tr style=\"text-align: right;\">\n",
       "      <th></th>\n",
       "      <th>A</th>\n",
       "      <th>B</th>\n",
       "      <th>C</th>\n",
       "      <th>D</th>\n",
       "      <th>E</th>\n",
       "    </tr>\n",
       "  </thead>\n",
       "  <tbody>\n",
       "    <tr>\n",
       "      <th>2019-12-31</th>\n",
       "      <td>-0.431445</td>\n",
       "      <td>1.721107</td>\n",
       "      <td>0.501897</td>\n",
       "      <td>-0.323650</td>\n",
       "      <td>0.221939</td>\n",
       "    </tr>\n",
       "    <tr>\n",
       "      <th>2020-12-31</th>\n",
       "      <td>0.954124</td>\n",
       "      <td>-0.504350</td>\n",
       "      <td>1.816743</td>\n",
       "      <td>0.647114</td>\n",
       "      <td>0.651512</td>\n",
       "    </tr>\n",
       "    <tr>\n",
       "      <th>2021-12-31</th>\n",
       "      <td>1.076527</td>\n",
       "      <td>-1.649536</td>\n",
       "      <td>1.616412</td>\n",
       "      <td>1.381272</td>\n",
       "      <td>0.947338</td>\n",
       "    </tr>\n",
       "  </tbody>\n",
       "</table>\n",
       "</div>"
      ],
      "text/plain": [
       "                   A         B         C         D         E\n",
       "2019-12-31 -0.431445  1.721107  0.501897 -0.323650  0.221939\n",
       "2020-12-31  0.954124 -0.504350  1.816743  0.647114  0.651512\n",
       "2021-12-31  1.076527 -1.649536  1.616412  1.381272  0.947338"
      ]
     },
     "execution_count": 69,
     "metadata": {},
     "output_type": "execute_result"
    }
   ],
   "source": [
    "rand_df.ix['2019-12-31':'2021-12-31'] #loc 과 같은 규칙"
   ]
  },
  {
   "cell_type": "code",
   "execution_count": 70,
   "metadata": {},
   "outputs": [
    {
     "data": {
      "text/html": [
       "<div>\n",
       "<style scoped>\n",
       "    .dataframe tbody tr th:only-of-type {\n",
       "        vertical-align: middle;\n",
       "    }\n",
       "\n",
       "    .dataframe tbody tr th {\n",
       "        vertical-align: top;\n",
       "    }\n",
       "\n",
       "    .dataframe thead th {\n",
       "        text-align: right;\n",
       "    }\n",
       "</style>\n",
       "<table border=\"1\" class=\"dataframe\">\n",
       "  <thead>\n",
       "    <tr style=\"text-align: right;\">\n",
       "      <th></th>\n",
       "      <th>A</th>\n",
       "      <th>B</th>\n",
       "      <th>C</th>\n",
       "      <th>D</th>\n",
       "      <th>E</th>\n",
       "    </tr>\n",
       "  </thead>\n",
       "  <tbody>\n",
       "    <tr>\n",
       "      <th>2019-12-31</th>\n",
       "      <td>-0.431445</td>\n",
       "      <td>1.721107</td>\n",
       "      <td>0.501897</td>\n",
       "      <td>-0.323650</td>\n",
       "      <td>0.221939</td>\n",
       "    </tr>\n",
       "    <tr>\n",
       "      <th>2020-12-31</th>\n",
       "      <td>0.954124</td>\n",
       "      <td>-0.504350</td>\n",
       "      <td>1.816743</td>\n",
       "      <td>0.647114</td>\n",
       "      <td>0.651512</td>\n",
       "    </tr>\n",
       "    <tr>\n",
       "      <th>2021-12-31</th>\n",
       "      <td>1.076527</td>\n",
       "      <td>-1.649536</td>\n",
       "      <td>1.616412</td>\n",
       "      <td>1.381272</td>\n",
       "      <td>0.947338</td>\n",
       "    </tr>\n",
       "  </tbody>\n",
       "</table>\n",
       "</div>"
      ],
      "text/plain": [
       "                   A         B         C         D         E\n",
       "2019-12-31 -0.431445  1.721107  0.501897 -0.323650  0.221939\n",
       "2020-12-31  0.954124 -0.504350  1.816743  0.647114  0.651512\n",
       "2021-12-31  1.076527 -1.649536  1.616412  1.381272  0.947338"
      ]
     },
     "execution_count": 70,
     "metadata": {},
     "output_type": "execute_result"
    }
   ],
   "source": [
    "rand_df.ix[0:3] #iloc 과 같은 규칙"
   ]
  },
  {
   "cell_type": "code",
   "execution_count": 73,
   "metadata": {},
   "outputs": [
    {
     "data": {
      "text/html": [
       "<div>\n",
       "<style scoped>\n",
       "    .dataframe tbody tr th:only-of-type {\n",
       "        vertical-align: middle;\n",
       "    }\n",
       "\n",
       "    .dataframe tbody tr th {\n",
       "        vertical-align: top;\n",
       "    }\n",
       "\n",
       "    .dataframe thead th {\n",
       "        text-align: right;\n",
       "    }\n",
       "</style>\n",
       "<table border=\"1\" class=\"dataframe\">\n",
       "  <thead>\n",
       "    <tr style=\"text-align: right;\">\n",
       "      <th></th>\n",
       "      <th>date</th>\n",
       "      <th>genre</th>\n",
       "      <th>title</th>\n",
       "    </tr>\n",
       "  </thead>\n",
       "  <tbody>\n",
       "    <tr>\n",
       "      <th>0</th>\n",
       "      <td>20190715</td>\n",
       "      <td>adventure</td>\n",
       "      <td>spider-man</td>\n",
       "    </tr>\n",
       "    <tr>\n",
       "      <th>1</th>\n",
       "      <td>20190615</td>\n",
       "      <td>adventure</td>\n",
       "      <td>aladin</td>\n",
       "    </tr>\n",
       "    <tr>\n",
       "      <th>2</th>\n",
       "      <td>20190630</td>\n",
       "      <td>adventure</td>\n",
       "      <td>toystory</td>\n",
       "    </tr>\n",
       "    <tr>\n",
       "      <th>3</th>\n",
       "      <td>20190720</td>\n",
       "      <td>adventure</td>\n",
       "      <td>lion-king</td>\n",
       "    </tr>\n",
       "  </tbody>\n",
       "</table>\n",
       "</div>"
      ],
      "text/plain": [
       "       date      genre       title\n",
       "0  20190715  adventure  spider-man\n",
       "1  20190615  adventure      aladin\n",
       "2  20190630  adventure    toystory\n",
       "3  20190720  adventure   lion-king"
      ]
     },
     "execution_count": 73,
     "metadata": {},
     "output_type": "execute_result"
    }
   ],
   "source": [
    "data_dict ={\n",
    "    'title':['spider-man', 'aladin', 'toystory', 'lion-king'],\n",
    "    'date': ['20190715', '20190615', '20190630', '20190720'],\n",
    "    'genre': 'adventure'\n",
    "}\n",
    "\n",
    "movie_df = pd.DataFrame(data_dict)\n",
    "movie_df"
   ]
  },
  {
   "cell_type": "code",
   "execution_count": 76,
   "metadata": {},
   "outputs": [
    {
     "data": {
      "text/plain": [
       "date       20190715\n",
       "genre     adventure\n",
       "title    spider-man\n",
       "Name: 0, dtype: object"
      ]
     },
     "execution_count": 76,
     "metadata": {},
     "output_type": "execute_result"
    }
   ],
   "source": [
    "#movie_df의 index 주목해보자. index를 따로 지정하지 X -> 숫자로\n",
    "#1) loc을 사용할 수 있을까? (iloc은 사용될텐데..)\n",
    "movie_df.loc[0] #index를 따로 지정 X -> index 숫자 == index name"
   ]
  },
  {
   "cell_type": "code",
   "execution_count": 77,
   "metadata": {},
   "outputs": [
    {
     "data": {
      "text/html": [
       "<div>\n",
       "<style scoped>\n",
       "    .dataframe tbody tr th:only-of-type {\n",
       "        vertical-align: middle;\n",
       "    }\n",
       "\n",
       "    .dataframe tbody tr th {\n",
       "        vertical-align: top;\n",
       "    }\n",
       "\n",
       "    .dataframe thead th {\n",
       "        text-align: right;\n",
       "    }\n",
       "</style>\n",
       "<table border=\"1\" class=\"dataframe\">\n",
       "  <thead>\n",
       "    <tr style=\"text-align: right;\">\n",
       "      <th></th>\n",
       "      <th>date</th>\n",
       "      <th>genre</th>\n",
       "      <th>title</th>\n",
       "    </tr>\n",
       "  </thead>\n",
       "  <tbody>\n",
       "    <tr>\n",
       "      <th>0</th>\n",
       "      <td>20190715</td>\n",
       "      <td>adventure</td>\n",
       "      <td>spider-man</td>\n",
       "    </tr>\n",
       "    <tr>\n",
       "      <th>1</th>\n",
       "      <td>20190615</td>\n",
       "      <td>adventure</td>\n",
       "      <td>aladin</td>\n",
       "    </tr>\n",
       "    <tr>\n",
       "      <th>2</th>\n",
       "      <td>20190630</td>\n",
       "      <td>adventure</td>\n",
       "      <td>toystory</td>\n",
       "    </tr>\n",
       "  </tbody>\n",
       "</table>\n",
       "</div>"
      ],
      "text/plain": [
       "       date      genre       title\n",
       "0  20190715  adventure  spider-man\n",
       "1  20190615  adventure      aladin\n",
       "2  20190630  adventure    toystory"
      ]
     },
     "execution_count": 77,
     "metadata": {},
     "output_type": "execute_result"
    }
   ],
   "source": [
    "movie_df.loc[:2] #name"
   ]
  },
  {
   "cell_type": "code",
   "execution_count": 79,
   "metadata": {
    "scrolled": true
   },
   "outputs": [
    {
     "data": {
      "text/html": [
       "<div>\n",
       "<style scoped>\n",
       "    .dataframe tbody tr th:only-of-type {\n",
       "        vertical-align: middle;\n",
       "    }\n",
       "\n",
       "    .dataframe tbody tr th {\n",
       "        vertical-align: top;\n",
       "    }\n",
       "\n",
       "    .dataframe thead th {\n",
       "        text-align: right;\n",
       "    }\n",
       "</style>\n",
       "<table border=\"1\" class=\"dataframe\">\n",
       "  <thead>\n",
       "    <tr style=\"text-align: right;\">\n",
       "      <th></th>\n",
       "      <th>date</th>\n",
       "      <th>genre</th>\n",
       "      <th>title</th>\n",
       "    </tr>\n",
       "  </thead>\n",
       "  <tbody>\n",
       "    <tr>\n",
       "      <th>0</th>\n",
       "      <td>20190715</td>\n",
       "      <td>adventure</td>\n",
       "      <td>spider-man</td>\n",
       "    </tr>\n",
       "    <tr>\n",
       "      <th>1</th>\n",
       "      <td>20190615</td>\n",
       "      <td>adventure</td>\n",
       "      <td>aladin</td>\n",
       "    </tr>\n",
       "  </tbody>\n",
       "</table>\n",
       "</div>"
      ],
      "text/plain": [
       "       date      genre       title\n",
       "0  20190715  adventure  spider-man\n",
       "1  20190615  adventure      aladin"
      ]
     },
     "execution_count": 79,
     "metadata": {},
     "output_type": "execute_result"
    }
   ],
   "source": [
    "movie_df.iloc[:2] #position (순서)"
   ]
  },
  {
   "cell_type": "code",
   "execution_count": 82,
   "metadata": {},
   "outputs": [
    {
     "data": {
      "text/html": [
       "<div>\n",
       "<style scoped>\n",
       "    .dataframe tbody tr th:only-of-type {\n",
       "        vertical-align: middle;\n",
       "    }\n",
       "\n",
       "    .dataframe tbody tr th {\n",
       "        vertical-align: top;\n",
       "    }\n",
       "\n",
       "    .dataframe thead th {\n",
       "        text-align: right;\n",
       "    }\n",
       "</style>\n",
       "<table border=\"1\" class=\"dataframe\">\n",
       "  <thead>\n",
       "    <tr style=\"text-align: right;\">\n",
       "      <th></th>\n",
       "      <th>date</th>\n",
       "      <th>genre</th>\n",
       "      <th>title</th>\n",
       "    </tr>\n",
       "  </thead>\n",
       "  <tbody>\n",
       "    <tr>\n",
       "      <th>0</th>\n",
       "      <td>20190715</td>\n",
       "      <td>adventure</td>\n",
       "      <td>spider-man</td>\n",
       "    </tr>\n",
       "    <tr>\n",
       "      <th>1</th>\n",
       "      <td>20190615</td>\n",
       "      <td>adventure</td>\n",
       "      <td>aladin</td>\n",
       "    </tr>\n",
       "    <tr>\n",
       "      <th>2</th>\n",
       "      <td>20190630</td>\n",
       "      <td>adventure</td>\n",
       "      <td>toystory</td>\n",
       "    </tr>\n",
       "  </tbody>\n",
       "</table>\n",
       "</div>"
      ],
      "text/plain": [
       "       date      genre       title\n",
       "0  20190715  adventure  spider-man\n",
       "1  20190615  adventure      aladin\n",
       "2  20190630  adventure    toystory"
      ]
     },
     "execution_count": 82,
     "metadata": {},
     "output_type": "execute_result"
    }
   ],
   "source": [
    "#2) ix를 사용해 slicing을 한다면?\n",
    "movie_df.ix[:2] #name == position, name으로 인식"
   ]
  },
  {
   "cell_type": "code",
   "execution_count": 93,
   "metadata": {},
   "outputs": [
    {
     "data": {
      "text/html": [
       "<div>\n",
       "<style scoped>\n",
       "    .dataframe tbody tr th:only-of-type {\n",
       "        vertical-align: middle;\n",
       "    }\n",
       "\n",
       "    .dataframe tbody tr th {\n",
       "        vertical-align: top;\n",
       "    }\n",
       "\n",
       "    .dataframe thead th {\n",
       "        text-align: right;\n",
       "    }\n",
       "</style>\n",
       "<table border=\"1\" class=\"dataframe\">\n",
       "  <thead>\n",
       "    <tr style=\"text-align: right;\">\n",
       "      <th></th>\n",
       "      <th>A</th>\n",
       "      <th>B</th>\n",
       "    </tr>\n",
       "  </thead>\n",
       "  <tbody>\n",
       "    <tr>\n",
       "      <th>2019-12-31</th>\n",
       "      <td>-0.431445</td>\n",
       "      <td>1.721107</td>\n",
       "    </tr>\n",
       "    <tr>\n",
       "      <th>2020-12-31</th>\n",
       "      <td>0.954124</td>\n",
       "      <td>-0.504350</td>\n",
       "    </tr>\n",
       "    <tr>\n",
       "      <th>2021-12-31</th>\n",
       "      <td>1.076527</td>\n",
       "      <td>-1.649536</td>\n",
       "    </tr>\n",
       "  </tbody>\n",
       "</table>\n",
       "</div>"
      ],
      "text/plain": [
       "                   A         B\n",
       "2019-12-31 -0.431445  1.721107\n",
       "2020-12-31  0.954124 -0.504350\n",
       "2021-12-31  1.076527 -1.649536"
      ]
     },
     "execution_count": 93,
     "metadata": {},
     "output_type": "execute_result"
    }
   ],
   "source": [
    "#행과 열을 같이 지정\n",
    "rand_df.loc['2019-12-31':'2021-12-31', ['A', 'B']]"
   ]
  },
  {
   "cell_type": "code",
   "execution_count": 95,
   "metadata": {},
   "outputs": [
    {
     "data": {
      "text/plain": [
       "2019-12-31   -0.431445\n",
       "2020-12-31    0.954124\n",
       "2021-12-31    1.076527\n",
       "2022-12-31    0.905034\n",
       "2023-12-31   -1.453631\n",
       "2024-12-31    1.758679\n",
       "Freq: A-DEC, Name: A, dtype: float64"
      ]
     },
     "execution_count": 95,
     "metadata": {},
     "output_type": "execute_result"
    }
   ],
   "source": [
    "rand_df.A #원하는 열"
   ]
  },
  {
   "cell_type": "code",
   "execution_count": 97,
   "metadata": {},
   "outputs": [
    {
     "data": {
      "text/html": [
       "<div>\n",
       "<style scoped>\n",
       "    .dataframe tbody tr th:only-of-type {\n",
       "        vertical-align: middle;\n",
       "    }\n",
       "\n",
       "    .dataframe tbody tr th {\n",
       "        vertical-align: top;\n",
       "    }\n",
       "\n",
       "    .dataframe thead th {\n",
       "        text-align: right;\n",
       "    }\n",
       "</style>\n",
       "<table border=\"1\" class=\"dataframe\">\n",
       "  <thead>\n",
       "    <tr style=\"text-align: right;\">\n",
       "      <th></th>\n",
       "      <th>A</th>\n",
       "      <th>B</th>\n",
       "      <th>C</th>\n",
       "      <th>D</th>\n",
       "      <th>E</th>\n",
       "    </tr>\n",
       "  </thead>\n",
       "  <tbody>\n",
       "    <tr>\n",
       "      <th>2020-12-31</th>\n",
       "      <td>0.954124</td>\n",
       "      <td>-0.504350</td>\n",
       "      <td>1.816743</td>\n",
       "      <td>0.647114</td>\n",
       "      <td>0.651512</td>\n",
       "    </tr>\n",
       "    <tr>\n",
       "      <th>2021-12-31</th>\n",
       "      <td>1.076527</td>\n",
       "      <td>-1.649536</td>\n",
       "      <td>1.616412</td>\n",
       "      <td>1.381272</td>\n",
       "      <td>0.947338</td>\n",
       "    </tr>\n",
       "    <tr>\n",
       "      <th>2022-12-31</th>\n",
       "      <td>0.905034</td>\n",
       "      <td>0.940234</td>\n",
       "      <td>-1.147800</td>\n",
       "      <td>-1.811143</td>\n",
       "      <td>-0.661600</td>\n",
       "    </tr>\n",
       "    <tr>\n",
       "      <th>2024-12-31</th>\n",
       "      <td>1.758679</td>\n",
       "      <td>-0.192060</td>\n",
       "      <td>-0.287262</td>\n",
       "      <td>-1.319049</td>\n",
       "      <td>-0.720603</td>\n",
       "    </tr>\n",
       "  </tbody>\n",
       "</table>\n",
       "</div>"
      ],
      "text/plain": [
       "                   A         B         C         D         E\n",
       "2020-12-31  0.954124 -0.504350  1.816743  0.647114  0.651512\n",
       "2021-12-31  1.076527 -1.649536  1.616412  1.381272  0.947338\n",
       "2022-12-31  0.905034  0.940234 -1.147800 -1.811143 -0.661600\n",
       "2024-12-31  1.758679 -0.192060 -0.287262 -1.319049 -0.720603"
      ]
     },
     "execution_count": 97,
     "metadata": {},
     "output_type": "execute_result"
    }
   ],
   "source": [
    "rand_df[rand_df.A > 0] #A값이 0보다 큰 행만 지정"
   ]
  },
  {
   "cell_type": "code",
   "execution_count": 101,
   "metadata": {},
   "outputs": [
    {
     "data": {
      "text/plain": [
       "2019-12-31   -0.431445\n",
       "2022-12-31    0.905034\n",
       "Freq: 3A-DEC, Name: A, dtype: float64"
      ]
     },
     "execution_count": 101,
     "metadata": {},
     "output_type": "execute_result"
    }
   ],
   "source": [
    "rand_df[rand_df.B > 0]['A']"
   ]
  },
  {
   "cell_type": "markdown",
   "metadata": {},
   "source": [
    "#### modify df"
   ]
  },
  {
   "cell_type": "code",
   "execution_count": 104,
   "metadata": {},
   "outputs": [
    {
     "data": {
      "text/html": [
       "<div>\n",
       "<style scoped>\n",
       "    .dataframe tbody tr th:only-of-type {\n",
       "        vertical-align: middle;\n",
       "    }\n",
       "\n",
       "    .dataframe tbody tr th {\n",
       "        vertical-align: top;\n",
       "    }\n",
       "\n",
       "    .dataframe thead th {\n",
       "        text-align: right;\n",
       "    }\n",
       "</style>\n",
       "<table border=\"1\" class=\"dataframe\">\n",
       "  <thead>\n",
       "    <tr style=\"text-align: right;\">\n",
       "      <th></th>\n",
       "      <th>A</th>\n",
       "      <th>B</th>\n",
       "      <th>C</th>\n",
       "      <th>D</th>\n",
       "      <th>E</th>\n",
       "    </tr>\n",
       "  </thead>\n",
       "  <tbody>\n",
       "    <tr>\n",
       "      <th>2019-12-31</th>\n",
       "      <td>-0.431445</td>\n",
       "      <td>1.721107</td>\n",
       "      <td>0.501897</td>\n",
       "      <td>-0.323650</td>\n",
       "      <td>0.221939</td>\n",
       "    </tr>\n",
       "    <tr>\n",
       "      <th>2020-12-31</th>\n",
       "      <td>0.954124</td>\n",
       "      <td>-0.504350</td>\n",
       "      <td>1.816743</td>\n",
       "      <td>0.647114</td>\n",
       "      <td>0.651512</td>\n",
       "    </tr>\n",
       "    <tr>\n",
       "      <th>2021-12-31</th>\n",
       "      <td>1.076527</td>\n",
       "      <td>-1.649536</td>\n",
       "      <td>1.616412</td>\n",
       "      <td>1.381272</td>\n",
       "      <td>0.947338</td>\n",
       "    </tr>\n",
       "    <tr>\n",
       "      <th>2022-12-31</th>\n",
       "      <td>0.905034</td>\n",
       "      <td>0.940234</td>\n",
       "      <td>-1.147800</td>\n",
       "      <td>-1.811143</td>\n",
       "      <td>-0.661600</td>\n",
       "    </tr>\n",
       "    <tr>\n",
       "      <th>2023-12-31</th>\n",
       "      <td>-1.453631</td>\n",
       "      <td>-0.348765</td>\n",
       "      <td>1.305499</td>\n",
       "      <td>-1.594768</td>\n",
       "      <td>1.088734</td>\n",
       "    </tr>\n",
       "    <tr>\n",
       "      <th>2024-12-31</th>\n",
       "      <td>1.758679</td>\n",
       "      <td>-0.192060</td>\n",
       "      <td>-0.287262</td>\n",
       "      <td>-1.319049</td>\n",
       "      <td>-0.720603</td>\n",
       "    </tr>\n",
       "  </tbody>\n",
       "</table>\n",
       "</div>"
      ],
      "text/plain": [
       "                   A         B         C         D         E\n",
       "2019-12-31 -0.431445  1.721107  0.501897 -0.323650  0.221939\n",
       "2020-12-31  0.954124 -0.504350  1.816743  0.647114  0.651512\n",
       "2021-12-31  1.076527 -1.649536  1.616412  1.381272  0.947338\n",
       "2022-12-31  0.905034  0.940234 -1.147800 -1.811143 -0.661600\n",
       "2023-12-31 -1.453631 -0.348765  1.305499 -1.594768  1.088734\n",
       "2024-12-31  1.758679 -0.192060 -0.287262 -1.319049 -0.720603"
      ]
     },
     "execution_count": 104,
     "metadata": {},
     "output_type": "execute_result"
    }
   ],
   "source": [
    "rand_df"
   ]
  },
  {
   "cell_type": "code",
   "execution_count": 105,
   "metadata": {
    "scrolled": true
   },
   "outputs": [
    {
     "data": {
      "text/html": [
       "<div>\n",
       "<style scoped>\n",
       "    .dataframe tbody tr th:only-of-type {\n",
       "        vertical-align: middle;\n",
       "    }\n",
       "\n",
       "    .dataframe tbody tr th {\n",
       "        vertical-align: top;\n",
       "    }\n",
       "\n",
       "    .dataframe thead th {\n",
       "        text-align: right;\n",
       "    }\n",
       "</style>\n",
       "<table border=\"1\" class=\"dataframe\">\n",
       "  <thead>\n",
       "    <tr style=\"text-align: right;\">\n",
       "      <th></th>\n",
       "      <th>2019-12-31 00:00:00</th>\n",
       "      <th>2020-12-31 00:00:00</th>\n",
       "      <th>2021-12-31 00:00:00</th>\n",
       "      <th>2022-12-31 00:00:00</th>\n",
       "      <th>2023-12-31 00:00:00</th>\n",
       "      <th>2024-12-31 00:00:00</th>\n",
       "    </tr>\n",
       "  </thead>\n",
       "  <tbody>\n",
       "    <tr>\n",
       "      <th>A</th>\n",
       "      <td>-0.431445</td>\n",
       "      <td>0.954124</td>\n",
       "      <td>1.076527</td>\n",
       "      <td>0.905034</td>\n",
       "      <td>-1.453631</td>\n",
       "      <td>1.758679</td>\n",
       "    </tr>\n",
       "    <tr>\n",
       "      <th>B</th>\n",
       "      <td>1.721107</td>\n",
       "      <td>-0.504350</td>\n",
       "      <td>-1.649536</td>\n",
       "      <td>0.940234</td>\n",
       "      <td>-0.348765</td>\n",
       "      <td>-0.192060</td>\n",
       "    </tr>\n",
       "    <tr>\n",
       "      <th>C</th>\n",
       "      <td>0.501897</td>\n",
       "      <td>1.816743</td>\n",
       "      <td>1.616412</td>\n",
       "      <td>-1.147800</td>\n",
       "      <td>1.305499</td>\n",
       "      <td>-0.287262</td>\n",
       "    </tr>\n",
       "    <tr>\n",
       "      <th>D</th>\n",
       "      <td>-0.323650</td>\n",
       "      <td>0.647114</td>\n",
       "      <td>1.381272</td>\n",
       "      <td>-1.811143</td>\n",
       "      <td>-1.594768</td>\n",
       "      <td>-1.319049</td>\n",
       "    </tr>\n",
       "    <tr>\n",
       "      <th>E</th>\n",
       "      <td>0.221939</td>\n",
       "      <td>0.651512</td>\n",
       "      <td>0.947338</td>\n",
       "      <td>-0.661600</td>\n",
       "      <td>1.088734</td>\n",
       "      <td>-0.720603</td>\n",
       "    </tr>\n",
       "  </tbody>\n",
       "</table>\n",
       "</div>"
      ],
      "text/plain": [
       "   2019-12-31  2020-12-31  2021-12-31  2022-12-31  2023-12-31  2024-12-31\n",
       "A   -0.431445    0.954124    1.076527    0.905034   -1.453631    1.758679\n",
       "B    1.721107   -0.504350   -1.649536    0.940234   -0.348765   -0.192060\n",
       "C    0.501897    1.816743    1.616412   -1.147800    1.305499   -0.287262\n",
       "D   -0.323650    0.647114    1.381272   -1.811143   -1.594768   -1.319049\n",
       "E    0.221939    0.651512    0.947338   -0.661600    1.088734   -0.720603"
      ]
     },
     "execution_count": 105,
     "metadata": {},
     "output_type": "execute_result"
    }
   ],
   "source": [
    "#전치\n",
    "rand_df.T"
   ]
  },
  {
   "cell_type": "code",
   "execution_count": 109,
   "metadata": {},
   "outputs": [
    {
     "data": {
      "text/plain": [
       "['A', 'B', 'C', 'D', 'E']"
      ]
     },
     "execution_count": 109,
     "metadata": {},
     "output_type": "execute_result"
    }
   ],
   "source": [
    "#열 순서 변경\n",
    "col = list(rand_df)\n",
    "col"
   ]
  },
  {
   "cell_type": "code",
   "execution_count": 110,
   "metadata": {},
   "outputs": [
    {
     "data": {
      "text/plain": [
       "['A', 'E', 'B', 'C', 'D']"
      ]
     },
     "execution_count": 110,
     "metadata": {},
     "output_type": "execute_result"
    }
   ],
   "source": [
    "#'A' 'E', 'B', 'C', 'D'\n",
    "col.insert(1, col.pop())\n",
    "col"
   ]
  },
  {
   "cell_type": "code",
   "execution_count": 113,
   "metadata": {},
   "outputs": [
    {
     "data": {
      "text/html": [
       "<div>\n",
       "<style scoped>\n",
       "    .dataframe tbody tr th:only-of-type {\n",
       "        vertical-align: middle;\n",
       "    }\n",
       "\n",
       "    .dataframe tbody tr th {\n",
       "        vertical-align: top;\n",
       "    }\n",
       "\n",
       "    .dataframe thead th {\n",
       "        text-align: right;\n",
       "    }\n",
       "</style>\n",
       "<table border=\"1\" class=\"dataframe\">\n",
       "  <thead>\n",
       "    <tr style=\"text-align: right;\">\n",
       "      <th></th>\n",
       "      <th>A</th>\n",
       "      <th>E</th>\n",
       "      <th>B</th>\n",
       "      <th>C</th>\n",
       "      <th>D</th>\n",
       "    </tr>\n",
       "  </thead>\n",
       "  <tbody>\n",
       "    <tr>\n",
       "      <th>2019-12-31</th>\n",
       "      <td>-0.431445</td>\n",
       "      <td>0.221939</td>\n",
       "      <td>1.721107</td>\n",
       "      <td>0.501897</td>\n",
       "      <td>-0.323650</td>\n",
       "    </tr>\n",
       "    <tr>\n",
       "      <th>2020-12-31</th>\n",
       "      <td>0.954124</td>\n",
       "      <td>0.651512</td>\n",
       "      <td>-0.504350</td>\n",
       "      <td>1.816743</td>\n",
       "      <td>0.647114</td>\n",
       "    </tr>\n",
       "    <tr>\n",
       "      <th>2021-12-31</th>\n",
       "      <td>1.076527</td>\n",
       "      <td>0.947338</td>\n",
       "      <td>-1.649536</td>\n",
       "      <td>1.616412</td>\n",
       "      <td>1.381272</td>\n",
       "    </tr>\n",
       "    <tr>\n",
       "      <th>2022-12-31</th>\n",
       "      <td>0.905034</td>\n",
       "      <td>-0.661600</td>\n",
       "      <td>0.940234</td>\n",
       "      <td>-1.147800</td>\n",
       "      <td>-1.811143</td>\n",
       "    </tr>\n",
       "    <tr>\n",
       "      <th>2023-12-31</th>\n",
       "      <td>-1.453631</td>\n",
       "      <td>1.088734</td>\n",
       "      <td>-0.348765</td>\n",
       "      <td>1.305499</td>\n",
       "      <td>-1.594768</td>\n",
       "    </tr>\n",
       "    <tr>\n",
       "      <th>2024-12-31</th>\n",
       "      <td>1.758679</td>\n",
       "      <td>-0.720603</td>\n",
       "      <td>-0.192060</td>\n",
       "      <td>-0.287262</td>\n",
       "      <td>-1.319049</td>\n",
       "    </tr>\n",
       "  </tbody>\n",
       "</table>\n",
       "</div>"
      ],
      "text/plain": [
       "                   A         E         B         C         D\n",
       "2019-12-31 -0.431445  0.221939  1.721107  0.501897 -0.323650\n",
       "2020-12-31  0.954124  0.651512 -0.504350  1.816743  0.647114\n",
       "2021-12-31  1.076527  0.947338 -1.649536  1.616412  1.381272\n",
       "2022-12-31  0.905034 -0.661600  0.940234 -1.147800 -1.811143\n",
       "2023-12-31 -1.453631  1.088734 -0.348765  1.305499 -1.594768\n",
       "2024-12-31  1.758679 -0.720603 -0.192060 -0.287262 -1.319049"
      ]
     },
     "execution_count": 113,
     "metadata": {},
     "output_type": "execute_result"
    }
   ],
   "source": [
    "rand_df = rand_df[col]\n",
    "rand_df"
   ]
  },
  {
   "cell_type": "code",
   "execution_count": 117,
   "metadata": {},
   "outputs": [
    {
     "data": {
      "text/html": [
       "<div>\n",
       "<style scoped>\n",
       "    .dataframe tbody tr th:only-of-type {\n",
       "        vertical-align: middle;\n",
       "    }\n",
       "\n",
       "    .dataframe tbody tr th {\n",
       "        vertical-align: top;\n",
       "    }\n",
       "\n",
       "    .dataframe thead th {\n",
       "        text-align: right;\n",
       "    }\n",
       "</style>\n",
       "<table border=\"1\" class=\"dataframe\">\n",
       "  <thead>\n",
       "    <tr style=\"text-align: right;\">\n",
       "      <th></th>\n",
       "      <th>A</th>\n",
       "      <th>E</th>\n",
       "      <th>B</th>\n",
       "      <th>C</th>\n",
       "      <th>D</th>\n",
       "    </tr>\n",
       "  </thead>\n",
       "  <tbody>\n",
       "    <tr>\n",
       "      <th>2019-12-31</th>\n",
       "      <td>5.000000</td>\n",
       "      <td>5.000000</td>\n",
       "      <td>5.000000</td>\n",
       "      <td>5.000000</td>\n",
       "      <td>5.000000</td>\n",
       "    </tr>\n",
       "    <tr>\n",
       "      <th>2020-12-31</th>\n",
       "      <td>0.954124</td>\n",
       "      <td>0.651512</td>\n",
       "      <td>-0.504350</td>\n",
       "      <td>1.816743</td>\n",
       "      <td>0.647114</td>\n",
       "    </tr>\n",
       "    <tr>\n",
       "      <th>2021-12-31</th>\n",
       "      <td>1.076527</td>\n",
       "      <td>0.947338</td>\n",
       "      <td>-1.649536</td>\n",
       "      <td>1.616412</td>\n",
       "      <td>1.381272</td>\n",
       "    </tr>\n",
       "    <tr>\n",
       "      <th>2022-12-31</th>\n",
       "      <td>0.905034</td>\n",
       "      <td>-0.661600</td>\n",
       "      <td>0.940234</td>\n",
       "      <td>-1.147800</td>\n",
       "      <td>-1.811143</td>\n",
       "    </tr>\n",
       "    <tr>\n",
       "      <th>2023-12-31</th>\n",
       "      <td>-1.453631</td>\n",
       "      <td>1.088734</td>\n",
       "      <td>-0.348765</td>\n",
       "      <td>1.305499</td>\n",
       "      <td>-1.594768</td>\n",
       "    </tr>\n",
       "    <tr>\n",
       "      <th>2024-12-31</th>\n",
       "      <td>1.758679</td>\n",
       "      <td>-0.720603</td>\n",
       "      <td>-0.192060</td>\n",
       "      <td>-0.287262</td>\n",
       "      <td>-1.319049</td>\n",
       "    </tr>\n",
       "  </tbody>\n",
       "</table>\n",
       "</div>"
      ],
      "text/plain": [
       "                   A         E         B         C         D\n",
       "2019-12-31  5.000000  5.000000  5.000000  5.000000  5.000000\n",
       "2020-12-31  0.954124  0.651512 -0.504350  1.816743  0.647114\n",
       "2021-12-31  1.076527  0.947338 -1.649536  1.616412  1.381272\n",
       "2022-12-31  0.905034 -0.661600  0.940234 -1.147800 -1.811143\n",
       "2023-12-31 -1.453631  1.088734 -0.348765  1.305499 -1.594768\n",
       "2024-12-31  1.758679 -0.720603 -0.192060 -0.287262 -1.319049"
      ]
     },
     "execution_count": 117,
     "metadata": {},
     "output_type": "execute_result"
    }
   ],
   "source": [
    "rand_df.iloc[0] = 5.0 #값 변경\n",
    "rand_df"
   ]
  },
  {
   "cell_type": "code",
   "execution_count": 121,
   "metadata": {},
   "outputs": [
    {
     "data": {
      "text/plain": [
       "nan"
      ]
     },
     "execution_count": 121,
     "metadata": {},
     "output_type": "execute_result"
    }
   ],
   "source": [
    "np.nan # not a number => 결측치"
   ]
  },
  {
   "cell_type": "code",
   "execution_count": 122,
   "metadata": {},
   "outputs": [
    {
     "data": {
      "text/html": [
       "<div>\n",
       "<style scoped>\n",
       "    .dataframe tbody tr th:only-of-type {\n",
       "        vertical-align: middle;\n",
       "    }\n",
       "\n",
       "    .dataframe tbody tr th {\n",
       "        vertical-align: top;\n",
       "    }\n",
       "\n",
       "    .dataframe thead th {\n",
       "        text-align: right;\n",
       "    }\n",
       "</style>\n",
       "<table border=\"1\" class=\"dataframe\">\n",
       "  <thead>\n",
       "    <tr style=\"text-align: right;\">\n",
       "      <th></th>\n",
       "      <th>A</th>\n",
       "      <th>E</th>\n",
       "      <th>B</th>\n",
       "      <th>C</th>\n",
       "      <th>D</th>\n",
       "    </tr>\n",
       "  </thead>\n",
       "  <tbody>\n",
       "    <tr>\n",
       "      <th>2019-12-31</th>\n",
       "      <td>5.000000</td>\n",
       "      <td>5.000000</td>\n",
       "      <td>5.000000</td>\n",
       "      <td>5.000000</td>\n",
       "      <td>5.000000</td>\n",
       "    </tr>\n",
       "    <tr>\n",
       "      <th>2020-12-31</th>\n",
       "      <td>0.954124</td>\n",
       "      <td>0.651512</td>\n",
       "      <td>-0.504350</td>\n",
       "      <td>1.816743</td>\n",
       "      <td>0.647114</td>\n",
       "    </tr>\n",
       "    <tr>\n",
       "      <th>2021-12-31</th>\n",
       "      <td>1.076527</td>\n",
       "      <td>0.947338</td>\n",
       "      <td>-1.649536</td>\n",
       "      <td>1.616412</td>\n",
       "      <td>1.381272</td>\n",
       "    </tr>\n",
       "    <tr>\n",
       "      <th>2022-12-31</th>\n",
       "      <td>NaN</td>\n",
       "      <td>NaN</td>\n",
       "      <td>NaN</td>\n",
       "      <td>NaN</td>\n",
       "      <td>NaN</td>\n",
       "    </tr>\n",
       "    <tr>\n",
       "      <th>2023-12-31</th>\n",
       "      <td>-1.453631</td>\n",
       "      <td>1.088734</td>\n",
       "      <td>-0.348765</td>\n",
       "      <td>1.305499</td>\n",
       "      <td>-1.594768</td>\n",
       "    </tr>\n",
       "    <tr>\n",
       "      <th>2024-12-31</th>\n",
       "      <td>1.758679</td>\n",
       "      <td>-0.720603</td>\n",
       "      <td>-0.192060</td>\n",
       "      <td>-0.287262</td>\n",
       "      <td>-1.319049</td>\n",
       "    </tr>\n",
       "  </tbody>\n",
       "</table>\n",
       "</div>"
      ],
      "text/plain": [
       "                   A         E         B         C         D\n",
       "2019-12-31  5.000000  5.000000  5.000000  5.000000  5.000000\n",
       "2020-12-31  0.954124  0.651512 -0.504350  1.816743  0.647114\n",
       "2021-12-31  1.076527  0.947338 -1.649536  1.616412  1.381272\n",
       "2022-12-31       NaN       NaN       NaN       NaN       NaN\n",
       "2023-12-31 -1.453631  1.088734 -0.348765  1.305499 -1.594768\n",
       "2024-12-31  1.758679 -0.720603 -0.192060 -0.287262 -1.319049"
      ]
     },
     "execution_count": 122,
     "metadata": {},
     "output_type": "execute_result"
    }
   ],
   "source": [
    "rand_df.iloc[3] = np.nan\n",
    "rand_df"
   ]
  },
  {
   "cell_type": "code",
   "execution_count": 129,
   "metadata": {
    "scrolled": true
   },
   "outputs": [
    {
     "data": {
      "text/html": [
       "<div>\n",
       "<style scoped>\n",
       "    .dataframe tbody tr th:only-of-type {\n",
       "        vertical-align: middle;\n",
       "    }\n",
       "\n",
       "    .dataframe tbody tr th {\n",
       "        vertical-align: top;\n",
       "    }\n",
       "\n",
       "    .dataframe thead th {\n",
       "        text-align: right;\n",
       "    }\n",
       "</style>\n",
       "<table border=\"1\" class=\"dataframe\">\n",
       "  <thead>\n",
       "    <tr style=\"text-align: right;\">\n",
       "      <th></th>\n",
       "      <th>A</th>\n",
       "      <th>E</th>\n",
       "      <th>B</th>\n",
       "      <th>C</th>\n",
       "      <th>D</th>\n",
       "    </tr>\n",
       "  </thead>\n",
       "  <tbody>\n",
       "    <tr>\n",
       "      <th>2019-12-31 00:00:00</th>\n",
       "      <td>5.000000</td>\n",
       "      <td>5.000000</td>\n",
       "      <td>5.000000</td>\n",
       "      <td>5.000000</td>\n",
       "      <td>5.000000</td>\n",
       "    </tr>\n",
       "    <tr>\n",
       "      <th>2020-12-31 00:00:00</th>\n",
       "      <td>0.954124</td>\n",
       "      <td>0.651512</td>\n",
       "      <td>-0.504350</td>\n",
       "      <td>1.816743</td>\n",
       "      <td>0.647114</td>\n",
       "    </tr>\n",
       "    <tr>\n",
       "      <th>2021-12-31 00:00:00</th>\n",
       "      <td>1.076527</td>\n",
       "      <td>0.947338</td>\n",
       "      <td>-1.649536</td>\n",
       "      <td>1.616412</td>\n",
       "      <td>1.381272</td>\n",
       "    </tr>\n",
       "    <tr>\n",
       "      <th>2024-12-31 00:00:00</th>\n",
       "      <td>1.758679</td>\n",
       "      <td>-0.720603</td>\n",
       "      <td>-0.192060</td>\n",
       "      <td>-0.287262</td>\n",
       "      <td>-1.319049</td>\n",
       "    </tr>\n",
       "  </tbody>\n",
       "</table>\n",
       "</div>"
      ],
      "text/plain": [
       "                            A         E         B         C         D\n",
       "2019-12-31 00:00:00  5.000000  5.000000  5.000000  5.000000  5.000000\n",
       "2020-12-31 00:00:00  0.954124  0.651512 -0.504350  1.816743  0.647114\n",
       "2021-12-31 00:00:00  1.076527  0.947338 -1.649536  1.616412  1.381272\n",
       "2024-12-31 00:00:00  1.758679 -0.720603 -0.192060 -0.287262 -1.319049"
      ]
     },
     "execution_count": 129,
     "metadata": {},
     "output_type": "execute_result"
    }
   ],
   "source": [
    "#결측치 지우기\n",
    "rand_df = rand_df.dropna()\n",
    "rand_df"
   ]
  },
  {
   "cell_type": "code",
   "execution_count": 130,
   "metadata": {
    "scrolled": true
   },
   "outputs": [
    {
     "name": "stderr",
     "output_type": "stream",
     "text": [
      "C:\\ProgramData\\Anaconda3\\lib\\site-packages\\pandas\\core\\indexing.py:194: SettingWithCopyWarning: \n",
      "A value is trying to be set on a copy of a slice from a DataFrame\n",
      "\n",
      "See the caveats in the documentation: http://pandas.pydata.org/pandas-docs/stable/indexing.html#indexing-view-versus-copy\n",
      "  self._setitem_with_indexer(indexer, value)\n",
      "C:\\ProgramData\\Anaconda3\\lib\\site-packages\\ipykernel_launcher.py:1: SettingWithCopyWarning: \n",
      "A value is trying to be set on a copy of a slice from a DataFrame\n",
      "\n",
      "See the caveats in the documentation: http://pandas.pydata.org/pandas-docs/stable/indexing.html#indexing-view-versus-copy\n",
      "  \"\"\"Entry point for launching an IPython kernel.\n"
     ]
    },
    {
     "data": {
      "text/html": [
       "<div>\n",
       "<style scoped>\n",
       "    .dataframe tbody tr th:only-of-type {\n",
       "        vertical-align: middle;\n",
       "    }\n",
       "\n",
       "    .dataframe tbody tr th {\n",
       "        vertical-align: top;\n",
       "    }\n",
       "\n",
       "    .dataframe thead th {\n",
       "        text-align: right;\n",
       "    }\n",
       "</style>\n",
       "<table border=\"1\" class=\"dataframe\">\n",
       "  <thead>\n",
       "    <tr style=\"text-align: right;\">\n",
       "      <th></th>\n",
       "      <th>A</th>\n",
       "      <th>E</th>\n",
       "      <th>B</th>\n",
       "      <th>C</th>\n",
       "      <th>D</th>\n",
       "    </tr>\n",
       "  </thead>\n",
       "  <tbody>\n",
       "    <tr>\n",
       "      <th>2019-12-31 00:00:00</th>\n",
       "      <td>5.000000</td>\n",
       "      <td>5.000000</td>\n",
       "      <td>5.000000</td>\n",
       "      <td>5.000000</td>\n",
       "      <td>5.000000</td>\n",
       "    </tr>\n",
       "    <tr>\n",
       "      <th>2020-12-31 00:00:00</th>\n",
       "      <td>0.954124</td>\n",
       "      <td>0.651512</td>\n",
       "      <td>-0.504350</td>\n",
       "      <td>1.816743</td>\n",
       "      <td>0.647114</td>\n",
       "    </tr>\n",
       "    <tr>\n",
       "      <th>2021-12-31 00:00:00</th>\n",
       "      <td>1.076527</td>\n",
       "      <td>0.947338</td>\n",
       "      <td>-1.649536</td>\n",
       "      <td>1.616412</td>\n",
       "      <td>1.381272</td>\n",
       "    </tr>\n",
       "    <tr>\n",
       "      <th>2024-12-31 00:00:00</th>\n",
       "      <td>NaN</td>\n",
       "      <td>NaN</td>\n",
       "      <td>NaN</td>\n",
       "      <td>NaN</td>\n",
       "      <td>NaN</td>\n",
       "    </tr>\n",
       "  </tbody>\n",
       "</table>\n",
       "</div>"
      ],
      "text/plain": [
       "                            A         E         B         C         D\n",
       "2019-12-31 00:00:00  5.000000  5.000000  5.000000  5.000000  5.000000\n",
       "2020-12-31 00:00:00  0.954124  0.651512 -0.504350  1.816743  0.647114\n",
       "2021-12-31 00:00:00  1.076527  0.947338 -1.649536  1.616412  1.381272\n",
       "2024-12-31 00:00:00       NaN       NaN       NaN       NaN       NaN"
      ]
     },
     "execution_count": 130,
     "metadata": {},
     "output_type": "execute_result"
    }
   ],
   "source": [
    "rand_df.iloc[3] = np.nan\n",
    "rand_df"
   ]
  },
  {
   "cell_type": "code",
   "execution_count": 132,
   "metadata": {},
   "outputs": [
    {
     "data": {
      "text/html": [
       "<div>\n",
       "<style scoped>\n",
       "    .dataframe tbody tr th:only-of-type {\n",
       "        vertical-align: middle;\n",
       "    }\n",
       "\n",
       "    .dataframe tbody tr th {\n",
       "        vertical-align: top;\n",
       "    }\n",
       "\n",
       "    .dataframe thead th {\n",
       "        text-align: right;\n",
       "    }\n",
       "</style>\n",
       "<table border=\"1\" class=\"dataframe\">\n",
       "  <thead>\n",
       "    <tr style=\"text-align: right;\">\n",
       "      <th></th>\n",
       "      <th>A</th>\n",
       "      <th>E</th>\n",
       "      <th>B</th>\n",
       "      <th>C</th>\n",
       "      <th>D</th>\n",
       "    </tr>\n",
       "  </thead>\n",
       "  <tbody>\n",
       "    <tr>\n",
       "      <th>2019-12-31 00:00:00</th>\n",
       "      <td>5.000000</td>\n",
       "      <td>5.000000</td>\n",
       "      <td>5.000000</td>\n",
       "      <td>5.000000</td>\n",
       "      <td>5.000000</td>\n",
       "    </tr>\n",
       "    <tr>\n",
       "      <th>2020-12-31 00:00:00</th>\n",
       "      <td>0.954124</td>\n",
       "      <td>0.651512</td>\n",
       "      <td>-0.504350</td>\n",
       "      <td>1.816743</td>\n",
       "      <td>0.647114</td>\n",
       "    </tr>\n",
       "    <tr>\n",
       "      <th>2021-12-31 00:00:00</th>\n",
       "      <td>1.076527</td>\n",
       "      <td>0.947338</td>\n",
       "      <td>-1.649536</td>\n",
       "      <td>1.616412</td>\n",
       "      <td>1.381272</td>\n",
       "    </tr>\n",
       "    <tr>\n",
       "      <th>2024-12-31 00:00:00</th>\n",
       "      <td>10.000000</td>\n",
       "      <td>10.000000</td>\n",
       "      <td>10.000000</td>\n",
       "      <td>10.000000</td>\n",
       "      <td>10.000000</td>\n",
       "    </tr>\n",
       "  </tbody>\n",
       "</table>\n",
       "</div>"
      ],
      "text/plain": [
       "                             A          E          B          C          D\n",
       "2019-12-31 00:00:00   5.000000   5.000000   5.000000   5.000000   5.000000\n",
       "2020-12-31 00:00:00   0.954124   0.651512  -0.504350   1.816743   0.647114\n",
       "2021-12-31 00:00:00   1.076527   0.947338  -1.649536   1.616412   1.381272\n",
       "2024-12-31 00:00:00  10.000000  10.000000  10.000000  10.000000  10.000000"
      ]
     },
     "execution_count": 132,
     "metadata": {},
     "output_type": "execute_result"
    }
   ],
   "source": [
    "rand_df = rand_df.fillna(10.0)\n",
    "rand_df"
   ]
  },
  {
   "cell_type": "code",
   "execution_count": 134,
   "metadata": {},
   "outputs": [
    {
     "data": {
      "text/html": [
       "<div>\n",
       "<style scoped>\n",
       "    .dataframe tbody tr th:only-of-type {\n",
       "        vertical-align: middle;\n",
       "    }\n",
       "\n",
       "    .dataframe tbody tr th {\n",
       "        vertical-align: top;\n",
       "    }\n",
       "\n",
       "    .dataframe thead th {\n",
       "        text-align: right;\n",
       "    }\n",
       "</style>\n",
       "<table border=\"1\" class=\"dataframe\">\n",
       "  <thead>\n",
       "    <tr style=\"text-align: right;\">\n",
       "      <th></th>\n",
       "      <th>A</th>\n",
       "      <th>E</th>\n",
       "      <th>B</th>\n",
       "      <th>C</th>\n",
       "      <th>D</th>\n",
       "    </tr>\n",
       "  </thead>\n",
       "  <tbody>\n",
       "    <tr>\n",
       "      <th>2019-12-31 00:00:00</th>\n",
       "      <td>False</td>\n",
       "      <td>False</td>\n",
       "      <td>False</td>\n",
       "      <td>False</td>\n",
       "      <td>False</td>\n",
       "    </tr>\n",
       "    <tr>\n",
       "      <th>2020-12-31 00:00:00</th>\n",
       "      <td>False</td>\n",
       "      <td>False</td>\n",
       "      <td>False</td>\n",
       "      <td>False</td>\n",
       "      <td>False</td>\n",
       "    </tr>\n",
       "    <tr>\n",
       "      <th>2021-12-31 00:00:00</th>\n",
       "      <td>False</td>\n",
       "      <td>False</td>\n",
       "      <td>False</td>\n",
       "      <td>False</td>\n",
       "      <td>False</td>\n",
       "    </tr>\n",
       "    <tr>\n",
       "      <th>2024-12-31 00:00:00</th>\n",
       "      <td>False</td>\n",
       "      <td>False</td>\n",
       "      <td>False</td>\n",
       "      <td>False</td>\n",
       "      <td>False</td>\n",
       "    </tr>\n",
       "  </tbody>\n",
       "</table>\n",
       "</div>"
      ],
      "text/plain": [
       "                         A      E      B      C      D\n",
       "2019-12-31 00:00:00  False  False  False  False  False\n",
       "2020-12-31 00:00:00  False  False  False  False  False\n",
       "2021-12-31 00:00:00  False  False  False  False  False\n",
       "2024-12-31 00:00:00  False  False  False  False  False"
      ]
     },
     "execution_count": 134,
     "metadata": {},
     "output_type": "execute_result"
    }
   ],
   "source": [
    "rand_df.isna() #결측치 여부 확인"
   ]
  },
  {
   "cell_type": "markdown",
   "metadata": {},
   "source": [
    "#### Operation (연산)"
   ]
  },
  {
   "cell_type": "code",
   "execution_count": 143,
   "metadata": {},
   "outputs": [
    {
     "data": {
      "text/plain": [
       "A    4.257663\n",
       "E    4.149713\n",
       "B    3.211529\n",
       "C    4.608289\n",
       "D    4.257097\n",
       "dtype: float64"
      ]
     },
     "execution_count": 143,
     "metadata": {},
     "output_type": "execute_result"
    }
   ],
   "source": [
    "rand_df.mean(axis=0) #열 기준 평균"
   ]
  },
  {
   "cell_type": "code",
   "execution_count": 140,
   "metadata": {},
   "outputs": [
    {
     "data": {
      "text/plain": [
       "4.096857871173322"
      ]
     },
     "execution_count": 140,
     "metadata": {},
     "output_type": "execute_result"
    }
   ],
   "source": [
    "rand_df.mean().mean()"
   ]
  },
  {
   "cell_type": "code",
   "execution_count": 145,
   "metadata": {},
   "outputs": [
    {
     "data": {
      "text/plain": [
       "2019-12-31     5.000000\n",
       "2020-12-31     0.713029\n",
       "2021-12-31     0.674403\n",
       "2024-12-31    10.000000\n",
       "dtype: float64"
      ]
     },
     "execution_count": 145,
     "metadata": {},
     "output_type": "execute_result"
    }
   ],
   "source": [
    "#행기준 평균\n",
    "rand_df.mean(1) #axis=1"
   ]
  },
  {
   "cell_type": "code",
   "execution_count": 148,
   "metadata": {},
   "outputs": [
    {
     "data": {
      "text/html": [
       "<div>\n",
       "<style scoped>\n",
       "    .dataframe tbody tr th:only-of-type {\n",
       "        vertical-align: middle;\n",
       "    }\n",
       "\n",
       "    .dataframe tbody tr th {\n",
       "        vertical-align: top;\n",
       "    }\n",
       "\n",
       "    .dataframe thead th {\n",
       "        text-align: right;\n",
       "    }\n",
       "</style>\n",
       "<table border=\"1\" class=\"dataframe\">\n",
       "  <thead>\n",
       "    <tr style=\"text-align: right;\">\n",
       "      <th></th>\n",
       "      <th>A</th>\n",
       "      <th>E</th>\n",
       "      <th>B</th>\n",
       "      <th>C</th>\n",
       "      <th>D</th>\n",
       "    </tr>\n",
       "  </thead>\n",
       "  <tbody>\n",
       "    <tr>\n",
       "      <th>2019-12-31</th>\n",
       "      <td>5.000000</td>\n",
       "      <td>5.000000</td>\n",
       "      <td>5.000000</td>\n",
       "      <td>5.000000</td>\n",
       "      <td>5.000000</td>\n",
       "    </tr>\n",
       "    <tr>\n",
       "      <th>2020-12-31</th>\n",
       "      <td>5.954124</td>\n",
       "      <td>5.651512</td>\n",
       "      <td>4.495650</td>\n",
       "      <td>6.816743</td>\n",
       "      <td>5.647114</td>\n",
       "    </tr>\n",
       "    <tr>\n",
       "      <th>2021-12-31</th>\n",
       "      <td>7.030652</td>\n",
       "      <td>6.598850</td>\n",
       "      <td>2.846114</td>\n",
       "      <td>8.433155</td>\n",
       "      <td>7.028386</td>\n",
       "    </tr>\n",
       "    <tr>\n",
       "      <th>2024-12-31</th>\n",
       "      <td>17.030652</td>\n",
       "      <td>16.598850</td>\n",
       "      <td>12.846114</td>\n",
       "      <td>18.433155</td>\n",
       "      <td>17.028386</td>\n",
       "    </tr>\n",
       "  </tbody>\n",
       "</table>\n",
       "</div>"
      ],
      "text/plain": [
       "                    A          E          B          C          D\n",
       "2019-12-31   5.000000   5.000000   5.000000   5.000000   5.000000\n",
       "2020-12-31   5.954124   5.651512   4.495650   6.816743   5.647114\n",
       "2021-12-31   7.030652   6.598850   2.846114   8.433155   7.028386\n",
       "2024-12-31  17.030652  16.598850  12.846114  18.433155  17.028386"
      ]
     },
     "execution_count": 148,
     "metadata": {},
     "output_type": "execute_result"
    }
   ],
   "source": [
    "#apply를 이용해, 함수 도입 가능\n",
    "rand_df.apply(np.cumsum) #cumsum = 누적합"
   ]
  },
  {
   "cell_type": "code",
   "execution_count": 152,
   "metadata": {},
   "outputs": [
    {
     "data": {
      "text/plain": [
       "1.076527     1\n",
       "0.954124     1\n",
       "10.000000    1\n",
       "5.000000     1\n",
       "Name: A, dtype: int64"
      ]
     },
     "execution_count": 152,
     "metadata": {},
     "output_type": "execute_result"
    }
   ],
   "source": [
    "#series의 value별 갯수 계산\n",
    "rand_df['A'].value_counts()"
   ]
  },
  {
   "cell_type": "code",
   "execution_count": 154,
   "metadata": {},
   "outputs": [
    {
     "data": {
      "text/plain": [
       "adventure    4\n",
       "Name: genre, dtype: int64"
      ]
     },
     "execution_count": 154,
     "metadata": {},
     "output_type": "execute_result"
    }
   ],
   "source": [
    "movie_df['genre'].value_counts()"
   ]
  },
  {
   "cell_type": "code",
   "execution_count": 156,
   "metadata": {},
   "outputs": [
    {
     "data": {
      "text/html": [
       "<div>\n",
       "<style scoped>\n",
       "    .dataframe tbody tr th:only-of-type {\n",
       "        vertical-align: middle;\n",
       "    }\n",
       "\n",
       "    .dataframe tbody tr th {\n",
       "        vertical-align: top;\n",
       "    }\n",
       "\n",
       "    .dataframe thead th {\n",
       "        text-align: right;\n",
       "    }\n",
       "</style>\n",
       "<table border=\"1\" class=\"dataframe\">\n",
       "  <thead>\n",
       "    <tr style=\"text-align: right;\">\n",
       "      <th></th>\n",
       "      <th>A</th>\n",
       "      <th>E</th>\n",
       "      <th>B</th>\n",
       "      <th>C</th>\n",
       "      <th>D</th>\n",
       "    </tr>\n",
       "  </thead>\n",
       "  <tbody>\n",
       "    <tr>\n",
       "      <th>2020-12-31 00:00:00</th>\n",
       "      <td>0.954124</td>\n",
       "      <td>0.651512</td>\n",
       "      <td>-0.504350</td>\n",
       "      <td>1.816743</td>\n",
       "      <td>0.647114</td>\n",
       "    </tr>\n",
       "    <tr>\n",
       "      <th>2021-12-31 00:00:00</th>\n",
       "      <td>1.076527</td>\n",
       "      <td>0.947338</td>\n",
       "      <td>-1.649536</td>\n",
       "      <td>1.616412</td>\n",
       "      <td>1.381272</td>\n",
       "    </tr>\n",
       "    <tr>\n",
       "      <th>2019-12-31 00:00:00</th>\n",
       "      <td>5.000000</td>\n",
       "      <td>5.000000</td>\n",
       "      <td>5.000000</td>\n",
       "      <td>5.000000</td>\n",
       "      <td>5.000000</td>\n",
       "    </tr>\n",
       "    <tr>\n",
       "      <th>2024-12-31 00:00:00</th>\n",
       "      <td>10.000000</td>\n",
       "      <td>10.000000</td>\n",
       "      <td>10.000000</td>\n",
       "      <td>10.000000</td>\n",
       "      <td>10.000000</td>\n",
       "    </tr>\n",
       "  </tbody>\n",
       "</table>\n",
       "</div>"
      ],
      "text/plain": [
       "                             A          E          B          C          D\n",
       "2020-12-31 00:00:00   0.954124   0.651512  -0.504350   1.816743   0.647114\n",
       "2021-12-31 00:00:00   1.076527   0.947338  -1.649536   1.616412   1.381272\n",
       "2019-12-31 00:00:00   5.000000   5.000000   5.000000   5.000000   5.000000\n",
       "2024-12-31 00:00:00  10.000000  10.000000  10.000000  10.000000  10.000000"
      ]
     },
     "execution_count": 156,
     "metadata": {},
     "output_type": "execute_result"
    }
   ],
   "source": [
    "#정렬\n",
    "rand_df.sort_values('A') #오름차순"
   ]
  },
  {
   "cell_type": "code",
   "execution_count": 158,
   "metadata": {
    "scrolled": true
   },
   "outputs": [
    {
     "data": {
      "text/html": [
       "<div>\n",
       "<style scoped>\n",
       "    .dataframe tbody tr th:only-of-type {\n",
       "        vertical-align: middle;\n",
       "    }\n",
       "\n",
       "    .dataframe tbody tr th {\n",
       "        vertical-align: top;\n",
       "    }\n",
       "\n",
       "    .dataframe thead th {\n",
       "        text-align: right;\n",
       "    }\n",
       "</style>\n",
       "<table border=\"1\" class=\"dataframe\">\n",
       "  <thead>\n",
       "    <tr style=\"text-align: right;\">\n",
       "      <th></th>\n",
       "      <th>A</th>\n",
       "      <th>E</th>\n",
       "      <th>B</th>\n",
       "      <th>C</th>\n",
       "      <th>D</th>\n",
       "    </tr>\n",
       "  </thead>\n",
       "  <tbody>\n",
       "    <tr>\n",
       "      <th>2024-12-31 00:00:00</th>\n",
       "      <td>10.000000</td>\n",
       "      <td>10.000000</td>\n",
       "      <td>10.000000</td>\n",
       "      <td>10.000000</td>\n",
       "      <td>10.000000</td>\n",
       "    </tr>\n",
       "    <tr>\n",
       "      <th>2019-12-31 00:00:00</th>\n",
       "      <td>5.000000</td>\n",
       "      <td>5.000000</td>\n",
       "      <td>5.000000</td>\n",
       "      <td>5.000000</td>\n",
       "      <td>5.000000</td>\n",
       "    </tr>\n",
       "    <tr>\n",
       "      <th>2021-12-31 00:00:00</th>\n",
       "      <td>1.076527</td>\n",
       "      <td>0.947338</td>\n",
       "      <td>-1.649536</td>\n",
       "      <td>1.616412</td>\n",
       "      <td>1.381272</td>\n",
       "    </tr>\n",
       "    <tr>\n",
       "      <th>2020-12-31 00:00:00</th>\n",
       "      <td>0.954124</td>\n",
       "      <td>0.651512</td>\n",
       "      <td>-0.504350</td>\n",
       "      <td>1.816743</td>\n",
       "      <td>0.647114</td>\n",
       "    </tr>\n",
       "  </tbody>\n",
       "</table>\n",
       "</div>"
      ],
      "text/plain": [
       "                             A          E          B          C          D\n",
       "2024-12-31 00:00:00  10.000000  10.000000  10.000000  10.000000  10.000000\n",
       "2019-12-31 00:00:00   5.000000   5.000000   5.000000   5.000000   5.000000\n",
       "2021-12-31 00:00:00   1.076527   0.947338  -1.649536   1.616412   1.381272\n",
       "2020-12-31 00:00:00   0.954124   0.651512  -0.504350   1.816743   0.647114"
      ]
     },
     "execution_count": 158,
     "metadata": {},
     "output_type": "execute_result"
    }
   ],
   "source": [
    "rand_df.sort_values('A', ascending=False) #내림차순"
   ]
  },
  {
   "cell_type": "code",
   "execution_count": 161,
   "metadata": {
    "scrolled": true
   },
   "outputs": [
    {
     "data": {
      "text/html": [
       "<div>\n",
       "<style scoped>\n",
       "    .dataframe tbody tr th:only-of-type {\n",
       "        vertical-align: middle;\n",
       "    }\n",
       "\n",
       "    .dataframe tbody tr th {\n",
       "        vertical-align: top;\n",
       "    }\n",
       "\n",
       "    .dataframe thead th {\n",
       "        text-align: right;\n",
       "    }\n",
       "</style>\n",
       "<table border=\"1\" class=\"dataframe\">\n",
       "  <thead>\n",
       "    <tr style=\"text-align: right;\">\n",
       "      <th></th>\n",
       "      <th>A</th>\n",
       "      <th>E</th>\n",
       "      <th>B</th>\n",
       "      <th>C</th>\n",
       "      <th>D</th>\n",
       "    </tr>\n",
       "  </thead>\n",
       "  <tbody>\n",
       "    <tr>\n",
       "      <th>2024-12-31 00:00:00</th>\n",
       "      <td>10.000000</td>\n",
       "      <td>10.000000</td>\n",
       "      <td>10.000000</td>\n",
       "      <td>10.000000</td>\n",
       "      <td>10.000000</td>\n",
       "    </tr>\n",
       "    <tr>\n",
       "      <th>2019-12-31 00:00:00</th>\n",
       "      <td>5.000000</td>\n",
       "      <td>5.000000</td>\n",
       "      <td>5.000000</td>\n",
       "      <td>5.000000</td>\n",
       "      <td>5.000000</td>\n",
       "    </tr>\n",
       "    <tr>\n",
       "      <th>2021-12-31 00:00:00</th>\n",
       "      <td>1.076527</td>\n",
       "      <td>0.947338</td>\n",
       "      <td>-1.649536</td>\n",
       "      <td>1.616412</td>\n",
       "      <td>1.381272</td>\n",
       "    </tr>\n",
       "    <tr>\n",
       "      <th>2020-12-31 00:00:00</th>\n",
       "      <td>0.954124</td>\n",
       "      <td>0.651512</td>\n",
       "      <td>-0.504350</td>\n",
       "      <td>1.816743</td>\n",
       "      <td>0.647114</td>\n",
       "    </tr>\n",
       "  </tbody>\n",
       "</table>\n",
       "</div>"
      ],
      "text/plain": [
       "                             A          E          B          C          D\n",
       "2024-12-31 00:00:00  10.000000  10.000000  10.000000  10.000000  10.000000\n",
       "2019-12-31 00:00:00   5.000000   5.000000   5.000000   5.000000   5.000000\n",
       "2021-12-31 00:00:00   1.076527   0.947338  -1.649536   1.616412   1.381272\n",
       "2020-12-31 00:00:00   0.954124   0.651512  -0.504350   1.816743   0.647114"
      ]
     },
     "execution_count": 161,
     "metadata": {},
     "output_type": "execute_result"
    }
   ],
   "source": [
    "rand_df.sort_values('A', ascending=False) #내림차순"
   ]
  },
  {
   "cell_type": "markdown",
   "metadata": {},
   "source": [
    "#### 외부 파일 읽어들이기"
   ]
  },
  {
   "cell_type": "code",
   "execution_count": 173,
   "metadata": {},
   "outputs": [
    {
     "data": {
      "text/html": [
       "<div>\n",
       "<style scoped>\n",
       "    .dataframe tbody tr th:only-of-type {\n",
       "        vertical-align: middle;\n",
       "    }\n",
       "\n",
       "    .dataframe tbody tr th {\n",
       "        vertical-align: top;\n",
       "    }\n",
       "\n",
       "    .dataframe thead th {\n",
       "        text-align: right;\n",
       "    }\n",
       "</style>\n",
       "<table border=\"1\" class=\"dataframe\">\n",
       "  <thead>\n",
       "    <tr style=\"text-align: right;\">\n",
       "      <th></th>\n",
       "      <th>dates</th>\n",
       "      <th>price</th>\n",
       "    </tr>\n",
       "  </thead>\n",
       "  <tbody>\n",
       "    <tr>\n",
       "      <th>0</th>\n",
       "      <td>2019-01-01</td>\n",
       "      <td>10</td>\n",
       "    </tr>\n",
       "    <tr>\n",
       "      <th>1</th>\n",
       "      <td>2019-01-02</td>\n",
       "      <td>11</td>\n",
       "    </tr>\n",
       "    <tr>\n",
       "      <th>2</th>\n",
       "      <td>2019-01-03</td>\n",
       "      <td>12</td>\n",
       "    </tr>\n",
       "    <tr>\n",
       "      <th>3</th>\n",
       "      <td>2019-01-04</td>\n",
       "      <td>13</td>\n",
       "    </tr>\n",
       "    <tr>\n",
       "      <th>4</th>\n",
       "      <td>2019-01-05</td>\n",
       "      <td>14</td>\n",
       "    </tr>\n",
       "  </tbody>\n",
       "</table>\n",
       "</div>"
      ],
      "text/plain": [
       "       dates  price\n",
       "0 2019-01-01     10\n",
       "1 2019-01-02     11\n",
       "2 2019-01-03     12\n",
       "3 2019-01-04     13\n",
       "4 2019-01-05     14"
      ]
     },
     "execution_count": 173,
     "metadata": {},
     "output_type": "execute_result"
    }
   ],
   "source": [
    "sample_exel = pd.read_excel('sample_exel.xlsx')\n",
    "sample_exel.head()"
   ]
  },
  {
   "cell_type": "code",
   "execution_count": 170,
   "metadata": {},
   "outputs": [],
   "source": [
    "sample_exel.to_excel('copy_exel.xlsx', encoding='UTF-8')"
   ]
  },
  {
   "cell_type": "code",
   "execution_count": 175,
   "metadata": {},
   "outputs": [],
   "source": [
    "sample_exel.to_csv('copy_exel.csv', encoding='UTF-8', index=False)"
   ]
  },
  {
   "cell_type": "code",
   "execution_count": 176,
   "metadata": {},
   "outputs": [
    {
     "data": {
      "text/html": [
       "<div>\n",
       "<style scoped>\n",
       "    .dataframe tbody tr th:only-of-type {\n",
       "        vertical-align: middle;\n",
       "    }\n",
       "\n",
       "    .dataframe tbody tr th {\n",
       "        vertical-align: top;\n",
       "    }\n",
       "\n",
       "    .dataframe thead th {\n",
       "        text-align: right;\n",
       "    }\n",
       "</style>\n",
       "<table border=\"1\" class=\"dataframe\">\n",
       "  <thead>\n",
       "    <tr style=\"text-align: right;\">\n",
       "      <th></th>\n",
       "      <th>dates</th>\n",
       "      <th>price</th>\n",
       "    </tr>\n",
       "  </thead>\n",
       "  <tbody>\n",
       "    <tr>\n",
       "      <th>0</th>\n",
       "      <td>2019-01-01</td>\n",
       "      <td>10</td>\n",
       "    </tr>\n",
       "    <tr>\n",
       "      <th>1</th>\n",
       "      <td>2019-01-02</td>\n",
       "      <td>11</td>\n",
       "    </tr>\n",
       "    <tr>\n",
       "      <th>2</th>\n",
       "      <td>2019-01-03</td>\n",
       "      <td>12</td>\n",
       "    </tr>\n",
       "    <tr>\n",
       "      <th>3</th>\n",
       "      <td>2019-01-04</td>\n",
       "      <td>13</td>\n",
       "    </tr>\n",
       "    <tr>\n",
       "      <th>4</th>\n",
       "      <td>2019-01-05</td>\n",
       "      <td>14</td>\n",
       "    </tr>\n",
       "    <tr>\n",
       "      <th>5</th>\n",
       "      <td>2019-01-06</td>\n",
       "      <td>15</td>\n",
       "    </tr>\n",
       "    <tr>\n",
       "      <th>6</th>\n",
       "      <td>2019-01-07</td>\n",
       "      <td>16</td>\n",
       "    </tr>\n",
       "    <tr>\n",
       "      <th>7</th>\n",
       "      <td>2019-01-08</td>\n",
       "      <td>17</td>\n",
       "    </tr>\n",
       "    <tr>\n",
       "      <th>8</th>\n",
       "      <td>2019-01-09</td>\n",
       "      <td>18</td>\n",
       "    </tr>\n",
       "    <tr>\n",
       "      <th>9</th>\n",
       "      <td>2019-01-10</td>\n",
       "      <td>19</td>\n",
       "    </tr>\n",
       "    <tr>\n",
       "      <th>10</th>\n",
       "      <td>2019-01-11</td>\n",
       "      <td>20</td>\n",
       "    </tr>\n",
       "    <tr>\n",
       "      <th>11</th>\n",
       "      <td>2019-01-12</td>\n",
       "      <td>21</td>\n",
       "    </tr>\n",
       "    <tr>\n",
       "      <th>12</th>\n",
       "      <td>2019-01-13</td>\n",
       "      <td>22</td>\n",
       "    </tr>\n",
       "    <tr>\n",
       "      <th>13</th>\n",
       "      <td>2019-01-14</td>\n",
       "      <td>23</td>\n",
       "    </tr>\n",
       "    <tr>\n",
       "      <th>14</th>\n",
       "      <td>2019-01-15</td>\n",
       "      <td>24</td>\n",
       "    </tr>\n",
       "    <tr>\n",
       "      <th>15</th>\n",
       "      <td>2019-01-16</td>\n",
       "      <td>25</td>\n",
       "    </tr>\n",
       "    <tr>\n",
       "      <th>16</th>\n",
       "      <td>2019-01-17</td>\n",
       "      <td>26</td>\n",
       "    </tr>\n",
       "    <tr>\n",
       "      <th>17</th>\n",
       "      <td>2019-01-18</td>\n",
       "      <td>27</td>\n",
       "    </tr>\n",
       "    <tr>\n",
       "      <th>18</th>\n",
       "      <td>2019-01-19</td>\n",
       "      <td>28</td>\n",
       "    </tr>\n",
       "    <tr>\n",
       "      <th>19</th>\n",
       "      <td>2019-01-20</td>\n",
       "      <td>29</td>\n",
       "    </tr>\n",
       "    <tr>\n",
       "      <th>20</th>\n",
       "      <td>2019-01-21</td>\n",
       "      <td>30</td>\n",
       "    </tr>\n",
       "    <tr>\n",
       "      <th>21</th>\n",
       "      <td>2019-01-22</td>\n",
       "      <td>31</td>\n",
       "    </tr>\n",
       "    <tr>\n",
       "      <th>22</th>\n",
       "      <td>2019-01-23</td>\n",
       "      <td>32</td>\n",
       "    </tr>\n",
       "    <tr>\n",
       "      <th>23</th>\n",
       "      <td>2019-01-24</td>\n",
       "      <td>33</td>\n",
       "    </tr>\n",
       "    <tr>\n",
       "      <th>24</th>\n",
       "      <td>2019-01-25</td>\n",
       "      <td>34</td>\n",
       "    </tr>\n",
       "    <tr>\n",
       "      <th>25</th>\n",
       "      <td>2019-01-26</td>\n",
       "      <td>35</td>\n",
       "    </tr>\n",
       "    <tr>\n",
       "      <th>26</th>\n",
       "      <td>2019-01-27</td>\n",
       "      <td>36</td>\n",
       "    </tr>\n",
       "    <tr>\n",
       "      <th>27</th>\n",
       "      <td>2019-01-28</td>\n",
       "      <td>37</td>\n",
       "    </tr>\n",
       "    <tr>\n",
       "      <th>28</th>\n",
       "      <td>2019-01-29</td>\n",
       "      <td>38</td>\n",
       "    </tr>\n",
       "    <tr>\n",
       "      <th>29</th>\n",
       "      <td>2019-01-30</td>\n",
       "      <td>39</td>\n",
       "    </tr>\n",
       "  </tbody>\n",
       "</table>\n",
       "</div>"
      ],
      "text/plain": [
       "         dates  price\n",
       "0   2019-01-01     10\n",
       "1   2019-01-02     11\n",
       "2   2019-01-03     12\n",
       "3   2019-01-04     13\n",
       "4   2019-01-05     14\n",
       "5   2019-01-06     15\n",
       "6   2019-01-07     16\n",
       "7   2019-01-08     17\n",
       "8   2019-01-09     18\n",
       "9   2019-01-10     19\n",
       "10  2019-01-11     20\n",
       "11  2019-01-12     21\n",
       "12  2019-01-13     22\n",
       "13  2019-01-14     23\n",
       "14  2019-01-15     24\n",
       "15  2019-01-16     25\n",
       "16  2019-01-17     26\n",
       "17  2019-01-18     27\n",
       "18  2019-01-19     28\n",
       "19  2019-01-20     29\n",
       "20  2019-01-21     30\n",
       "21  2019-01-22     31\n",
       "22  2019-01-23     32\n",
       "23  2019-01-24     33\n",
       "24  2019-01-25     34\n",
       "25  2019-01-26     35\n",
       "26  2019-01-27     36\n",
       "27  2019-01-28     37\n",
       "28  2019-01-29     38\n",
       "29  2019-01-30     39"
      ]
     },
     "execution_count": 176,
     "metadata": {},
     "output_type": "execute_result"
    }
   ],
   "source": [
    "sample_csv = pd.read_csv('copy_exel.csv')\n",
    "sample_csv"
   ]
  },
  {
   "cell_type": "code",
   "execution_count": null,
   "metadata": {},
   "outputs": [],
   "source": []
  }
 ],
 "metadata": {
  "kernelspec": {
   "display_name": "Python 3",
   "language": "python",
   "name": "python3"
  },
  "language_info": {
   "codemirror_mode": {
    "name": "ipython",
    "version": 3
   },
   "file_extension": ".py",
   "mimetype": "text/x-python",
   "name": "python",
   "nbconvert_exporter": "python",
   "pygments_lexer": "ipython3",
   "version": "3.6.4"
  }
 },
 "nbformat": 4,
 "nbformat_minor": 2
}
