{
 "cells": [
  {
   "cell_type": "markdown",
   "metadata": {},
   "source": [
    "# 제어문"
   ]
  },
  {
   "cell_type": "markdown",
   "metadata": {},
   "source": [
    "### 조건문"
   ]
  },
  {
   "cell_type": "markdown",
   "metadata": {},
   "source": [
    "coffee 라는 딕셔너리 안에 '아메리카노'있다면 '아메리카노'의 가격을 출력하고 싶다면?"
   ]
  },
  {
   "cell_type": "code",
   "execution_count": 2,
   "metadata": {},
   "outputs": [],
   "source": [
    "coffee = {'아메리카노': 3000,\n",
    "         '돌체라떼': 5000,\n",
    "         '바닐라라떼': 4500}"
   ]
  },
  {
   "cell_type": "markdown",
   "metadata": {},
   "source": [
    "#### if 용법 (만약에 말야..)\n",
    "if (조건식):  \n",
    "____(종속절)  \n",
    "-> 조건식이 참일 경우, 종속절 실행"
   ]
  },
  {
   "cell_type": "code",
   "execution_count": 3,
   "metadata": {},
   "outputs": [
    {
     "name": "stdout",
     "output_type": "stream",
     "text": [
      "아메리카노 가격은 3000 원 입니다.\n"
     ]
    }
   ],
   "source": [
    "if '아메리카노' in coffee:\n",
    "    print('아메리카노 가격은', coffee['아메리카노'], '원 입니다.')"
   ]
  },
  {
   "cell_type": "markdown",
   "metadata": {},
   "source": [
    "'oocoffee'가 있다면, 가격을 출력하고, 없다면 없다고 출력해주고 싶다면?"
   ]
  },
  {
   "cell_type": "markdown",
   "metadata": {},
   "source": [
    "#### if ~ else 용법 (만약에말야.. 그렇지 않다면..)\n",
    "if (조건식):  \n",
    "\\__\\__(종속절1)  \n",
    "else:    \n",
    "\\__\\__(종속절2)  \n",
    "-> 조건식이 참일 경우, 종속절1 실행  \n",
    "-> 거짓이면, 종속절2 실행"
   ]
  },
  {
   "cell_type": "code",
   "execution_count": 4,
   "metadata": {},
   "outputs": [
    {
     "name": "stdout",
     "output_type": "stream",
     "text": [
      "에스프레소 는 없습니다.\n"
     ]
    }
   ],
   "source": [
    "mycoffee = '에스프레소'\n",
    "if mycoffee in coffee:\n",
    "    print(mycoffee, '가격은', coffee[mycoffee], '원 입니다.')\n",
    "else:\n",
    "    print(mycoffee, '는 없습니다.')"
   ]
  },
  {
   "cell_type": "code",
   "execution_count": 5,
   "metadata": {},
   "outputs": [],
   "source": [
    "ade = {'orange-ade': 3000,\n",
    "      'jamong-ade': 3500,\n",
    "      'grape-ade': 3500}"
   ]
  },
  {
   "cell_type": "markdown",
   "metadata": {},
   "source": [
    "mymenu가 coffee 안에 있다면, '종류: coffee'라는 문구와 가격을 출력하고,  \n",
    "그렇지않고, ade 안에 있다면, '종류: ade'라는 문구와 가격을 출력하고,  \n",
    "그렇지 않다면 없다고 출력하고 싶다면?"
   ]
  },
  {
   "cell_type": "markdown",
   "metadata": {},
   "source": [
    "#### if elif 용법 (만약에말야.. 그렇지않고 만약에..) \n",
    "다중분기  \n",
    "if (조건식1):  \n",
    "\\__\\__(종속절1)  \n",
    "elif (조건식2):    \n",
    "\\__\\__(종속절2)  \n",
    "-> 조건식1이 참일 경우, 종속절1 실행  \n",
    "-> 조건식1은 거짓이지만, 조건식2가 참일 경우, 종속절2 실행"
   ]
  },
  {
   "cell_type": "code",
   "execution_count": 6,
   "metadata": {},
   "outputs": [
    {
     "name": "stdout",
     "output_type": "stream",
     "text": [
      "종류 : ade\n",
      "orange-ade 는 3000 원 입니다.\n"
     ]
    }
   ],
   "source": [
    "mymenu = 'orange-ade'\n",
    "\n",
    "if mymenu in coffee:\n",
    "    print('종류 : coffee')\n",
    "    print(mymenu, '는', coffee[mymenu], '원 입니다.' )\n",
    "elif mymenu in ade:\n",
    "    print('종류 : ade')\n",
    "    print(mymenu, '는', ade[mymenu], '원 입니다.' )\n",
    "else:\n",
    "    print('죄송합니다.')\n",
    "    print(mymenu, '는 없습니다.')"
   ]
  },
  {
   "cell_type": "markdown",
   "metadata": {},
   "source": [
    "Quiz) 잔액이라는 변수에 숫자 데이터를 입력하세요.  \n",
    "mymenu라는 변수에 원하는 음료를 넣으세요.  \n",
    "mymenu가 coffee 혹은 ade 안에 있는지 확인한다음,  \n",
    "잔액이 mymenu가격 이상 남아있다면 'mymenu가 주문되었습니다'라고 출력하고,  \n",
    "잔액이 부족하면, '잔액이 부족합니다.'라고 출력해보세요."
   ]
  },
  {
   "cell_type": "markdown",
   "metadata": {},
   "source": [
    "#### if if 용법 (만약에.. 만약에..) "
   ]
  },
  {
   "cell_type": "code",
   "execution_count": 7,
   "metadata": {},
   "outputs": [
    {
     "name": "stdout",
     "output_type": "stream",
     "text": [
      "주문 완료되었습니다.\n",
      "잔액 1500 원 남았습니다.\n"
     ]
    }
   ],
   "source": [
    "bal = 5000\n",
    "my = 'grape-ade'\n",
    "if mymenu in coffee:\n",
    "    if bal >= coffee[my]:\n",
    "        print('주문 완료되었습니다.')\n",
    "        bal = bal - coffee[my]\n",
    "    else:\n",
    "        print('[주문 실패] 잔액이 부족합니다.')\n",
    "elif mymenu in ade:\n",
    "    if bal >= ade[my]:\n",
    "        print('주문 완료되었습니다.')\n",
    "        bal = bal - ade[my]\n",
    "\n",
    "    else:\n",
    "        print('[주문 실패] 잔액이 부족합니다.')\n",
    "else:\n",
    "    print('죄송합니다.')\n",
    "    print(mymenu, '는 없습니다.')\n",
    "#결제 후 잔액도 출력해보세요.\n",
    "print('잔액', bal, '원 남았습니다.')"
   ]
  },
  {
   "cell_type": "markdown",
   "metadata": {},
   "source": [
    "### 반복문"
   ]
  },
  {
   "cell_type": "code",
   "execution_count": 8,
   "metadata": {},
   "outputs": [],
   "source": [
    "count = 0"
   ]
  },
  {
   "cell_type": "markdown",
   "metadata": {},
   "source": [
    "count 에 1을 더하고, count를 출력하는 작업을 100번 반복하고 싶다면?"
   ]
  },
  {
   "cell_type": "code",
   "execution_count": 9,
   "metadata": {},
   "outputs": [
    {
     "name": "stdout",
     "output_type": "stream",
     "text": [
      "현재 count = 1\n",
      "현재 count = 2\n",
      "현재 count = 3\n"
     ]
    }
   ],
   "source": [
    "count = count + 1\n",
    "print('현재 count =', count)\n",
    "count = count + 1\n",
    "print('현재 count =', count)\n",
    "count = count + 1\n",
    "print('현재 count =', count)"
   ]
  },
  {
   "cell_type": "markdown",
   "metadata": {},
   "source": [
    "#### for i in range() 용법 : range(시작, 끝+1, 간격)"
   ]
  },
  {
   "cell_type": "markdown",
   "metadata": {},
   "source": [
    "i = 시작 : 1st loop  \n",
    "i = 시작 + 간격 : next loop  \n",
    "i = 끝 : last loop"
   ]
  },
  {
   "cell_type": "code",
   "execution_count": 11,
   "metadata": {},
   "outputs": [
    {
     "name": "stdout",
     "output_type": "stream",
     "text": [
      "0, 1, 2, 3, 4, 5, 6, 7, 8, 9, "
     ]
    }
   ],
   "source": [
    "for i in range(0, 10, 1): # 시작 = 0, 끝 = 9, 간격 = +1\n",
    "    print(i, end=', ') #-> 반복되는 코드\n",
    "    # 1st loop : i = 0\n",
    "    # 2nd loop : i = 1\n",
    "    # 3rd loop : i = 2\n",
    "    # 4rd loop : i = 3\n",
    "    # ...\n",
    "    # last loop(10rd) : i = 9"
   ]
  },
  {
   "cell_type": "code",
   "execution_count": 12,
   "metadata": {},
   "outputs": [
    {
     "name": "stdout",
     "output_type": "stream",
     "text": [
      "0 -> 1 -> 2 -> 3 -> 4 -> 5 -> 6 -> 7 -> 8 -> 9 -> "
     ]
    }
   ],
   "source": [
    "for i in range(10): #시작 = 0, 간격 = 1 이라면 생략 가능\n",
    "    print(i, end=' -> ')"
   ]
  },
  {
   "cell_type": "code",
   "execution_count": 16,
   "metadata": {},
   "outputs": [
    {
     "name": "stdout",
     "output_type": "stream",
     "text": [
      "19\n",
      "39\n",
      "59\n",
      "79\n",
      "99\n"
     ]
    }
   ],
   "source": [
    "#count = 0 -> 99, 1씩 증가하는데, \n",
    "#스무번째마다 한번씩만 count를 출력해보자.\n",
    "#-> 스무(19), 마흔(39), 예순(59), 여든(79), 백(99)번째는 출력 o, 나머지는 출력 x\n",
    "for count in range(100):\n",
    "    if (count+1)%20 == 0:\n",
    "        print(count)"
   ]
  },
  {
   "cell_type": "code",
   "execution_count": 17,
   "metadata": {},
   "outputs": [
    {
     "name": "stdout",
     "output_type": "stream",
     "text": [
      "현재 count -> 20\n",
      "현재 count -> 40\n",
      "현재 count -> 60\n",
      "현재 count -> 80\n",
      "현재 count -> 100\n"
     ]
    }
   ],
   "source": [
    "count = 0\n",
    "for i in range(100):\n",
    "    count = count + 1\n",
    "    if (i+1)%20 == 0:\n",
    "        print('현재 count ->', count)"
   ]
  },
  {
   "cell_type": "raw",
   "metadata": {},
   "source": [
    "Quiz) \n",
    "       *  #1st line : ' 'x7, '*'x1 \n",
    "      * *  #2st line : ' 'x6, '* 'x2\n",
    "     * * *  #3st line : ' 'x5, '* 'x3\n",
    "    * * * *\n",
    "   * * * * *\n",
    "  * * * * * *\n",
    " * * * * * * *\n",
    "* * * * * * * *\n",
    "를 출력해보세요. (for문을 이용)"
   ]
  },
  {
   "cell_type": "code",
   "execution_count": 20,
   "metadata": {},
   "outputs": [
    {
     "name": "stdout",
     "output_type": "stream",
     "text": [
      "       * \n",
      "      * * \n",
      "     * * * \n",
      "    * * * * \n",
      "   * * * * * \n",
      "  * * * * * * \n",
      " * * * * * * * \n",
      "* * * * * * * * \n"
     ]
    }
   ],
   "source": [
    "for i in range(8):\n",
    "#     x = 7 - i\n",
    "#     y = i + 1\n",
    "    x, y = 7 - i, i + 1\n",
    "    print(' '*x + '* '*y)"
   ]
  },
  {
   "cell_type": "raw",
   "metadata": {},
   "source": [
    "Quiz) \n",
    "    *\n",
    "   * *\n",
    "  * * *\n",
    " * * * *\n",
    "* * * * *\n",
    " * * * *\n",
    "  * * *\n",
    "   * *\n",
    "    *\n",
    "를 출력해보세요. (for문을 이용)"
   ]
  },
  {
   "cell_type": "code",
   "execution_count": 25,
   "metadata": {},
   "outputs": [
    {
     "name": "stdout",
     "output_type": "stream",
     "text": [
      "    * \n",
      "   * * \n",
      "  * * * \n",
      " * * * * \n",
      "* * * * * \n",
      " * * * * \n",
      "  * * * \n",
      "   * * \n",
      "    * \n"
     ]
    }
   ],
   "source": [
    "for i in range(9):\n",
    "    x = abs(4-i)\n",
    "    y = 5 - x\n",
    "    print(' '*x + '* '*y)"
   ]
  },
  {
   "cell_type": "markdown",
   "metadata": {},
   "source": [
    "#### for a in list 용법"
   ]
  },
  {
   "cell_type": "markdown",
   "metadata": {},
   "source": [
    "a = list[0] : 1st loop  \n",
    "a = list[1] : 2nd loop  \n",
    "...  \n",
    "a = list[-1] : last loop"
   ]
  },
  {
   "cell_type": "code",
   "execution_count": 63,
   "metadata": {},
   "outputs": [
    {
     "name": "stdout",
     "output_type": "stream",
     "text": [
      "hero: iron-man\n",
      "hero: hulk\n",
      "hero: blackpanser\n",
      "hero: buz\n",
      "hero: woodi\n"
     ]
    }
   ],
   "source": [
    "hero = ['iron-man', 'hulk', 'blackpanser', 'buz', 'woodi']\n",
    "\n",
    "for h in hero:\n",
    "    print('hero:', h)"
   ]
  },
  {
   "cell_type": "code",
   "execution_count": 64,
   "metadata": {},
   "outputs": [
    {
     "name": "stdout",
     "output_type": "stream",
     "text": [
      "에스프레소 는 없습니다.\n"
     ]
    }
   ],
   "source": [
    "coffee = {'아메리카노': 3000,\n",
    "         '돌체라떼': 5000,\n",
    "         '바닐라라떼': 4500}\n",
    "\n",
    "mycoffee = '에스프레소'\n",
    "\n",
    "if mycoffee in coffee:\n",
    "    print(mycoffee, '가격은', coffee[mycoffee], '원 입니다.')\n",
    "else:\n",
    "    print(mycoffee, '는 없습니다.')"
   ]
  },
  {
   "cell_type": "markdown",
   "metadata": {},
   "source": [
    "mycoffee 를 list로 여러 데이터를 저장해놓고,  \n",
    "모든 mycoffee에 대해서 위의 조건문 코드를 수행시키고 싶다면?"
   ]
  },
  {
   "cell_type": "code",
   "execution_count": 65,
   "metadata": {},
   "outputs": [
    {
     "name": "stdout",
     "output_type": "stream",
     "text": [
      "에스프레소 는 없습니다.\n",
      "아메리카노 가격은 3000 원 입니다.\n",
      "바닐라라떼 가격은 4500 원 입니다.\n",
      "돌체라떼 가격은 5000 원 입니다.\n",
      "카페라떼 는 없습니다.\n"
     ]
    }
   ],
   "source": [
    "mycoffee = ['에스프레소', '아메리카노', '바닐라라떼', '돌체라떼', '카페라떼']\n",
    "\n",
    "for my in mycoffee:\n",
    "    if my in coffee:\n",
    "        print(my, '가격은', coffee[my], '원 입니다.')\n",
    "    else:\n",
    "        print(my, '는 없습니다.')"
   ]
  },
  {
   "cell_type": "code",
   "execution_count": 67,
   "metadata": {},
   "outputs": [
    {
     "name": "stdout",
     "output_type": "stream",
     "text": [
      "1 은 3보다 작습니다.\n",
      "2 은 3보다 작습니다.\n",
      "3 은 3입니다.\n",
      "4 은 3보다 큽니다.\n",
      "5 은 3보다 큽니다.\n"
     ]
    }
   ],
   "source": [
    "number = [1, 2, 3, 4, 5]\n",
    "for num in number:\n",
    "    if num > 3:\n",
    "        print(num, '은 3보다 큽니다.')\n",
    "    elif num < 3:\n",
    "        print(num, '은 3보다 작습니다.')\n",
    "    else:\n",
    "        print(num, '은 3입니다.')\n"
   ]
  },
  {
   "cell_type": "code",
   "execution_count": 68,
   "metadata": {},
   "outputs": [
    {
     "name": "stdout",
     "output_type": "stream",
     "text": [
      "hero: iron-man\n",
      "hero: hulk\n",
      "hero: blackpanser\n",
      "hero: buz\n",
      "hero: woodi\n"
     ]
    }
   ],
   "source": [
    "#다시 한번 hero 리스트를 가지고 for문을 돌려보자\n",
    "hero = ['iron-man', 'hulk', 'blackpanser', 'buz', 'woodi']\n",
    "\n",
    "for h in hero:\n",
    "    print('hero:', h)"
   ]
  },
  {
   "cell_type": "markdown",
   "metadata": {},
   "source": [
    "for a in list용법을 사용할 때, loop의 index를 사용하고 싶다면?"
   ]
  },
  {
   "cell_type": "markdown",
   "metadata": {},
   "source": [
    "#### for i, a in enumerate(list) 용법"
   ]
  },
  {
   "cell_type": "markdown",
   "metadata": {},
   "source": [
    "i : index  \n",
    "a : list의 원소"
   ]
  },
  {
   "cell_type": "code",
   "execution_count": 71,
   "metadata": {},
   "outputs": [
    {
     "name": "stdout",
     "output_type": "stream",
     "text": [
      "0 iron-man\n",
      "1 hulk\n",
      "2 blackpanser\n",
      "3 buz\n",
      "4 woodi\n"
     ]
    }
   ],
   "source": [
    "for i, h in enumerate(hero):\n",
    "    print(i, h)"
   ]
  },
  {
   "cell_type": "code",
   "execution_count": 27,
   "metadata": {},
   "outputs": [],
   "source": [
    "hero_A = ['iron-man', 'blackpanser', 'hulk']\n",
    "hero_B = ['antman', 'wasp', 'spiderman']"
   ]
  },
  {
   "cell_type": "markdown",
   "metadata": {},
   "source": [
    "hero_A와 hero_B를 함께 for 문 돌리고 싶다면?"
   ]
  },
  {
   "cell_type": "markdown",
   "metadata": {},
   "source": [
    "#### for a, b in zip(list_A, list_B)용법"
   ]
  },
  {
   "cell_type": "code",
   "execution_count": 29,
   "metadata": {},
   "outputs": [
    {
     "name": "stdout",
     "output_type": "stream",
     "text": [
      "iron-man vs antman\n",
      "blackpanser vs wasp\n",
      "hulk vs spiderman\n"
     ]
    }
   ],
   "source": [
    "for a, b in zip(hero_A, hero_B):\n",
    "    print(a, b, sep=' vs ')"
   ]
  },
  {
   "cell_type": "markdown",
   "metadata": {},
   "source": [
    "1) zip에 3개 이상도 가능할까?"
   ]
  },
  {
   "cell_type": "code",
   "execution_count": 34,
   "metadata": {},
   "outputs": [
    {
     "name": "stdout",
     "output_type": "stream",
     "text": [
      "iron-man VS antman VS captin\n",
      "blackpanser VS wasp VS thor\n",
      "hulk VS spiderman VS blackwidow\n"
     ]
    }
   ],
   "source": [
    "hero_C = ['captin', 'thor', 'blackwidow']\n",
    "for a, b, c in zip(hero_A, hero_B, hero_C):\n",
    "    print(a, b, c, sep=' VS ')"
   ]
  },
  {
   "cell_type": "markdown",
   "metadata": {},
   "source": [
    "2) 만약에 zip 안의 리스트의 길이가 서로 다르면? "
   ]
  },
  {
   "cell_type": "code",
   "execution_count": 35,
   "metadata": {},
   "outputs": [
    {
     "data": {
      "text/plain": [
       "['iron-man', 'blackpanser', 'hulk', 'vision']"
      ]
     },
     "execution_count": 35,
     "metadata": {},
     "output_type": "execute_result"
    }
   ],
   "source": [
    "hero_A.append('vision')\n",
    "hero_A"
   ]
  },
  {
   "cell_type": "code",
   "execution_count": 36,
   "metadata": {},
   "outputs": [
    {
     "data": {
      "text/plain": [
       "'blackwidow'"
      ]
     },
     "execution_count": 36,
     "metadata": {},
     "output_type": "execute_result"
    }
   ],
   "source": [
    "hero_C.pop(-1)"
   ]
  },
  {
   "cell_type": "code",
   "execution_count": 37,
   "metadata": {},
   "outputs": [
    {
     "data": {
      "text/plain": [
       "(4, 3, 2)"
      ]
     },
     "execution_count": 37,
     "metadata": {},
     "output_type": "execute_result"
    }
   ],
   "source": [
    "len(hero_A), len(hero_B), len(hero_C)"
   ]
  },
  {
   "cell_type": "code",
   "execution_count": 38,
   "metadata": {},
   "outputs": [
    {
     "name": "stdout",
     "output_type": "stream",
     "text": [
      "iron-man VS antman VS captin\n",
      "blackpanser VS wasp VS thor\n"
     ]
    }
   ],
   "source": [
    "for a, b, c in zip(hero_A, hero_B, hero_C):\n",
    "    print(a, b, c, sep=' VS ')"
   ]
  },
  {
   "cell_type": "markdown",
   "metadata": {},
   "source": [
    "작은 리스트에 맞춤"
   ]
  },
  {
   "cell_type": "markdown",
   "metadata": {},
   "source": [
    "3) zip과 enumerate을 같이 사용해도 될까?"
   ]
  },
  {
   "cell_type": "code",
   "execution_count": 39,
   "metadata": {},
   "outputs": [
    {
     "name": "stdout",
     "output_type": "stream",
     "text": [
      "1 round\n",
      "iron-man VS antman VS captin\n",
      "\n",
      "2 round\n",
      "blackpanser VS wasp VS thor\n",
      "\n"
     ]
    }
   ],
   "source": [
    "for i, (a, b, c) in enumerate(zip(hero_A, hero_B, hero_C)):\n",
    "    print(i+1, 'round')\n",
    "    print(a, b, c, sep=' VS ', end='\\n\\n') #줄바꿈 두번"
   ]
  },
  {
   "cell_type": "markdown",
   "metadata": {},
   "source": [
    "#### 다중 for문 (for 문안에 for문 있다.)"
   ]
  },
  {
   "cell_type": "code",
   "execution_count": 40,
   "metadata": {},
   "outputs": [],
   "source": [
    "movies = [['toystory', 'comic'], ['spiderman', 'action'],\n",
    "        ['man-in-black', 'SF'], ['기생충', '스릴러']]"
   ]
  },
  {
   "cell_type": "raw",
   "metadata": {},
   "source": [
    "for movie in movies:\n",
    "    print(movie)\n",
    "    #loop 1 : movie = ['toystory', 'comic']\n",
    "    for m in movie:\n",
    "        #loop 1 : m = 'toystory'\n",
    "        # loop 1이라면, print(m, 의 장르는, end=' ')\n",
    "        #loop 2 : m = 'comic'\n",
    "        # loop 2라면, print(m, 입니다.)\n",
    "\n",
    "        \n",
    "\n",
    "    #loop 2 : movie = ['spiderman', 'action']\n",
    "    #loop 3 : movie = ['man-in-black', 'SF']\n",
    "    #loop 4 : movie = ['기생충', '스릴러']"
   ]
  },
  {
   "cell_type": "markdown",
   "metadata": {},
   "source": [
    "for 문을 이용해서 \n",
    "'영화 제목'의 장르는 '장르'입니다. 라고 출력하고 싶다면?"
   ]
  },
  {
   "cell_type": "code",
   "execution_count": 93,
   "metadata": {},
   "outputs": [
    {
     "name": "stdout",
     "output_type": "stream",
     "text": [
      "toystory 의 장르는 comic 입니다.\n",
      "spiderman 의 장르는 action 입니다.\n",
      "man-in-black 의 장르는 SF 입니다.\n",
      "기생충 의 장르는 스릴러 입니다.\n"
     ]
    }
   ],
   "source": [
    "for movie in movies:\n",
    "    for i, m in enumerate(movie):\n",
    "        if i == 0: #loop 1 이라면 \n",
    "            print(m, '의 장르는', end=' ')\n",
    "        else: #loop 2라면\n",
    "            print(m, '입니다.')"
   ]
  },
  {
   "cell_type": "raw",
   "metadata": {},
   "source": [
    "Quiz)\n",
    "count = 0 \n",
    "\n",
    "for i in range(10):\n",
    "    count = count + 1\n",
    "    for j in range(5):\n",
    "        count = count - 0.1\n",
    "print(count)\n",
    "의 결과는 몇일까요?"
   ]
  },
  {
   "cell_type": "code",
   "execution_count": 96,
   "metadata": {},
   "outputs": [
    {
     "name": "stdout",
     "output_type": "stream",
     "text": [
      "5.000000000000002\n"
     ]
    }
   ],
   "source": [
    "count = 0 \n",
    "\n",
    "for i in range(10):\n",
    "    count = count + 1\n",
    "    for j in range(5):\n",
    "        count = count - 0.1\n",
    "print(count)"
   ]
  },
  {
   "cell_type": "markdown",
   "metadata": {},
   "source": [
    "homework) 왜 결과가 5인지 이해해오기"
   ]
  },
  {
   "cell_type": "markdown",
   "metadata": {},
   "source": [
    "#### while(조건) 용법\n",
    "for문 : 몇번 반복할지를 명시  \n",
    "while : 조건만 명시 -> 명시한 조건이 참인 동안~"
   ]
  },
  {
   "cell_type": "code",
   "execution_count": 99,
   "metadata": {
    "scrolled": false
   },
   "outputs": [
    {
     "name": "stdout",
     "output_type": "stream",
     "text": [
      "현재 data:  [0]\n",
      "현재 count:  1\n",
      "현재 data:  [0, 1]\n",
      "현재 count:  2\n",
      "현재 data:  [0, 1, 2]\n",
      "현재 count:  3\n",
      "현재 data:  [0, 1, 2, 3]\n",
      "현재 count:  4\n",
      "현재 data:  [0, 1, 2, 3, 4]\n",
      "현재 count:  5\n",
      "현재 data:  [0, 1, 2, 3, 4, 5]\n",
      "현재 count:  6\n",
      "현재 data:  [0, 1, 2, 3, 4, 5, 6]\n",
      "현재 count:  7\n",
      "현재 data:  [0, 1, 2, 3, 4, 5, 6, 7]\n",
      "현재 count:  8\n",
      "현재 data:  [0, 1, 2, 3, 4, 5, 6, 7, 8]\n",
      "현재 count:  9\n",
      "현재 data:  [0, 1, 2, 3, 4, 5, 6, 7, 8, 9]\n",
      "현재 count:  10\n",
      "현재 data:  [0, 1, 2, 3, 4, 5, 6, 7, 8, 9, 10]\n",
      "현재 count:  11\n",
      "count가 10을 넘었기 때문에, while문 종료되었습니다.\n"
     ]
    }
   ],
   "source": [
    "count = 0 \n",
    "\n",
    "data = [] #빈 리스트\n",
    "while(count <= 10):\n",
    "    data.append(count)\n",
    "    print('현재 data: ', data)\n",
    "    count += 1 #count = count + 1\n",
    "    print('현재 count: ', count)\n",
    "print('count가 10을 넘었기 때문에, while문 종료되었습니다.')"
   ]
  },
  {
   "cell_type": "markdown",
   "metadata": {},
   "source": [
    "#### while(True)용법 : 무한루프"
   ]
  },
  {
   "cell_type": "markdown",
   "metadata": {},
   "source": [
    "##### break용법 : 반복문 종료(탈출)\n",
    "while, for 모두 사용 가능 / 다중 반복문일 경우, 가장 안쪽의 반복문 하나만 종료"
   ]
  },
  {
   "cell_type": "code",
   "execution_count": 42,
   "metadata": {},
   "outputs": [
    {
     "name": "stdout",
     "output_type": "stream",
     "text": [
      "도르마무 거래를 하러왔다(y/n):n\n"
     ]
    },
    {
     "data": {
      "text/plain": [
       "'n'"
      ]
     },
     "execution_count": 42,
     "metadata": {},
     "output_type": "execute_result"
    }
   ],
   "source": [
    "resp_dormamu = input('도르마무 거래를 하러왔다(y/n):')\n",
    "resp_dormamu"
   ]
  },
  {
   "cell_type": "markdown",
   "metadata": {},
   "source": [
    "resp_drmamu == y가 될때까지 무한반복시키는 코드를 작성해보세요."
   ]
  },
  {
   "cell_type": "code",
   "execution_count": 43,
   "metadata": {
    "scrolled": true
   },
   "outputs": [
    {
     "name": "stdout",
     "output_type": "stream",
     "text": [
      "도르마무 거래를 하러왔다(y/n):n\n",
      "도르마무 거래를 하러왔다(y/n):n\n",
      "도르마무 거래를 하러왔다(y/n):n\n",
      "도르마무 거래를 하러왔다(y/n):n\n",
      "도르마무 거래를 하러왔다(y/n):n\n",
      "도르마무 거래를 하러왔다(y/n):n\n",
      "도르마무 거래를 하러왔다(y/n):n\n",
      "도르마무 거래를 하러왔다(y/n):y\n"
     ]
    }
   ],
   "source": [
    "while(True):\n",
    "    resp_dormamu = input('도르마무 거래를 하러왔다(y/n):')\n",
    "    \n",
    "    if resp_dormamu == 'y':\n",
    "        break\n",
    "   "
   ]
  },
  {
   "cell_type": "markdown",
   "metadata": {},
   "source": [
    "##### continue 용법 \n",
    "반복문 종료가 아니라  \n",
    "해당 loop의 continue 아래 코드를 진행하지 않고, 바로 다음 loop로 진행"
   ]
  },
  {
   "cell_type": "code",
   "execution_count": 44,
   "metadata": {},
   "outputs": [
    {
     "name": "stdout",
     "output_type": "stream",
     "text": [
      "next continue..\n",
      "next continue..\n",
      "next continue..\n",
      "next continue..\n",
      "5\n",
      "6\n",
      "7\n",
      "8\n",
      "9\n",
      "10\n",
      "while finished..\n",
      "count:  10\n"
     ]
    }
   ],
   "source": [
    "count = 0 \n",
    "\n",
    "while(True):\n",
    "    count += 1\n",
    "    if count < 5:\n",
    "        print('next continue..')\n",
    "        continue\n",
    "    \n",
    "    print(count)\n",
    "    \n",
    "    if count >= 10:\n",
    "        break\n",
    "\n",
    "print('while finished..')\n",
    "print('count: ', count)"
   ]
  },
  {
   "cell_type": "markdown",
   "metadata": {},
   "source": [
    "##### True 와 False"
   ]
  },
  {
   "cell_type": "code",
   "execution_count": 45,
   "metadata": {},
   "outputs": [
    {
     "name": "stdout",
     "output_type": "stream",
     "text": [
      "실행\n"
     ]
    }
   ],
   "source": [
    "5 > 3 #True\n",
    "if 5 > 3:\n",
    "    print('실행')"
   ]
  },
  {
   "cell_type": "markdown",
   "metadata": {},
   "source": [
    "조건식에 숫자가 들어갈 경우  \n",
    "- 0 이외의 숫자 : True\n",
    "- 0 만 : False"
   ]
  },
  {
   "cell_type": "code",
   "execution_count": 6,
   "metadata": {},
   "outputs": [
    {
     "name": "stdout",
     "output_type": "stream",
     "text": [
      "5는 True다.\n"
     ]
    }
   ],
   "source": [
    "if 5: #5를 True로 인식\n",
    "    print('5는 True다.')"
   ]
  },
  {
   "cell_type": "code",
   "execution_count": 46,
   "metadata": {},
   "outputs": [
    {
     "name": "stdout",
     "output_type": "stream",
     "text": [
      "-10는 True다.\n"
     ]
    }
   ],
   "source": [
    "if -10: #-10를 True로 인식\n",
    "    print('-10는 True다.')\n",
    "else:\n",
    "    print('-10은 False다.')"
   ]
  },
  {
   "cell_type": "code",
   "execution_count": 47,
   "metadata": {},
   "outputs": [
    {
     "name": "stdout",
     "output_type": "stream",
     "text": [
      "0은 False다.\n"
     ]
    }
   ],
   "source": [
    "if 0: #0를 True로 인식\n",
    "    print('0는 True다.')\n",
    "else:\n",
    "    print('0은 False다.')"
   ]
  },
  {
   "cell_type": "markdown",
   "metadata": {},
   "source": [
    "조건식에 문자가 들어갈 경우  \n",
    "- ''이외의 모든 문자 : True\n",
    "- ''만 : False (주의 : ' '(공백; space) 아님)"
   ]
  },
  {
   "cell_type": "code",
   "execution_count": 10,
   "metadata": {},
   "outputs": [
    {
     "name": "stdout",
     "output_type": "stream",
     "text": [
      "\"abc\"는 True다.\n"
     ]
    }
   ],
   "source": [
    "if 'abc': #'abc'를 True로 인식\n",
    "    print('\"abc\"는 True다.')\n",
    "else:\n",
    "    print('\"abc\"은 False다.')"
   ]
  },
  {
   "cell_type": "code",
   "execution_count": 13,
   "metadata": {},
   "outputs": [
    {
     "name": "stdout",
     "output_type": "stream",
     "text": [
      "\"\"는 True다.\n"
     ]
    }
   ],
   "source": [
    "if ' ': #' '를 True로 인식\n",
    "    print('\"\"는 True다.')\n",
    "else:\n",
    "    print('\"\"은 False다.')"
   ]
  },
  {
   "cell_type": "code",
   "execution_count": 11,
   "metadata": {},
   "outputs": [
    {
     "name": "stdout",
     "output_type": "stream",
     "text": [
      "\"\"은 False다.\n"
     ]
    }
   ],
   "source": [
    "if '': #''를 True로 인식\n",
    "    print('\"\"는 True다.')\n",
    "else:\n",
    "    print('\"\"은 False다.')"
   ]
  },
  {
   "cell_type": "markdown",
   "metadata": {},
   "source": [
    "Quiz) data = [1, 0, 1, 2, 3, -1]\n",
    "  \n",
    "data 안에 원소가 0이면 False, 이외의 숫자이면 True를 출력해보세요."
   ]
  },
  {
   "cell_type": "code",
   "execution_count": 59,
   "metadata": {},
   "outputs": [
    {
     "name": "stdout",
     "output_type": "stream",
     "text": [
      " 1 -> True\n",
      " 0 -> False\n",
      " 1 -> True\n",
      " 2 -> True\n",
      " 3 -> True\n",
      "-1 -> True\n"
     ]
    }
   ],
   "source": [
    "data = [1, 0, 1, 2, 3, -1]\n",
    "\n",
    "for d in data:\n",
    "    if d: #loop 1 : d = 1 / loop 2 : d = 0 ...\n",
    "        print('{:2} -> {}'.format(d, True)) # :2 공간의 크기 2\n",
    "    else:\n",
    "        print('{:2} -> {}'.format(d, False))"
   ]
  },
  {
   "cell_type": "markdown",
   "metadata": {},
   "source": [
    "#### tip) format용법: 형식 지정 출력"
   ]
  },
  {
   "cell_type": "code",
   "execution_count": 53,
   "metadata": {},
   "outputs": [
    {
     "name": "stdout",
     "output_type": "stream",
     "text": [
      "iron-man 이 hulk 보다 더 좋다\n",
      "iron-man 이 hulk 보다 더 좋다\n"
     ]
    }
   ],
   "source": [
    "data1, data2 = 'iron-man', 'hulk'\n",
    "\n",
    "#'data1 이 data2 보다 더 좋다' 라고 출력해보자.\n",
    "print(data1, '이', data2, '보다 더 좋다')\n",
    "\n",
    "print('{} 이 {} 보다 더 좋다'.format(data1, data2))"
   ]
  },
  {
   "cell_type": "code",
   "execution_count": 54,
   "metadata": {
    "scrolled": true
   },
   "outputs": [
    {
     "name": "stdout",
     "output_type": "stream",
     "text": [
      "25 = 5 ** 2\n"
     ]
    }
   ],
   "source": [
    "x = 5\n",
    "y = x**2\n",
    "\n",
    "#y = x ** 2\n",
    "print('{} = {} ** 2'.format(y, x))"
   ]
  },
  {
   "cell_type": "raw",
   "metadata": {},
   "source": [
    "quiz)\n",
    "1 2 3 4 5 ... 9 10\n",
    "11  ..\n",
    "\n",
    "\n",
    "\n",
    "\n",
    "91        ... 99 100"
   ]
  },
  {
   "cell_type": "code",
   "execution_count": 66,
   "metadata": {},
   "outputs": [
    {
     "name": "stdout",
     "output_type": "stream",
     "text": [
      "  1   2   3   4   5   6   7   8   9  10 \n",
      " 11  12  13  14  15  16  17  18  19  20 \n",
      " 21  22  23  24  25  26  27  28  29  30 \n",
      " 31  32  33  34  35  36  37  38  39  40 \n",
      " 41  42  43  44  45  46  47  48  49  50 \n",
      " 51  52  53  54  55  56  57  58  59  60 \n",
      " 61  62  63  64  65  66  67  68  69  70 \n",
      " 71  72  73  74  75  76  77  78  79  80 \n",
      " 81  82  83  84  85  86  87  88  89  90 \n",
      " 91  92  93  94  95  96  97  98  99 100 \n"
     ]
    }
   ],
   "source": [
    "#정사각형으로 자리수를 맞춰보자\n",
    "for i in range(100):\n",
    "    print('{:3}'.format(i+1), end=' ')\n",
    "    if (i+1)%10 == 0:\n",
    "        print()\n"
   ]
  },
  {
   "cell_type": "code",
   "execution_count": 75,
   "metadata": {},
   "outputs": [
    {
     "name": "stdout",
     "output_type": "stream",
     "text": [
      "0.33 0.67 1.0 1.3 1.7 2.0 2.3 2.7 3.0 3.3 \n",
      "3.7 4.0 4.3 4.7 5.0 5.3 5.7 6.0 6.3 6.7 \n",
      "7.0 7.3 7.7 8.0 8.3 8.7 9.0 9.3 9.7 1e+01 \n",
      "1e+01 1.1e+01 1.1e+01 1.1e+01 1.2e+01 1.2e+01 1.2e+01 1.3e+01 1.3e+01 1.3e+01 \n",
      "1.4e+01 1.4e+01 1.4e+01 1.5e+01 1.5e+01 1.5e+01 1.6e+01 1.6e+01 1.6e+01 1.7e+01 \n",
      "1.7e+01 1.7e+01 1.8e+01 1.8e+01 1.8e+01 1.9e+01 1.9e+01 1.9e+01 2e+01 2e+01 \n",
      "2e+01 2.1e+01 2.1e+01 2.1e+01 2.2e+01 2.2e+01 2.2e+01 2.3e+01 2.3e+01 2.3e+01 \n",
      "2.4e+01 2.4e+01 2.4e+01 2.5e+01 2.5e+01 2.5e+01 2.6e+01 2.6e+01 2.6e+01 2.7e+01 \n",
      "2.7e+01 2.7e+01 2.8e+01 2.8e+01 2.8e+01 2.9e+01 2.9e+01 2.9e+01 3e+01 3e+01 \n",
      "3e+01 3.1e+01 3.1e+01 3.1e+01 3.2e+01 3.2e+01 3.2e+01 3.3e+01 3.3e+01 3.3e+01 \n"
     ]
    }
   ],
   "source": [
    "for i in range(100):\n",
    "    a = (i+1)/3 #소수점이 있어서 자리수가 제각각이다.\n",
    "    print('{:.2}'.format(a), end=' ') #소수점 2째자리까지 반올림\n",
    "    if (i+1)%10 == 0:\n",
    "        print()"
   ]
  },
  {
   "cell_type": "code",
   "execution_count": 85,
   "metadata": {},
   "outputs": [
    {
     "name": "stdout",
     "output_type": "stream",
     "text": [
      "   0.33    0.67     1.0     1.3     1.7 \n",
      "    2.0     2.3     2.7     3.0     3.3 \n",
      "    3.7     4.0     4.3     4.7     5.0 \n",
      "    5.3     5.7     6.0     6.3     6.7 \n",
      "    7.0     7.3     7.7     8.0     8.3 \n",
      "    8.7     9.0     9.3     9.7   1e+01 \n",
      "  1e+01 1.1e+01 1.1e+01 1.1e+01 1.2e+01 \n",
      "1.2e+01 1.2e+01 1.3e+01 1.3e+01 1.3e+01 \n",
      "1.4e+01 1.4e+01 1.4e+01 1.5e+01 1.5e+01 \n",
      "1.5e+01 1.6e+01 1.6e+01 1.6e+01 1.7e+01 \n",
      "1.7e+01 1.7e+01 1.8e+01 1.8e+01 1.8e+01 \n",
      "1.9e+01 1.9e+01 1.9e+01   2e+01   2e+01 \n",
      "  2e+01 2.1e+01 2.1e+01 2.1e+01 2.2e+01 \n",
      "2.2e+01 2.2e+01 2.3e+01 2.3e+01 2.3e+01 \n",
      "2.4e+01 2.4e+01 2.4e+01 2.5e+01 2.5e+01 \n",
      "2.5e+01 2.6e+01 2.6e+01 2.6e+01 2.7e+01 \n",
      "2.7e+01 2.7e+01 2.8e+01 2.8e+01 2.8e+01 \n",
      "2.9e+01 2.9e+01 2.9e+01   3e+01   3e+01 \n",
      "  3e+01 3.1e+01 3.1e+01 3.1e+01 3.2e+01 \n",
      "3.2e+01 3.2e+01 3.3e+01 3.3e+01 3.3e+01 \n"
     ]
    }
   ],
   "source": [
    "for i in range(100):\n",
    "    a = (i+1)/3 #소수점이 있어서 자리수가 제각각이다.\n",
    "    print('{:7.2}'.format(a), end=' ') #소수점 2째자리까지 반올림\n",
    "    if (i+1)%5 == 0:\n",
    "        print()"
   ]
  },
  {
   "cell_type": "code",
   "execution_count": null,
   "metadata": {},
   "outputs": [],
   "source": []
  }
 ],
 "metadata": {
  "kernelspec": {
   "display_name": "Python 3",
   "language": "python",
   "name": "python3"
  },
  "language_info": {
   "codemirror_mode": {
    "name": "ipython",
    "version": 3
   },
   "file_extension": ".py",
   "mimetype": "text/x-python",
   "name": "python",
   "nbconvert_exporter": "python",
   "pygments_lexer": "ipython3",
   "version": "3.6.4"
  }
 },
 "nbformat": 4,
 "nbformat_minor": 2
}
