{
 "cells": [
  {
   "cell_type": "markdown",
   "metadata": {},
   "source": [
    "# RNN"
   ]
  },
  {
   "cell_type": "raw",
   "metadata": {},
   "source": [
    "pip install tensorflow"
   ]
  },
  {
   "cell_type": "code",
   "execution_count": 1,
   "metadata": {
    "scrolled": true
   },
   "outputs": [],
   "source": [
    "import tensorflow as tf\n",
    "import numpy as np"
   ]
  },
  {
   "cell_type": "code",
   "execution_count": 2,
   "metadata": {},
   "outputs": [],
   "source": [
    "tf.reset_default_graph()"
   ]
  },
  {
   "cell_type": "code",
   "execution_count": 3,
   "metadata": {},
   "outputs": [],
   "source": [
    "tf.set_random_seed(777)  # reproducibility"
   ]
  },
  {
   "cell_type": "code",
   "execution_count": 4,
   "metadata": {},
   "outputs": [],
   "source": [
    "sample = \"How are you?\""
   ]
  },
  {
   "cell_type": "code",
   "execution_count": 30,
   "metadata": {},
   "outputs": [
    {
     "data": {
      "text/plain": [
       "['a', 'u', 'o', 'r', ' ', 'H', 'w', 'e', 'y', '?']"
      ]
     },
     "execution_count": 30,
     "metadata": {},
     "output_type": "execute_result"
    }
   ],
   "source": [
    "#문자 사전 만들기 1단계 : char 마다 idx 부여 \n",
    "#a -> 0, u -> 1 ...\n",
    "idx2char = list(set(sample))  #set() : 중복제거\n",
    "idx2char"
   ]
  },
  {
   "cell_type": "markdown",
   "metadata": {},
   "source": [
    "##### python 기초"
   ]
  },
  {
   "cell_type": "code",
   "execution_count": 31,
   "metadata": {
    "scrolled": true
   },
   "outputs": [
    {
     "name": "stdout",
     "output_type": "stream",
     "text": [
      "a\n",
      "u\n",
      "o\n",
      "r\n",
      " \n",
      "H\n",
      "w\n",
      "e\n",
      "y\n",
      "?\n"
     ]
    }
   ],
   "source": [
    "for c in idx2char: #리스트를 for문(반복문)\n",
    "    print(c) #c가 순차적으로 idx2char 리스트의 원소 "
   ]
  },
  {
   "cell_type": "markdown",
   "metadata": {},
   "source": [
    "리스트를 이용해 for문 돌릴 때, 리스트의 원소와 함께 index도 함께 뽑고싶다면? --> enumerate"
   ]
  },
  {
   "cell_type": "code",
   "execution_count": 32,
   "metadata": {},
   "outputs": [
    {
     "name": "stdout",
     "output_type": "stream",
     "text": [
      "0 a\n",
      "1 u\n",
      "2 o\n",
      "3 r\n",
      "4  \n",
      "5 H\n",
      "6 w\n",
      "7 e\n",
      "8 y\n",
      "9 ?\n"
     ]
    }
   ],
   "source": [
    "for i, c in enumerate(idx2char):\n",
    "    print(i, c)"
   ]
  },
  {
   "cell_type": "markdown",
   "metadata": {},
   "source": [
    "dictionary"
   ]
  },
  {
   "cell_type": "code",
   "execution_count": 8,
   "metadata": {},
   "outputs": [
    {
     "data": {
      "text/plain": [
       "{'job': 'engineer', 'name': 'ardino'}"
      ]
     },
     "execution_count": 8,
     "metadata": {},
     "output_type": "execute_result"
    }
   ],
   "source": [
    "#아래와 같이 key와 value로 이루어진 여러개의 데이터를 담는 자료구조\n",
    "#key : 'name', 'job' / value : 'ardino', 'engineer'\n",
    "data = {'name': 'ardino', 'job': 'engineer'}\n",
    "data"
   ]
  },
  {
   "cell_type": "markdown",
   "metadata": {},
   "source": [
    "for문을 이용해서 dictionary를 만들고 싶다면? -> comprehension(내포)"
   ]
  },
  {
   "cell_type": "code",
   "execution_count": 33,
   "metadata": {},
   "outputs": [
    {
     "data": {
      "text/plain": [
       "{' ': 4,\n",
       " '?': 9,\n",
       " 'H': 5,\n",
       " 'a': 0,\n",
       " 'e': 7,\n",
       " 'o': 2,\n",
       " 'r': 3,\n",
       " 'u': 1,\n",
       " 'w': 6,\n",
       " 'y': 8}"
      ]
     },
     "execution_count": 33,
     "metadata": {},
     "output_type": "execute_result"
    }
   ],
   "source": [
    "#문자사전만들기 2단계 : 문자 : idx dictionary 만들기\n",
    "#key -> 'H', 'u' etc (data) / value -> 0, 1, 2 (index)\n",
    "char2idx = {c: i for i, c in enumerate(idx2char)}  # comprehension\n",
    "char2idx"
   ]
  },
  {
   "cell_type": "markdown",
   "metadata": {},
   "source": [
    "#### rnn parameter"
   ]
  },
  {
   "cell_type": "markdown",
   "metadata": {},
   "source": [
    "- dic size : n_input_node = X_feature의 개수  \n",
    "- hidden size : n_hidden_node\n",
    "- num classes : n_output_node\n",
    "- sequence length : 1개 데이터의 sequence data 개수"
   ]
  },
  {
   "cell_type": "code",
   "execution_count": 10,
   "metadata": {},
   "outputs": [],
   "source": [
    "dic_size = len(char2idx)\n",
    "hidden_size = len(char2idx)\n",
    "num_classes = len(char2idx)\n",
    "sequence_length = len(sample) - 1 #len(how are you?) - 1(?)"
   ]
  },
  {
   "cell_type": "code",
   "execution_count": 34,
   "metadata": {},
   "outputs": [],
   "source": [
    "batch_size = 1 # data가 1개뿐 : data = {X:how are you, y: ow are you?}\n",
    "learning_rate = 0.1"
   ]
  },
  {
   "cell_type": "markdown",
   "metadata": {},
   "source": [
    "#### 리스트 컴프리헨션 이해하기"
   ]
  },
  {
   "cell_type": "code",
   "execution_count": 12,
   "metadata": {},
   "outputs": [
    {
     "data": {
      "text/plain": [
       "{' ': 4,\n",
       " '?': 9,\n",
       " 'H': 5,\n",
       " 'a': 0,\n",
       " 'e': 7,\n",
       " 'o': 2,\n",
       " 'r': 3,\n",
       " 'u': 1,\n",
       " 'w': 6,\n",
       " 'y': 8}"
      ]
     },
     "execution_count": 12,
     "metadata": {},
     "output_type": "execute_result"
    }
   ],
   "source": [
    "char2idx"
   ]
  },
  {
   "cell_type": "code",
   "execution_count": 13,
   "metadata": {},
   "outputs": [
    {
     "name": "stdout",
     "output_type": "stream",
     "text": [
      "5\n",
      "2\n",
      "6\n",
      "4\n",
      "0\n",
      "3\n",
      "7\n",
      "4\n",
      "8\n",
      "2\n",
      "1\n",
      "9\n"
     ]
    }
   ],
   "source": [
    "for c in sample: #sample = 'how are you?'\n",
    "    print(char2idx[c]) #c = h , o, w, ' ', a, r, e, ' ', y, o, u, ?\n",
    "    #print(char2idx['h']) -> 2\n",
    "    #print(char2idx['o']) -> 0    \n",
    "    #print(char2idx['w']) -> 4    \n",
    "    #print(char2idx[' ']) -> 8    "
   ]
  },
  {
   "cell_type": "code",
   "execution_count": 14,
   "metadata": {},
   "outputs": [
    {
     "data": {
      "text/plain": [
       "[5, 2, 6, 4, 0, 3, 7, 4, 8, 2, 1, 9]"
      ]
     },
     "execution_count": 14,
     "metadata": {},
     "output_type": "execute_result"
    }
   ],
   "source": [
    "sample_idx = [char2idx[c] for c in sample]  # char to index\n",
    "sample_idx #[h, o, w, ' ', a, r, e, ' ', y, o, u, ?] -> index"
   ]
  },
  {
   "cell_type": "markdown",
   "metadata": {},
   "source": [
    "sample_idx = 'how are you?'를 index로 변환한 값"
   ]
  },
  {
   "cell_type": "markdown",
   "metadata": {},
   "source": [
    "##### 파이썬 기초 : 리스트 슬라이싱"
   ]
  },
  {
   "cell_type": "code",
   "execution_count": 15,
   "metadata": {},
   "outputs": [
    {
     "data": {
      "text/plain": [
       "[1, 2]"
      ]
     },
     "execution_count": 15,
     "metadata": {},
     "output_type": "execute_result"
    }
   ],
   "source": [
    "data = [1, 2, 3, 4, 5, 6]\n",
    "data[0:2] #0번째 ~ 1번째까지 슬라이싱"
   ]
  },
  {
   "cell_type": "code",
   "execution_count": 16,
   "metadata": {},
   "outputs": [
    {
     "data": {
      "text/plain": [
       "[1, 2]"
      ]
     },
     "execution_count": 16,
     "metadata": {},
     "output_type": "execute_result"
    }
   ],
   "source": [
    "data[:2] #0번째는 생략 가능"
   ]
  },
  {
   "cell_type": "code",
   "execution_count": 17,
   "metadata": {},
   "outputs": [
    {
     "data": {
      "text/plain": [
       "[3, 4, 5, 6]"
      ]
     },
     "execution_count": 17,
     "metadata": {},
     "output_type": "execute_result"
    }
   ],
   "source": [
    "data[2:] #맨끝까지 슬라이싱하고 싶다면 :뒤에도 생략하기"
   ]
  },
  {
   "cell_type": "code",
   "execution_count": 18,
   "metadata": {},
   "outputs": [
    {
     "data": {
      "text/plain": [
       "[1, 2, 3, 4, 5]"
      ]
     },
     "execution_count": 18,
     "metadata": {},
     "output_type": "execute_result"
    }
   ],
   "source": [
    "#0번째부터 맨마지막 -1 번째까지 (맨마지막 data만 제외)시키고싶다면?\n",
    "data[:-1] # -1 = 맨끝, -2 = 맨끝-1, -3 = 맨끝-2"
   ]
  },
  {
   "cell_type": "markdown",
   "metadata": {},
   "source": [
    "#### sample('how are you?')로부터 X_data, y_data만들기"
   ]
  },
  {
   "cell_type": "code",
   "execution_count": 19,
   "metadata": {},
   "outputs": [],
   "source": [
    "x_data = [sample_idx[:-1]]  # X data sample (0 ~ n-1) = how are you\n",
    "y_data = [sample_idx[1:]]   # Y label sample (1 ~ n) = ow are you?"
   ]
  },
  {
   "cell_type": "markdown",
   "metadata": {},
   "source": [
    "#### tensor build 시작하기"
   ]
  },
  {
   "cell_type": "code",
   "execution_count": 20,
   "metadata": {},
   "outputs": [],
   "source": [
    "X = tf.placeholder(tf.int32, [None, sequence_length])  # None = batch size -> 1\n",
    "Y = tf.placeholder(tf.int32, [None, sequence_length])  # None = batch size -> 1"
   ]
  },
  {
   "cell_type": "markdown",
   "metadata": {},
   "source": [
    "##### X data one_hot encoding 하기 : num_classes만큼 (n_X_feature = num_classes)"
   ]
  },
  {
   "cell_type": "code",
   "execution_count": 21,
   "metadata": {},
   "outputs": [],
   "source": [
    "x_one_hot = tf.one_hot(X, num_classes)"
   ]
  },
  {
   "cell_type": "markdown",
   "metadata": {},
   "source": [
    "#### 모델 구축"
   ]
  },
  {
   "cell_type": "code",
   "execution_count": 22,
   "metadata": {},
   "outputs": [
    {
     "name": "stderr",
     "output_type": "stream",
     "text": [
      "C:\\ProgramData\\Anaconda3\\lib\\site-packages\\h5py\\__init__.py:36: FutureWarning: Conversion of the second argument of issubdtype from `float` to `np.floating` is deprecated. In future, it will be treated as `np.float64 == np.dtype(float).type`.\n",
      "  from ._conv import register_converters as _register_converters\n"
     ]
    }
   ],
   "source": [
    "#cell 구조 선택 = BasicRNN or BasicLSTM or GRU \n",
    "cell = tf.contrib.rnn.BasicLSTMCell(\n",
    "    num_units=hidden_size, state_is_tuple=True)\n",
    "\n",
    "#cell initial_state\n",
    "initial_state = cell.zero_state(batch_size, tf.float32)\n",
    "\n",
    "#cell connect\n",
    "outputs, _states = tf.nn.dynamic_rnn(\n",
    "    cell, x_one_hot, initial_state=initial_state, dtype=tf.float32)"
   ]
  },
  {
   "cell_type": "code",
   "execution_count": 23,
   "metadata": {},
   "outputs": [],
   "source": [
    "#output layer = fully connected layer (cnn의 fc와 같은 개념)\n",
    "X_for_fc = tf.reshape(outputs, [-1, hidden_size]) # -1 = None\n",
    "hypothesis = tf.contrib.layers.fully_connected(X_for_fc, num_classes, activation_fn=None)"
   ]
  },
  {
   "cell_type": "code",
   "execution_count": 24,
   "metadata": {},
   "outputs": [],
   "source": [
    "# reshape out for sequence_loss\n",
    "hypothesis = tf.reshape(hypothesis, [batch_size, sequence_length, num_classes])\n",
    "#예측값 shape = batch size 수 x sequence 길이 x X_feature 수"
   ]
  },
  {
   "cell_type": "markdown",
   "metadata": {},
   "source": [
    "#### cost & optimizer"
   ]
  },
  {
   "cell_type": "code",
   "execution_count": 25,
   "metadata": {},
   "outputs": [],
   "source": [
    "#loss 계산을 위해 필요한 가중치\n",
    "weights = tf.ones([batch_size, sequence_length])\n",
    "\n",
    "#loss = sequence_loss를 이용(기본적인 loss개념은 동일)\n",
    "sequence_loss = tf.contrib.seq2seq.sequence_loss(\n",
    "    logits=hypothesis, targets=Y, weights=weights)\n",
    "cost = tf.reduce_mean(sequence_loss) #avg of loss\n",
    "\n",
    "optimizer = tf.train.AdamOptimizer(learning_rate).minimize(cost)"
   ]
  },
  {
   "cell_type": "markdown",
   "metadata": {},
   "source": [
    "#### prediction"
   ]
  },
  {
   "cell_type": "code",
   "execution_count": 26,
   "metadata": {},
   "outputs": [],
   "source": [
    "prediction = tf.argmax(hypothesis, axis=2)"
   ]
  },
  {
   "cell_type": "markdown",
   "metadata": {},
   "source": [
    "#### Session Run"
   ]
  },
  {
   "cell_type": "code",
   "execution_count": 27,
   "metadata": {},
   "outputs": [],
   "source": [
    "epochs = 30"
   ]
  },
  {
   "cell_type": "code",
   "execution_count": 28,
   "metadata": {},
   "outputs": [
    {
     "name": "stdout",
     "output_type": "stream",
     "text": [
      "current epoch: 0/30\n",
      "prediction_idx : [[2 2 2 4 4 4 4 4 2 4 4]]\n",
      "cost: 2.3231697 Prediction: ooo     o  \n",
      "\n",
      "current epoch: 3/30\n",
      "prediction_idx : [[2 2 4 4 4 4 4 4 2 2 9]]\n",
      "cost: 1.8395679 Prediction: oo      oo?\n",
      "\n",
      "current epoch: 6/30\n",
      "prediction_idx : [[2 6 4 0 3 7 4 8 2 9 9]]\n",
      "cost: 1.1696483 Prediction: ow are yo??\n",
      "\n",
      "current epoch: 9/30\n",
      "prediction_idx : [[2 6 4 0 3 7 4 8 2 1 9]]\n",
      "cost: 0.7325884 Prediction: ow are you?\n",
      "\n",
      "current epoch: 12/30\n",
      "prediction_idx : [[2 6 4 0 3 7 4 8 2 1 9]]\n",
      "cost: 0.3440708 Prediction: ow are you?\n",
      "\n",
      "current epoch: 15/30\n",
      "prediction_idx : [[2 6 4 0 3 7 4 8 2 1 9]]\n",
      "cost: 0.12636009 Prediction: ow are you?\n",
      "\n",
      "current epoch: 18/30\n",
      "prediction_idx : [[2 6 4 0 3 7 4 8 2 1 9]]\n",
      "cost: 0.046191048 Prediction: ow are you?\n",
      "\n",
      "current epoch: 21/30\n",
      "prediction_idx : [[2 6 4 0 3 7 4 8 2 1 9]]\n",
      "cost: 0.021114068 Prediction: ow are you?\n",
      "\n",
      "current epoch: 24/30\n",
      "prediction_idx : [[2 6 4 0 3 7 4 8 2 1 9]]\n",
      "cost: 0.010841383 Prediction: ow are you?\n",
      "\n",
      "current epoch: 27/30\n",
      "prediction_idx : [[2 6 4 0 3 7 4 8 2 1 9]]\n",
      "cost: 0.006178537 Prediction: ow are you?\n",
      "\n"
     ]
    }
   ],
   "source": [
    "with tf.Session() as sess:\n",
    "    sess.run(tf.global_variables_initializer())\n",
    "    for epoch in range(epochs):\n",
    "        #training = optimizing\n",
    "        l, _ = sess.run([cost, optimizer], feed_dict={X: x_data, Y: y_data})\n",
    "\n",
    "        if epoch%3 == 0: #epoch = 10번째마다 한번씩 test\n",
    "            print('current epoch: {}/{}'.format(epoch, epochs))\n",
    "            #testing = prediction\n",
    "            result = sess.run(prediction, feed_dict={X: x_data})\n",
    "            print('prediction_idx : {}'.format(result))\n",
    "            # idx -> char \n",
    "            result_str = [idx2char[i] for i in np.squeeze(result)] #squeeze = [[1, 2, 3]] -> [1, 2, 3]\n",
    "\n",
    "            print(\"cost:\", l, \"Prediction:\", ''.join(result_str))\n",
    "            print()\n"
   ]
  },
  {
   "cell_type": "code",
   "execution_count": null,
   "metadata": {},
   "outputs": [],
   "source": []
  }
 ],
 "metadata": {
  "kernelspec": {
   "display_name": "Python 3",
   "language": "python",
   "name": "python3"
  },
  "language_info": {
   "codemirror_mode": {
    "name": "ipython",
    "version": 3
   },
   "file_extension": ".py",
   "mimetype": "text/x-python",
   "name": "python",
   "nbconvert_exporter": "python",
   "pygments_lexer": "ipython3",
   "version": "3.6.4"
  }
 },
 "nbformat": 4,
 "nbformat_minor": 2
}
