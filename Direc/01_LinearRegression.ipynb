{
 "cells": [
  {
   "cell_type": "markdown",
   "metadata": {},
   "source": [
    "# Linear Regression"
   ]
  },
  {
   "cell_type": "markdown",
   "metadata": {},
   "source": [
    "### model comprehension"
   ]
  },
  {
   "cell_type": "raw",
   "metadata": {},
   "source": [
    "pip install sklearn"
   ]
  },
  {
   "cell_type": "code",
   "execution_count": 1,
   "metadata": {
    "scrolled": true
   },
   "outputs": [],
   "source": [
    "#가상의 회귀분석용 데이터생성을 위한 패키지 임폴트\n",
    "from sklearn.datasets import make_regression"
   ]
  },
  {
   "cell_type": "code",
   "execution_count": 32,
   "metadata": {},
   "outputs": [
    {
     "name": "stdout",
     "output_type": "stream",
     "text": [
      "X: [[ 0.22122437]\n",
      " [-0.78781907]\n",
      " [ 1.97597808]\n",
      " [ 0.05356067]\n",
      " [-0.11306337]\n",
      " [ 1.52074469]\n",
      " [ 0.87845086]\n",
      " [-0.09015789]\n",
      " [ 0.59848219]\n",
      " [-0.30311019]\n",
      " [-0.10254608]\n",
      " [-0.38499   ]\n",
      " [ 1.83748018]\n",
      " [ 0.1615726 ]\n",
      " [-0.11777009]\n",
      " [ 0.0390701 ]\n",
      " [-0.47144785]\n",
      " [-0.49679973]\n",
      " [ 0.70490608]\n",
      " [-0.65065751]\n",
      " [ 0.23498073]\n",
      " [-0.66003437]\n",
      " [-0.42678733]\n",
      " [-1.32698474]\n",
      " [-0.9177327 ]\n",
      " [-1.07431376]\n",
      " [ 0.58104704]\n",
      " [ 0.11598431]\n",
      " [ 0.43210623]\n",
      " [-1.0903825 ]\n",
      " [-1.14488483]\n",
      " [ 0.44842708]\n",
      " [-1.81665939]\n",
      " [-0.36489787]\n",
      " [-0.21683039]\n",
      " [ 0.06149497]\n",
      " [-0.52569135]\n",
      " [-0.33076916]\n",
      " [-0.81688409]\n",
      " [-1.04293941]\n",
      " [ 0.7271947 ]\n",
      " [-0.0435631 ]\n",
      " [ 0.16188685]\n",
      " [-0.46628042]\n",
      " [ 2.18710972]\n",
      " [-1.10813471]\n",
      " [ 1.40127997]\n",
      " [-0.6852372 ]\n",
      " [-0.25808486]\n",
      " [ 1.04469861]\n",
      " [-0.48301923]\n",
      " [ 0.03101326]\n",
      " [ 0.60232955]\n",
      " [ 0.49102139]\n",
      " [ 0.45241564]\n",
      " [ 1.22223531]\n",
      " [ 1.14856089]\n",
      " [ 0.55635763]\n",
      " [-1.54458401]\n",
      " [-1.06619808]\n",
      " [ 1.0792907 ]\n",
      " [-0.91325156]\n",
      " [-0.22925239]\n",
      " [ 0.1137455 ]\n",
      " [ 0.15132135]\n",
      " [-0.44070599]\n",
      " [-0.77273176]\n",
      " [-0.36043258]\n",
      " [ 1.54008642]\n",
      " [ 2.02133064]\n",
      " [ 0.74136798]\n",
      " [-0.67717157]\n",
      " [-2.55215619]\n",
      " [ 2.55322204]\n",
      " [ 1.02940849]\n",
      " [-0.17136773]\n",
      " [-1.7733575 ]\n",
      " [ 0.1152264 ]\n",
      " [-0.09436302]\n",
      " [ 0.37212674]\n",
      " [-0.1494008 ]\n",
      " [ 1.99371446]\n",
      " [-1.88682969]\n",
      " [ 0.09046649]\n",
      " [ 0.77693263]\n",
      " [ 0.42912171]\n",
      " [ 1.06930947]\n",
      " [ 0.39970606]\n",
      " [-2.26543001]\n",
      " [-0.48930538]\n",
      " [-0.02630238]\n",
      " [ 0.54752044]\n",
      " [ 1.11062793]\n",
      " [ 1.55735439]\n",
      " [-0.87039331]\n",
      " [-1.43751497]\n",
      " [-1.33464408]\n",
      " [ 1.17111613]\n",
      " [-1.4316491 ]\n",
      " [ 0.13537706]\n",
      " [-0.24247137]\n",
      " [-0.01350876]\n",
      " [-1.091473  ]\n",
      " [ 0.59458284]\n",
      " [ 0.92091135]\n",
      " [ 0.68713729]\n",
      " [-0.90532104]\n",
      " [ 1.82164166]\n",
      " [-0.15951234]\n",
      " [-0.13437891]\n",
      " [-0.96871036]\n",
      " [ 0.03086751]\n",
      " [-1.23091706]\n",
      " [-0.27031105]\n",
      " [-0.97951783]\n",
      " [-1.01030697]\n",
      " [ 1.23473998]\n",
      " [ 1.08275536]\n",
      " [ 1.92958152]\n",
      " [-0.60551939]\n",
      " [ 0.57742596]\n",
      " [-1.48300363]\n",
      " [-0.16450607]\n",
      " [ 1.49128166]\n",
      " [ 1.25920757]\n",
      " [-0.48786389]\n",
      " [ 1.87070569]\n",
      " [-1.25402595]\n",
      " [-0.62615003]\n",
      " [ 0.05197036]\n",
      " [-1.13917827]\n",
      " [ 1.47407539]\n",
      " [-0.85201715]\n",
      " [ 0.99998792]\n",
      " [-0.65804774]\n",
      " [-0.33467474]\n",
      " [ 0.49123331]\n",
      " [ 0.16818734]\n",
      " [-1.27755255]\n",
      " [ 0.62002864]\n",
      " [-0.81859924]\n",
      " [ 0.82545916]\n",
      " [-0.86089668]\n",
      " [ 0.06015382]\n",
      " [-2.51496147]\n",
      " [-1.87790151]\n",
      " [-0.45977164]\n",
      " [ 1.83869241]\n",
      " [ 0.24168544]\n",
      " [-0.47344761]\n",
      " [ 0.10562431]\n",
      " [ 0.56637607]\n",
      " [-0.0357318 ]\n",
      " [ 0.94230121]\n",
      " [ 0.20689519]\n",
      " [ 1.23699327]\n",
      " [-0.52532909]\n",
      " [ 0.98004623]\n",
      " [ 1.42466694]\n",
      " [ 0.6537    ]\n",
      " [-0.2294183 ]\n",
      " [ 1.42381871]\n",
      " [ 0.44258996]\n",
      " [ 0.46775251]\n",
      " [-0.93802681]\n",
      " [-0.20573469]\n",
      " [-0.01692926]\n",
      " [ 1.09931283]\n",
      " [ 0.20598338]\n",
      " [ 0.84131254]\n",
      " [-0.05503181]\n",
      " [ 0.03857869]\n",
      " [ 0.55488639]\n",
      " [-2.09414452]\n",
      " [-0.35709495]\n",
      " [-1.79854722]\n",
      " [-0.64601397]\n",
      " [ 1.50598202]\n",
      " [-0.30102189]\n",
      " [ 1.08803459]\n",
      " [ 0.87634398]\n",
      " [-0.20590768]\n",
      " [-0.87598633]\n",
      " [ 2.03381362]\n",
      " [ 0.42671664]\n",
      " [-0.29459655]\n",
      " [-0.93423786]\n",
      " [-0.82828204]\n",
      " [ 2.20103729]\n",
      " [ 1.59255719]\n",
      " [ 0.5370698 ]\n",
      " [ 1.87612108]\n",
      " [ 1.62276808]\n",
      " [ 0.92648096]\n",
      " [-0.365395  ]\n",
      " [-1.03493645]\n",
      " [ 0.02750626]\n",
      " [-0.04210978]\n",
      " [-0.76922321]\n",
      " [ 1.28856663]]\n",
      "y: [  4.56232851 -15.29818239  40.06741286   6.51761411  -3.74867962\n",
      "  30.82752995  19.60285926   0.82936933  13.64506635  -6.50333655\n",
      "  -8.35261591  -6.51459955  42.49936089   6.3549675    0.96972169\n",
      "   4.16094346  -5.51252964 -13.12643383  15.00556558 -10.15717468\n",
      "  10.49754158 -13.81783632  -5.33271692 -24.30174057 -18.95235079\n",
      " -21.2642824   13.47280151   4.94601517   9.02936015 -23.54430833\n",
      " -18.53548568  13.85960575 -36.11875516  -4.72791305  -6.00246245\n",
      "   4.66058356  -7.30888028  -6.93283035 -13.20154156 -18.50952773\n",
      "  13.64059148   0.84037106   4.51558825 -10.59390801  48.20972084\n",
      " -21.99280037  34.20455537 -12.37644669  -2.03355625  23.66696431\n",
      "  -6.23071221   2.18907277  14.95745965   7.93041137  12.62334307\n",
      "  17.95211197  32.09416222   9.93938086 -32.20790549 -24.75105821\n",
      "  25.74250253 -10.28917518  -4.3594305    3.32763944  -1.78364687\n",
      "  -1.67093446 -14.32409859  -6.09199317  35.86795498  42.95517862\n",
      "  12.82590868 -14.10010354 -52.74866167  55.21643462  23.76985021\n",
      "  -1.77805351 -37.37052325  -1.15780789  -5.10298849  12.72900799\n",
      "  -0.97288573  47.56710757 -40.47967735   1.99627742  14.4273878\n",
      "  13.55541775  24.24410694   5.44898935 -46.24487837  -5.45263654\n",
      "   2.82883644  11.38575017  29.42821176  35.36735309 -16.53312671\n",
      " -28.77510955 -28.31640639  26.51178967 -31.06014507   5.57779558\n",
      "  -5.63775349   2.98966677 -21.92462287   7.81990472  20.31024031\n",
      "  15.45493423 -16.59735835  40.47507248   3.85561043  -0.24516992\n",
      " -20.06603326   0.40631414 -28.54077787  -2.91754377 -18.49236016\n",
      " -23.31405567  26.60422079  28.44504221  46.54540883 -11.67124716\n",
      "  13.95420118 -28.90929919  -5.70161852  26.9155976   24.71980311\n",
      " -12.6596005   39.62110236 -26.35689801 -15.41640189   6.30470394\n",
      " -17.87465314  31.39223457 -17.83459079  24.55126733 -14.38817062\n",
      " -11.08088973  11.95626675   3.56947358 -25.23782319  15.09263323\n",
      " -20.78692511  19.04728968 -14.85421554   3.4235285  -49.64515875\n",
      " -45.50327994  -8.70249856  37.30851509   8.55379237  -9.13060573\n",
      "   8.51995963   9.73739424  -4.55864445  15.87504859   6.89383678\n",
      "  24.6408349  -10.97725483  20.82806673  30.38280668  11.10951645\n",
      "  -3.31591917  34.49106942  12.11468506  11.16004283 -18.23467912\n",
      "  -6.3164441    4.75570742  23.3519236    5.2443393   17.58094416\n",
      "  -4.80770924   1.89283983  14.50070385 -44.42756614  -6.15973679\n",
      " -37.06432773  -8.34487215  34.73136085  -4.89800673  25.64315846\n",
      "  19.27629831  -2.85879095 -17.69150911  47.78496073   9.86121313\n",
      "  -4.25163244 -21.8701879  -23.81557591  54.9532047   33.92186222\n",
      "  13.54059828  45.18672231  34.05993893  20.69538694 -10.18473846\n",
      " -23.24356127   0.57517096   0.40337854 -16.03434504  25.85274009]\n"
     ]
    }
   ],
   "source": [
    "X, y = make_regression(n_samples=200, n_features=1, bias=1, noise=3)\n",
    "print('X:', X)\n",
    "print('y:', y)"
   ]
  },
  {
   "cell_type": "raw",
   "metadata": {},
   "source": [
    "pip install matplotlib"
   ]
  },
  {
   "cell_type": "code",
   "execution_count": 33,
   "metadata": {
    "scrolled": true
   },
   "outputs": [],
   "source": [
    "#데이터 시각화를 위한 패키지 임폴트\n",
    "from matplotlib import pyplot as plt #plt로 축약해서 사용하기 위해"
   ]
  },
  {
   "cell_type": "code",
   "execution_count": 34,
   "metadata": {},
   "outputs": [
    {
     "data": {
      "image/png": "[encoded data removed]",
      "text/plain": [
       "<matplotlib.figure.Figure at 0x18a63267160>"
      ]
     },
     "metadata": {},
     "output_type": "display_data"
    }
   ],
   "source": [
    "#산점도를 이용한 시각화 = scatter\n",
    "plt.scatter(X, y)\n",
    "plt.xlabel('X1')\n",
    "plt.ylabel('y')\n",
    "plt.grid()\n",
    "plt.show()"
   ]
  },
  {
   "cell_type": "code",
   "execution_count": 35,
   "metadata": {},
   "outputs": [],
   "source": [
    "#linearRegression 모델 사용을 위한 패키지 임폴트\n",
    "from sklearn.linear_model import LinearRegression"
   ]
  },
  {
   "cell_type": "code",
   "execution_count": 36,
   "metadata": {},
   "outputs": [],
   "source": [
    "# machinelearning할때 model을 LinearRegression으로 선택하겠다.\n",
    "model = LinearRegression()"
   ]
  },
  {
   "cell_type": "code",
   "execution_count": 37,
   "metadata": {},
   "outputs": [],
   "source": [
    "#trainset & testset split해주는 메서드를 임폴트\n",
    "from sklearn.model_selection import train_test_split"
   ]
  },
  {
   "cell_type": "code",
   "execution_count": 38,
   "metadata": {},
   "outputs": [],
   "source": [
    "#train : test = 80 : 20\n",
    "X_train, X_test, y_train, y_test = train_test_split(X, y, \n",
    "                                                    test_size=0.2,\n",
    "                                                   shuffle=True)"
   ]
  },
  {
   "cell_type": "code",
   "execution_count": 39,
   "metadata": {},
   "outputs": [
    {
     "data": {
      "text/plain": [
       "LinearRegression(copy_X=True, fit_intercept=True, n_jobs=1, normalize=False)"
      ]
     },
     "execution_count": 39,
     "metadata": {},
     "output_type": "execute_result"
    }
   ],
   "source": [
    "#선택한 모델을 가지고 학습을 시키자.\n",
    "model.fit(X_train, y_train) #fit <- trainset"
   ]
  },
  {
   "cell_type": "code",
   "execution_count": 40,
   "metadata": {},
   "outputs": [
    {
     "data": {
      "text/plain": [
       "(array([21.39349694]), 1.0852333583595062)"
      ]
     },
     "execution_count": 40,
     "metadata": {},
     "output_type": "execute_result"
    }
   ],
   "source": [
    "#coef_ = weight(기울기), intercept_ = bias(y절편)\n",
    "model.coef_, model.intercept_"
   ]
  },
  {
   "cell_type": "markdown",
   "metadata": {},
   "source": [
    "hypothesis 시각화"
   ]
  },
  {
   "cell_type": "code",
   "execution_count": 43,
   "metadata": {},
   "outputs": [],
   "source": [
    "x = [-3, 4]\n",
    "hypo = model.coef_ * x + model.intercept_"
   ]
  },
  {
   "cell_type": "code",
   "execution_count": 44,
   "metadata": {},
   "outputs": [
    {
     "data": {
      "image/png": "[encoded data removed]",
      "text/plain": [
       "<matplotlib.figure.Figure at 0x18a63264b38>"
      ]
     },
     "metadata": {},
     "output_type": "display_data"
    }
   ],
   "source": [
    "plt.plot(x, hypo, 'r')\n",
    "plt.scatter(X_train, y_train, c='b')\n",
    "plt.scatter(X_test, y_test, c='r')\n",
    "plt.xlabel('X1')\n",
    "plt.ylabel('y')\n",
    "plt.show()"
   ]
  },
  {
   "cell_type": "code",
   "execution_count": 48,
   "metadata": {},
   "outputs": [
    {
     "data": {
      "image/png": "[encoded data removed]",
      "text/plain": [
       "<matplotlib.figure.Figure at 0x18a635c9128>"
      ]
     },
     "metadata": {},
     "output_type": "display_data"
    }
   ],
   "source": [
    "ax1 = plt.subplot(121)\n",
    "plt.title('Trainset')\n",
    "plt.plot(x, hypo, 'r')\n",
    "plt.scatter(X_train, y_train, c='b')\n",
    "plt.xlabel('X1')\n",
    "plt.ylabel('y')\n",
    "\n",
    "ax1 = plt.subplot(122)\n",
    "plt.title('Testset')\n",
    "plt.plot(x, hypo, 'r')\n",
    "plt.scatter(X_test, y_test, c='r')\n",
    "plt.xlabel('X1')\n",
    "\n",
    "plt.show()"
   ]
  },
  {
   "cell_type": "code",
   "execution_count": 49,
   "metadata": {},
   "outputs": [],
   "source": [
    "#model 검증(test)\n",
    "acc_ts = model.score(X_test, y_test) # score <- trainset testset 각각\n",
    "acc_tr = model.score(X_train, y_train)"
   ]
  },
  {
   "cell_type": "code",
   "execution_count": 64,
   "metadata": {},
   "outputs": [],
   "source": [
    "def print_accuracy(acc_tr, acc_ts):\n",
    "    print('='*18)\n",
    "    print('---- Accuracy ----')\n",
    "    print('='*18)\n",
    "    print('{:>8} : {:.4f}'.format('trainset', acc_tr))\n",
    "    print('{:>8} : {:.4f}'.format('testset', acc_ts))\n",
    "    print('='*18)    "
   ]
  },
  {
   "cell_type": "code",
   "execution_count": 65,
   "metadata": {},
   "outputs": [
    {
     "name": "stdout",
     "output_type": "stream",
     "text": [
      "==================\n",
      "---- Accuracy ----\n",
      "==================\n",
      "trainset : 0.9816\n",
      " testset : 0.9876\n",
      "==================\n"
     ]
    }
   ],
   "source": [
    "print_accuracy(acc_tr, acc_ts)"
   ]
  },
  {
   "cell_type": "markdown",
   "metadata": {},
   "source": [
    "#### Example Practice"
   ]
  },
  {
   "cell_type": "code",
   "execution_count": 67,
   "metadata": {},
   "outputs": [],
   "source": [
    "from sklearn.datasets import load_boston"
   ]
  },
  {
   "cell_type": "code",
   "execution_count": 68,
   "metadata": {},
   "outputs": [
    {
     "data": {
      "text/plain": [
       "{'DESCR': \"Boston House Prices dataset\\n===========================\\n\\nNotes\\n------\\nData Set Characteristics:  \\n\\n    :Number of Instances: 506 \\n\\n    :Number of Attributes: 13 numeric/categorical predictive\\n    \\n    :Median Value (attribute 14) is usually the target\\n\\n    :Attribute Information (in order):\\n        - CRIM     per capita crime rate by town\\n        - ZN       proportion of residential land zoned for lots over 25,000 sq.ft.\\n        - INDUS    proportion of non-retail business acres per town\\n        - CHAS     Charles River dummy variable (= 1 if tract bounds river; 0 otherwise)\\n        - NOX      nitric oxides concentration (parts per 10 million)\\n        - RM       average number of rooms per dwelling\\n        - AGE      proportion of owner-occupied units built prior to 1940\\n        - DIS      weighted distances to five Boston employment centres\\n        - RAD      index of accessibility to radial highways\\n        - TAX      full-value property-tax rate per $10,000\\n        - PTRATIO  pupil-teacher ratio by town\\n        - B        1000(Bk - 0.63)^2 where Bk is the proportion of blacks by town\\n        - LSTAT    % lower status of the population\\n        - MEDV     Median value of owner-occupied homes in $1000's\\n\\n    :Missing Attribute Values: None\\n\\n    :Creator: Harrison, D. and Rubinfeld, D.L.\\n\\nThis is a copy of UCI ML housing dataset.\\nhttp://archive.ics.uci.edu/ml/datasets/Housing\\n\\n\\nThis dataset was taken from the StatLib library which is maintained at Carnegie Mellon University.\\n\\nThe Boston house-price data of Harrison, D. and Rubinfeld, D.L. 'Hedonic\\nprices and the demand for clean air', J. Environ. Economics & Management,\\nvol.5, 81-102, 1978.   Used in Belsley, Kuh & Welsch, 'Regression diagnostics\\n...', Wiley, 1980.   N.B. Various transformations are used in the table on\\npages 244-261 of the latter.\\n\\nThe Boston house-price data has been used in many machine learning papers that address regression\\nproblems.   \\n     \\n**References**\\n\\n   - Belsley, Kuh & Welsch, 'Regression diagnostics: Identifying Influential Data and Sources of Collinearity', Wiley, 1980. 244-261.\\n   - Quinlan,R. (1993). Combining Instance-Based and Model-Based Learning. In Proceedings on the Tenth International Conference of Machine Learning, 236-243, University of Massachusetts, Amherst. Morgan Kaufmann.\\n   - many more! (see http://archive.ics.uci.edu/ml/datasets/Housing)\\n\",\n",
       " 'data': array([[6.3200e-03, 1.8000e+01, 2.3100e+00, ..., 1.5300e+01, 3.9690e+02,\n",
       "         4.9800e+00],\n",
       "        [2.7310e-02, 0.0000e+00, 7.0700e+00, ..., 1.7800e+01, 3.9690e+02,\n",
       "         9.1400e+00],\n",
       "        [2.7290e-02, 0.0000e+00, 7.0700e+00, ..., 1.7800e+01, 3.9283e+02,\n",
       "         4.0300e+00],\n",
       "        ...,\n",
       "        [6.0760e-02, 0.0000e+00, 1.1930e+01, ..., 2.1000e+01, 3.9690e+02,\n",
       "         5.6400e+00],\n",
       "        [1.0959e-01, 0.0000e+00, 1.1930e+01, ..., 2.1000e+01, 3.9345e+02,\n",
       "         6.4800e+00],\n",
       "        [4.7410e-02, 0.0000e+00, 1.1930e+01, ..., 2.1000e+01, 3.9690e+02,\n",
       "         7.8800e+00]]),\n",
       " 'feature_names': array(['CRIM', 'ZN', 'INDUS', 'CHAS', 'NOX', 'RM', 'AGE', 'DIS', 'RAD',\n",
       "        'TAX', 'PTRATIO', 'B', 'LSTAT'], dtype='<U7'),\n",
       " 'target': array([24. , 21.6, 34.7, 33.4, 36.2, 28.7, 22.9, 27.1, 16.5, 18.9, 15. ,\n",
       "        18.9, 21.7, 20.4, 18.2, 19.9, 23.1, 17.5, 20.2, 18.2, 13.6, 19.6,\n",
       "        15.2, 14.5, 15.6, 13.9, 16.6, 14.8, 18.4, 21. , 12.7, 14.5, 13.2,\n",
       "        13.1, 13.5, 18.9, 20. , 21. , 24.7, 30.8, 34.9, 26.6, 25.3, 24.7,\n",
       "        21.2, 19.3, 20. , 16.6, 14.4, 19.4, 19.7, 20.5, 25. , 23.4, 18.9,\n",
       "        35.4, 24.7, 31.6, 23.3, 19.6, 18.7, 16. , 22.2, 25. , 33. , 23.5,\n",
       "        19.4, 22. , 17.4, 20.9, 24.2, 21.7, 22.8, 23.4, 24.1, 21.4, 20. ,\n",
       "        20.8, 21.2, 20.3, 28. , 23.9, 24.8, 22.9, 23.9, 26.6, 22.5, 22.2,\n",
       "        23.6, 28.7, 22.6, 22. , 22.9, 25. , 20.6, 28.4, 21.4, 38.7, 43.8,\n",
       "        33.2, 27.5, 26.5, 18.6, 19.3, 20.1, 19.5, 19.5, 20.4, 19.8, 19.4,\n",
       "        21.7, 22.8, 18.8, 18.7, 18.5, 18.3, 21.2, 19.2, 20.4, 19.3, 22. ,\n",
       "        20.3, 20.5, 17.3, 18.8, 21.4, 15.7, 16.2, 18. , 14.3, 19.2, 19.6,\n",
       "        23. , 18.4, 15.6, 18.1, 17.4, 17.1, 13.3, 17.8, 14. , 14.4, 13.4,\n",
       "        15.6, 11.8, 13.8, 15.6, 14.6, 17.8, 15.4, 21.5, 19.6, 15.3, 19.4,\n",
       "        17. , 15.6, 13.1, 41.3, 24.3, 23.3, 27. , 50. , 50. , 50. , 22.7,\n",
       "        25. , 50. , 23.8, 23.8, 22.3, 17.4, 19.1, 23.1, 23.6, 22.6, 29.4,\n",
       "        23.2, 24.6, 29.9, 37.2, 39.8, 36.2, 37.9, 32.5, 26.4, 29.6, 50. ,\n",
       "        32. , 29.8, 34.9, 37. , 30.5, 36.4, 31.1, 29.1, 50. , 33.3, 30.3,\n",
       "        34.6, 34.9, 32.9, 24.1, 42.3, 48.5, 50. , 22.6, 24.4, 22.5, 24.4,\n",
       "        20. , 21.7, 19.3, 22.4, 28.1, 23.7, 25. , 23.3, 28.7, 21.5, 23. ,\n",
       "        26.7, 21.7, 27.5, 30.1, 44.8, 50. , 37.6, 31.6, 46.7, 31.5, 24.3,\n",
       "        31.7, 41.7, 48.3, 29. , 24. , 25.1, 31.5, 23.7, 23.3, 22. , 20.1,\n",
       "        22.2, 23.7, 17.6, 18.5, 24.3, 20.5, 24.5, 26.2, 24.4, 24.8, 29.6,\n",
       "        42.8, 21.9, 20.9, 44. , 50. , 36. , 30.1, 33.8, 43.1, 48.8, 31. ,\n",
       "        36.5, 22.8, 30.7, 50. , 43.5, 20.7, 21.1, 25.2, 24.4, 35.2, 32.4,\n",
       "        32. , 33.2, 33.1, 29.1, 35.1, 45.4, 35.4, 46. , 50. , 32.2, 22. ,\n",
       "        20.1, 23.2, 22.3, 24.8, 28.5, 37.3, 27.9, 23.9, 21.7, 28.6, 27.1,\n",
       "        20.3, 22.5, 29. , 24.8, 22. , 26.4, 33.1, 36.1, 28.4, 33.4, 28.2,\n",
       "        22.8, 20.3, 16.1, 22.1, 19.4, 21.6, 23.8, 16.2, 17.8, 19.8, 23.1,\n",
       "        21. , 23.8, 23.1, 20.4, 18.5, 25. , 24.6, 23. , 22.2, 19.3, 22.6,\n",
       "        19.8, 17.1, 19.4, 22.2, 20.7, 21.1, 19.5, 18.5, 20.6, 19. , 18.7,\n",
       "        32.7, 16.5, 23.9, 31.2, 17.5, 17.2, 23.1, 24.5, 26.6, 22.9, 24.1,\n",
       "        18.6, 30.1, 18.2, 20.6, 17.8, 21.7, 22.7, 22.6, 25. , 19.9, 20.8,\n",
       "        16.8, 21.9, 27.5, 21.9, 23.1, 50. , 50. , 50. , 50. , 50. , 13.8,\n",
       "        13.8, 15. , 13.9, 13.3, 13.1, 10.2, 10.4, 10.9, 11.3, 12.3,  8.8,\n",
       "         7.2, 10.5,  7.4, 10.2, 11.5, 15.1, 23.2,  9.7, 13.8, 12.7, 13.1,\n",
       "        12.5,  8.5,  5. ,  6.3,  5.6,  7.2, 12.1,  8.3,  8.5,  5. , 11.9,\n",
       "        27.9, 17.2, 27.5, 15. , 17.2, 17.9, 16.3,  7. ,  7.2,  7.5, 10.4,\n",
       "         8.8,  8.4, 16.7, 14.2, 20.8, 13.4, 11.7,  8.3, 10.2, 10.9, 11. ,\n",
       "         9.5, 14.5, 14.1, 16.1, 14.3, 11.7, 13.4,  9.6,  8.7,  8.4, 12.8,\n",
       "        10.5, 17.1, 18.4, 15.4, 10.8, 11.8, 14.9, 12.6, 14.1, 13. , 13.4,\n",
       "        15.2, 16.1, 17.8, 14.9, 14.1, 12.7, 13.5, 14.9, 20. , 16.4, 17.7,\n",
       "        19.5, 20.2, 21.4, 19.9, 19. , 19.1, 19.1, 20.1, 19.9, 19.6, 23.2,\n",
       "        29.8, 13.8, 13.3, 16.7, 12. , 14.6, 21.4, 23. , 23.7, 25. , 21.8,\n",
       "        20.6, 21.2, 19.1, 20.6, 15.2,  7. ,  8.1, 13.6, 20.1, 21.8, 24.5,\n",
       "        23.1, 19.7, 18.3, 21.2, 17.5, 16.8, 22.4, 20.6, 23.9, 22. , 11.9])}"
      ]
     },
     "execution_count": 68,
     "metadata": {},
     "output_type": "execute_result"
    }
   ],
   "source": [
    "boston = load_boston()\n",
    "boston"
   ]
  },
  {
   "cell_type": "markdown",
   "metadata": {},
   "source": [
    "boston가의 부동산 가치 예측 모델을 완성해보자."
   ]
  },
  {
   "cell_type": "code",
   "execution_count": 69,
   "metadata": {},
   "outputs": [
    {
     "data": {
      "text/plain": [
       "dict_keys(['data', 'target', 'feature_names', 'DESCR'])"
      ]
     },
     "execution_count": 69,
     "metadata": {},
     "output_type": "execute_result"
    }
   ],
   "source": [
    "boston.keys()"
   ]
  },
  {
   "cell_type": "code",
   "execution_count": 70,
   "metadata": {},
   "outputs": [
    {
     "data": {
      "text/plain": [
       "array([[6.3200e-03, 1.8000e+01, 2.3100e+00, ..., 1.5300e+01, 3.9690e+02,\n",
       "        4.9800e+00],\n",
       "       [2.7310e-02, 0.0000e+00, 7.0700e+00, ..., 1.7800e+01, 3.9690e+02,\n",
       "        9.1400e+00],\n",
       "       [2.7290e-02, 0.0000e+00, 7.0700e+00, ..., 1.7800e+01, 3.9283e+02,\n",
       "        4.0300e+00],\n",
       "       ...,\n",
       "       [6.0760e-02, 0.0000e+00, 1.1930e+01, ..., 2.1000e+01, 3.9690e+02,\n",
       "        5.6400e+00],\n",
       "       [1.0959e-01, 0.0000e+00, 1.1930e+01, ..., 2.1000e+01, 3.9345e+02,\n",
       "        6.4800e+00],\n",
       "       [4.7410e-02, 0.0000e+00, 1.1930e+01, ..., 2.1000e+01, 3.9690e+02,\n",
       "        7.8800e+00]])"
      ]
     },
     "execution_count": 70,
     "metadata": {},
     "output_type": "execute_result"
    }
   ],
   "source": [
    "boston['data'] #x_data"
   ]
  },
  {
   "cell_type": "code",
   "execution_count": 71,
   "metadata": {},
   "outputs": [
    {
     "data": {
      "text/plain": [
       "array([24. , 21.6, 34.7, 33.4, 36.2, 28.7, 22.9, 27.1, 16.5, 18.9, 15. ,\n",
       "       18.9, 21.7, 20.4, 18.2, 19.9, 23.1, 17.5, 20.2, 18.2, 13.6, 19.6,\n",
       "       15.2, 14.5, 15.6, 13.9, 16.6, 14.8, 18.4, 21. , 12.7, 14.5, 13.2,\n",
       "       13.1, 13.5, 18.9, 20. , 21. , 24.7, 30.8, 34.9, 26.6, 25.3, 24.7,\n",
       "       21.2, 19.3, 20. , 16.6, 14.4, 19.4, 19.7, 20.5, 25. , 23.4, 18.9,\n",
       "       35.4, 24.7, 31.6, 23.3, 19.6, 18.7, 16. , 22.2, 25. , 33. , 23.5,\n",
       "       19.4, 22. , 17.4, 20.9, 24.2, 21.7, 22.8, 23.4, 24.1, 21.4, 20. ,\n",
       "       20.8, 21.2, 20.3, 28. , 23.9, 24.8, 22.9, 23.9, 26.6, 22.5, 22.2,\n",
       "       23.6, 28.7, 22.6, 22. , 22.9, 25. , 20.6, 28.4, 21.4, 38.7, 43.8,\n",
       "       33.2, 27.5, 26.5, 18.6, 19.3, 20.1, 19.5, 19.5, 20.4, 19.8, 19.4,\n",
       "       21.7, 22.8, 18.8, 18.7, 18.5, 18.3, 21.2, 19.2, 20.4, 19.3, 22. ,\n",
       "       20.3, 20.5, 17.3, 18.8, 21.4, 15.7, 16.2, 18. , 14.3, 19.2, 19.6,\n",
       "       23. , 18.4, 15.6, 18.1, 17.4, 17.1, 13.3, 17.8, 14. , 14.4, 13.4,\n",
       "       15.6, 11.8, 13.8, 15.6, 14.6, 17.8, 15.4, 21.5, 19.6, 15.3, 19.4,\n",
       "       17. , 15.6, 13.1, 41.3, 24.3, 23.3, 27. , 50. , 50. , 50. , 22.7,\n",
       "       25. , 50. , 23.8, 23.8, 22.3, 17.4, 19.1, 23.1, 23.6, 22.6, 29.4,\n",
       "       23.2, 24.6, 29.9, 37.2, 39.8, 36.2, 37.9, 32.5, 26.4, 29.6, 50. ,\n",
       "       32. , 29.8, 34.9, 37. , 30.5, 36.4, 31.1, 29.1, 50. , 33.3, 30.3,\n",
       "       34.6, 34.9, 32.9, 24.1, 42.3, 48.5, 50. , 22.6, 24.4, 22.5, 24.4,\n",
       "       20. , 21.7, 19.3, 22.4, 28.1, 23.7, 25. , 23.3, 28.7, 21.5, 23. ,\n",
       "       26.7, 21.7, 27.5, 30.1, 44.8, 50. , 37.6, 31.6, 46.7, 31.5, 24.3,\n",
       "       31.7, 41.7, 48.3, 29. , 24. , 25.1, 31.5, 23.7, 23.3, 22. , 20.1,\n",
       "       22.2, 23.7, 17.6, 18.5, 24.3, 20.5, 24.5, 26.2, 24.4, 24.8, 29.6,\n",
       "       42.8, 21.9, 20.9, 44. , 50. , 36. , 30.1, 33.8, 43.1, 48.8, 31. ,\n",
       "       36.5, 22.8, 30.7, 50. , 43.5, 20.7, 21.1, 25.2, 24.4, 35.2, 32.4,\n",
       "       32. , 33.2, 33.1, 29.1, 35.1, 45.4, 35.4, 46. , 50. , 32.2, 22. ,\n",
       "       20.1, 23.2, 22.3, 24.8, 28.5, 37.3, 27.9, 23.9, 21.7, 28.6, 27.1,\n",
       "       20.3, 22.5, 29. , 24.8, 22. , 26.4, 33.1, 36.1, 28.4, 33.4, 28.2,\n",
       "       22.8, 20.3, 16.1, 22.1, 19.4, 21.6, 23.8, 16.2, 17.8, 19.8, 23.1,\n",
       "       21. , 23.8, 23.1, 20.4, 18.5, 25. , 24.6, 23. , 22.2, 19.3, 22.6,\n",
       "       19.8, 17.1, 19.4, 22.2, 20.7, 21.1, 19.5, 18.5, 20.6, 19. , 18.7,\n",
       "       32.7, 16.5, 23.9, 31.2, 17.5, 17.2, 23.1, 24.5, 26.6, 22.9, 24.1,\n",
       "       18.6, 30.1, 18.2, 20.6, 17.8, 21.7, 22.7, 22.6, 25. , 19.9, 20.8,\n",
       "       16.8, 21.9, 27.5, 21.9, 23.1, 50. , 50. , 50. , 50. , 50. , 13.8,\n",
       "       13.8, 15. , 13.9, 13.3, 13.1, 10.2, 10.4, 10.9, 11.3, 12.3,  8.8,\n",
       "        7.2, 10.5,  7.4, 10.2, 11.5, 15.1, 23.2,  9.7, 13.8, 12.7, 13.1,\n",
       "       12.5,  8.5,  5. ,  6.3,  5.6,  7.2, 12.1,  8.3,  8.5,  5. , 11.9,\n",
       "       27.9, 17.2, 27.5, 15. , 17.2, 17.9, 16.3,  7. ,  7.2,  7.5, 10.4,\n",
       "        8.8,  8.4, 16.7, 14.2, 20.8, 13.4, 11.7,  8.3, 10.2, 10.9, 11. ,\n",
       "        9.5, 14.5, 14.1, 16.1, 14.3, 11.7, 13.4,  9.6,  8.7,  8.4, 12.8,\n",
       "       10.5, 17.1, 18.4, 15.4, 10.8, 11.8, 14.9, 12.6, 14.1, 13. , 13.4,\n",
       "       15.2, 16.1, 17.8, 14.9, 14.1, 12.7, 13.5, 14.9, 20. , 16.4, 17.7,\n",
       "       19.5, 20.2, 21.4, 19.9, 19. , 19.1, 19.1, 20.1, 19.9, 19.6, 23.2,\n",
       "       29.8, 13.8, 13.3, 16.7, 12. , 14.6, 21.4, 23. , 23.7, 25. , 21.8,\n",
       "       20.6, 21.2, 19.1, 20.6, 15.2,  7. ,  8.1, 13.6, 20.1, 21.8, 24.5,\n",
       "       23.1, 19.7, 18.3, 21.2, 17.5, 16.8, 22.4, 20.6, 23.9, 22. , 11.9])"
      ]
     },
     "execution_count": 71,
     "metadata": {},
     "output_type": "execute_result"
    }
   ],
   "source": [
    "boston['target'] #y_data"
   ]
  },
  {
   "cell_type": "code",
   "execution_count": 72,
   "metadata": {},
   "outputs": [
    {
     "data": {
      "text/plain": [
       "(506, 13)"
      ]
     },
     "execution_count": 72,
     "metadata": {},
     "output_type": "execute_result"
    }
   ],
   "source": [
    "boston['data'].shape"
   ]
  },
  {
   "cell_type": "code",
   "execution_count": 73,
   "metadata": {},
   "outputs": [
    {
     "data": {
      "text/plain": [
       "(506,)"
      ]
     },
     "execution_count": 73,
     "metadata": {},
     "output_type": "execute_result"
    }
   ],
   "source": [
    "boston['target'].shape"
   ]
  },
  {
   "cell_type": "code",
   "execution_count": 74,
   "metadata": {},
   "outputs": [],
   "source": [
    "from sklearn.model_selection import train_test_split\n",
    "\n",
    "X_tr, X_ts, y_tr, y_ts = train_test_split(boston['data'], boston['target'],\n",
    "                                         test_size=0.2,\n",
    "                                         shuffle=True)"
   ]
  },
  {
   "cell_type": "code",
   "execution_count": 77,
   "metadata": {},
   "outputs": [
    {
     "data": {
      "text/plain": [
       "LinearRegression(copy_X=True, fit_intercept=True, n_jobs=1, normalize=False)"
      ]
     },
     "execution_count": 77,
     "metadata": {},
     "output_type": "execute_result"
    }
   ],
   "source": [
    "#model training\n",
    "model = LinearRegression()\n",
    "model.fit(X_tr, y_tr)"
   ]
  },
  {
   "cell_type": "code",
   "execution_count": 78,
   "metadata": {
    "scrolled": true
   },
   "outputs": [
    {
     "name": "stdout",
     "output_type": "stream",
     "text": [
      "==================\n",
      "---- Accuracy ----\n",
      "==================\n",
      "trainset : 0.7384\n",
      " testset : 0.7384\n",
      "==================\n"
     ]
    }
   ],
   "source": [
    "#model testing\n",
    "acc_ts = model.score(X_ts, y_ts)\n",
    "acc_tr = model.score(X_tr, y_tr)\n",
    "print_accuracy(acc_tr, acc_ts)"
   ]
  },
  {
   "cell_type": "code",
   "execution_count": null,
   "metadata": {},
   "outputs": [],
   "source": []
  }
 ],
 "metadata": {
  "kernelspec": {
   "display_name": "Python 3",
   "language": "python",
   "name": "python3"
  },
  "language_info": {
   "codemirror_mode": {
    "name": "ipython",
    "version": 3
   },
   "file_extension": ".py",
   "mimetype": "text/x-python",
   "name": "python",
   "nbconvert_exporter": "python",
   "pygments_lexer": "ipython3",
   "version": "3.6.4"
  }
 },
 "nbformat": 4,
 "nbformat_minor": 2
}
