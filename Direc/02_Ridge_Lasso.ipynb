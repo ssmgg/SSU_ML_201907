{
 "cells": [
  {
   "cell_type": "markdown",
   "metadata": {},
   "source": [
    "# Ridge & Lasso"
   ]
  },
  {
   "cell_type": "markdown",
   "metadata": {},
   "source": [
    "- Linear와 Ridge, Lasso 결과 비교\n",
    "- Ridge와 Lasso 결과 비교"
   ]
  },
  {
   "cell_type": "raw",
   "metadata": {},
   "source": [
    "pip install mglearn"
   ]
  },
  {
   "cell_type": "code",
   "execution_count": 8,
   "metadata": {},
   "outputs": [],
   "source": [
    "from mglearn.datasets import load_extended_boston\n",
    "from sklearn.linear_model import LinearRegression, Ridge, Lasso\n",
    "from sklearn.model_selection import train_test_split\n",
    "\n",
    "from matplotlib import pyplot as plt"
   ]
  },
  {
   "cell_type": "code",
   "execution_count": 9,
   "metadata": {},
   "outputs": [
    {
     "data": {
      "text/plain": [
       "((506, 104), (506,))"
      ]
     },
     "execution_count": 9,
     "metadata": {},
     "output_type": "execute_result"
    }
   ],
   "source": [
    "X, y = load_extended_boston()\n",
    "X.shape, y.shape"
   ]
  },
  {
   "cell_type": "markdown",
   "metadata": {},
   "source": [
    "n_data = 506  /  n_feature = 104  /  n_target = 1"
   ]
  },
  {
   "cell_type": "code",
   "execution_count": 10,
   "metadata": {},
   "outputs": [],
   "source": [
    "X_train, X_test, y_train, y_test = train_test_split(X, y,\n",
    "                                                   test_size=0.2,\n",
    "                                                   shuffle=True)"
   ]
  },
  {
   "cell_type": "code",
   "execution_count": 11,
   "metadata": {},
   "outputs": [
    {
     "data": {
      "text/plain": [
       "((404, 104), (404,), (102, 104), (102,))"
      ]
     },
     "execution_count": 11,
     "metadata": {},
     "output_type": "execute_result"
    }
   ],
   "source": [
    "X_train.shape, y_train.shape, X_test.shape, y_test.shape"
   ]
  },
  {
   "cell_type": "markdown",
   "metadata": {},
   "source": [
    "##### regularization parameter : alpha  \n",
    "alpha값을 바꿔가면서 결과를 비교해보자."
   ]
  },
  {
   "cell_type": "code",
   "execution_count": 12,
   "metadata": {},
   "outputs": [],
   "source": [
    "model_linear = LinearRegression().fit(X_train, y_train)\n",
    "model_ridge = Ridge(alpha=0.1).fit(X_train, y_train)\n",
    "model_lasso = Lasso(alpha=0.1).fit(X_train, y_train)"
   ]
  },
  {
   "cell_type": "code",
   "execution_count": 13,
   "metadata": {},
   "outputs": [],
   "source": [
    "#각 모델의 trainset & testset accuracy\n",
    "acc_linear_tr = model_linear.score(X_train, y_train)\n",
    "acc_linear_ts = model_linear.score(X_test, y_test)\n",
    "\n",
    "acc_ridge_tr = model_ridge.score(X_train, y_train)\n",
    "acc_ridge_ts = model_ridge.score(X_test, y_test)\n",
    "\n",
    "acc_lasso_tr = model_lasso.score(X_train, y_train)\n",
    "acc_lasso_ts = model_lasso.score(X_test, y_test)"
   ]
  },
  {
   "cell_type": "code",
   "execution_count": 14,
   "metadata": {},
   "outputs": [
    {
     "name": "stdout",
     "output_type": "stream",
     "text": [
      "LinearRegression Accuracy:\n",
      "train:0.9355, test:0.8154\n",
      "\n",
      "RidgeRegression Accuracy:\n",
      "train:0.9059, test:0.8721\n",
      "\n",
      "LassoRegression Accuracy:\n",
      "train:0.7277, test:0.7765\n"
     ]
    }
   ],
   "source": [
    "print('LinearRegression Accuracy:\\ntrain:{:.4f}, test:{:.4f}'.format(acc_linear_tr,\n",
    "                                                            acc_linear_ts))\n",
    "print()\n",
    "print('RidgeRegression Accuracy:\\ntrain:{:.4f}, test:{:.4f}'.format(acc_ridge_tr,\n",
    "                                                            acc_ridge_ts))\n",
    "print()\n",
    "print('LassoRegression Accuracy:\\ntrain:{:.4f}, test:{:.4f}'.format(acc_lasso_tr,\n",
    "                                                            acc_lasso_ts))"
   ]
  },
  {
   "cell_type": "code",
   "execution_count": 15,
   "metadata": {},
   "outputs": [],
   "source": [
    "import numpy as np"
   ]
  },
  {
   "cell_type": "code",
   "execution_count": 16,
   "metadata": {},
   "outputs": [
    {
     "name": "stdout",
     "output_type": "stream",
     "text": [
      "linearRegression\n",
      "n_weight: (104,)\n",
      "mag_weight: 122238.25\n",
      "n_weight_over10: 79 of 104\n"
     ]
    }
   ],
   "source": [
    "coef_lin = model_linear.coef_\n",
    "\n",
    "weight_over10_lin = coef_lin[abs(coef_lin) >= 10]\n",
    "\n",
    "print('linearRegression')\n",
    "print('n_weight: {}'.format(coef_lin.shape))\n",
    "print('mag_weight: {:.2f}'.format(np.mean(np.square(coef_lin))))\n",
    "print('n_weight_over10: {} of 104'.format(len(weight_over10_lin)))"
   ]
  },
  {
   "cell_type": "code",
   "execution_count": 17,
   "metadata": {
    "scrolled": true
   },
   "outputs": [
    {
     "name": "stdout",
     "output_type": "stream",
     "text": [
      "RidgeRegression\n",
      "n_weight: (104,)\n",
      "mag_weight: 66.65\n",
      "n_weight_over10: 18 of 104\n"
     ]
    }
   ],
   "source": [
    "coef_rid = model_ridge.coef_\n",
    "\n",
    "weight_over10_rid = coef_rid[abs(coef_rid) >= 10]\n",
    "\n",
    "print('RidgeRegression')\n",
    "print('n_weight: {}'.format(coef_rid.shape))\n",
    "print('mag_weight: {:.2f}'.format(np.mean(np.square(coef_rid))))\n",
    "print('n_weight_over10: {} of 104'.format(len(weight_over10_rid)))"
   ]
  },
  {
   "cell_type": "code",
   "execution_count": 18,
   "metadata": {},
   "outputs": [
    {
     "name": "stdout",
     "output_type": "stream",
     "text": [
      "LassoRegression\n",
      "n_weight: (104,)\n",
      "mag_weight: 6.65\n",
      "n_weight_over10: 2 of 104\n",
      "n_weight_non0: 8 of 104\n"
     ]
    }
   ],
   "source": [
    "coef_las = model_lasso.coef_\n",
    "\n",
    "weight_over10_las = coef_las[abs(coef_las) >= 10]\n",
    "\n",
    "weight_non0_las = coef_las[abs(coef_las) != 0]\n",
    "\n",
    "print('LassoRegression')\n",
    "print('n_weight: {}'.format(coef_las.shape))\n",
    "print('mag_weight: {:.2f}'.format(np.mean(np.square(coef_las))))\n",
    "print('n_weight_over10: {} of 104'.format(len(weight_over10_las)))\n",
    "print('n_weight_non0: {} of 104'.format(len(weight_non0_las)))"
   ]
  },
  {
   "cell_type": "markdown",
   "metadata": {},
   "source": [
    "alpha 0 ~ 1 까지 바꿔가며 결과 시각화 해보기"
   ]
  },
  {
   "cell_type": "code",
   "execution_count": 27,
   "metadata": {},
   "outputs": [],
   "source": [
    "import numpy as np\n",
    "from sklearn.linear_model import LinearRegression, Ridge, Lasso"
   ]
  },
  {
   "cell_type": "code",
   "execution_count": 28,
   "metadata": {
    "scrolled": true
   },
   "outputs": [],
   "source": [
    "regularization = np.linspace(0, 1, 100) #0, 0.01, 0.02 ~~"
   ]
  },
  {
   "cell_type": "code",
   "execution_count": 29,
   "metadata": {
    "scrolled": true
   },
   "outputs": [
    {
     "name": "stderr",
     "output_type": "stream",
     "text": [
      "C:\\ProgramData\\Anaconda3\\lib\\site-packages\\ipykernel_launcher.py:6: UserWarning: With alpha=0, this algorithm does not converge well. You are advised to use the LinearRegression estimator\n",
      "  \n",
      "C:\\ProgramData\\Anaconda3\\lib\\site-packages\\sklearn\\linear_model\\coordinate_descent.py:477: UserWarning: Coordinate descent with no regularization may lead to unexpected results and is discouraged.\n",
      "  positive)\n",
      "C:\\ProgramData\\Anaconda3\\lib\\site-packages\\sklearn\\linear_model\\coordinate_descent.py:491: ConvergenceWarning: Objective did not converge. You might want to increase the number of iterations. Fitting data with very small alpha may cause precision problems.\n",
      "  ConvergenceWarning)\n"
     ]
    }
   ],
   "source": [
    "acc_lin = LinearRegression().fit(X_train, y_train).score(X_test, y_test)\n",
    "\n",
    "acc_ridge, acc_lasso = [], []\n",
    "for reg in regularization:\n",
    "    ridge = Ridge(alpha=reg).fit(X_train, y_train).score(X_test, y_test)\n",
    "    lasso = Lasso(alpha=reg).fit(X_train, y_train).score(X_test, y_test)\n",
    "    acc_ridge.append(ridge)\n",
    "    acc_lasso.append(lasso)"
   ]
  },
  {
   "cell_type": "code",
   "execution_count": 30,
   "metadata": {
    "scrolled": true
   },
   "outputs": [
    {
     "data": {
      "image/png": "[encoded data removed]",
      "text/plain": [
       "<matplotlib.figure.Figure at 0x1f5e72e5ac8>"
      ]
     },
     "metadata": {},
     "output_type": "display_data"
    }
   ],
   "source": [
    "plt.plot([0, 1], [acc_lin, acc_lin], label='linear')\n",
    "plt.plot(regularization, acc_ridge, c='r', label='ridge')\n",
    "plt.plot(regularization, acc_lasso, c='g', label='lasso')\n",
    "plt.legend(loc='best')\n",
    "plt.show()"
   ]
  },
  {
   "cell_type": "code",
   "execution_count": 32,
   "metadata": {},
   "outputs": [
    {
     "data": {
      "image/png": "[encoded data removed]",
      "text/plain": [
       "<matplotlib.figure.Figure at 0x1f5e73defd0>"
      ]
     },
     "metadata": {},
     "output_type": "display_data"
    }
   ],
   "source": [
    "plt.figure(figsize=(4,6))\n",
    "plt.subplot(211)\n",
    "plt.plot([0, 1], [acc_lin, acc_lin], label='linear')\n",
    "plt.plot(regularization, acc_ridge, c='r', label='ridge')\n",
    "plt.legend(loc='best')\n",
    "plt.grid()\n",
    "\n",
    "plt.subplot(212)\n",
    "plt.plot([0, 1], [acc_lin, acc_lin], label='linear')\n",
    "plt.plot(regularization, acc_lasso, c='g', label='lasso')\n",
    "plt.legend(loc='best')\n",
    "plt.grid()\n",
    "\n",
    "plt.show()"
   ]
  },
  {
   "cell_type": "markdown",
   "metadata": {},
   "source": [
    "###### 좀 더 섬세하게 그리기"
   ]
  },
  {
   "cell_type": "code",
   "execution_count": 34,
   "metadata": {},
   "outputs": [],
   "source": [
    "#matplotlib에서 한글 사용하기위한 코드\n",
    "from matplotlib import font_manager, rc\n",
    "font_loc = \"c:/Windows/Fonts/malgun.ttf\"\n",
    "font_name = font_manager.FontProperties(fname=font_loc).get_name()\n",
    "rc('font', family=font_name)"
   ]
  },
  {
   "cell_type": "code",
   "execution_count": 35,
   "metadata": {
    "scrolled": true
   },
   "outputs": [
    {
     "data": {
      "image/png": "[encoded data removed]",
      "text/plain": [
       "<matplotlib.figure.Figure at 0x1f5e73dea20>"
      ]
     },
     "metadata": {},
     "output_type": "display_data"
    }
   ],
   "source": [
    "#ridge\n",
    "plt.figure(figsize=(8,12))\n",
    "ax = plt.subplot(211)\n",
    "\n",
    "#세부적으로 격자를 표시하기 위한 코드\n",
    "major_xticks = np.arange(0, 1, 0.1)\n",
    "minor_xticks = np.arange(0, 1, 0.01)\n",
    "major_yticks = np.arange(0, 1, 0.01)\n",
    "minor_yticks = np.arange(0, 1, 0.001)\n",
    "\n",
    "ax.set_xticks(major_xticks)\n",
    "ax.set_xticks(minor_xticks, minor=True)\n",
    "ax.set_yticks(major_yticks)\n",
    "ax.set_yticks(minor_yticks, minor=True)\n",
    "\n",
    "ax.grid(which='minor', alpha=0.5)\n",
    "ax.grid(which='major')\n",
    "\n",
    "#제목\n",
    "plt.title('alpha에 의한 정확도 변화추이')\n",
    "\n",
    "#x, y - label\n",
    "plt.xlabel('alpha')\n",
    "plt.ylabel('accuracy')\n",
    "\n",
    "plt.plot([0, 1], [acc_lin, acc_lin], label='linear')\n",
    "plt.plot(regularization, acc_ridge, c='r', label='ridge')\n",
    "plt.legend(loc='best')\n",
    "\n",
    "#lasso\n",
    "ax = plt.subplot(212)\n",
    "\n",
    "major_ticks = np.arange(0, 1, 0.1)\n",
    "minor_ticks = np.arange(0, 1, 0.01)\n",
    "\n",
    "ax.set_xticks(major_ticks)\n",
    "ax.set_xticks(minor_ticks, minor=True)\n",
    "ax.set_yticks(major_ticks)\n",
    "ax.set_yticks(minor_ticks, minor=True)\n",
    "\n",
    "ax.grid(which='minor', alpha=0.5)\n",
    "ax.grid(which='major')\n",
    "\n",
    "#x, y - label\n",
    "plt.xlabel('alpha')\n",
    "plt.ylabel('accuracy')\n",
    "\n",
    "plt.plot([0, 1], [acc_lin, acc_lin], label='linear')\n",
    "plt.plot(regularization, acc_lasso, c='g', label='lasso')\n",
    "plt.legend(loc='best')\n",
    "\n",
    "\n",
    "\n",
    "plt.show()"
   ]
  },
  {
   "cell_type": "markdown",
   "metadata": {},
   "source": [
    "### ElasticNet : Ridge + Lasso \n",
    "L2 norm & L1 norm 모두 고려하여 regularization"
   ]
  },
  {
   "cell_type": "markdown",
   "metadata": {},
   "source": [
    "#### ElasticNet의 규제항"
   ]
  },
  {
   "cell_type": "raw",
   "metadata": {},
   "source": [
    "alpha*li_ratio*l1_norm + 0.5*alpha(1-li_ratio)*l2_norm"
   ]
  },
  {
   "cell_type": "markdown",
   "metadata": {},
   "source": [
    "li_ratio = li_norm의 비중  \n",
    "ex) li_ratio = 1 -> elasticnet 규제항 = alpha\\*l1_norm  \n",
    "li_ratio = 0 -> elasticnet 규제항 = 0.5\\*alpha*l2_norm "
   ]
  },
  {
   "cell_type": "code",
   "execution_count": 36,
   "metadata": {},
   "outputs": [],
   "source": [
    "from sklearn.linear_model import ElasticNet"
   ]
  },
  {
   "cell_type": "code",
   "execution_count": 49,
   "metadata": {},
   "outputs": [
    {
     "name": "stderr",
     "output_type": "stream",
     "text": [
      "C:\\ProgramData\\Anaconda3\\lib\\site-packages\\sklearn\\linear_model\\coordinate_descent.py:491: ConvergenceWarning: Objective did not converge. You might want to increase the number of iterations. Fitting data with very small alpha may cause precision problems.\n",
      "  ConvergenceWarning)\n"
     ]
    },
    {
     "data": {
      "text/plain": [
       "ElasticNet(alpha=0.01, copy_X=True, fit_intercept=True, l1_ratio=0.1,\n",
       "      max_iter=1000, normalize=False, positive=False, precompute=False,\n",
       "      random_state=None, selection='cyclic', tol=0.0001, warm_start=False)"
      ]
     },
     "execution_count": 49,
     "metadata": {},
     "output_type": "execute_result"
    }
   ],
   "source": [
    "model = ElasticNet(alpha=0.01, l1_ratio=0.1)\n",
    "model.fit(X_train, y_train)"
   ]
  },
  {
   "cell_type": "code",
   "execution_count": 50,
   "metadata": {},
   "outputs": [
    {
     "data": {
      "text/plain": [
       "0.8302907453325463"
      ]
     },
     "execution_count": 50,
     "metadata": {},
     "output_type": "execute_result"
    }
   ],
   "source": [
    "model.score(X_test, y_test)"
   ]
  },
  {
   "cell_type": "markdown",
   "metadata": {},
   "source": [
    "homework) alpha와 l1_ratio의 변화에 따른 acc변화 추이를 시각화해보세요."
   ]
  }
 ],
 "metadata": {
  "kernelspec": {
   "display_name": "Python 3",
   "language": "python",
   "name": "python3"
  },
  "language_info": {
   "codemirror_mode": {
    "name": "ipython",
    "version": 3
   },
   "file_extension": ".py",
   "mimetype": "text/x-python",
   "name": "python",
   "nbconvert_exporter": "python",
   "pygments_lexer": "ipython3",
   "version": "3.6.4"
  }
 },
 "nbformat": 4,
 "nbformat_minor": 2
}
