{
 "cells": [
  {
   "cell_type": "markdown",
   "metadata": {},
   "source": [
    "# 실습을 통해 계층적 클러스터링 모델 이해하기"
   ]
  },
  {
   "cell_type": "code",
   "execution_count": 1,
   "metadata": {},
   "outputs": [],
   "source": [
    "from scipy.cluster.hierarchy import linkage, dendrogram\n",
    "from sklearn.datasets import make_blobs\n",
    "import numpy as np\n",
    "import matplotlib.pyplot as plt"
   ]
  },
  {
   "cell_type": "code",
   "execution_count": 2,
   "metadata": {},
   "outputs": [
    {
     "data": {
      "text/plain": [
       "array([[ 2.95001902, -2.93845794],\n",
       "       [ 3.04444742, -2.8809474 ],\n",
       "       [ 2.67136307, -1.85278916],\n",
       "       [ 2.50084681, -2.77262446],\n",
       "       [ 3.28812118, -2.90741939]])"
      ]
     },
     "execution_count": 2,
     "metadata": {},
     "output_type": "execute_result"
    }
   ],
   "source": [
    "X = make_blobs(n_samples=30, centers=1, cluster_std=0.5, random_state=30)\n",
    "X = X[0]\n",
    "X[:5]"
   ]
  },
  {
   "cell_type": "code",
   "execution_count": 4,
   "metadata": {},
   "outputs": [],
   "source": [
    "linkage?"
   ]
  },
  {
   "cell_type": "raw",
   "metadata": {},
   "source": [
    "1) method='single' assigns\n",
    "\n",
    "    .. math::\n",
    "       d(u,v) = \\min(dist(u[i],v[j]))\n",
    "\n",
    "    for all points :math:`i` in cluster :math:`u` and\n",
    "    :math:`j` in cluster :math:`v`. This is also known as the\n",
    "    Nearest Point Algorithm.\n",
    "\n",
    "2) method='complete' assigns\n",
    "\n",
    "    .. math::\n",
    "       d(u, v) = \\max(dist(u[i],v[j]))\n",
    "\n",
    "    for all points :math:`i` in cluster u and :math:`j` in\n",
    "    cluster :math:`v`. This is also known by the Farthest Point\n",
    "    Algorithm or Voor Hees Algorithm.\n",
    "\n",
    "3) method='average' assigns\n",
    "\n",
    "    .. math::\n",
    "       d(u,v) = \\sum_{ij} \\frac{d(u[i], v[j])}\n",
    "                               {(|u|*|v|)}\n",
    "\n",
    "    for all points :math:`i` and :math:`j` where :math:`|u|`\n",
    "    and :math:`|v|` are the cardinalities of clusters :math:`u`\n",
    "    and :math:`v`, respectively. This is also called the UPGMA\n",
    "    algorithm.\n",
    "\n",
    "4) method='weighted' assigns\n",
    "\n",
    "    .. math::\n",
    "       d(u,v) = (dist(s,v) + dist(t,v))/2\n",
    "\n",
    "    where cluster u was formed with cluster s and t and v\n",
    "    is a remaining cluster in the forest. (also called WPGMA)\n",
    "\n",
    "5) method='centroid' assigns\n",
    "\n",
    "    .. math::\n",
    "       dist(s,t) = ||c_s-c_t||_2\n",
    "\n",
    "    where :math:`c_s` and :math:`c_t` are the centroids of\n",
    "    clusters :math:`s` and :math:`t`, respectively. When two\n",
    "    clusters :math:`s` and :math:`t` are combined into a new\n",
    "    cluster :math:`u`, the new centroid is computed over all the\n",
    "    original objects in clusters :math:`s` and :math:`t`. The\n",
    "    distance then becomes the Euclidean distance between the\n",
    "    centroid of :math:`u` and the centroid of a remaining cluster\n",
    "    :math:`v` in the forest. This is also known as the UPGMC\n",
    "    algorithm.\n",
    "\n",
    "6) method='median' assigns :math:`d(s,t)` like the ``centroid``\n",
    "    method. When two clusters :math:`s` and :math:`t` are combined\n",
    "    into a new cluster :math:`u`, the average of centroids s and t\n",
    "    give the new centroid :math:`u`. This is also known as the\n",
    "    WPGMC algorithm.\n",
    "\n",
    "7) method='ward' uses the Ward variance minimization algorithm.\n",
    "    The new entry :math:`d(u,v)` is computed as follows,\n",
    "\n",
    "    .. math::\n",
    "\n",
    "       d(u,v) = \\sqrt{\\frac{|v|+|s|}\n",
    "                           {T}d(v,s)^2\n",
    "                    + \\frac{|v|+|t|}\n",
    "                           {T}d(v,t)^2\n",
    "                    - \\frac{|v|}\n",
    "                           {T}d(s,t)^2}\n",
    "\n",
    "    where :math:`u` is the newly joined cluster consisting of\n",
    "    clusters :math:`s` and :math:`t`, :math:`v` is an unused\n",
    "    cluster in the forest, :math:`T=|v|+|s|+|t|`, and\n",
    "    :math:`|*|` is the cardinality of its argument. This is also\n",
    "    known as the incremental algorithm.\n"
   ]
  },
  {
   "cell_type": "code",
   "execution_count": 3,
   "metadata": {},
   "outputs": [
    {
     "data": {
      "text/plain": [
       "array([[2.00000000e+00, 8.00000000e+00, 2.59300226e-02, 2.00000000e+00],\n",
       "       [3.00000000e+00, 5.00000000e+00, 5.38856444e-02, 2.00000000e+00],\n",
       "       [0.00000000e+00, 1.00000000e+00, 1.10563035e-01, 2.00000000e+00],\n",
       "       [1.00000000e+01, 2.30000000e+01, 1.11252335e-01, 2.00000000e+00],\n",
       "       [9.00000000e+00, 1.60000000e+01, 1.49357922e-01, 2.00000000e+00],\n",
       "       [2.80000000e+01, 3.00000000e+01, 1.75992946e-01, 3.00000000e+00],\n",
       "       [1.80000000e+01, 3.30000000e+01, 1.77289405e-01, 3.00000000e+00],\n",
       "       [2.20000000e+01, 2.90000000e+01, 1.98012672e-01, 2.00000000e+00],\n",
       "       [2.00000000e+01, 2.40000000e+01, 2.43639817e-01, 2.00000000e+00],\n",
       "       [1.90000000e+01, 2.10000000e+01, 2.64123157e-01, 2.00000000e+00],\n",
       "       [1.40000000e+01, 2.70000000e+01, 2.81329612e-01, 2.00000000e+00],\n",
       "       [2.50000000e+01, 3.20000000e+01, 3.27270224e-01, 3.00000000e+00],\n",
       "       [4.00000000e+00, 3.70000000e+01, 3.61473967e-01, 3.00000000e+00],\n",
       "       [7.00000000e+00, 1.50000000e+01, 3.63894711e-01, 2.00000000e+00],\n",
       "       [1.20000000e+01, 2.60000000e+01, 3.69841813e-01, 2.00000000e+00],\n",
       "       [3.40000000e+01, 3.50000000e+01, 4.13078953e-01, 5.00000000e+00],\n",
       "       [6.00000000e+00, 1.30000000e+01, 4.78971815e-01, 2.00000000e+00],\n",
       "       [3.10000000e+01, 3.80000000e+01, 4.87188317e-01, 4.00000000e+00],\n",
       "       [1.10000000e+01, 4.40000000e+01, 5.88917195e-01, 3.00000000e+00],\n",
       "       [4.30000000e+01, 4.50000000e+01, 6.28288057e-01, 7.00000000e+00],\n",
       "       [1.70000000e+01, 4.70000000e+01, 6.88493279e-01, 5.00000000e+00],\n",
       "       [4.00000000e+01, 4.20000000e+01, 6.92304455e-01, 5.00000000e+00],\n",
       "       [3.60000000e+01, 4.10000000e+01, 9.17324587e-01, 6.00000000e+00],\n",
       "       [3.90000000e+01, 4.90000000e+01, 9.86141766e-01, 9.00000000e+00],\n",
       "       [5.10000000e+01, 5.20000000e+01, 1.04061139e+00, 1.10000000e+01],\n",
       "       [4.60000000e+01, 5.30000000e+01, 1.48108175e+00, 1.10000000e+01],\n",
       "       [5.00000000e+01, 5.40000000e+01, 1.79621239e+00, 1.60000000e+01],\n",
       "       [5.50000000e+01, 5.60000000e+01, 2.04216272e+00, 2.70000000e+01],\n",
       "       [4.80000000e+01, 5.70000000e+01, 2.67641880e+00, 3.00000000e+01]])"
      ]
     },
     "execution_count": 3,
     "metadata": {},
     "output_type": "execute_result"
    }
   ],
   "source": [
    "#유사도 계산 : linkage\n",
    "merge = linkage(X, method='complete')\n",
    "merge"
   ]
  },
  {
   "cell_type": "code",
   "execution_count": 5,
   "metadata": {
    "scrolled": true
   },
   "outputs": [
    {
     "data": {
      "image/png": "[encoded data removed]",
      "text/plain": [
       "<matplotlib.figure.Figure at 0x2130215f518>"
      ]
     },
     "metadata": {},
     "output_type": "display_data"
    }
   ],
   "source": [
    "#시각화\n",
    "ax = plt.subplot(111)\n",
    "dendrogram(merge, leaf_font_size=8, orientation='right')\n",
    "ax.set_xlim(xmin=0.03)\n",
    "ax.set_xscale('log')\n",
    "plt.show()"
   ]
  }
 ],
 "metadata": {
  "kernelspec": {
   "display_name": "Python 3",
   "language": "python",
   "name": "python3"
  },
  "language_info": {
   "codemirror_mode": {
    "name": "ipython",
    "version": 3
   },
   "file_extension": ".py",
   "mimetype": "text/x-python",
   "name": "python",
   "nbconvert_exporter": "python",
   "pygments_lexer": "ipython3",
   "version": "3.6.4"
  }
 },
 "nbformat": 4,
 "nbformat_minor": 2
}
