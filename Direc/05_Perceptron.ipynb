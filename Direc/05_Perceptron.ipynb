{
 "cells": [
  {
   "cell_type": "markdown",
   "metadata": {},
   "source": [
    "# Perceptron"
   ]
  },
  {
   "cell_type": "markdown",
   "metadata": {},
   "source": [
    "### Multi Layer Perceptron (Neural Network)"
   ]
  },
  {
   "cell_type": "markdown",
   "metadata": {},
   "source": [
    "perceptron : 선형모델 -> Multi layer Perceptron : 비선형모델"
   ]
  },
  {
   "cell_type": "code",
   "execution_count": 6,
   "metadata": {},
   "outputs": [],
   "source": [
    "from sklearn.neural_network import MLPClassifier"
   ]
  },
  {
   "cell_type": "code",
   "execution_count": 8,
   "metadata": {},
   "outputs": [
    {
     "data": {
      "image/png": "[encoded data removed]",
      "text/plain": [
       "<matplotlib.figure.Figure at 0x14dfd261208>"
      ]
     },
     "metadata": {},
     "output_type": "display_data"
    }
   ],
   "source": [
    "import numpy as np\n",
    "from matplotlib import pyplot as plt\n",
    "%matplotlib inline\n",
    "#200개의 데이터, feature = 2개\n",
    "np.random.seed(30)\n",
    "X = np.random.randn(100, 2)\n",
    "y = np.logical_xor(X[:, 0]>0, X[:, 1]>0)\n",
    "y = np.where(y, 1, -1)\n",
    "plt.scatter(X[y==1, 0], X[y==1, 1], c='b')\n",
    "plt.scatter(X[y==-1, 0], X[y==-1, 1], c='r')\n",
    "plt.show()"
   ]
  },
  {
   "cell_type": "code",
   "execution_count": 9,
   "metadata": {},
   "outputs": [
    {
     "data": {
      "image/png": "[encoded data removed]",
      "text/plain": [
       "<matplotlib.figure.Figure at 0x14dfc706128>"
      ]
     },
     "metadata": {},
     "output_type": "display_data"
    }
   ],
   "source": [
    "from sklearn.model_selection import train_test_split\n",
    "\n",
    "X_train, X_test, y_train, y_test = train_test_split(X, y,\n",
    "                                                   test_size=0.2,\n",
    "                                                   shuffle=True)\n",
    "plt.scatter(X_train[y_train==1, 0],\n",
    "            X_train[y_train==1, 1], c='b')\n",
    "plt.scatter(X_train[y_train==-1, 0],\n",
    "            X_train[y_train==-1, 1], c='r')\n",
    "plt.show()"
   ]
  },
  {
   "cell_type": "code",
   "execution_count": 41,
   "metadata": {},
   "outputs": [],
   "source": [
    "model_pctr = MLPClassifier(hidden_layer_sizes=(2),\n",
    "                          max_iter=20000,\n",
    "                          learning_rate_init=0.01)"
   ]
  },
  {
   "cell_type": "code",
   "execution_count": 42,
   "metadata": {},
   "outputs": [
    {
     "data": {
      "text/plain": [
       "MLPClassifier(activation='relu', alpha=0.0001, batch_size='auto', beta_1=0.9,\n",
       "       beta_2=0.999, early_stopping=False, epsilon=1e-08,\n",
       "       hidden_layer_sizes=2, learning_rate='constant',\n",
       "       learning_rate_init=0.01, max_iter=20000, momentum=0.9,\n",
       "       nesterovs_momentum=True, power_t=0.5, random_state=None,\n",
       "       shuffle=True, solver='adam', tol=0.0001, validation_fraction=0.1,\n",
       "       verbose=False, warm_start=False)"
      ]
     },
     "execution_count": 42,
     "metadata": {},
     "output_type": "execute_result"
    }
   ],
   "source": [
    "model_pctr.fit(X_train, y_train)"
   ]
  },
  {
   "cell_type": "code",
   "execution_count": 43,
   "metadata": {},
   "outputs": [
    {
     "data": {
      "text/plain": [
       "0.85"
      ]
     },
     "execution_count": 43,
     "metadata": {},
     "output_type": "execute_result"
    }
   ],
   "source": [
    "model_pctr.score(X_test, y_test)"
   ]
  },
  {
   "cell_type": "code",
   "execution_count": 44,
   "metadata": {},
   "outputs": [
    {
     "data": {
      "text/plain": [
       "0.8"
      ]
     },
     "execution_count": 44,
     "metadata": {},
     "output_type": "execute_result"
    }
   ],
   "source": [
    "model_pctr.score(X_train, y_train)"
   ]
  },
  {
   "cell_type": "code",
   "execution_count": 69,
   "metadata": {},
   "outputs": [],
   "source": [
    "model_pctr2 = MLPClassifier(hidden_layer_sizes=(10, 5),\n",
    "                          max_iter=20000,\n",
    "                          learning_rate_init=0.01\n",
    "                           ).fit(X_train, y_train)"
   ]
  },
  {
   "cell_type": "code",
   "execution_count": 70,
   "metadata": {},
   "outputs": [
    {
     "data": {
      "text/plain": [
       "0.9"
      ]
     },
     "execution_count": 70,
     "metadata": {},
     "output_type": "execute_result"
    }
   ],
   "source": [
    "model_pctr2.score(X_test, y_test)"
   ]
  },
  {
   "cell_type": "code",
   "execution_count": 71,
   "metadata": {},
   "outputs": [
    {
     "data": {
      "text/plain": [
       "1.0"
      ]
     },
     "execution_count": 71,
     "metadata": {},
     "output_type": "execute_result"
    }
   ],
   "source": [
    "model_pctr2.score(X_train, y_train)"
   ]
  },
  {
   "cell_type": "markdown",
   "metadata": {},
   "source": [
    "#### parameter \n",
    "- activation  \n",
    "1) default : relu  \n",
    "2) logistic  \n",
    "3) tanh (sigmoid 일종)  \n",
    "4) indentity : linear  \n",
    "  \n",
    "- solver   \n",
    "1) default : adam  \n",
    "2) lbfgs   \n",
    "3) sgd : stochastic(확률적) gradient decent  \n",
    "  \n",
    "- alpha : l2 norm 규제 정도 (Ridge regression과 동일)\n",
    "  \n",
    "- tol : cost 가 학습을 멈추는 기준 값 (cost = tol 이 될때까지)\n",
    "  \n",
    "- max_iter : optimizing 최대 반복 수"
   ]
  },
  {
   "cell_type": "code",
   "execution_count": 73,
   "metadata": {},
   "outputs": [
    {
     "data": {
      "text/plain": [
       "[array([[ 0.55506995,  0.99916568,  1.43663549,  1.02518899,  1.28394542,\n",
       "         -1.10103559,  0.90847177, -2.07231787,  2.23075626, -1.5363614 ],\n",
       "        [ 0.41545721, -0.29532929, -1.23936685, -1.58365901,  1.10455756,\n",
       "         -1.64564475, -0.20490114,  0.33268444,  2.01818014,  1.72511101]]),\n",
       " array([[ 3.42668088e-01, -9.36307091e-01,  3.06353915e-01,\n",
       "         -5.23451936e-01, -3.65154067e-01],\n",
       "        [ 8.05118329e-01,  1.02957550e+00,  5.88588060e-01,\n",
       "         -1.70343079e-01, -8.33611074e-02],\n",
       "        [-9.82087550e-01,  1.65230294e+00,  7.56492279e-01,\n",
       "          3.89448985e-02,  2.91729878e-01],\n",
       "        [ 1.22408928e+00,  1.51670085e+00,  1.53949353e+00,\n",
       "          2.18014580e-01, -7.96816255e-01],\n",
       "        [ 1.61433184e+00, -6.13917654e-01, -9.77455921e-01,\n",
       "         -6.61579092e-01,  1.08678445e-02],\n",
       "        [ 2.07981282e+00, -1.74183210e+00, -1.23310743e-01,\n",
       "         -6.93436815e-01, -8.27285456e-01],\n",
       "        [ 3.21879237e-01,  7.16579373e-01,  6.08049904e-01,\n",
       "          2.85803915e-01,  2.59374169e-01],\n",
       "        [ 1.19955503e+00,  3.54874311e-01, -1.14646424e+00,\n",
       "          1.10829675e-02,  5.05728416e-01],\n",
       "        [ 1.50712287e+00, -1.01425593e+00, -1.20252656e+00,\n",
       "         -3.00649755e-01, -5.30975368e-01],\n",
       "        [-1.51547229e+00,  2.04911822e+00, -5.57473379e-02,\n",
       "          1.27093506e-07,  9.49277092e-01]]),\n",
       " array([[-1.18333913],\n",
       "        [ 2.21962553],\n",
       "        [ 1.21402422],\n",
       "        [-0.59570609],\n",
       "        [ 1.15276453]])]"
      ]
     },
     "execution_count": 73,
     "metadata": {},
     "output_type": "execute_result"
    }
   ],
   "source": [
    "model_pctr2.coefs_"
   ]
  },
  {
   "cell_type": "code",
   "execution_count": 102,
   "metadata": {},
   "outputs": [
    {
     "data": {
      "text/plain": [
       "3"
      ]
     },
     "execution_count": 102,
     "metadata": {},
     "output_type": "execute_result"
    }
   ],
   "source": [
    "len(model_pctr2.coefs_)"
   ]
  },
  {
   "cell_type": "code",
   "execution_count": 74,
   "metadata": {
    "scrolled": true
   },
   "outputs": [
    {
     "name": "stdout",
     "output_type": "stream",
     "text": [
      "hidden_layer_0_weight_no: (2, 10)\n",
      "hidden_layer_1_weight_no: (10, 5)\n",
      "hidden_layer_2_weight_no: (5, 1)\n"
     ]
    }
   ],
   "source": [
    "#각 층의 coef 개수\n",
    "for i, coef in enumerate(model_pctr2.coefs_):\n",
    "    print('hidden_layer_{}_weight_no: {}'.format(i, coef.shape))"
   ]
  },
  {
   "cell_type": "code",
   "execution_count": 75,
   "metadata": {},
   "outputs": [
    {
     "data": {
      "text/plain": [
       "[array([-0.07023916,  0.52369775, -0.03541653,  0.49867073,  0.07079481,\n",
       "         0.52160875,  0.35798812,  0.93022631, -0.38767488,  0.01016067]),\n",
       " array([ 0.4181211 , -0.30701692,  0.20364088, -0.48652919,  0.02258794]),\n",
       " array([0.09421476])]"
      ]
     },
     "execution_count": 75,
     "metadata": {},
     "output_type": "execute_result"
    }
   ],
   "source": [
    "model_pctr2.intercepts_"
   ]
  },
  {
   "cell_type": "code",
   "execution_count": 76,
   "metadata": {},
   "outputs": [
    {
     "name": "stdout",
     "output_type": "stream",
     "text": [
      "hidden_layer_0_weight_no: (10,)\n",
      "hidden_layer_1_weight_no: (5,)\n",
      "hidden_layer_2_weight_no: (1,)\n"
     ]
    }
   ],
   "source": [
    "#각 층의 bias 개수\n",
    "for i, bias in enumerate(model_pctr2.intercepts_):\n",
    "    print('hidden_layer_{}_weight_no: {}'.format(i, bias.shape))"
   ]
  },
  {
   "cell_type": "code",
   "execution_count": 77,
   "metadata": {},
   "outputs": [
    {
     "data": {
      "text/plain": [
       "295"
      ]
     },
     "execution_count": 77,
     "metadata": {},
     "output_type": "execute_result"
    }
   ],
   "source": [
    "#학습하는 동안 optimization 반복 횟수\n",
    "model_pctr2.n_iter_"
   ]
  },
  {
   "cell_type": "code",
   "execution_count": 79,
   "metadata": {},
   "outputs": [
    {
     "data": {
      "text/plain": [
       "4"
      ]
     },
     "execution_count": 79,
     "metadata": {},
     "output_type": "execute_result"
    }
   ],
   "source": [
    "#layer 개수\n",
    "model_pctr2.n_layers_"
   ]
  },
  {
   "cell_type": "code",
   "execution_count": 80,
   "metadata": {
    "scrolled": true
   },
   "outputs": [
    {
     "data": {
      "text/plain": [
       "1"
      ]
     },
     "execution_count": 80,
     "metadata": {},
     "output_type": "execute_result"
    }
   ],
   "source": [
    "#output node 수\n",
    "model_pctr2.n_outputs_"
   ]
  },
  {
   "cell_type": "code",
   "execution_count": 81,
   "metadata": {},
   "outputs": [],
   "source": [
    "#graph, dataset 확장 패키지\n",
    "import mglearn\n",
    "\n",
    "def result_visualization(model, X, y):\n",
    "    mglearn.plots.plot_2d_separator(model, X,\n",
    "                                    fill=True, alpha=.1)\n",
    "    mglearn.discrete_scatter(X[:, 0], X[:, 1], y)"
   ]
  },
  {
   "cell_type": "code",
   "execution_count": 85,
   "metadata": {},
   "outputs": [
    {
     "data": {
      "image/png": "[encoded data removed]",
      "text/plain": [
       "<matplotlib.figure.Figure at 0x14dfe2c8908>"
      ]
     },
     "metadata": {},
     "output_type": "display_data"
    }
   ],
   "source": [
    "model_1 = MLPClassifier(hidden_layer_sizes=(10, 5),\n",
    "                        max_iter=20000,\n",
    "                        learning_rate_init=0.01).fit(X_train,\n",
    "                                                          y_train)\n",
    "result_visualization(model_1, X_train, y_train)"
   ]
  },
  {
   "cell_type": "markdown",
   "metadata": {},
   "source": [
    "parameter를 바꿔가며 결과를 시각화해서 비교해보자."
   ]
  },
  {
   "cell_type": "code",
   "execution_count": 86,
   "metadata": {},
   "outputs": [
    {
     "data": {
      "image/png": "[encoded data removed]",
      "text/plain": [
       "<matplotlib.figure.Figure at 0x14dff2b8a90>"
      ]
     },
     "metadata": {},
     "output_type": "display_data"
    }
   ],
   "source": [
    "model_2 = MLPClassifier(hidden_layer_sizes=(10, 5),\n",
    "                        max_iter=20000,\n",
    "                        learning_rate_init=0.01,\n",
    "                     activation='tanh').fit(X_train, y_train)\n",
    "result_visualization(model_2, X_train, y_train)"
   ]
  },
  {
   "cell_type": "markdown",
   "metadata": {},
   "source": [
    "relu 와 tanh의 비교\n",
    "- tanh 의 decision boundary 가 더 부드럽다."
   ]
  },
  {
   "cell_type": "markdown",
   "metadata": {},
   "source": [
    "- relu의 decision boundary를 부드럽게 만들고 싶다면?   \n",
    "층과 층의 노드 수를 늘리자. "
   ]
  },
  {
   "cell_type": "code",
   "execution_count": 89,
   "metadata": {},
   "outputs": [
    {
     "data": {
      "image/png": "[encoded data removed]",
      "text/plain": [
       "<matplotlib.figure.Figure at 0x14dff538588>"
      ]
     },
     "metadata": {},
     "output_type": "display_data"
    }
   ],
   "source": [
    "model_3 = MLPClassifier(hidden_layer_sizes=(10, 10, 5),\n",
    "                        max_iter=20000,\n",
    "                        learning_rate_init=0.01).fit(X_train,\n",
    "                                                          y_train)\n",
    "result_visualization(model_3, X_train, y_train)"
   ]
  },
  {
   "cell_type": "code",
   "execution_count": 90,
   "metadata": {},
   "outputs": [
    {
     "data": {
      "image/png": "[encoded data removed]",
      "text/plain": [
       "<matplotlib.figure.Figure at 0x14dff461198>"
      ]
     },
     "metadata": {},
     "output_type": "display_data"
    }
   ],
   "source": [
    "model_4 = MLPClassifier(hidden_layer_sizes=(10, 10, 5),\n",
    "                        max_iter=20000,\n",
    "                        learning_rate_init=0.01,\n",
    "                       activation='logistic').fit(X_train, y_train)\n",
    "result_visualization(model_4, X_train, y_train)"
   ]
  },
  {
   "cell_type": "code",
   "execution_count": 91,
   "metadata": {},
   "outputs": [
    {
     "data": {
      "image/png": "[encoded data removed]",
      "text/plain": [
       "<matplotlib.figure.Figure at 0x14dff29b828>"
      ]
     },
     "metadata": {},
     "output_type": "display_data"
    }
   ],
   "source": [
    "model_5 = MLPClassifier(hidden_layer_sizes=(10, 10, 5),\n",
    "                        max_iter=20000,\n",
    "                        learning_rate_init=0.01,\n",
    "                       activation='logistic',\n",
    "                       solver='lbfgs').fit(X_train, y_train)\n",
    "result_visualization(model_5, X_train, y_train)"
   ]
  },
  {
   "cell_type": "markdown",
   "metadata": {},
   "source": [
    "activation을 logistic으로 할때는 \n",
    "solver가 adam보다 lbfgs가 더 낫다."
   ]
  },
  {
   "cell_type": "code",
   "execution_count": 92,
   "metadata": {},
   "outputs": [
    {
     "data": {
      "image/png": "[encoded data removed]",
      "text/plain": [
       "<matplotlib.figure.Figure at 0x14d800a0240>"
      ]
     },
     "metadata": {},
     "output_type": "display_data"
    }
   ],
   "source": [
    "model_6 = MLPClassifier(hidden_layer_sizes=(10),\n",
    "                        max_iter=20000,\n",
    "                        learning_rate_init=0.01,\n",
    "                       activation='relu',\n",
    "                       alpha=1).fit(X_train, y_train)\n",
    "result_visualization(model_6, X_train, y_train)"
   ]
  },
  {
   "cell_type": "code",
   "execution_count": 94,
   "metadata": {},
   "outputs": [
    {
     "name": "stderr",
     "output_type": "stream",
     "text": [
      "C:\\ProgramData\\Anaconda3\\lib\\site-packages\\sklearn\\neural_network\\multilayer_perceptron.py:564: ConvergenceWarning: Stochastic Optimizer: Maximum iterations (200) reached and the optimization hasn't converged yet.\n",
      "  % self.max_iter, ConvergenceWarning)\n"
     ]
    },
    {
     "data": {
      "image/png": "[encoded data removed]",
      "text/plain": [
       "<matplotlib.figure.Figure at 0x14d80031c50>"
      ]
     },
     "metadata": {},
     "output_type": "display_data"
    }
   ],
   "source": [
    "model_6 = MLPClassifier(hidden_layer_sizes=(10),\n",
    "                       activation='relu',\n",
    "                       alpha=10).fit(X_train, y_train)\n",
    "result_visualization(model_6, X_train, y_train)"
   ]
  },
  {
   "cell_type": "code",
   "execution_count": 95,
   "metadata": {},
   "outputs": [
    {
     "name": "stderr",
     "output_type": "stream",
     "text": [
      "C:\\ProgramData\\Anaconda3\\lib\\site-packages\\sklearn\\neural_network\\multilayer_perceptron.py:564: ConvergenceWarning: Stochastic Optimizer: Maximum iterations (200) reached and the optimization hasn't converged yet.\n",
      "  % self.max_iter, ConvergenceWarning)\n"
     ]
    },
    {
     "data": {
      "image/png": "[encoded data removed]",
      "text/plain": [
       "<matplotlib.figure.Figure at 0x14d80166a90>"
      ]
     },
     "metadata": {},
     "output_type": "display_data"
    }
   ],
   "source": [
    "model_6 = MLPClassifier(hidden_layer_sizes=(10),\n",
    "                       activation='relu',\n",
    "                       alpha=100).fit(X_train, y_train)\n",
    "result_visualization(model_6, X_train, y_train)"
   ]
  },
  {
   "cell_type": "markdown",
   "metadata": {},
   "source": [
    "alpha를 크게 줄 수록 (규제를 강하게 할 수록)  \n",
    "decision boundary는 각이 진다."
   ]
  }
 ],
 "metadata": {
  "kernelspec": {
   "display_name": "Python 3",
   "language": "python",
   "name": "python3"
  },
  "language_info": {
   "codemirror_mode": {
    "name": "ipython",
    "version": 3
   },
   "file_extension": ".py",
   "mimetype": "text/x-python",
   "name": "python",
   "nbconvert_exporter": "python",
   "pygments_lexer": "ipython3",
   "version": "3.6.4"
  }
 },
 "nbformat": 4,
 "nbformat_minor": 2
}
