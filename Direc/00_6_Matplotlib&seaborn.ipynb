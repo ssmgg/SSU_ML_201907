{
 "cells": [
  {
   "cell_type": "markdown",
   "metadata": {},
   "source": [
    "## Matplotlib & Seaborn"
   ]
  },
  {
   "cell_type": "markdown",
   "metadata": {},
   "source": [
    "### T0_1_Titanic Survivor Prediction_EDA\n",
    "\n",
    "### 출처 : https://www.kaggle.com/startupsci/titanic-data-science-solutions"
   ]
  },
  {
   "cell_type": "code",
   "execution_count": 28,
   "metadata": {},
   "outputs": [],
   "source": [
    "# data analysis and wrangling\n",
    "import pandas as pd\n",
    "import numpy as np\n",
    "\n",
    "# visualization\n",
    "import seaborn as sns\n",
    "import matplotlib.pyplot as plt\n",
    "%matplotlib inline\n",
    "\n",
    "from sklearn.linear_model import LogisticRegression\n",
    "from sklearn.svm import SVC, LinearSVC"
   ]
  },
  {
   "cell_type": "code",
   "execution_count": 81,
   "metadata": {},
   "outputs": [
    {
     "data": {
      "text/plain": [
       "[     PassengerId  Survived  Pclass  \\\n",
       " 0              1         0       3   \n",
       " 1              2         1       1   \n",
       " 2              3         1       3   \n",
       " 3              4         1       1   \n",
       " 4              5         0       3   \n",
       " 5              6         0       3   \n",
       " 6              7         0       1   \n",
       " 7              8         0       3   \n",
       " 8              9         1       3   \n",
       " 9             10         1       2   \n",
       " 10            11         1       3   \n",
       " 11            12         1       1   \n",
       " 12            13         0       3   \n",
       " 13            14         0       3   \n",
       " 14            15         0       3   \n",
       " 15            16         1       2   \n",
       " 16            17         0       3   \n",
       " 17            18         1       2   \n",
       " 18            19         0       3   \n",
       " 19            20         1       3   \n",
       " 20            21         0       2   \n",
       " 21            22         1       2   \n",
       " 22            23         1       3   \n",
       " 23            24         1       1   \n",
       " 24            25         0       3   \n",
       " 25            26         1       3   \n",
       " 26            27         0       3   \n",
       " 27            28         0       1   \n",
       " 28            29         1       3   \n",
       " 29            30         0       3   \n",
       " ..           ...       ...     ...   \n",
       " 861          862         0       2   \n",
       " 862          863         1       1   \n",
       " 863          864         0       3   \n",
       " 864          865         0       2   \n",
       " 865          866         1       2   \n",
       " 866          867         1       2   \n",
       " 867          868         0       1   \n",
       " 868          869         0       3   \n",
       " 869          870         1       3   \n",
       " 870          871         0       3   \n",
       " 871          872         1       1   \n",
       " 872          873         0       1   \n",
       " 873          874         0       3   \n",
       " 874          875         1       2   \n",
       " 875          876         1       3   \n",
       " 876          877         0       3   \n",
       " 877          878         0       3   \n",
       " 878          879         0       3   \n",
       " 879          880         1       1   \n",
       " 880          881         1       2   \n",
       " 881          882         0       3   \n",
       " 882          883         0       3   \n",
       " 883          884         0       2   \n",
       " 884          885         0       3   \n",
       " 885          886         0       3   \n",
       " 886          887         0       2   \n",
       " 887          888         1       1   \n",
       " 888          889         0       3   \n",
       " 889          890         1       1   \n",
       " 890          891         0       3   \n",
       " \n",
       "                                                   Name     Sex   Age  SibSp  \\\n",
       " 0                              Braund, Mr. Owen Harris    male  22.0      1   \n",
       " 1    Cumings, Mrs. John Bradley (Florence Briggs Th...  female  38.0      1   \n",
       " 2                               Heikkinen, Miss. Laina  female  26.0      0   \n",
       " 3         Futrelle, Mrs. Jacques Heath (Lily May Peel)  female  35.0      1   \n",
       " 4                             Allen, Mr. William Henry    male  35.0      0   \n",
       " 5                                     Moran, Mr. James    male   NaN      0   \n",
       " 6                              McCarthy, Mr. Timothy J    male  54.0      0   \n",
       " 7                       Palsson, Master. Gosta Leonard    male   2.0      3   \n",
       " 8    Johnson, Mrs. Oscar W (Elisabeth Vilhelmina Berg)  female  27.0      0   \n",
       " 9                  Nasser, Mrs. Nicholas (Adele Achem)  female  14.0      1   \n",
       " 10                     Sandstrom, Miss. Marguerite Rut  female   4.0      1   \n",
       " 11                            Bonnell, Miss. Elizabeth  female  58.0      0   \n",
       " 12                      Saundercock, Mr. William Henry    male  20.0      0   \n",
       " 13                         Andersson, Mr. Anders Johan    male  39.0      1   \n",
       " 14                Vestrom, Miss. Hulda Amanda Adolfina  female  14.0      0   \n",
       " 15                    Hewlett, Mrs. (Mary D Kingcome)   female  55.0      0   \n",
       " 16                                Rice, Master. Eugene    male   2.0      4   \n",
       " 17                        Williams, Mr. Charles Eugene    male   NaN      0   \n",
       " 18   Vander Planke, Mrs. Julius (Emelia Maria Vande...  female  31.0      1   \n",
       " 19                             Masselmani, Mrs. Fatima  female   NaN      0   \n",
       " 20                                Fynney, Mr. Joseph J    male  35.0      0   \n",
       " 21                               Beesley, Mr. Lawrence    male  34.0      0   \n",
       " 22                         McGowan, Miss. Anna \"Annie\"  female  15.0      0   \n",
       " 23                        Sloper, Mr. William Thompson    male  28.0      0   \n",
       " 24                       Palsson, Miss. Torborg Danira  female   8.0      3   \n",
       " 25   Asplund, Mrs. Carl Oscar (Selma Augusta Emilia...  female  38.0      1   \n",
       " 26                             Emir, Mr. Farred Chehab    male   NaN      0   \n",
       " 27                      Fortune, Mr. Charles Alexander    male  19.0      3   \n",
       " 28                       O'Dwyer, Miss. Ellen \"Nellie\"  female   NaN      0   \n",
       " 29                                 Todoroff, Mr. Lalio    male   NaN      0   \n",
       " ..                                                 ...     ...   ...    ...   \n",
       " 861                        Giles, Mr. Frederick Edward    male  21.0      1   \n",
       " 862  Swift, Mrs. Frederick Joel (Margaret Welles Ba...  female  48.0      0   \n",
       " 863                  Sage, Miss. Dorothy Edith \"Dolly\"  female   NaN      8   \n",
       " 864                             Gill, Mr. John William    male  24.0      0   \n",
       " 865                           Bystrom, Mrs. (Karolina)  female  42.0      0   \n",
       " 866                       Duran y More, Miss. Asuncion  female  27.0      1   \n",
       " 867               Roebling, Mr. Washington Augustus II    male  31.0      0   \n",
       " 868                        van Melkebeke, Mr. Philemon    male   NaN      0   \n",
       " 869                    Johnson, Master. Harold Theodor    male   4.0      1   \n",
       " 870                                  Balkic, Mr. Cerin    male  26.0      0   \n",
       " 871   Beckwith, Mrs. Richard Leonard (Sallie Monypeny)  female  47.0      1   \n",
       " 872                           Carlsson, Mr. Frans Olof    male  33.0      0   \n",
       " 873                        Vander Cruyssen, Mr. Victor    male  47.0      0   \n",
       " 874              Abelson, Mrs. Samuel (Hannah Wizosky)  female  28.0      1   \n",
       " 875                   Najib, Miss. Adele Kiamie \"Jane\"  female  15.0      0   \n",
       " 876                      Gustafsson, Mr. Alfred Ossian    male  20.0      0   \n",
       " 877                               Petroff, Mr. Nedelio    male  19.0      0   \n",
       " 878                                 Laleff, Mr. Kristo    male   NaN      0   \n",
       " 879      Potter, Mrs. Thomas Jr (Lily Alexenia Wilson)  female  56.0      0   \n",
       " 880       Shelley, Mrs. William (Imanita Parrish Hall)  female  25.0      0   \n",
       " 881                                 Markun, Mr. Johann    male  33.0      0   \n",
       " 882                       Dahlberg, Miss. Gerda Ulrika  female  22.0      0   \n",
       " 883                      Banfield, Mr. Frederick James    male  28.0      0   \n",
       " 884                             Sutehall, Mr. Henry Jr    male  25.0      0   \n",
       " 885               Rice, Mrs. William (Margaret Norton)  female  39.0      0   \n",
       " 886                              Montvila, Rev. Juozas    male  27.0      0   \n",
       " 887                       Graham, Miss. Margaret Edith  female  19.0      0   \n",
       " 888           Johnston, Miss. Catherine Helen \"Carrie\"  female   NaN      1   \n",
       " 889                              Behr, Mr. Karl Howell    male  26.0      0   \n",
       " 890                                Dooley, Mr. Patrick    male  32.0      0   \n",
       " \n",
       "      Parch            Ticket      Fare        Cabin Embarked  \n",
       " 0        0         A/5 21171    7.2500          NaN        S  \n",
       " 1        0          PC 17599   71.2833          C85        C  \n",
       " 2        0  STON/O2. 3101282    7.9250          NaN        S  \n",
       " 3        0            113803   53.1000         C123        S  \n",
       " 4        0            373450    8.0500          NaN        S  \n",
       " 5        0            330877    8.4583          NaN        Q  \n",
       " 6        0             17463   51.8625          E46        S  \n",
       " 7        1            349909   21.0750          NaN        S  \n",
       " 8        2            347742   11.1333          NaN        S  \n",
       " 9        0            237736   30.0708          NaN        C  \n",
       " 10       1           PP 9549   16.7000           G6        S  \n",
       " 11       0            113783   26.5500         C103        S  \n",
       " 12       0         A/5. 2151    8.0500          NaN        S  \n",
       " 13       5            347082   31.2750          NaN        S  \n",
       " 14       0            350406    7.8542          NaN        S  \n",
       " 15       0            248706   16.0000          NaN        S  \n",
       " 16       1            382652   29.1250          NaN        Q  \n",
       " 17       0            244373   13.0000          NaN        S  \n",
       " 18       0            345763   18.0000          NaN        S  \n",
       " 19       0              2649    7.2250          NaN        C  \n",
       " 20       0            239865   26.0000          NaN        S  \n",
       " 21       0            248698   13.0000          D56        S  \n",
       " 22       0            330923    8.0292          NaN        Q  \n",
       " 23       0            113788   35.5000           A6        S  \n",
       " 24       1            349909   21.0750          NaN        S  \n",
       " 25       5            347077   31.3875          NaN        S  \n",
       " 26       0              2631    7.2250          NaN        C  \n",
       " 27       2             19950  263.0000  C23 C25 C27        S  \n",
       " 28       0            330959    7.8792          NaN        Q  \n",
       " 29       0            349216    7.8958          NaN        S  \n",
       " ..     ...               ...       ...          ...      ...  \n",
       " 861      0             28134   11.5000          NaN        S  \n",
       " 862      0             17466   25.9292          D17        S  \n",
       " 863      2          CA. 2343   69.5500          NaN        S  \n",
       " 864      0            233866   13.0000          NaN        S  \n",
       " 865      0            236852   13.0000          NaN        S  \n",
       " 866      0     SC/PARIS 2149   13.8583          NaN        C  \n",
       " 867      0          PC 17590   50.4958          A24        S  \n",
       " 868      0            345777    9.5000          NaN        S  \n",
       " 869      1            347742   11.1333          NaN        S  \n",
       " 870      0            349248    7.8958          NaN        S  \n",
       " 871      1             11751   52.5542          D35        S  \n",
       " 872      0               695    5.0000  B51 B53 B55        S  \n",
       " 873      0            345765    9.0000          NaN        S  \n",
       " 874      0         P/PP 3381   24.0000          NaN        C  \n",
       " 875      0              2667    7.2250          NaN        C  \n",
       " 876      0              7534    9.8458          NaN        S  \n",
       " 877      0            349212    7.8958          NaN        S  \n",
       " 878      0            349217    7.8958          NaN        S  \n",
       " 879      1             11767   83.1583          C50        C  \n",
       " 880      1            230433   26.0000          NaN        S  \n",
       " 881      0            349257    7.8958          NaN        S  \n",
       " 882      0              7552   10.5167          NaN        S  \n",
       " 883      0  C.A./SOTON 34068   10.5000          NaN        S  \n",
       " 884      0   SOTON/OQ 392076    7.0500          NaN        S  \n",
       " 885      5            382652   29.1250          NaN        Q  \n",
       " 886      0            211536   13.0000          NaN        S  \n",
       " 887      0            112053   30.0000          B42        S  \n",
       " 888      2        W./C. 6607   23.4500          NaN        S  \n",
       " 889      0            111369   30.0000         C148        C  \n",
       " 890      0            370376    7.7500          NaN        Q  \n",
       " \n",
       " [891 rows x 12 columns],\n",
       "      PassengerId  Pclass                                               Name  \\\n",
       " 0            892       3                                   Kelly, Mr. James   \n",
       " 1            893       3                   Wilkes, Mrs. James (Ellen Needs)   \n",
       " 2            894       2                          Myles, Mr. Thomas Francis   \n",
       " 3            895       3                                   Wirz, Mr. Albert   \n",
       " 4            896       3       Hirvonen, Mrs. Alexander (Helga E Lindqvist)   \n",
       " 5            897       3                         Svensson, Mr. Johan Cervin   \n",
       " 6            898       3                               Connolly, Miss. Kate   \n",
       " 7            899       2                       Caldwell, Mr. Albert Francis   \n",
       " 8            900       3          Abrahim, Mrs. Joseph (Sophie Halaut Easu)   \n",
       " 9            901       3                            Davies, Mr. John Samuel   \n",
       " 10           902       3                                   Ilieff, Mr. Ylio   \n",
       " 11           903       1                         Jones, Mr. Charles Cresson   \n",
       " 12           904       1      Snyder, Mrs. John Pillsbury (Nelle Stevenson)   \n",
       " 13           905       2                               Howard, Mr. Benjamin   \n",
       " 14           906       1  Chaffee, Mrs. Herbert Fuller (Carrie Constance...   \n",
       " 15           907       2      del Carlo, Mrs. Sebastiano (Argenia Genovesi)   \n",
       " 16           908       2                                  Keane, Mr. Daniel   \n",
       " 17           909       3                                  Assaf, Mr. Gerios   \n",
       " 18           910       3                       Ilmakangas, Miss. Ida Livija   \n",
       " 19           911       3              Assaf Khalil, Mrs. Mariana (Miriam\")\"   \n",
       " 20           912       1                             Rothschild, Mr. Martin   \n",
       " 21           913       3                          Olsen, Master. Artur Karl   \n",
       " 22           914       1               Flegenheim, Mrs. Alfred (Antoinette)   \n",
       " 23           915       1                    Williams, Mr. Richard Norris II   \n",
       " 24           916       1    Ryerson, Mrs. Arthur Larned (Emily Maria Borie)   \n",
       " 25           917       3                            Robins, Mr. Alexander A   \n",
       " 26           918       1                       Ostby, Miss. Helene Ragnhild   \n",
       " 27           919       3                                  Daher, Mr. Shedid   \n",
       " 28           920       1                            Brady, Mr. John Bertram   \n",
       " 29           921       3                                  Samaan, Mr. Elias   \n",
       " ..           ...     ...                                                ...   \n",
       " 388         1280       3                               Canavan, Mr. Patrick   \n",
       " 389         1281       3                        Palsson, Master. Paul Folke   \n",
       " 390         1282       1                         Payne, Mr. Vivian Ponsonby   \n",
       " 391         1283       1     Lines, Mrs. Ernest H (Elizabeth Lindsey James)   \n",
       " 392         1284       3                      Abbott, Master. Eugene Joseph   \n",
       " 393         1285       2                               Gilbert, Mr. William   \n",
       " 394         1286       3                           Kink-Heilmann, Mr. Anton   \n",
       " 395         1287       1     Smith, Mrs. Lucien Philip (Mary Eloise Hughes)   \n",
       " 396         1288       3                               Colbert, Mr. Patrick   \n",
       " 397         1289       1  Frolicher-Stehli, Mrs. Maxmillian (Margaretha ...   \n",
       " 398         1290       3                     Larsson-Rondberg, Mr. Edvard A   \n",
       " 399         1291       3                           Conlon, Mr. Thomas Henry   \n",
       " 400         1292       1                            Bonnell, Miss. Caroline   \n",
       " 401         1293       2                                    Gale, Mr. Harry   \n",
       " 402         1294       1                     Gibson, Miss. Dorothy Winifred   \n",
       " 403         1295       1                             Carrau, Mr. Jose Pedro   \n",
       " 404         1296       1                       Frauenthal, Mr. Isaac Gerald   \n",
       " 405         1297       2       Nourney, Mr. Alfred (Baron von Drachstedt\")\"   \n",
       " 406         1298       2                          Ware, Mr. William Jeffery   \n",
       " 407         1299       1                         Widener, Mr. George Dunton   \n",
       " 408         1300       3                    Riordan, Miss. Johanna Hannah\"\"   \n",
       " 409         1301       3                          Peacock, Miss. Treasteall   \n",
       " 410         1302       3                             Naughton, Miss. Hannah   \n",
       " 411         1303       1    Minahan, Mrs. William Edward (Lillian E Thorpe)   \n",
       " 412         1304       3                     Henriksson, Miss. Jenny Lovisa   \n",
       " 413         1305       3                                 Spector, Mr. Woolf   \n",
       " 414         1306       1                       Oliva y Ocana, Dona. Fermina   \n",
       " 415         1307       3                       Saether, Mr. Simon Sivertsen   \n",
       " 416         1308       3                                Ware, Mr. Frederick   \n",
       " 417         1309       3                           Peter, Master. Michael J   \n",
       " \n",
       "         Sex   Age  SibSp  Parch              Ticket      Fare  \\\n",
       " 0      male  34.5      0      0              330911    7.8292   \n",
       " 1    female  47.0      1      0              363272    7.0000   \n",
       " 2      male  62.0      0      0              240276    9.6875   \n",
       " 3      male  27.0      0      0              315154    8.6625   \n",
       " 4    female  22.0      1      1             3101298   12.2875   \n",
       " 5      male  14.0      0      0                7538    9.2250   \n",
       " 6    female  30.0      0      0              330972    7.6292   \n",
       " 7      male  26.0      1      1              248738   29.0000   \n",
       " 8    female  18.0      0      0                2657    7.2292   \n",
       " 9      male  21.0      2      0           A/4 48871   24.1500   \n",
       " 10     male   NaN      0      0              349220    7.8958   \n",
       " 11     male  46.0      0      0                 694   26.0000   \n",
       " 12   female  23.0      1      0               21228   82.2667   \n",
       " 13     male  63.0      1      0               24065   26.0000   \n",
       " 14   female  47.0      1      0         W.E.P. 5734   61.1750   \n",
       " 15   female  24.0      1      0       SC/PARIS 2167   27.7208   \n",
       " 16     male  35.0      0      0              233734   12.3500   \n",
       " 17     male  21.0      0      0                2692    7.2250   \n",
       " 18   female  27.0      1      0    STON/O2. 3101270    7.9250   \n",
       " 19   female  45.0      0      0                2696    7.2250   \n",
       " 20     male  55.0      1      0            PC 17603   59.4000   \n",
       " 21     male   9.0      0      1             C 17368    3.1708   \n",
       " 22   female   NaN      0      0            PC 17598   31.6833   \n",
       " 23     male  21.0      0      1            PC 17597   61.3792   \n",
       " 24   female  48.0      1      3            PC 17608  262.3750   \n",
       " 25     male  50.0      1      0           A/5. 3337   14.5000   \n",
       " 26   female  22.0      0      1              113509   61.9792   \n",
       " 27     male  22.5      0      0                2698    7.2250   \n",
       " 28     male  41.0      0      0              113054   30.5000   \n",
       " 29     male   NaN      2      0                2662   21.6792   \n",
       " ..      ...   ...    ...    ...                 ...       ...   \n",
       " 388    male  21.0      0      0              364858    7.7500   \n",
       " 389    male   6.0      3      1              349909   21.0750   \n",
       " 390    male  23.0      0      0               12749   93.5000   \n",
       " 391  female  51.0      0      1            PC 17592   39.4000   \n",
       " 392    male  13.0      0      2           C.A. 2673   20.2500   \n",
       " 393    male  47.0      0      0          C.A. 30769   10.5000   \n",
       " 394    male  29.0      3      1              315153   22.0250   \n",
       " 395  female  18.0      1      0               13695   60.0000   \n",
       " 396    male  24.0      0      0              371109    7.2500   \n",
       " 397  female  48.0      1      1               13567   79.2000   \n",
       " 398    male  22.0      0      0              347065    7.7750   \n",
       " 399    male  31.0      0      0               21332    7.7333   \n",
       " 400  female  30.0      0      0               36928  164.8667   \n",
       " 401    male  38.0      1      0               28664   21.0000   \n",
       " 402  female  22.0      0      1              112378   59.4000   \n",
       " 403    male  17.0      0      0              113059   47.1000   \n",
       " 404    male  43.0      1      0               17765   27.7208   \n",
       " 405    male  20.0      0      0       SC/PARIS 2166   13.8625   \n",
       " 406    male  23.0      1      0               28666   10.5000   \n",
       " 407    male  50.0      1      1              113503  211.5000   \n",
       " 408  female   NaN      0      0              334915    7.7208   \n",
       " 409  female   3.0      1      1  SOTON/O.Q. 3101315   13.7750   \n",
       " 410  female   NaN      0      0              365237    7.7500   \n",
       " 411  female  37.0      1      0               19928   90.0000   \n",
       " 412  female  28.0      0      0              347086    7.7750   \n",
       " 413    male   NaN      0      0           A.5. 3236    8.0500   \n",
       " 414  female  39.0      0      0            PC 17758  108.9000   \n",
       " 415    male  38.5      0      0  SOTON/O.Q. 3101262    7.2500   \n",
       " 416    male   NaN      0      0              359309    8.0500   \n",
       " 417    male   NaN      1      1                2668   22.3583   \n",
       " \n",
       "                Cabin Embarked  \n",
       " 0                NaN        Q  \n",
       " 1                NaN        S  \n",
       " 2                NaN        Q  \n",
       " 3                NaN        S  \n",
       " 4                NaN        S  \n",
       " 5                NaN        S  \n",
       " 6                NaN        Q  \n",
       " 7                NaN        S  \n",
       " 8                NaN        C  \n",
       " 9                NaN        S  \n",
       " 10               NaN        S  \n",
       " 11               NaN        S  \n",
       " 12               B45        S  \n",
       " 13               NaN        S  \n",
       " 14               E31        S  \n",
       " 15               NaN        C  \n",
       " 16               NaN        Q  \n",
       " 17               NaN        C  \n",
       " 18               NaN        S  \n",
       " 19               NaN        C  \n",
       " 20               NaN        C  \n",
       " 21               NaN        S  \n",
       " 22               NaN        S  \n",
       " 23               NaN        C  \n",
       " 24   B57 B59 B63 B66        C  \n",
       " 25               NaN        S  \n",
       " 26               B36        C  \n",
       " 27               NaN        C  \n",
       " 28               A21        S  \n",
       " 29               NaN        C  \n",
       " ..               ...      ...  \n",
       " 388              NaN        Q  \n",
       " 389              NaN        S  \n",
       " 390              B24        S  \n",
       " 391              D28        S  \n",
       " 392              NaN        S  \n",
       " 393              NaN        S  \n",
       " 394              NaN        S  \n",
       " 395              C31        S  \n",
       " 396              NaN        Q  \n",
       " 397              B41        C  \n",
       " 398              NaN        S  \n",
       " 399              NaN        Q  \n",
       " 400               C7        S  \n",
       " 401              NaN        S  \n",
       " 402              NaN        C  \n",
       " 403              NaN        S  \n",
       " 404              D40        C  \n",
       " 405              D38        C  \n",
       " 406              NaN        S  \n",
       " 407              C80        C  \n",
       " 408              NaN        Q  \n",
       " 409              NaN        S  \n",
       " 410              NaN        Q  \n",
       " 411              C78        Q  \n",
       " 412              NaN        S  \n",
       " 413              NaN        S  \n",
       " 414             C105        C  \n",
       " 415              NaN        S  \n",
       " 416              NaN        S  \n",
       " 417              NaN        C  \n",
       " \n",
       " [418 rows x 11 columns]]"
      ]
     },
     "execution_count": 81,
     "metadata": {},
     "output_type": "execute_result"
    }
   ],
   "source": [
    "train_df = pd.read_csv('data/titanic/train.csv')\n",
    "test_df = pd.read_csv('data/titanic/test.csv')\n",
    "combine = [train_df, test_df]\n",
    "combine"
   ]
  },
  {
   "cell_type": "markdown",
   "metadata": {},
   "source": [
    "## Data 탐색"
   ]
  },
  {
   "cell_type": "markdown",
   "metadata": {},
   "source": [
    "읽어드린 csv파일에 어떤 column값들이 들어있을까?"
   ]
  },
  {
   "cell_type": "code",
   "execution_count": 82,
   "metadata": {},
   "outputs": [
    {
     "name": "stdout",
     "output_type": "stream",
     "text": [
      "['PassengerId' 'Survived' 'Pclass' 'Name' 'Sex' 'Age' 'SibSp' 'Parch'\n",
      " 'Ticket' 'Fare' 'Cabin' 'Embarked']\n"
     ]
    },
    {
     "data": {
      "text/plain": [
       "array(['PassengerId', 'Survived', 'Pclass', 'Name', 'Sex', 'Age', 'SibSp',\n",
       "       'Parch', 'Ticket', 'Fare', 'Cabin', 'Embarked'], dtype=object)"
      ]
     },
     "execution_count": 82,
     "metadata": {},
     "output_type": "execute_result"
    }
   ],
   "source": [
    "print(train_df.columns.values)\n",
    "train_df.columns.values"
   ]
  },
  {
   "cell_type": "code",
   "execution_count": 31,
   "metadata": {},
   "outputs": [
    {
     "data": {
      "text/html": [
       "<div>\n",
       "<style scoped>\n",
       "    .dataframe tbody tr th:only-of-type {\n",
       "        vertical-align: middle;\n",
       "    }\n",
       "\n",
       "    .dataframe tbody tr th {\n",
       "        vertical-align: top;\n",
       "    }\n",
       "\n",
       "    .dataframe thead th {\n",
       "        text-align: right;\n",
       "    }\n",
       "</style>\n",
       "<table border=\"1\" class=\"dataframe\">\n",
       "  <thead>\n",
       "    <tr style=\"text-align: right;\">\n",
       "      <th></th>\n",
       "      <th>PassengerId</th>\n",
       "      <th>Survived</th>\n",
       "      <th>Pclass</th>\n",
       "      <th>Name</th>\n",
       "      <th>Sex</th>\n",
       "      <th>Age</th>\n",
       "      <th>SibSp</th>\n",
       "      <th>Parch</th>\n",
       "      <th>Ticket</th>\n",
       "      <th>Fare</th>\n",
       "      <th>Cabin</th>\n",
       "      <th>Embarked</th>\n",
       "    </tr>\n",
       "  </thead>\n",
       "  <tbody>\n",
       "    <tr>\n",
       "      <th>0</th>\n",
       "      <td>1</td>\n",
       "      <td>0</td>\n",
       "      <td>3</td>\n",
       "      <td>Braund, Mr. Owen Harris</td>\n",
       "      <td>male</td>\n",
       "      <td>22.0</td>\n",
       "      <td>1</td>\n",
       "      <td>0</td>\n",
       "      <td>A/5 21171</td>\n",
       "      <td>7.2500</td>\n",
       "      <td>NaN</td>\n",
       "      <td>S</td>\n",
       "    </tr>\n",
       "    <tr>\n",
       "      <th>1</th>\n",
       "      <td>2</td>\n",
       "      <td>1</td>\n",
       "      <td>1</td>\n",
       "      <td>Cumings, Mrs. John Bradley (Florence Briggs Th...</td>\n",
       "      <td>female</td>\n",
       "      <td>38.0</td>\n",
       "      <td>1</td>\n",
       "      <td>0</td>\n",
       "      <td>PC 17599</td>\n",
       "      <td>71.2833</td>\n",
       "      <td>C85</td>\n",
       "      <td>C</td>\n",
       "    </tr>\n",
       "    <tr>\n",
       "      <th>2</th>\n",
       "      <td>3</td>\n",
       "      <td>1</td>\n",
       "      <td>3</td>\n",
       "      <td>Heikkinen, Miss. Laina</td>\n",
       "      <td>female</td>\n",
       "      <td>26.0</td>\n",
       "      <td>0</td>\n",
       "      <td>0</td>\n",
       "      <td>STON/O2. 3101282</td>\n",
       "      <td>7.9250</td>\n",
       "      <td>NaN</td>\n",
       "      <td>S</td>\n",
       "    </tr>\n",
       "    <tr>\n",
       "      <th>3</th>\n",
       "      <td>4</td>\n",
       "      <td>1</td>\n",
       "      <td>1</td>\n",
       "      <td>Futrelle, Mrs. Jacques Heath (Lily May Peel)</td>\n",
       "      <td>female</td>\n",
       "      <td>35.0</td>\n",
       "      <td>1</td>\n",
       "      <td>0</td>\n",
       "      <td>113803</td>\n",
       "      <td>53.1000</td>\n",
       "      <td>C123</td>\n",
       "      <td>S</td>\n",
       "    </tr>\n",
       "    <tr>\n",
       "      <th>4</th>\n",
       "      <td>5</td>\n",
       "      <td>0</td>\n",
       "      <td>3</td>\n",
       "      <td>Allen, Mr. William Henry</td>\n",
       "      <td>male</td>\n",
       "      <td>35.0</td>\n",
       "      <td>0</td>\n",
       "      <td>0</td>\n",
       "      <td>373450</td>\n",
       "      <td>8.0500</td>\n",
       "      <td>NaN</td>\n",
       "      <td>S</td>\n",
       "    </tr>\n",
       "  </tbody>\n",
       "</table>\n",
       "</div>"
      ],
      "text/plain": [
       "   PassengerId  Survived  Pclass  \\\n",
       "0            1         0       3   \n",
       "1            2         1       1   \n",
       "2            3         1       3   \n",
       "3            4         1       1   \n",
       "4            5         0       3   \n",
       "\n",
       "                                                Name     Sex   Age  SibSp  \\\n",
       "0                            Braund, Mr. Owen Harris    male  22.0      1   \n",
       "1  Cumings, Mrs. John Bradley (Florence Briggs Th...  female  38.0      1   \n",
       "2                             Heikkinen, Miss. Laina  female  26.0      0   \n",
       "3       Futrelle, Mrs. Jacques Heath (Lily May Peel)  female  35.0      1   \n",
       "4                           Allen, Mr. William Henry    male  35.0      0   \n",
       "\n",
       "   Parch            Ticket     Fare Cabin Embarked  \n",
       "0      0         A/5 21171   7.2500   NaN        S  \n",
       "1      0          PC 17599  71.2833   C85        C  \n",
       "2      0  STON/O2. 3101282   7.9250   NaN        S  \n",
       "3      0            113803  53.1000  C123        S  \n",
       "4      0            373450   8.0500   NaN        S  "
      ]
     },
     "execution_count": 31,
     "metadata": {},
     "output_type": "execute_result"
    }
   ],
   "source": [
    "train_df.head()"
   ]
  },
  {
   "cell_type": "code",
   "execution_count": 32,
   "metadata": {},
   "outputs": [
    {
     "data": {
      "text/html": [
       "<div>\n",
       "<style scoped>\n",
       "    .dataframe tbody tr th:only-of-type {\n",
       "        vertical-align: middle;\n",
       "    }\n",
       "\n",
       "    .dataframe tbody tr th {\n",
       "        vertical-align: top;\n",
       "    }\n",
       "\n",
       "    .dataframe thead th {\n",
       "        text-align: right;\n",
       "    }\n",
       "</style>\n",
       "<table border=\"1\" class=\"dataframe\">\n",
       "  <thead>\n",
       "    <tr style=\"text-align: right;\">\n",
       "      <th></th>\n",
       "      <th>PassengerId</th>\n",
       "      <th>Pclass</th>\n",
       "      <th>Name</th>\n",
       "      <th>Sex</th>\n",
       "      <th>Age</th>\n",
       "      <th>SibSp</th>\n",
       "      <th>Parch</th>\n",
       "      <th>Ticket</th>\n",
       "      <th>Fare</th>\n",
       "      <th>Cabin</th>\n",
       "      <th>Embarked</th>\n",
       "    </tr>\n",
       "  </thead>\n",
       "  <tbody>\n",
       "    <tr>\n",
       "      <th>0</th>\n",
       "      <td>892</td>\n",
       "      <td>3</td>\n",
       "      <td>Kelly, Mr. James</td>\n",
       "      <td>male</td>\n",
       "      <td>34.5</td>\n",
       "      <td>0</td>\n",
       "      <td>0</td>\n",
       "      <td>330911</td>\n",
       "      <td>7.8292</td>\n",
       "      <td>NaN</td>\n",
       "      <td>Q</td>\n",
       "    </tr>\n",
       "    <tr>\n",
       "      <th>1</th>\n",
       "      <td>893</td>\n",
       "      <td>3</td>\n",
       "      <td>Wilkes, Mrs. James (Ellen Needs)</td>\n",
       "      <td>female</td>\n",
       "      <td>47.0</td>\n",
       "      <td>1</td>\n",
       "      <td>0</td>\n",
       "      <td>363272</td>\n",
       "      <td>7.0000</td>\n",
       "      <td>NaN</td>\n",
       "      <td>S</td>\n",
       "    </tr>\n",
       "    <tr>\n",
       "      <th>2</th>\n",
       "      <td>894</td>\n",
       "      <td>2</td>\n",
       "      <td>Myles, Mr. Thomas Francis</td>\n",
       "      <td>male</td>\n",
       "      <td>62.0</td>\n",
       "      <td>0</td>\n",
       "      <td>0</td>\n",
       "      <td>240276</td>\n",
       "      <td>9.6875</td>\n",
       "      <td>NaN</td>\n",
       "      <td>Q</td>\n",
       "    </tr>\n",
       "    <tr>\n",
       "      <th>3</th>\n",
       "      <td>895</td>\n",
       "      <td>3</td>\n",
       "      <td>Wirz, Mr. Albert</td>\n",
       "      <td>male</td>\n",
       "      <td>27.0</td>\n",
       "      <td>0</td>\n",
       "      <td>0</td>\n",
       "      <td>315154</td>\n",
       "      <td>8.6625</td>\n",
       "      <td>NaN</td>\n",
       "      <td>S</td>\n",
       "    </tr>\n",
       "    <tr>\n",
       "      <th>4</th>\n",
       "      <td>896</td>\n",
       "      <td>3</td>\n",
       "      <td>Hirvonen, Mrs. Alexander (Helga E Lindqvist)</td>\n",
       "      <td>female</td>\n",
       "      <td>22.0</td>\n",
       "      <td>1</td>\n",
       "      <td>1</td>\n",
       "      <td>3101298</td>\n",
       "      <td>12.2875</td>\n",
       "      <td>NaN</td>\n",
       "      <td>S</td>\n",
       "    </tr>\n",
       "  </tbody>\n",
       "</table>\n",
       "</div>"
      ],
      "text/plain": [
       "   PassengerId  Pclass                                          Name     Sex  \\\n",
       "0          892       3                              Kelly, Mr. James    male   \n",
       "1          893       3              Wilkes, Mrs. James (Ellen Needs)  female   \n",
       "2          894       2                     Myles, Mr. Thomas Francis    male   \n",
       "3          895       3                              Wirz, Mr. Albert    male   \n",
       "4          896       3  Hirvonen, Mrs. Alexander (Helga E Lindqvist)  female   \n",
       "\n",
       "    Age  SibSp  Parch   Ticket     Fare Cabin Embarked  \n",
       "0  34.5      0      0   330911   7.8292   NaN        Q  \n",
       "1  47.0      1      0   363272   7.0000   NaN        S  \n",
       "2  62.0      0      0   240276   9.6875   NaN        Q  \n",
       "3  27.0      0      0   315154   8.6625   NaN        S  \n",
       "4  22.0      1      1  3101298  12.2875   NaN        S  "
      ]
     },
     "execution_count": 32,
     "metadata": {},
     "output_type": "execute_result"
    }
   ],
   "source": [
    "test_df.head()"
   ]
  },
  {
   "cell_type": "code",
   "execution_count": 33,
   "metadata": {},
   "outputs": [
    {
     "data": {
      "text/plain": [
       "(891, 12)"
      ]
     },
     "execution_count": 33,
     "metadata": {},
     "output_type": "execute_result"
    }
   ],
   "source": [
    "train_df.shape"
   ]
  },
  {
   "cell_type": "code",
   "execution_count": 34,
   "metadata": {},
   "outputs": [
    {
     "data": {
      "text/plain": [
       "(418, 11)"
      ]
     },
     "execution_count": 34,
     "metadata": {},
     "output_type": "execute_result"
    }
   ],
   "source": [
    "test_df.shape"
   ]
  },
  {
   "cell_type": "markdown",
   "metadata": {},
   "source": [
    "- survived : 생존 유무\n",
    "- pclass : 객실 등급\n",
    "- Name : 이름\n",
    "- sex : 성별\n",
    "- age : 나이\n",
    "- sibsp : 형제 혹은 부부의 수\n",
    "- parch : 부모, 혹은 자녀의 수\n",
    "- Ticket : 티켓\n",
    "- fare : 지불한 운임\n",
    "- Cabin : 방\n",
    "- Embarked : 항구"
   ]
  },
  {
   "cell_type": "markdown",
   "metadata": {},
   "source": [
    "- pandas.DataFrame.describe() : NaN 값을 제외하고 데이터 집합의 분포의 중심 경향, 분산 및 모양을 요약하는 통계를 생성(include parameter를 이용해서, 모든 값을 포함시킬 수도 있음)\n"
   ]
  },
  {
   "cell_type": "code",
   "execution_count": 35,
   "metadata": {},
   "outputs": [
    {
     "data": {
      "text/html": [
       "<div>\n",
       "<style scoped>\n",
       "    .dataframe tbody tr th:only-of-type {\n",
       "        vertical-align: middle;\n",
       "    }\n",
       "\n",
       "    .dataframe tbody tr th {\n",
       "        vertical-align: top;\n",
       "    }\n",
       "\n",
       "    .dataframe thead th {\n",
       "        text-align: right;\n",
       "    }\n",
       "</style>\n",
       "<table border=\"1\" class=\"dataframe\">\n",
       "  <thead>\n",
       "    <tr style=\"text-align: right;\">\n",
       "      <th></th>\n",
       "      <th>PassengerId</th>\n",
       "      <th>Survived</th>\n",
       "      <th>Pclass</th>\n",
       "      <th>Age</th>\n",
       "      <th>SibSp</th>\n",
       "      <th>Parch</th>\n",
       "      <th>Fare</th>\n",
       "    </tr>\n",
       "  </thead>\n",
       "  <tbody>\n",
       "    <tr>\n",
       "      <th>count</th>\n",
       "      <td>891.000000</td>\n",
       "      <td>891.000000</td>\n",
       "      <td>891.000000</td>\n",
       "      <td>714.000000</td>\n",
       "      <td>891.000000</td>\n",
       "      <td>891.000000</td>\n",
       "      <td>891.000000</td>\n",
       "    </tr>\n",
       "    <tr>\n",
       "      <th>mean</th>\n",
       "      <td>446.000000</td>\n",
       "      <td>0.383838</td>\n",
       "      <td>2.308642</td>\n",
       "      <td>29.699118</td>\n",
       "      <td>0.523008</td>\n",
       "      <td>0.381594</td>\n",
       "      <td>32.204208</td>\n",
       "    </tr>\n",
       "    <tr>\n",
       "      <th>std</th>\n",
       "      <td>257.353842</td>\n",
       "      <td>0.486592</td>\n",
       "      <td>0.836071</td>\n",
       "      <td>14.526497</td>\n",
       "      <td>1.102743</td>\n",
       "      <td>0.806057</td>\n",
       "      <td>49.693429</td>\n",
       "    </tr>\n",
       "    <tr>\n",
       "      <th>min</th>\n",
       "      <td>1.000000</td>\n",
       "      <td>0.000000</td>\n",
       "      <td>1.000000</td>\n",
       "      <td>0.420000</td>\n",
       "      <td>0.000000</td>\n",
       "      <td>0.000000</td>\n",
       "      <td>0.000000</td>\n",
       "    </tr>\n",
       "    <tr>\n",
       "      <th>25%</th>\n",
       "      <td>223.500000</td>\n",
       "      <td>0.000000</td>\n",
       "      <td>2.000000</td>\n",
       "      <td>20.125000</td>\n",
       "      <td>0.000000</td>\n",
       "      <td>0.000000</td>\n",
       "      <td>7.910400</td>\n",
       "    </tr>\n",
       "    <tr>\n",
       "      <th>50%</th>\n",
       "      <td>446.000000</td>\n",
       "      <td>0.000000</td>\n",
       "      <td>3.000000</td>\n",
       "      <td>28.000000</td>\n",
       "      <td>0.000000</td>\n",
       "      <td>0.000000</td>\n",
       "      <td>14.454200</td>\n",
       "    </tr>\n",
       "    <tr>\n",
       "      <th>75%</th>\n",
       "      <td>668.500000</td>\n",
       "      <td>1.000000</td>\n",
       "      <td>3.000000</td>\n",
       "      <td>38.000000</td>\n",
       "      <td>1.000000</td>\n",
       "      <td>0.000000</td>\n",
       "      <td>31.000000</td>\n",
       "    </tr>\n",
       "    <tr>\n",
       "      <th>max</th>\n",
       "      <td>891.000000</td>\n",
       "      <td>1.000000</td>\n",
       "      <td>3.000000</td>\n",
       "      <td>80.000000</td>\n",
       "      <td>8.000000</td>\n",
       "      <td>6.000000</td>\n",
       "      <td>512.329200</td>\n",
       "    </tr>\n",
       "  </tbody>\n",
       "</table>\n",
       "</div>"
      ],
      "text/plain": [
       "       PassengerId    Survived      Pclass         Age       SibSp  \\\n",
       "count   891.000000  891.000000  891.000000  714.000000  891.000000   \n",
       "mean    446.000000    0.383838    2.308642   29.699118    0.523008   \n",
       "std     257.353842    0.486592    0.836071   14.526497    1.102743   \n",
       "min       1.000000    0.000000    1.000000    0.420000    0.000000   \n",
       "25%     223.500000    0.000000    2.000000   20.125000    0.000000   \n",
       "50%     446.000000    0.000000    3.000000   28.000000    0.000000   \n",
       "75%     668.500000    1.000000    3.000000   38.000000    1.000000   \n",
       "max     891.000000    1.000000    3.000000   80.000000    8.000000   \n",
       "\n",
       "            Parch        Fare  \n",
       "count  891.000000  891.000000  \n",
       "mean     0.381594   32.204208  \n",
       "std      0.806057   49.693429  \n",
       "min      0.000000    0.000000  \n",
       "25%      0.000000    7.910400  \n",
       "50%      0.000000   14.454200  \n",
       "75%      0.000000   31.000000  \n",
       "max      6.000000  512.329200  "
      ]
     },
     "execution_count": 35,
     "metadata": {},
     "output_type": "execute_result"
    }
   ],
   "source": [
    "train_df.describe()"
   ]
  },
  {
   "cell_type": "markdown",
   "metadata": {},
   "source": [
    "- 891명의 승객. 2224명의 실제 탑승자의 40%데이터임\n",
    "- Survived : 0,1의 값, 38%이 구조됨(killing 1502 out of 2224 passengers and crew. Translated 32% survival rate.)\n",
    "- Age : 1%이하의 승객들이 65~80세임\n",
    "- SibSp : 30%정도 sibling / spouse가 함께탐\n",
    "- Parch : 75%이상의 사람들이 부모나 자식과 함께 타지 않았음\n",
    "- Fare : 1%이하의 매우 소수의 사람이 비싼 512불의 티켓을 지불하였음"
   ]
  },
  {
   "cell_type": "code",
   "execution_count": 36,
   "metadata": {},
   "outputs": [
    {
     "data": {
      "text/html": [
       "<div>\n",
       "<style scoped>\n",
       "    .dataframe tbody tr th:only-of-type {\n",
       "        vertical-align: middle;\n",
       "    }\n",
       "\n",
       "    .dataframe tbody tr th {\n",
       "        vertical-align: top;\n",
       "    }\n",
       "\n",
       "    .dataframe thead th {\n",
       "        text-align: right;\n",
       "    }\n",
       "</style>\n",
       "<table border=\"1\" class=\"dataframe\">\n",
       "  <thead>\n",
       "    <tr style=\"text-align: right;\">\n",
       "      <th></th>\n",
       "      <th>PassengerId</th>\n",
       "      <th>Survived</th>\n",
       "      <th>Pclass</th>\n",
       "      <th>Name</th>\n",
       "      <th>Sex</th>\n",
       "      <th>Age</th>\n",
       "      <th>SibSp</th>\n",
       "      <th>Parch</th>\n",
       "      <th>Ticket</th>\n",
       "      <th>Fare</th>\n",
       "      <th>Cabin</th>\n",
       "      <th>Embarked</th>\n",
       "    </tr>\n",
       "  </thead>\n",
       "  <tbody>\n",
       "    <tr>\n",
       "      <th>count</th>\n",
       "      <td>891.000000</td>\n",
       "      <td>891.000000</td>\n",
       "      <td>891.000000</td>\n",
       "      <td>891</td>\n",
       "      <td>891</td>\n",
       "      <td>714.000000</td>\n",
       "      <td>891.000000</td>\n",
       "      <td>891.000000</td>\n",
       "      <td>891</td>\n",
       "      <td>891.000000</td>\n",
       "      <td>204</td>\n",
       "      <td>889</td>\n",
       "    </tr>\n",
       "    <tr>\n",
       "      <th>unique</th>\n",
       "      <td>NaN</td>\n",
       "      <td>NaN</td>\n",
       "      <td>NaN</td>\n",
       "      <td>891</td>\n",
       "      <td>2</td>\n",
       "      <td>NaN</td>\n",
       "      <td>NaN</td>\n",
       "      <td>NaN</td>\n",
       "      <td>681</td>\n",
       "      <td>NaN</td>\n",
       "      <td>147</td>\n",
       "      <td>3</td>\n",
       "    </tr>\n",
       "    <tr>\n",
       "      <th>top</th>\n",
       "      <td>NaN</td>\n",
       "      <td>NaN</td>\n",
       "      <td>NaN</td>\n",
       "      <td>Mellinger, Miss. Madeleine Violet</td>\n",
       "      <td>male</td>\n",
       "      <td>NaN</td>\n",
       "      <td>NaN</td>\n",
       "      <td>NaN</td>\n",
       "      <td>1601</td>\n",
       "      <td>NaN</td>\n",
       "      <td>C23 C25 C27</td>\n",
       "      <td>S</td>\n",
       "    </tr>\n",
       "    <tr>\n",
       "      <th>freq</th>\n",
       "      <td>NaN</td>\n",
       "      <td>NaN</td>\n",
       "      <td>NaN</td>\n",
       "      <td>1</td>\n",
       "      <td>577</td>\n",
       "      <td>NaN</td>\n",
       "      <td>NaN</td>\n",
       "      <td>NaN</td>\n",
       "      <td>7</td>\n",
       "      <td>NaN</td>\n",
       "      <td>4</td>\n",
       "      <td>644</td>\n",
       "    </tr>\n",
       "    <tr>\n",
       "      <th>mean</th>\n",
       "      <td>446.000000</td>\n",
       "      <td>0.383838</td>\n",
       "      <td>2.308642</td>\n",
       "      <td>NaN</td>\n",
       "      <td>NaN</td>\n",
       "      <td>29.699118</td>\n",
       "      <td>0.523008</td>\n",
       "      <td>0.381594</td>\n",
       "      <td>NaN</td>\n",
       "      <td>32.204208</td>\n",
       "      <td>NaN</td>\n",
       "      <td>NaN</td>\n",
       "    </tr>\n",
       "    <tr>\n",
       "      <th>std</th>\n",
       "      <td>257.353842</td>\n",
       "      <td>0.486592</td>\n",
       "      <td>0.836071</td>\n",
       "      <td>NaN</td>\n",
       "      <td>NaN</td>\n",
       "      <td>14.526497</td>\n",
       "      <td>1.102743</td>\n",
       "      <td>0.806057</td>\n",
       "      <td>NaN</td>\n",
       "      <td>49.693429</td>\n",
       "      <td>NaN</td>\n",
       "      <td>NaN</td>\n",
       "    </tr>\n",
       "    <tr>\n",
       "      <th>min</th>\n",
       "      <td>1.000000</td>\n",
       "      <td>0.000000</td>\n",
       "      <td>1.000000</td>\n",
       "      <td>NaN</td>\n",
       "      <td>NaN</td>\n",
       "      <td>0.420000</td>\n",
       "      <td>0.000000</td>\n",
       "      <td>0.000000</td>\n",
       "      <td>NaN</td>\n",
       "      <td>0.000000</td>\n",
       "      <td>NaN</td>\n",
       "      <td>NaN</td>\n",
       "    </tr>\n",
       "    <tr>\n",
       "      <th>25%</th>\n",
       "      <td>223.500000</td>\n",
       "      <td>0.000000</td>\n",
       "      <td>2.000000</td>\n",
       "      <td>NaN</td>\n",
       "      <td>NaN</td>\n",
       "      <td>20.125000</td>\n",
       "      <td>0.000000</td>\n",
       "      <td>0.000000</td>\n",
       "      <td>NaN</td>\n",
       "      <td>7.910400</td>\n",
       "      <td>NaN</td>\n",
       "      <td>NaN</td>\n",
       "    </tr>\n",
       "    <tr>\n",
       "      <th>50%</th>\n",
       "      <td>446.000000</td>\n",
       "      <td>0.000000</td>\n",
       "      <td>3.000000</td>\n",
       "      <td>NaN</td>\n",
       "      <td>NaN</td>\n",
       "      <td>28.000000</td>\n",
       "      <td>0.000000</td>\n",
       "      <td>0.000000</td>\n",
       "      <td>NaN</td>\n",
       "      <td>14.454200</td>\n",
       "      <td>NaN</td>\n",
       "      <td>NaN</td>\n",
       "    </tr>\n",
       "    <tr>\n",
       "      <th>75%</th>\n",
       "      <td>668.500000</td>\n",
       "      <td>1.000000</td>\n",
       "      <td>3.000000</td>\n",
       "      <td>NaN</td>\n",
       "      <td>NaN</td>\n",
       "      <td>38.000000</td>\n",
       "      <td>1.000000</td>\n",
       "      <td>0.000000</td>\n",
       "      <td>NaN</td>\n",
       "      <td>31.000000</td>\n",
       "      <td>NaN</td>\n",
       "      <td>NaN</td>\n",
       "    </tr>\n",
       "    <tr>\n",
       "      <th>max</th>\n",
       "      <td>891.000000</td>\n",
       "      <td>1.000000</td>\n",
       "      <td>3.000000</td>\n",
       "      <td>NaN</td>\n",
       "      <td>NaN</td>\n",
       "      <td>80.000000</td>\n",
       "      <td>8.000000</td>\n",
       "      <td>6.000000</td>\n",
       "      <td>NaN</td>\n",
       "      <td>512.329200</td>\n",
       "      <td>NaN</td>\n",
       "      <td>NaN</td>\n",
       "    </tr>\n",
       "  </tbody>\n",
       "</table>\n",
       "</div>"
      ],
      "text/plain": [
       "        PassengerId    Survived      Pclass  \\\n",
       "count    891.000000  891.000000  891.000000   \n",
       "unique          NaN         NaN         NaN   \n",
       "top             NaN         NaN         NaN   \n",
       "freq            NaN         NaN         NaN   \n",
       "mean     446.000000    0.383838    2.308642   \n",
       "std      257.353842    0.486592    0.836071   \n",
       "min        1.000000    0.000000    1.000000   \n",
       "25%      223.500000    0.000000    2.000000   \n",
       "50%      446.000000    0.000000    3.000000   \n",
       "75%      668.500000    1.000000    3.000000   \n",
       "max      891.000000    1.000000    3.000000   \n",
       "\n",
       "                                     Name   Sex         Age       SibSp  \\\n",
       "count                                 891   891  714.000000  891.000000   \n",
       "unique                                891     2         NaN         NaN   \n",
       "top     Mellinger, Miss. Madeleine Violet  male         NaN         NaN   \n",
       "freq                                    1   577         NaN         NaN   \n",
       "mean                                  NaN   NaN   29.699118    0.523008   \n",
       "std                                   NaN   NaN   14.526497    1.102743   \n",
       "min                                   NaN   NaN    0.420000    0.000000   \n",
       "25%                                   NaN   NaN   20.125000    0.000000   \n",
       "50%                                   NaN   NaN   28.000000    0.000000   \n",
       "75%                                   NaN   NaN   38.000000    1.000000   \n",
       "max                                   NaN   NaN   80.000000    8.000000   \n",
       "\n",
       "             Parch Ticket        Fare        Cabin Embarked  \n",
       "count   891.000000    891  891.000000          204      889  \n",
       "unique         NaN    681         NaN          147        3  \n",
       "top            NaN   1601         NaN  C23 C25 C27        S  \n",
       "freq           NaN      7         NaN            4      644  \n",
       "mean      0.381594    NaN   32.204208          NaN      NaN  \n",
       "std       0.806057    NaN   49.693429          NaN      NaN  \n",
       "min       0.000000    NaN    0.000000          NaN      NaN  \n",
       "25%       0.000000    NaN    7.910400          NaN      NaN  \n",
       "50%       0.000000    NaN   14.454200          NaN      NaN  \n",
       "75%       0.000000    NaN   31.000000          NaN      NaN  \n",
       "max       6.000000    NaN  512.329200          NaN      NaN  "
      ]
     },
     "execution_count": 36,
     "metadata": {},
     "output_type": "execute_result"
    }
   ],
   "source": [
    "train_df.describe(include='all')"
   ]
  },
  {
   "cell_type": "code",
   "execution_count": 37,
   "metadata": {},
   "outputs": [
    {
     "data": {
      "text/html": [
       "<div>\n",
       "<style scoped>\n",
       "    .dataframe tbody tr th:only-of-type {\n",
       "        vertical-align: middle;\n",
       "    }\n",
       "\n",
       "    .dataframe tbody tr th {\n",
       "        vertical-align: top;\n",
       "    }\n",
       "\n",
       "    .dataframe thead th {\n",
       "        text-align: right;\n",
       "    }\n",
       "</style>\n",
       "<table border=\"1\" class=\"dataframe\">\n",
       "  <thead>\n",
       "    <tr style=\"text-align: right;\">\n",
       "      <th></th>\n",
       "      <th>PassengerId</th>\n",
       "      <th>Survived</th>\n",
       "      <th>Pclass</th>\n",
       "      <th>Name</th>\n",
       "      <th>Sex</th>\n",
       "      <th>Age</th>\n",
       "      <th>SibSp</th>\n",
       "      <th>Parch</th>\n",
       "      <th>Ticket</th>\n",
       "      <th>Fare</th>\n",
       "      <th>Cabin</th>\n",
       "      <th>Embarked</th>\n",
       "    </tr>\n",
       "  </thead>\n",
       "  <tbody>\n",
       "    <tr>\n",
       "      <th>886</th>\n",
       "      <td>887</td>\n",
       "      <td>0</td>\n",
       "      <td>2</td>\n",
       "      <td>Montvila, Rev. Juozas</td>\n",
       "      <td>male</td>\n",
       "      <td>27.0</td>\n",
       "      <td>0</td>\n",
       "      <td>0</td>\n",
       "      <td>211536</td>\n",
       "      <td>13.00</td>\n",
       "      <td>NaN</td>\n",
       "      <td>S</td>\n",
       "    </tr>\n",
       "    <tr>\n",
       "      <th>887</th>\n",
       "      <td>888</td>\n",
       "      <td>1</td>\n",
       "      <td>1</td>\n",
       "      <td>Graham, Miss. Margaret Edith</td>\n",
       "      <td>female</td>\n",
       "      <td>19.0</td>\n",
       "      <td>0</td>\n",
       "      <td>0</td>\n",
       "      <td>112053</td>\n",
       "      <td>30.00</td>\n",
       "      <td>B42</td>\n",
       "      <td>S</td>\n",
       "    </tr>\n",
       "    <tr>\n",
       "      <th>888</th>\n",
       "      <td>889</td>\n",
       "      <td>0</td>\n",
       "      <td>3</td>\n",
       "      <td>Johnston, Miss. Catherine Helen \"Carrie\"</td>\n",
       "      <td>female</td>\n",
       "      <td>NaN</td>\n",
       "      <td>1</td>\n",
       "      <td>2</td>\n",
       "      <td>W./C. 6607</td>\n",
       "      <td>23.45</td>\n",
       "      <td>NaN</td>\n",
       "      <td>S</td>\n",
       "    </tr>\n",
       "    <tr>\n",
       "      <th>889</th>\n",
       "      <td>890</td>\n",
       "      <td>1</td>\n",
       "      <td>1</td>\n",
       "      <td>Behr, Mr. Karl Howell</td>\n",
       "      <td>male</td>\n",
       "      <td>26.0</td>\n",
       "      <td>0</td>\n",
       "      <td>0</td>\n",
       "      <td>111369</td>\n",
       "      <td>30.00</td>\n",
       "      <td>C148</td>\n",
       "      <td>C</td>\n",
       "    </tr>\n",
       "    <tr>\n",
       "      <th>890</th>\n",
       "      <td>891</td>\n",
       "      <td>0</td>\n",
       "      <td>3</td>\n",
       "      <td>Dooley, Mr. Patrick</td>\n",
       "      <td>male</td>\n",
       "      <td>32.0</td>\n",
       "      <td>0</td>\n",
       "      <td>0</td>\n",
       "      <td>370376</td>\n",
       "      <td>7.75</td>\n",
       "      <td>NaN</td>\n",
       "      <td>Q</td>\n",
       "    </tr>\n",
       "  </tbody>\n",
       "</table>\n",
       "</div>"
      ],
      "text/plain": [
       "     PassengerId  Survived  Pclass                                      Name  \\\n",
       "886          887         0       2                     Montvila, Rev. Juozas   \n",
       "887          888         1       1              Graham, Miss. Margaret Edith   \n",
       "888          889         0       3  Johnston, Miss. Catherine Helen \"Carrie\"   \n",
       "889          890         1       1                     Behr, Mr. Karl Howell   \n",
       "890          891         0       3                       Dooley, Mr. Patrick   \n",
       "\n",
       "        Sex   Age  SibSp  Parch      Ticket   Fare Cabin Embarked  \n",
       "886    male  27.0      0      0      211536  13.00   NaN        S  \n",
       "887  female  19.0      0      0      112053  30.00   B42        S  \n",
       "888  female   NaN      1      2  W./C. 6607  23.45   NaN        S  \n",
       "889    male  26.0      0      0      111369  30.00  C148        C  \n",
       "890    male  32.0      0      0      370376   7.75   NaN        Q  "
      ]
     },
     "execution_count": 37,
     "metadata": {},
     "output_type": "execute_result"
    }
   ],
   "source": [
    "original_tr = train_df.tail()\n",
    "original_tr"
   ]
  },
  {
   "cell_type": "code",
   "execution_count": 38,
   "metadata": {},
   "outputs": [
    {
     "name": "stdout",
     "output_type": "stream",
     "text": [
      "<class 'pandas.core.frame.DataFrame'>\n",
      "RangeIndex: 891 entries, 0 to 890\n",
      "Data columns (total 12 columns):\n",
      "PassengerId    891 non-null int64\n",
      "Survived       891 non-null int64\n",
      "Pclass         891 non-null int64\n",
      "Name           891 non-null object\n",
      "Sex            891 non-null object\n",
      "Age            714 non-null float64\n",
      "SibSp          891 non-null int64\n",
      "Parch          891 non-null int64\n",
      "Ticket         891 non-null object\n",
      "Fare           891 non-null float64\n",
      "Cabin          204 non-null object\n",
      "Embarked       889 non-null object\n",
      "dtypes: float64(2), int64(5), object(5)\n",
      "memory usage: 83.6+ KB\n",
      "****************************************\n",
      "<class 'pandas.core.frame.DataFrame'>\n",
      "RangeIndex: 418 entries, 0 to 417\n",
      "Data columns (total 11 columns):\n",
      "PassengerId    418 non-null int64\n",
      "Pclass         418 non-null int64\n",
      "Name           418 non-null object\n",
      "Sex            418 non-null object\n",
      "Age            332 non-null float64\n",
      "SibSp          418 non-null int64\n",
      "Parch          418 non-null int64\n",
      "Ticket         418 non-null object\n",
      "Fare           417 non-null float64\n",
      "Cabin          91 non-null object\n",
      "Embarked       418 non-null object\n",
      "dtypes: float64(2), int64(4), object(5)\n",
      "memory usage: 36.0+ KB\n"
     ]
    }
   ],
   "source": [
    "train_df.info()\n",
    "print('*'*40)\n",
    "test_df.info()"
   ]
  },
  {
   "cell_type": "markdown",
   "metadata": {},
   "source": [
    "- trainset에서 Cabin > Age > Embarked 순서로 null values가 많다.\n",
    "- testset에서 Cabin > Age 순서로 불완전하다."
   ]
  },
  {
   "cell_type": "markdown",
   "metadata": {},
   "source": [
    "- Train : 7개의 변수가 inteter/float type,  \n",
    "- Test : 6개의 변수가 int/float type, 5개의 변수가 strings(object)"
   ]
  },
  {
   "cell_type": "markdown",
   "metadata": {},
   "source": [
    "What is the distribution of categorical features?"
   ]
  },
  {
   "cell_type": "code",
   "execution_count": 85,
   "metadata": {
    "scrolled": true
   },
   "outputs": [
    {
     "data": {
      "text/html": [
       "<div>\n",
       "<style scoped>\n",
       "    .dataframe tbody tr th:only-of-type {\n",
       "        vertical-align: middle;\n",
       "    }\n",
       "\n",
       "    .dataframe tbody tr th {\n",
       "        vertical-align: top;\n",
       "    }\n",
       "\n",
       "    .dataframe thead th {\n",
       "        text-align: right;\n",
       "    }\n",
       "</style>\n",
       "<table border=\"1\" class=\"dataframe\">\n",
       "  <thead>\n",
       "    <tr style=\"text-align: right;\">\n",
       "      <th></th>\n",
       "      <th>PassengerId</th>\n",
       "      <th>Survived</th>\n",
       "      <th>Pclass</th>\n",
       "      <th>Age</th>\n",
       "      <th>SibSp</th>\n",
       "      <th>Parch</th>\n",
       "      <th>Fare</th>\n",
       "    </tr>\n",
       "  </thead>\n",
       "  <tbody>\n",
       "    <tr>\n",
       "      <th>count</th>\n",
       "      <td>891.000000</td>\n",
       "      <td>891.000000</td>\n",
       "      <td>891.000000</td>\n",
       "      <td>714.000000</td>\n",
       "      <td>891.000000</td>\n",
       "      <td>891.000000</td>\n",
       "      <td>891.000000</td>\n",
       "    </tr>\n",
       "    <tr>\n",
       "      <th>mean</th>\n",
       "      <td>446.000000</td>\n",
       "      <td>0.383838</td>\n",
       "      <td>2.308642</td>\n",
       "      <td>29.699118</td>\n",
       "      <td>0.523008</td>\n",
       "      <td>0.381594</td>\n",
       "      <td>32.204208</td>\n",
       "    </tr>\n",
       "    <tr>\n",
       "      <th>std</th>\n",
       "      <td>257.353842</td>\n",
       "      <td>0.486592</td>\n",
       "      <td>0.836071</td>\n",
       "      <td>14.526497</td>\n",
       "      <td>1.102743</td>\n",
       "      <td>0.806057</td>\n",
       "      <td>49.693429</td>\n",
       "    </tr>\n",
       "    <tr>\n",
       "      <th>min</th>\n",
       "      <td>1.000000</td>\n",
       "      <td>0.000000</td>\n",
       "      <td>1.000000</td>\n",
       "      <td>0.420000</td>\n",
       "      <td>0.000000</td>\n",
       "      <td>0.000000</td>\n",
       "      <td>0.000000</td>\n",
       "    </tr>\n",
       "    <tr>\n",
       "      <th>25%</th>\n",
       "      <td>223.500000</td>\n",
       "      <td>0.000000</td>\n",
       "      <td>2.000000</td>\n",
       "      <td>20.125000</td>\n",
       "      <td>0.000000</td>\n",
       "      <td>0.000000</td>\n",
       "      <td>7.910400</td>\n",
       "    </tr>\n",
       "    <tr>\n",
       "      <th>50%</th>\n",
       "      <td>446.000000</td>\n",
       "      <td>0.000000</td>\n",
       "      <td>3.000000</td>\n",
       "      <td>28.000000</td>\n",
       "      <td>0.000000</td>\n",
       "      <td>0.000000</td>\n",
       "      <td>14.454200</td>\n",
       "    </tr>\n",
       "    <tr>\n",
       "      <th>75%</th>\n",
       "      <td>668.500000</td>\n",
       "      <td>1.000000</td>\n",
       "      <td>3.000000</td>\n",
       "      <td>38.000000</td>\n",
       "      <td>1.000000</td>\n",
       "      <td>0.000000</td>\n",
       "      <td>31.000000</td>\n",
       "    </tr>\n",
       "    <tr>\n",
       "      <th>max</th>\n",
       "      <td>891.000000</td>\n",
       "      <td>1.000000</td>\n",
       "      <td>3.000000</td>\n",
       "      <td>80.000000</td>\n",
       "      <td>8.000000</td>\n",
       "      <td>6.000000</td>\n",
       "      <td>512.329200</td>\n",
       "    </tr>\n",
       "  </tbody>\n",
       "</table>\n",
       "</div>"
      ],
      "text/plain": [
       "       PassengerId    Survived      Pclass         Age       SibSp  \\\n",
       "count   891.000000  891.000000  891.000000  714.000000  891.000000   \n",
       "mean    446.000000    0.383838    2.308642   29.699118    0.523008   \n",
       "std     257.353842    0.486592    0.836071   14.526497    1.102743   \n",
       "min       1.000000    0.000000    1.000000    0.420000    0.000000   \n",
       "25%     223.500000    0.000000    2.000000   20.125000    0.000000   \n",
       "50%     446.000000    0.000000    3.000000   28.000000    0.000000   \n",
       "75%     668.500000    1.000000    3.000000   38.000000    1.000000   \n",
       "max     891.000000    1.000000    3.000000   80.000000    8.000000   \n",
       "\n",
       "            Parch        Fare  \n",
       "count  891.000000  891.000000  \n",
       "mean     0.381594   32.204208  \n",
       "std      0.806057   49.693429  \n",
       "min      0.000000    0.000000  \n",
       "25%      0.000000    7.910400  \n",
       "50%      0.000000   14.454200  \n",
       "75%      0.000000   31.000000  \n",
       "max      6.000000  512.329200  "
      ]
     },
     "execution_count": 85,
     "metadata": {},
     "output_type": "execute_result"
    }
   ],
   "source": [
    "train_df.describe(include=[np.number]) #column만 찾을 때"
   ]
  },
  {
   "cell_type": "code",
   "execution_count": 49,
   "metadata": {},
   "outputs": [
    {
     "data": {
      "text/html": [
       "<div>\n",
       "<style scoped>\n",
       "    .dataframe tbody tr th:only-of-type {\n",
       "        vertical-align: middle;\n",
       "    }\n",
       "\n",
       "    .dataframe tbody tr th {\n",
       "        vertical-align: top;\n",
       "    }\n",
       "\n",
       "    .dataframe thead th {\n",
       "        text-align: right;\n",
       "    }\n",
       "</style>\n",
       "<table border=\"1\" class=\"dataframe\">\n",
       "  <thead>\n",
       "    <tr style=\"text-align: right;\">\n",
       "      <th></th>\n",
       "      <th>Name</th>\n",
       "      <th>Sex</th>\n",
       "      <th>Ticket</th>\n",
       "      <th>Cabin</th>\n",
       "      <th>Embarked</th>\n",
       "    </tr>\n",
       "  </thead>\n",
       "  <tbody>\n",
       "    <tr>\n",
       "      <th>count</th>\n",
       "      <td>891</td>\n",
       "      <td>891</td>\n",
       "      <td>891</td>\n",
       "      <td>204</td>\n",
       "      <td>889</td>\n",
       "    </tr>\n",
       "    <tr>\n",
       "      <th>unique</th>\n",
       "      <td>891</td>\n",
       "      <td>2</td>\n",
       "      <td>681</td>\n",
       "      <td>147</td>\n",
       "      <td>3</td>\n",
       "    </tr>\n",
       "    <tr>\n",
       "      <th>top</th>\n",
       "      <td>Mellinger, Miss. Madeleine Violet</td>\n",
       "      <td>male</td>\n",
       "      <td>1601</td>\n",
       "      <td>C23 C25 C27</td>\n",
       "      <td>S</td>\n",
       "    </tr>\n",
       "    <tr>\n",
       "      <th>freq</th>\n",
       "      <td>1</td>\n",
       "      <td>577</td>\n",
       "      <td>7</td>\n",
       "      <td>4</td>\n",
       "      <td>644</td>\n",
       "    </tr>\n",
       "  </tbody>\n",
       "</table>\n",
       "</div>"
      ],
      "text/plain": [
       "                                     Name   Sex Ticket        Cabin Embarked\n",
       "count                                 891   891    891          204      889\n",
       "unique                                891     2    681          147        3\n",
       "top     Mellinger, Miss. Madeleine Violet  male   1601  C23 C25 C27        S\n",
       "freq                                    1   577      7            4      644"
      ]
     },
     "execution_count": 49,
     "metadata": {},
     "output_type": "execute_result"
    }
   ],
   "source": [
    "train_df.describe(include=[np.object]) #카테고리형(범주형) column만 찾을 때"
   ]
  },
  {
   "cell_type": "code",
   "execution_count": 48,
   "metadata": {},
   "outputs": [
    {
     "data": {
      "text/html": [
       "<div>\n",
       "<style scoped>\n",
       "    .dataframe tbody tr th:only-of-type {\n",
       "        vertical-align: middle;\n",
       "    }\n",
       "\n",
       "    .dataframe tbody tr th {\n",
       "        vertical-align: top;\n",
       "    }\n",
       "\n",
       "    .dataframe thead th {\n",
       "        text-align: right;\n",
       "    }\n",
       "</style>\n",
       "<table border=\"1\" class=\"dataframe\">\n",
       "  <thead>\n",
       "    <tr style=\"text-align: right;\">\n",
       "      <th></th>\n",
       "      <th>Name</th>\n",
       "      <th>Sex</th>\n",
       "      <th>Ticket</th>\n",
       "      <th>Cabin</th>\n",
       "      <th>Embarked</th>\n",
       "    </tr>\n",
       "  </thead>\n",
       "  <tbody>\n",
       "    <tr>\n",
       "      <th>count</th>\n",
       "      <td>891</td>\n",
       "      <td>891</td>\n",
       "      <td>891</td>\n",
       "      <td>204</td>\n",
       "      <td>889</td>\n",
       "    </tr>\n",
       "    <tr>\n",
       "      <th>unique</th>\n",
       "      <td>891</td>\n",
       "      <td>2</td>\n",
       "      <td>681</td>\n",
       "      <td>147</td>\n",
       "      <td>3</td>\n",
       "    </tr>\n",
       "    <tr>\n",
       "      <th>top</th>\n",
       "      <td>Mellinger, Miss. Madeleine Violet</td>\n",
       "      <td>male</td>\n",
       "      <td>1601</td>\n",
       "      <td>C23 C25 C27</td>\n",
       "      <td>S</td>\n",
       "    </tr>\n",
       "    <tr>\n",
       "      <th>freq</th>\n",
       "      <td>1</td>\n",
       "      <td>577</td>\n",
       "      <td>7</td>\n",
       "      <td>4</td>\n",
       "      <td>644</td>\n",
       "    </tr>\n",
       "  </tbody>\n",
       "</table>\n",
       "</div>"
      ],
      "text/plain": [
       "                                     Name   Sex Ticket        Cabin Embarked\n",
       "count                                 891   891    891          204      889\n",
       "unique                                891     2    681          147        3\n",
       "top     Mellinger, Miss. Madeleine Violet  male   1601  C23 C25 C27        S\n",
       "freq                                    1   577      7            4      644"
      ]
     },
     "execution_count": 48,
     "metadata": {},
     "output_type": "execute_result"
    }
   ],
   "source": [
    "train_df.describe(include=['O']) "
   ]
  },
  {
   "cell_type": "markdown",
   "metadata": {},
   "source": [
    "- Only Fare feature seems to have a significative correlation with the survival probability. 하지만 더 찾아봐야한다\n",
    "\n",
    "- Name : 891개 unique\n",
    "- Sex : 2개 변수, top = male(남성) 65%임(577/891)\n",
    "- Ticket : 높은 비율로 중복된 값들이 있음(unique=681)\n",
    "- Cabin : 중복된 값들이 있음(방을 share한다는 의미도 됨)\n",
    "- Embarked : 3가지 unique값이 있음. S 항구에서 가장 많이 출발함(top = S)"
   ]
  },
  {
   "cell_type": "code",
   "execution_count": 55,
   "metadata": {},
   "outputs": [
    {
     "data": {
      "text/html": [
       "<div>\n",
       "<style scoped>\n",
       "    .dataframe tbody tr th:only-of-type {\n",
       "        vertical-align: middle;\n",
       "    }\n",
       "\n",
       "    .dataframe tbody tr th {\n",
       "        vertical-align: top;\n",
       "    }\n",
       "\n",
       "    .dataframe thead th {\n",
       "        text-align: right;\n",
       "    }\n",
       "</style>\n",
       "<table border=\"1\" class=\"dataframe\">\n",
       "  <thead>\n",
       "    <tr style=\"text-align: right;\">\n",
       "      <th></th>\n",
       "      <th>Survived</th>\n",
       "    </tr>\n",
       "    <tr>\n",
       "      <th>Pclass</th>\n",
       "      <th></th>\n",
       "    </tr>\n",
       "  </thead>\n",
       "  <tbody>\n",
       "    <tr>\n",
       "      <th>1</th>\n",
       "      <td>0.629630</td>\n",
       "    </tr>\n",
       "    <tr>\n",
       "      <th>2</th>\n",
       "      <td>0.472826</td>\n",
       "    </tr>\n",
       "    <tr>\n",
       "      <th>3</th>\n",
       "      <td>0.242363</td>\n",
       "    </tr>\n",
       "  </tbody>\n",
       "</table>\n",
       "</div>"
      ],
      "text/plain": [
       "        Survived\n",
       "Pclass          \n",
       "1       0.629630\n",
       "2       0.472826\n",
       "3       0.242363"
      ]
     },
     "execution_count": 55,
     "metadata": {},
     "output_type": "execute_result"
    }
   ],
   "source": [
    "train_df[['Pclass', 'Survived']].groupby(['Pclass']).mean().sort_values(by='Survived',ascending=False)"
   ]
  },
  {
   "cell_type": "code",
   "execution_count": 62,
   "metadata": {},
   "outputs": [
    {
     "name": "stderr",
     "output_type": "stream",
     "text": [
      "C:\\Users\\user\\Anaconda3\\envs\\lecto-gpu\\lib\\site-packages\\scipy\\stats\\stats.py:1713: FutureWarning: Using a non-tuple sequence for multidimensional indexing is deprecated; use `arr[tuple(seq)]` instead of `arr[seq]`. In the future this will be interpreted as an array index, `arr[np.array(seq)]`, which will result either in an error or a different result.\n",
      "  return np.add.reduce(sorted[indexer] * weights, axis=axis) / sumval\n"
     ]
    },
    {
     "data": {
      "image/png": "[encoded data removed]",
      "text/plain": [
       "<Figure size 432x288 with 1 Axes>"
      ]
     },
     "metadata": {
      "needs_background": "light"
     },
     "output_type": "display_data"
    }
   ],
   "source": [
    "sns.barplot(x=\"Pclass\", y=\"Survived\", data=train_df)\n",
    "plt.show()"
   ]
  },
  {
   "cell_type": "markdown",
   "metadata": {},
   "source": [
    "- 성별을 기준으로 생존율을 비교해보세요."
   ]
  },
  {
   "cell_type": "code",
   "execution_count": 88,
   "metadata": {},
   "outputs": [
    {
     "data": {
      "text/html": [
       "<div>\n",
       "<style scoped>\n",
       "    .dataframe tbody tr th:only-of-type {\n",
       "        vertical-align: middle;\n",
       "    }\n",
       "\n",
       "    .dataframe tbody tr th {\n",
       "        vertical-align: top;\n",
       "    }\n",
       "\n",
       "    .dataframe thead th {\n",
       "        text-align: right;\n",
       "    }\n",
       "</style>\n",
       "<table border=\"1\" class=\"dataframe\">\n",
       "  <thead>\n",
       "    <tr style=\"text-align: right;\">\n",
       "      <th></th>\n",
       "      <th>Survived</th>\n",
       "    </tr>\n",
       "    <tr>\n",
       "      <th>Sex</th>\n",
       "      <th></th>\n",
       "    </tr>\n",
       "  </thead>\n",
       "  <tbody>\n",
       "    <tr>\n",
       "      <th>female</th>\n",
       "      <td>0.742038</td>\n",
       "    </tr>\n",
       "    <tr>\n",
       "      <th>male</th>\n",
       "      <td>0.188908</td>\n",
       "    </tr>\n",
       "  </tbody>\n",
       "</table>\n",
       "</div>"
      ],
      "text/plain": [
       "        Survived\n",
       "Sex             \n",
       "female  0.742038\n",
       "male    0.188908"
      ]
     },
     "execution_count": 88,
     "metadata": {},
     "output_type": "execute_result"
    }
   ],
   "source": [
    "train_df[['Sex', 'Survived']].groupby(['Sex']).mean().sort_values(by='Survived',ascending=False)"
   ]
  },
  {
   "cell_type": "code",
   "execution_count": 89,
   "metadata": {},
   "outputs": [
    {
     "name": "stderr",
     "output_type": "stream",
     "text": [
      "C:\\Users\\user\\Anaconda3\\envs\\lecto-gpu\\lib\\site-packages\\scipy\\stats\\stats.py:1713: FutureWarning: Using a non-tuple sequence for multidimensional indexing is deprecated; use `arr[tuple(seq)]` instead of `arr[seq]`. In the future this will be interpreted as an array index, `arr[np.array(seq)]`, which will result either in an error or a different result.\n",
      "  return np.add.reduce(sorted[indexer] * weights, axis=axis) / sumval\n"
     ]
    },
    {
     "data": {
      "image/png": "[encoded data removed]",
      "text/plain": [
       "<Figure size 432x288 with 1 Axes>"
      ]
     },
     "metadata": {
      "needs_background": "light"
     },
     "output_type": "display_data"
    }
   ],
   "source": [
    "sns.barplot(x=\"Sex\", y=\"Survived\", data=train_df)\n",
    "plt.show()"
   ]
  },
  {
   "cell_type": "code",
   "execution_count": 90,
   "metadata": {},
   "outputs": [
    {
     "data": {
      "image/png": "[encoded data removed]",
      "text/plain": [
       "<Figure size 432x216 with 2 Axes>"
      ]
     },
     "metadata": {
      "needs_background": "light"
     },
     "output_type": "display_data"
    }
   ],
   "source": [
    "g = sns.FacetGrid(train_df, col='Survived')\n",
    "g.map(plt.hist, 'Age', bins=20)\n",
    "plt.show()"
   ]
  },
  {
   "cell_type": "code",
   "execution_count": 91,
   "metadata": {},
   "outputs": [
    {
     "data": {
      "image/png": "[encoded data removed]",
      "text/plain": [
       "<Figure size 440x648 with 6 Axes>"
      ]
     },
     "metadata": {
      "needs_background": "light"
     },
     "output_type": "display_data"
    }
   ],
   "source": [
    "# grid = sns.FacetGrid(train_df, col='Pclass', hue='Survived')\n",
    "grid = sns.FacetGrid(train_df, col='Survived', row='Pclass')\n",
    "grid.map(plt.hist, 'Age', alpha=.5, bins=20)\n",
    "grid.add_legend()\n",
    "plt.show()"
   ]
  },
  {
   "cell_type": "code",
   "execution_count": 94,
   "metadata": {},
   "outputs": [
    {
     "name": "stderr",
     "output_type": "stream",
     "text": [
      "C:\\Users\\user\\Anaconda3\\envs\\lecto-gpu\\lib\\site-packages\\seaborn\\axisgrid.py:230: UserWarning: The `size` paramter has been renamed to `height`; please update your code.\n",
      "  warnings.warn(msg, UserWarning)\n",
      "C:\\Users\\user\\Anaconda3\\envs\\lecto-gpu\\lib\\site-packages\\seaborn\\axisgrid.py:715: UserWarning: Using the pointplot function without specifying `order` is likely to produce an incorrect plot.\n",
      "  warnings.warn(warning)\n",
      "C:\\Users\\user\\Anaconda3\\envs\\lecto-gpu\\lib\\site-packages\\seaborn\\axisgrid.py:720: UserWarning: Using the pointplot function without specifying `hue_order` is likely to produce an incorrect plot.\n",
      "  warnings.warn(warning)\n",
      "C:\\Users\\user\\Anaconda3\\envs\\lecto-gpu\\lib\\site-packages\\scipy\\stats\\stats.py:1713: FutureWarning: Using a non-tuple sequence for multidimensional indexing is deprecated; use `arr[tuple(seq)]` instead of `arr[seq]`. In the future this will be interpreted as an array index, `arr[np.array(seq)]`, which will result either in an error or a different result.\n",
      "  return np.add.reduce(sorted[indexer] * weights, axis=axis) / sumval\n"
     ]
    },
    {
     "data": {
      "image/png": "[encoded data removed]",
      "text/plain": [
       "<Figure size 295.815x475.2 with 3 Axes>"
      ]
     },
     "metadata": {
      "needs_background": "light"
     },
     "output_type": "display_data"
    }
   ],
   "source": [
    "# grid = sns.FacetGrid(train_df, col='Embarked')\n",
    "grid = sns.FacetGrid(train_df, row='Embarked', size=2.2, aspect=1.6)\n",
    "grid.map(sns.pointplot, 'Sex','Survived', 'Pclass', palette='deep')\n",
    "grid.add_legend()\n",
    "plt.show()"
   ]
  },
  {
   "cell_type": "code",
   "execution_count": 107,
   "metadata": {},
   "outputs": [
    {
     "name": "stderr",
     "output_type": "stream",
     "text": [
      "C:\\Users\\user\\Anaconda3\\envs\\lecto-gpu\\lib\\site-packages\\seaborn\\axisgrid.py:230: UserWarning: The `size` paramter has been renamed to `height`; please update your code.\n",
      "  warnings.warn(msg, UserWarning)\n",
      "C:\\Users\\user\\Anaconda3\\envs\\lecto-gpu\\lib\\site-packages\\seaborn\\axisgrid.py:715: UserWarning: Using the barplot function without specifying `order` is likely to produce an incorrect plot.\n",
      "  warnings.warn(warning)\n",
      "C:\\Users\\user\\Anaconda3\\envs\\lecto-gpu\\lib\\site-packages\\scipy\\stats\\stats.py:1713: FutureWarning: Using a non-tuple sequence for multidimensional indexing is deprecated; use `arr[tuple(seq)]` instead of `arr[seq]`. In the future this will be interpreted as an array index, `arr[np.array(seq)]`, which will result either in an error or a different result.\n",
      "  return np.add.reduce(sorted[indexer] * weights, axis=axis) / sumval\n"
     ]
    },
    {
     "data": {
      "image/png": "[encoded data removed]",
      "text/plain": [
       "<Figure size 261.44x475.2 with 3 Axes>"
      ]
     },
     "metadata": {
      "needs_background": "light"
     },
     "output_type": "display_data"
    }
   ],
   "source": [
    "grid = sns.FacetGrid(train_df, row='Embarked', size=2.2, aspect=1.6)\n",
    "grid.map(sns.barplot, 'Sex', 'Survived', palette='deep')\n",
    "grid.add_legend()\n",
    "plt.show()"
   ]
  },
  {
   "cell_type": "code",
   "execution_count": 108,
   "metadata": {},
   "outputs": [
    {
     "name": "stderr",
     "output_type": "stream",
     "text": [
      "C:\\Users\\user\\Anaconda3\\envs\\lecto-gpu\\lib\\site-packages\\seaborn\\axisgrid.py:230: UserWarning: The `size` paramter has been renamed to `height`; please update your code.\n",
      "  warnings.warn(msg, UserWarning)\n",
      "C:\\Users\\user\\Anaconda3\\envs\\lecto-gpu\\lib\\site-packages\\seaborn\\axisgrid.py:715: UserWarning: Using the barplot function without specifying `order` is likely to produce an incorrect plot.\n",
      "  warnings.warn(warning)\n",
      "C:\\Users\\user\\Anaconda3\\envs\\lecto-gpu\\lib\\site-packages\\scipy\\stats\\stats.py:1713: FutureWarning: Using a non-tuple sequence for multidimensional indexing is deprecated; use `arr[tuple(seq)]` instead of `arr[seq]`. In the future this will be interpreted as an array index, `arr[np.array(seq)]`, which will result either in an error or a different result.\n",
      "  return np.add.reduce(sorted[indexer] * weights, axis=axis) / sumval\n"
     ]
    },
    {
     "data": {
      "image/png": "[encoded data removed]",
      "text/plain": [
       "<Figure size 514.88x475.2 with 6 Axes>"
      ]
     },
     "metadata": {
      "needs_background": "light"
     },
     "output_type": "display_data"
    }
   ],
   "source": [
    "grid = sns.FacetGrid(train_df, row='Embarked', col='Survived', size=2.2, aspect=1.6)\n",
    "grid.map(sns.barplot, 'Sex', 'Fare', alpha=.5)\n",
    "grid.add_legend()\n",
    "plt.show()"
   ]
  },
  {
   "cell_type": "code",
   "execution_count": 109,
   "metadata": {},
   "outputs": [
    {
     "name": "stderr",
     "output_type": "stream",
     "text": [
      "C:\\Users\\user\\Anaconda3\\envs\\lecto-gpu\\lib\\site-packages\\scipy\\stats\\stats.py:1713: FutureWarning: Using a non-tuple sequence for multidimensional indexing is deprecated; use `arr[tuple(seq)]` instead of `arr[seq]`. In the future this will be interpreted as an array index, `arr[np.array(seq)]`, which will result either in an error or a different result.\n",
      "  return np.add.reduce(sorted[indexer] * weights, axis=axis) / sumval\n"
     ]
    },
    {
     "data": {
      "text/plain": [
       "<matplotlib.axes._subplots.AxesSubplot at 0x1a2fa2e8>"
      ]
     },
     "execution_count": 109,
     "metadata": {},
     "output_type": "execute_result"
    },
    {
     "data": {
      "image/png": "[encoded data removed]",
      "text/plain": [
       "<Figure size 432x288 with 1 Axes>"
      ]
     },
     "metadata": {
      "needs_background": "light"
     },
     "output_type": "display_data"
    }
   ],
   "source": [
    "sns.barplot(x=\"Parch\", y=\"Survived\", data=train_df)"
   ]
  },
  {
   "cell_type": "code",
   "execution_count": 110,
   "metadata": {
    "scrolled": true
   },
   "outputs": [
    {
     "name": "stderr",
     "output_type": "stream",
     "text": [
      "C:\\Users\\user\\Anaconda3\\envs\\lecto-gpu\\lib\\site-packages\\scipy\\stats\\stats.py:1713: FutureWarning: Using a non-tuple sequence for multidimensional indexing is deprecated; use `arr[tuple(seq)]` instead of `arr[seq]`. In the future this will be interpreted as an array index, `arr[np.array(seq)]`, which will result either in an error or a different result.\n",
      "  return np.add.reduce(sorted[indexer] * weights, axis=axis) / sumval\n"
     ]
    },
    {
     "data": {
      "text/plain": [
       "<matplotlib.axes._subplots.AxesSubplot at 0x141a8358>"
      ]
     },
     "execution_count": 110,
     "metadata": {},
     "output_type": "execute_result"
    },
    {
     "data": {
      "image/png": "[encoded data removed]",
      "text/plain": [
       "<Figure size 432x288 with 1 Axes>"
      ]
     },
     "metadata": {
      "needs_background": "light"
     },
     "output_type": "display_data"
    }
   ],
   "source": [
    "sns.barplot(x=\"SibSp\", y=\"Survived\", data=train_df)"
   ]
  },
  {
   "cell_type": "markdown",
   "metadata": {},
   "source": [
    "### Logistic Regression "
   ]
  },
  {
   "cell_type": "code",
   "execution_count": 8,
   "metadata": {},
   "outputs": [
    {
     "data": {
      "image/png": "[encoded data removed]",
      "text/plain": [
       "<Figure size 432x288 with 1 Axes>"
      ]
     },
     "metadata": {
      "needs_background": "light"
     },
     "output_type": "display_data"
    }
   ],
   "source": [
    "X, y = make_classification(n_features=1, n_redundant=0, n_informative=1, \n",
    "                            n_clusters_per_class=1, random_state=50)\n",
    "plt.scatter(X, y, marker='o', c=y, s=100, edgecolor=\"k\", linewidth=1)\n",
    "plt.show()"
   ]
  },
  {
   "cell_type": "code",
   "execution_count": 9,
   "metadata": {},
   "outputs": [],
   "source": [
    "model = LogisticRegression().fit(X, y)"
   ]
  },
  {
   "cell_type": "code",
   "execution_count": 10,
   "metadata": {},
   "outputs": [],
   "source": [
    "x = np.linspace(-4, 4, 100)"
   ]
  },
  {
   "cell_type": "code",
   "execution_count": 12,
   "metadata": {
    "scrolled": true
   },
   "outputs": [
    {
     "data": {
      "image/png": "[encoded data removed]",
      "text/plain": [
       "<Figure size 432x288 with 1 Axes>"
      ]
     },
     "metadata": {
      "needs_background": "light"
     },
     "output_type": "display_data"
    }
   ],
   "source": [
    "fx = 1.0/(1 + np.exp(-model.coef_[0][0]*x - model.intercept_[0]))\n",
    "plt.plot(x, fx)\n",
    "plt.scatter(X, y, marker='o', s=100)\n",
    "plt.scatter(X, model.predict(X), marker='x', s=100)\n",
    "plt.xlim(-4, 4)\n",
    "plt.show()"
   ]
  },
  {
   "cell_type": "markdown",
   "metadata": {},
   "source": [
    "### Linear SVM"
   ]
  },
  {
   "cell_type": "code",
   "execution_count": 54,
   "metadata": {},
   "outputs": [
    {
     "data": {
      "text/plain": [
       "array([1, 0, 1, 1, 1, 0, 1, 0, 1, 1])"
      ]
     },
     "execution_count": 54,
     "metadata": {},
     "output_type": "execute_result"
    }
   ],
   "source": [
    "X, y = make_blobs(n_samples=100, centers=2, cluster_std=0.5, random_state=30)\n",
    "y[:10]"
   ]
  },
  {
   "cell_type": "code",
   "execution_count": 47,
   "metadata": {},
   "outputs": [
    {
     "name": "stdout",
     "output_type": "stream",
     "text": [
      "[[ 3.15838924 -6.74978581]\n",
      " [ 3.11038518 -2.57500451]\n",
      " [ 2.91212373 -6.54505819]\n",
      " [ 3.06658485 -6.77917462]\n",
      " [ 3.01261809 -6.8221684 ]\n",
      " [ 2.68936249 -3.3486829 ]\n",
      " [ 3.3752125  -5.76028423]\n",
      " [ 3.2758345  -2.51429663]\n",
      " [ 2.31886533 -6.54476888]\n",
      " [ 4.35362854 -7.10461635]]\n",
      "[3.15838924 3.11038518 2.91212373 3.06658485 3.01261809 2.68936249\n",
      " 3.3752125  3.2758345  2.31886533 4.35362854]\n",
      "[-6.74978581 -2.57500451 -6.54505819 -6.77917462 -6.8221684  -3.3486829\n",
      " -5.76028423 -2.51429663 -6.54476888 -7.10461635]\n",
      "[[ 3.11038518 -2.57500451]\n",
      " [ 2.68936249 -3.3486829 ]\n",
      " [ 3.2758345  -2.51429663]\n",
      " [ 2.8978846  -2.61003409]\n",
      " [ 2.67778621 -2.91256788]]\n"
     ]
    }
   ],
   "source": [
    "print(X[:10])\n",
    "print(X[:10, 0])\n",
    "print(X[:10, 1])"
   ]
  },
  {
   "cell_type": "code",
   "execution_count": 51,
   "metadata": {},
   "outputs": [
    {
     "name": "stdout",
     "output_type": "stream",
     "text": [
      "[[ 3.11038518 -2.57500451]\n",
      " [ 2.68936249 -3.3486829 ]\n",
      " [ 3.2758345  -2.51429663]\n",
      " [ 2.8978846  -2.61003409]\n",
      " [ 2.67778621 -2.91256788]\n",
      " [ 3.04444742 -2.8809474 ]\n",
      " [ 3.37813196 -2.68241186]\n",
      " [ 2.33279882 -3.04285225]\n",
      " [ 3.83231137 -2.56245503]\n",
      " [ 3.15824902 -1.9078523 ]\n",
      " [ 2.87998172 -2.61876969]\n",
      " [ 2.67136307 -1.85278916]\n",
      " [ 2.09187308 -3.0065873 ]\n",
      " [ 1.84092241 -1.91613935]\n",
      " [ 3.51688461 -2.52604133]\n",
      " [ 3.27425897 -3.28164916]\n",
      " [ 3.05460221 -3.67969147]\n",
      " [ 3.28812118 -2.90741939]\n",
      " [ 3.43960678 -3.34561507]\n",
      " [ 2.50084681 -2.77262446]\n",
      " [ 2.95001902 -2.93845794]\n",
      " [ 3.33943374 -3.07890288]\n",
      " [ 2.98568729 -2.6150433 ]\n",
      " [ 3.5747943  -2.00483766]\n",
      " [ 2.83252236 -2.23313361]\n",
      " [ 3.37537965 -3.23526284]\n",
      " [ 2.01988951 -1.59248252]\n",
      " [ 2.683937   -1.87546651]\n",
      " [ 2.74004796 -2.11584647]\n",
      " [ 2.53825603 -2.81140864]\n",
      " [ 2.53216951 -1.96048628]\n",
      " [ 2.79616423 -2.49335763]\n",
      " [ 2.35421465 -3.02708882]\n",
      " [ 3.32235137 -3.13249821]\n",
      " [ 3.50379847 -1.53115677]\n",
      " [ 3.17041958 -2.63425356]\n",
      " [ 3.38415087 -2.90691248]\n",
      " [ 1.43118692 -1.57658502]\n",
      " [ 2.81868787 -2.83281885]\n",
      " [ 3.6719835  -2.33128124]\n",
      " [ 2.73162387 -2.91692907]\n",
      " [ 2.30522068 -1.93461086]\n",
      " [ 3.73523265 -1.94631711]\n",
      " [ 2.87461956 -2.41807555]\n",
      " [ 3.40822062 -2.65346744]\n",
      " [ 2.30122954 -2.39569776]\n",
      " [ 2.86827436 -1.68800221]\n",
      " [ 3.59562566 -2.71740777]\n",
      " [ 2.7529033  -2.10188349]\n",
      " [ 3.04871092 -2.1664995 ]]\n",
      "[3.11038518 2.68936249 3.2758345  2.8978846  2.67778621 3.04444742\n",
      " 3.37813196 2.33279882 3.83231137 3.15824902 2.87998172 2.67136307\n",
      " 2.09187308 1.84092241 3.51688461 3.27425897 3.05460221 3.28812118\n",
      " 3.43960678 2.50084681 2.95001902 3.33943374 2.98568729 3.5747943\n",
      " 2.83252236 3.37537965 2.01988951 2.683937   2.74004796 2.53825603\n",
      " 2.53216951 2.79616423 2.35421465 3.32235137 3.50379847 3.17041958\n",
      " 3.38415087 1.43118692 2.81868787 3.6719835  2.73162387 2.30522068\n",
      " 3.73523265 2.87461956 3.40822062 2.30122954 2.86827436 3.59562566\n",
      " 2.7529033  3.04871092]\n"
     ]
    }
   ],
   "source": [
    "print(X[y==0])\n",
    "print(X[y==0, 0])"
   ]
  },
  {
   "cell_type": "code",
   "execution_count": 49,
   "metadata": {},
   "outputs": [
    {
     "data": {
      "image/png": "[encoded data removed]",
      "text/plain": [
       "<Figure size 432x288 with 1 Axes>"
      ]
     },
     "metadata": {
      "needs_background": "light"
     },
     "output_type": "display_data"
    }
   ],
   "source": [
    "plt.scatter(X[y == 0, 0], X[y == 0, 1], c='k', marker='o')\n",
    "plt.scatter(X[y == 1, 0], X[y == 1, 1], c='r', marker='^')\n",
    "plt.show()"
   ]
  },
  {
   "cell_type": "code",
   "execution_count": 56,
   "metadata": {},
   "outputs": [],
   "source": [
    "model = SVC(kernel='linear', C=1e10).fit(X, y)"
   ]
  },
  {
   "cell_type": "markdown",
   "metadata": {},
   "source": [
    "- n_support_ : 각 클래스의 서포트의 개수\n",
    "- support_vectors_ : 각 클래스의 서포트의 x 값\n",
    "- coef_:  weight\n",
    "- intercept_:  bias "
   ]
  },
  {
   "cell_type": "code",
   "execution_count": 16,
   "metadata": {},
   "outputs": [
    {
     "data": {
      "text/plain": [
       "array([1, 2])"
      ]
     },
     "execution_count": 16,
     "metadata": {},
     "output_type": "execute_result"
    }
   ],
   "source": [
    "model.n_support_"
   ]
  },
  {
   "cell_type": "code",
   "execution_count": 17,
   "metadata": {},
   "outputs": [
    {
     "data": {
      "text/plain": [
       "array([[ 3.05460221, -3.67969147],\n",
       "       [ 3.55843523, -5.68977917],\n",
       "       [ 2.86846825, -5.74247281]])"
      ]
     },
     "execution_count": 17,
     "metadata": {},
     "output_type": "execute_result"
    }
   ],
   "source": [
    "model.support_vectors_"
   ]
  },
  {
   "cell_type": "code",
   "execution_count": 74,
   "metadata": {},
   "outputs": [],
   "source": [
    "xmin = X[:,0].min()\n",
    "xmax = X[:,0].max()\n",
    "ymin = X[:,1].min()\n",
    "ymax = X[:,1].max()\n",
    "xx = np.linspace(xmin, xmax, 10)\n",
    "yy = np.linspace(ymin, ymax, 10)\n",
    "X1, X2 = np.meshgrid(xx, yy)"
   ]
  },
  {
   "cell_type": "code",
   "execution_count": 75,
   "metadata": {},
   "outputs": [],
   "source": [
    "Z = np.empty(X1.shape)\n",
    "for (i, j), val in np.ndenumerate(X1):\n",
    "    x1 = val\n",
    "    x2 = X2[i, j]\n",
    "    p = model.decision_function([[x1, x2]])\n",
    "    Z[i, j] = p[0]"
   ]
  },
  {
   "cell_type": "code",
   "execution_count": 20,
   "metadata": {},
   "outputs": [],
   "source": [
    "levels = [-1, 0, 1]\n",
    "linestyles = ['dashed', 'solid', 'dashed']"
   ]
  },
  {
   "cell_type": "code",
   "execution_count": 21,
   "metadata": {
    "scrolled": true
   },
   "outputs": [
    {
     "data": {
      "image/png": "[encoded data removed]",
      "text/plain": [
       "<Figure size 432x288 with 1 Axes>"
      ]
     },
     "metadata": {
      "needs_background": "light"
     },
     "output_type": "display_data"
    }
   ],
   "source": [
    "plt.scatter(X[y == 0, 0], X[y == 0, 1], marker='o')\n",
    "plt.scatter(X[y == 1, 0], X[y == 1, 1], marker='x')\n",
    "plt.contour(X1, X2, Z, levels, colors='k', linestyles=linestyles)\n",
    "plt.scatter(model.support_vectors_[:, 0], \n",
    "            model.support_vectors_[:, 1], \n",
    "            s=200, alpha=0.4)\n",
    "\n",
    "x_new = [[4, -2], [3.5, -5], [2, -4]]\n",
    "plt.scatter(x_new[0][0], x_new[0][1], marker='^', c='r')\n",
    "plt.scatter(x_new[1][0], x_new[1][1], marker='^', c='b')\n",
    "plt.scatter(x_new[2][0], x_new[2][1], marker='^', c='g')\n",
    "\n",
    "plt.show()"
   ]
  },
  {
   "cell_type": "code",
   "execution_count": 22,
   "metadata": {},
   "outputs": [
    {
     "data": {
      "text/plain": [
       "array([0])"
      ]
     },
     "execution_count": 22,
     "metadata": {},
     "output_type": "execute_result"
    }
   ],
   "source": [
    "model.predict([x_new[0]])"
   ]
  },
  {
   "cell_type": "code",
   "execution_count": 23,
   "metadata": {},
   "outputs": [
    {
     "data": {
      "text/plain": [
       "array([1])"
      ]
     },
     "execution_count": 23,
     "metadata": {},
     "output_type": "execute_result"
    }
   ],
   "source": [
    "model.predict([x_new[1]])"
   ]
  },
  {
   "cell_type": "code",
   "execution_count": 24,
   "metadata": {
    "scrolled": true
   },
   "outputs": [
    {
     "data": {
      "text/plain": [
       "array([0])"
      ]
     },
     "execution_count": 24,
     "metadata": {},
     "output_type": "execute_result"
    }
   ],
   "source": [
    "model.predict([x_new[2]])"
   ]
  },
  {
   "cell_type": "code",
   "execution_count": null,
   "metadata": {},
   "outputs": [],
   "source": []
  }
 ],
 "metadata": {
  "kernelspec": {
   "display_name": "Python 3",
   "language": "python",
   "name": "python3"
  },
  "language_info": {
   "codemirror_mode": {
    "name": "ipython",
    "version": 3
   },
   "file_extension": ".py",
   "mimetype": "text/x-python",
   "name": "python",
   "nbconvert_exporter": "python",
   "pygments_lexer": "ipython3",
   "version": "3.7.1"
  }
 },
 "nbformat": 4,
 "nbformat_minor": 2
}
