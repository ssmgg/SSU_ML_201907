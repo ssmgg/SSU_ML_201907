{
 "cells": [
  {
   "cell_type": "markdown",
   "metadata": {},
   "source": [
    "# Ridge & Lasso"
   ]
  },
  {
   "cell_type": "markdown",
   "metadata": {},
   "source": [
    "- Linear와 Ridge, Lasso 결과 비교\n",
    "- Ridge와 Lasso 결과 비교"
   ]
  },
  {
   "cell_type": "code",
   "execution_count": null,
   "metadata": {},
   "outputs": [],
   "source": [
    "pip install mglearn"
   ]
  },
  {
   "cell_type": "code",
   "execution_count": 1,
   "metadata": {},
   "outputs": [
    {
     "name": "stderr",
     "output_type": "stream",
     "text": [
      "C:\\ProgramData\\Anaconda3\\lib\\importlib\\_bootstrap.py:219: RuntimeWarning: numpy.ufunc size changed, may indicate binary incompatibility. Expected 192 from C header, got 216 from PyObject\n",
      "  return f(*args, **kwds)\n",
      "C:\\ProgramData\\Anaconda3\\lib\\importlib\\_bootstrap.py:219: RuntimeWarning: numpy.ufunc size changed, may indicate binary incompatibility. Expected 192 from C header, got 216 from PyObject\n",
      "  return f(*args, **kwds)\n",
      "C:\\ProgramData\\Anaconda3\\lib\\importlib\\_bootstrap.py:219: RuntimeWarning: numpy.ufunc size changed, may indicate binary incompatibility. Expected 192 from C header, got 216 from PyObject\n",
      "  return f(*args, **kwds)\n"
     ]
    }
   ],
   "source": [
    "from mglearn.datasets import load_extended_boston\n",
    "from sklearn.linear_model import LinearRegression, Ridge, Lasso\n",
    "from sklearn.model_selection import train_test_split\n",
    "\n",
    "from matplotlib import pyplot as plt"
   ]
  },
  {
   "cell_type": "code",
   "execution_count": 2,
   "metadata": {},
   "outputs": [],
   "source": [
    "X, y = load_extended_boston()"
   ]
  },
  {
   "cell_type": "code",
   "execution_count": 22,
   "metadata": {},
   "outputs": [],
   "source": [
    "X_train, X_test, y_train, y_test = train_test_split(X, y,\n",
    "                                                   test_size=0.2,\n",
    "                                                   shuffle=True)"
   ]
  },
  {
   "cell_type": "code",
   "execution_count": 23,
   "metadata": {},
   "outputs": [
    {
     "data": {
      "text/plain": [
       "((404, 104), (404,), (102, 104), (102,))"
      ]
     },
     "execution_count": 23,
     "metadata": {},
     "output_type": "execute_result"
    }
   ],
   "source": [
    "X_train.shape, y_train.shape, X_test.shape, y_test.shape"
   ]
  },
  {
   "cell_type": "code",
   "execution_count": 32,
   "metadata": {},
   "outputs": [],
   "source": [
    "model_linear = LinearRegression().fit(X_train, y_train)\n",
    "model_ridge = Ridge(alpha=0.3).fit(X_train, y_train)\n",
    "model_lasso = Lasso(alpha=0.3).fit(X_train, y_train)"
   ]
  },
  {
   "cell_type": "code",
   "execution_count": 33,
   "metadata": {},
   "outputs": [],
   "source": [
    "#각 모델의 trainset & testset accuracy\n",
    "acc_linear_tr = model_linear.score(X_train, y_train)\n",
    "acc_linear_ts = model_linear.score(X_test, y_test)\n",
    "\n",
    "acc_ridge_tr = model_ridge.score(X_train, y_train)\n",
    "acc_ridge_ts = model_ridge.score(X_test, y_test)\n",
    "\n",
    "acc_lasso_tr = model_lasso.score(X_train, y_train)\n",
    "acc_lasso_ts = model_lasso.score(X_test, y_test)"
   ]
  },
  {
   "cell_type": "code",
   "execution_count": 34,
   "metadata": {},
   "outputs": [
    {
     "name": "stdout",
     "output_type": "stream",
     "text": [
      "LinearRegression Accuracy:\n",
      "train:0.9368, test:0.8262\n",
      "\n",
      "RidgeRegression Accuracy:\n",
      "train:0.8939, test:0.8511\n",
      "\n",
      "LassoRegression Accuracy:\n",
      "train:0.6677, test:0.7069\n"
     ]
    }
   ],
   "source": [
    "print('LinearRegression Accuracy:\\ntrain:{:.4f}, test:{:.4f}'.format(acc_linear_tr,\n",
    "                                                            acc_linear_ts))\n",
    "print()\n",
    "print('RidgeRegression Accuracy:\\ntrain:{:.4f}, test:{:.4f}'.format(acc_ridge_tr,\n",
    "                                                            acc_ridge_ts))\n",
    "print()\n",
    "print('LassoRegression Accuracy:\\ntrain:{:.4f}, test:{:.4f}'.format(acc_lasso_tr,\n",
    "                                                            acc_lasso_ts))"
   ]
  },
  {
   "cell_type": "code",
   "execution_count": 42,
   "metadata": {},
   "outputs": [
    {
     "name": "stdout",
     "output_type": "stream",
     "text": [
      "weight\n",
      "linearRegression\n",
      "weight: [-3.03157124e+02 -2.14563195e+01 -8.98393988e+01  8.74312720e+00\n",
      "  3.73009473e+01  5.39987335e+01  2.66051290e+01 -3.26491473e+01\n",
      "  2.94559785e+01  2.56446624e+01  2.40337683e+01  3.04779915e+01\n",
      "  7.76802934e+00  7.54465257e+00  1.37384832e+03  1.12876085e+03\n",
      "  2.55540616e+02 -8.51667400e+01  1.13498689e+02 -3.82613160e+01\n",
      " -1.09241742e+02  5.91996580e+02 -1.33997351e+03  2.32602077e+02\n",
      " -2.43952230e+01  9.34841779e+01 -2.66223124e+00 -8.69863352e+00\n",
      " -8.46867952e+00 -5.93569237e+01 -3.26469687e+00  8.15587080e+00\n",
      " -1.31650404e+01 -1.32875220e+01  3.04504869e+01 -3.07291971e+00\n",
      "  3.63125462e+01 -2.23744934e+01  2.63591692e+01 -3.54061752e+00\n",
      "  1.56456582e+01  3.93101746e+01  1.17214601e+01  5.28174681e+01\n",
      " -9.89171301e+00  3.97707827e+00 -2.29300286e+00  3.16422140e+01\n",
      " -4.45099098e+00  8.74312720e+00 -1.92455861e+01 -2.89137382e+01\n",
      " -3.18387549e+00  1.35067415e+00 -2.34110726e-01  1.87923517e+00\n",
      " -1.11710135e+01  1.47318261e+01 -6.88546350e+00 -2.19186770e+01\n",
      "  1.94824087e+00 -1.83772558e+01  6.35657905e+01 -2.69350089e+01\n",
      "  6.18382957e+01 -5.82278753e+01 -1.54416033e+01  1.16536338e+01\n",
      "  2.57488278e+01 -3.44438149e+01  2.85778561e+01 -1.83041962e+01\n",
      " -3.37496028e+01 -3.50269887e+01 -8.25156245e+00 -2.10347441e+01\n",
      "  3.59605116e+00 -6.02061120e+00  3.95625552e+01 -3.10756773e+01\n",
      "  4.43577339e+00 -1.33059442e+01 -2.64500305e+01  4.99712236e+01\n",
      " -2.43591113e+01 -2.37086484e+01 -1.75034998e+01 -3.36127323e+01\n",
      "  3.69086369e+01 -6.99391998e+01  9.72919971e+01 -3.34282399e+01\n",
      "  8.74826291e+00 -2.78465787e+01 -1.87936012e+01  2.43811984e+01\n",
      " -2.64982158e+01 -4.83289836e+00  3.99702127e+00  4.53200633e+00\n",
      " -3.02182486e+00 -3.53618780e+00 -6.71752352e+00  2.01863394e+01]\n"
     ]
    }
   ],
   "source": [
    "print('weight')\n",
    "print('linearRegression')\n",
    "print('weight: {:}'.format(model_linear.coef_))"
   ]
  },
  {
   "cell_type": "code",
   "execution_count": 43,
   "metadata": {
    "scrolled": true
   },
   "outputs": [
    {
     "name": "stdout",
     "output_type": "stream",
     "text": [
      "RidgeRegression\n",
      "weight:[-2.49070031e+00 -3.74304941e+00 -9.54370862e-01  1.41618512e+00\n",
      "  3.68676225e+00  1.39109792e+01 -4.23025270e-01 -7.49339583e+00\n",
      "  8.57664895e+00  1.03161644e-01 -4.92603352e-01  4.01630162e+00\n",
      " -2.74752304e+00  4.60226381e+00 -9.99609818e-03 -1.39940824e+00\n",
      "  3.89098064e+00 -1.09010856e+00  2.04288899e-01 -2.67757149e+00\n",
      " -4.18618743e-01 -3.28009289e+00 -2.66082565e+00 -2.49953150e+00\n",
      " -2.08864813e+00 -7.39413621e-01  2.74459008e+00 -2.58575757e+00\n",
      "  3.12900626e+00  4.75352165e-01  7.28390762e+00 -1.31410644e+00\n",
      " -6.61102385e-01 -1.31318755e-01  2.51747334e+00  3.21500778e+00\n",
      " -2.44556478e+00 -3.01156681e+00  1.85527004e+00  2.75395688e+00\n",
      "  4.28112453e+00 -1.76805895e+00  5.47503051e+00 -5.04400091e+00\n",
      "  2.21898795e+00  3.89988269e+00 -5.46907160e+00  1.87614650e+00\n",
      " -7.85105668e+00  1.41618512e+00 -1.02431465e+01 -1.10562316e+01\n",
      "  2.34662161e+00 -2.19609376e+00  4.11839221e+00  5.58050362e+00\n",
      "  1.15448732e-01  3.92194186e+00 -3.20224639e+00 -3.15026861e+00\n",
      " -3.17971101e+00 -4.19063646e+00 -5.92051334e-01 -4.38955994e+00\n",
      " -1.95849751e+00 -3.76636184e+00 -2.87814092e+00 -2.43171764e-01\n",
      "  2.09864584e+01 -3.25987133e+00  2.60381585e+00 -1.26523578e+01\n",
      " -1.26621270e+01 -1.37184054e+01  9.87639035e+00 -8.86738001e+00\n",
      "  1.44025500e+00 -8.99540685e-02  8.53668417e+00  6.31651771e-01\n",
      " -2.69614054e+00 -9.94910672e-01 -8.33294909e+00  5.06727344e+00\n",
      " -3.17514597e+00 -4.56717127e+00 -2.83951180e-01 -7.91540271e+00\n",
      "  3.90449686e+00 -1.58956388e+00  1.40178257e+00  2.94216950e+00\n",
      "  1.56086462e+00 -1.18095597e+01 -4.93333508e-01  5.89363280e+00\n",
      " -1.62570680e+00 -1.16068565e+01  4.99552143e+00 -2.41695264e+00\n",
      "  3.99544764e-01  1.21119746e+00 -8.74805658e+00  2.09819010e+01]\n"
     ]
    }
   ],
   "source": [
    "print('RidgeRegression')\n",
    "print('weight:{}'.format(model_ridge.coef_))"
   ]
  },
  {
   "cell_type": "code",
   "execution_count": 44,
   "metadata": {},
   "outputs": [
    {
     "name": "stdout",
     "output_type": "stream",
     "text": [
      "LassoRegression\n",
      "weight:[ -0.           0.          -0.           0.          -0.\n",
      "   0.          -0.          -0.          -0.          -0.19764064\n",
      "  -1.0775793    0.         -16.67337809  -0.           0.\n",
      "  -0.           0.          -0.          -0.          -0.\n",
      "  -0.          -0.          -0.          -0.          -0.\n",
      "  -0.           0.           0.           0.           0.\n",
      "   0.           0.           0.           0.           0.\n",
      "   0.           0.          -0.          -0.           0.\n",
      "  -0.          -0.          -0.          -0.          -0.\n",
      "  -0.          -0.          -0.          -0.           0.51683064\n",
      "   0.           0.           0.           0.           0.\n",
      "   0.           0.           0.           0.          -0.\n",
      "  -0.          -0.          -0.          -0.          -0.\n",
      "  -0.          -0.          -0.          11.07757386   0.\n",
      "   0.          -0.          -0.          -0.           5.123401\n",
      "  -0.          -0.          -0.          -0.          -0.\n",
      "  -0.           0.          -0.          -0.          -0.\n",
      "  -0.          -0.          -0.          -0.          -0.\n",
      "  -0.          -0.          -0.          -0.          -0.\n",
      "  -0.          -0.          -0.          -3.80531156  -0.\n",
      "  -0.           0.          -0.          -0.        ]\n"
     ]
    }
   ],
   "source": [
    "print('LassoRegression')\n",
    "print('weight:{}'.format(model_lasso.coef_))"
   ]
  },
  {
   "cell_type": "code",
   "execution_count": 56,
   "metadata": {},
   "outputs": [
    {
     "name": "stdout",
     "output_type": "stream",
     "text": [
      "Summary\n",
      "[ -0.19764064  -1.0775793  -16.67337809   0.51683064  11.07757386\n",
      "   5.123401    -3.80531156]\n",
      "lasso-> n_selected_features: 7\n",
      "\n",
      "[ 1.41618512  3.68676225 13.91097922  8.57664895  4.01630162  4.60226381\n",
      "  3.89098064  2.74459008  3.12900626  7.28390762  2.51747334  3.21500778\n",
      "  1.85527004  2.75395688  4.28112453  5.47503051  2.21898795  3.89988269\n",
      "  1.8761465   1.41618512  2.34662161  4.11839221  5.58050362  3.92194186\n",
      " 20.9864584   2.60381585  9.87639035  1.440255    8.53668417  5.06727344\n",
      "  3.90449686  1.40178257  2.9421695   1.56086462  5.8936328   4.99552143\n",
      "  1.21119746 20.98190104]\n",
      "ridge-> n_selected_features: 38\n",
      "\n",
      "[8.74312720e+00 3.73009473e+01 5.39987335e+01 2.66051290e+01\n",
      " 2.94559785e+01 2.56446624e+01 2.40337683e+01 3.04779915e+01\n",
      " 7.76802934e+00 7.54465257e+00 1.37384832e+03 1.12876085e+03\n",
      " 2.55540616e+02 1.13498689e+02 5.91996580e+02 2.32602077e+02\n",
      " 9.34841779e+01 8.15587080e+00 3.04504869e+01 3.63125462e+01\n",
      " 2.63591692e+01 1.56456582e+01 3.93101746e+01 1.17214601e+01\n",
      " 5.28174681e+01 3.97707827e+00 3.16422140e+01 8.74312720e+00\n",
      " 1.35067415e+00 1.87923517e+00 1.47318261e+01 1.94824087e+00\n",
      " 6.35657905e+01 6.18382957e+01 1.16536338e+01 2.57488278e+01\n",
      " 2.85778561e+01 3.59605116e+00 3.95625552e+01 4.43577339e+00\n",
      " 4.99712236e+01 3.69086369e+01 9.72919971e+01 8.74826291e+00\n",
      " 2.43811984e+01 3.99702127e+00 4.53200633e+00 2.01863394e+01]\n",
      "linear-> n_selected_features: 48\n"
     ]
    }
   ],
   "source": [
    "print('Summary')\n",
    "selected_lasso = model_lasso.coef_[model_lasso.coef_!=0]\n",
    "print(selected_lasso)\n",
    "print('lasso-> n_selected_features: {}\\n'.format(len(selected_lasso)))\n",
    "\n",
    "selected_ridge = model_ridge.coef_[model_ridge.coef_>=1]\n",
    "print(selected_ridge)\n",
    "print('ridge-> n_selected_features: {}\\n'.format(len(selected_ridge)))\n",
    "\n",
    "selected_linear = model_linear.coef_[model_linear.coef_>=1]\n",
    "print(selected_linear)\n",
    "print('linear-> n_selected_features: {}'.format(len(selected_linear)))"
   ]
  },
  {
   "cell_type": "code",
   "execution_count": 60,
   "metadata": {},
   "outputs": [
    {
     "data": {
      "text/plain": [
       "0"
      ]
     },
     "execution_count": 60,
     "metadata": {},
     "output_type": "execute_result"
    }
   ],
   "source": [
    "model_lasso.coef_=list(model_lasso.coef_)\n",
    "model_lasso.coef_.index(model_lasso.coef_[model_lasso.coef_!=0])\n"
   ]
  },
  {
   "cell_type": "markdown",
   "metadata": {},
   "source": [
    "#### regularization parameter : alpha"
   ]
  },
  {
   "cell_type": "markdown",
   "metadata": {},
   "source": [
    "alpha 값을 0~10 으로 바꿔가면서, subplot으로 그려보기. for문 이용\n",
    "model ridge"
   ]
  },
  {
   "cell_type": "code",
   "execution_count": null,
   "metadata": {},
   "outputs": [],
   "source": []
  }
 ],
 "metadata": {
  "kernelspec": {
   "display_name": "Python 3",
   "language": "python",
   "name": "python3"
  },
  "language_info": {
   "codemirror_mode": {
    "name": "ipython",
    "version": 3
   },
   "file_extension": ".py",
   "mimetype": "text/x-python",
   "name": "python",
   "nbconvert_exporter": "python",
   "pygments_lexer": "ipython3",
   "version": "3.7.3"
  }
 },
 "nbformat": 4,
 "nbformat_minor": 2
}
