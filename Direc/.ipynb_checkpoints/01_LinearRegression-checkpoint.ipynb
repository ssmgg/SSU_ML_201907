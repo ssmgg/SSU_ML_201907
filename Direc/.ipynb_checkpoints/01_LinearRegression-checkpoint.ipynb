{
 "cells": [
  {
   "cell_type": "markdown",
   "metadata": {},
   "source": [
    "# Linear Regression"
   ]
  },
  {
   "cell_type": "markdown",
   "metadata": {},
   "source": [
    "### model comprehension"
   ]
  },
  {
   "cell_type": "raw",
   "metadata": {},
   "source": [
    "pip install sklearn"
   ]
  },
  {
   "cell_type": "code",
   "execution_count": 2,
   "metadata": {
    "scrolled": true
   },
   "outputs": [],
   "source": [
    "#가상의 회귀분석용 데이터생성을 위한 패키지 임폴트\n",
    "from sklearn.datasets import make_regression"
   ]
  },
  {
   "cell_type": "code",
   "execution_count": 3,
   "metadata": {},
   "outputs": [
    {
     "name": "stdout",
     "output_type": "stream",
     "text": [
      "X: [[-0.21542726]\n",
      " [-0.24871003]\n",
      " [ 0.31722377]\n",
      " [-0.77212531]\n",
      " [-0.31074394]\n",
      " [ 0.77160985]\n",
      " [ 0.54019245]\n",
      " [-0.15097534]\n",
      " [ 0.51818087]\n",
      " [ 0.70189499]\n",
      " [ 0.78418475]\n",
      " [-0.54089592]\n",
      " [ 0.87233357]\n",
      " [ 0.47001957]\n",
      " [-0.00907216]\n",
      " [ 1.11663335]\n",
      " [-0.26510724]\n",
      " [-0.32544019]\n",
      " [ 1.41087639]\n",
      " [-0.83446429]\n",
      " [ 0.05010271]\n",
      " [-0.43437623]\n",
      " [ 0.09584614]\n",
      " [-0.53660399]\n",
      " [ 0.9331097 ]\n",
      " [-0.22024753]\n",
      " [ 0.54580576]\n",
      " [-0.46703294]\n",
      " [-0.2901207 ]\n",
      " [-1.9061257 ]\n",
      " [ 1.41746819]\n",
      " [ 0.43086714]\n",
      " [ 1.33976975]\n",
      " [-0.77550344]\n",
      " [ 0.46795107]\n",
      " [ 0.57818417]\n",
      " [-0.57092461]\n",
      " [-0.7246179 ]\n",
      " [-0.93344751]\n",
      " [-0.13416235]\n",
      " [ 0.2983656 ]\n",
      " [ 1.84402204]\n",
      " [ 2.08526943]\n",
      " [-1.03436742]\n",
      " [ 1.92622895]\n",
      " [-0.83310033]\n",
      " [ 0.05237389]\n",
      " [ 0.33880761]\n",
      " [-0.65202724]\n",
      " [-0.64018158]\n",
      " [-0.01517557]\n",
      " [-0.50309997]\n",
      " [-1.8856009 ]\n",
      " [-0.25998708]\n",
      " [ 0.79704282]\n",
      " [ 0.11195755]\n",
      " [ 1.16555037]\n",
      " [ 0.45559842]\n",
      " [ 0.37337582]\n",
      " [-0.02517042]\n",
      " [-0.30337058]\n",
      " [-1.36671893]\n",
      " [-0.28999657]\n",
      " [ 0.51146031]\n",
      " [-0.71352646]\n",
      " [-0.45099026]\n",
      " [-1.61219182]\n",
      " [ 1.52685294]\n",
      " [ 0.70360257]\n",
      " [-0.19337636]\n",
      " [ 0.20409183]\n",
      " [ 1.55572697]\n",
      " [ 1.74684783]\n",
      " [-1.00123355]\n",
      " [ 1.25336558]\n",
      " [ 1.3195749 ]\n",
      " [-0.44374304]\n",
      " [-0.6948521 ]\n",
      " [-1.24929426]\n",
      " [ 0.82240849]\n",
      " [ 0.72182638]\n",
      " [-0.31192131]\n",
      " [-0.56750011]\n",
      " [-0.36461467]\n",
      " [ 0.0562875 ]\n",
      " [-0.3166926 ]\n",
      " [ 0.45920044]\n",
      " [-0.48872813]\n",
      " [ 0.77520228]\n",
      " [ 0.36082186]\n",
      " [-1.33831269]\n",
      " [ 1.99661091]\n",
      " [-0.40985779]\n",
      " [-0.77644995]\n",
      " [ 0.47061997]\n",
      " [-0.8010402 ]\n",
      " [-0.11147265]\n",
      " [ 0.29619587]\n",
      " [ 0.27308429]\n",
      " [-0.05370918]\n",
      " [-2.05104561]\n",
      " [-1.20689776]\n",
      " [-0.17797126]\n",
      " [-1.68160628]\n",
      " [-0.4368519 ]\n",
      " [-1.00716386]\n",
      " [ 1.39323929]\n",
      " [ 0.60614487]\n",
      " [ 0.5771734 ]\n",
      " [-0.77422242]\n",
      " [ 0.95672981]\n",
      " [ 0.11827637]\n",
      " [-0.18503741]\n",
      " [-1.10804192]\n",
      " [ 1.7843171 ]\n",
      " [-0.27408138]\n",
      " [-0.23070791]\n",
      " [-1.06690833]\n",
      " [ 0.3148915 ]\n",
      " [ 0.62170551]\n",
      " [-0.67467499]\n",
      " [ 0.54679447]\n",
      " [-0.95368457]\n",
      " [-0.59277444]\n",
      " [ 0.21666801]\n",
      " [ 0.42907485]\n",
      " [-1.0099058 ]\n",
      " [-0.15257634]\n",
      " [ 0.49474822]\n",
      " [ 0.07533866]\n",
      " [-0.13752121]\n",
      " [-0.04297794]\n",
      " [ 0.90831199]\n",
      " [-1.17555302]\n",
      " [ 0.9709305 ]\n",
      " [-0.8820995 ]\n",
      " [-0.04359784]\n",
      " [ 0.23177905]\n",
      " [-0.17596299]\n",
      " [-0.39721953]\n",
      " [-0.51026016]\n",
      " [ 3.63065994]\n",
      " [-0.12028022]\n",
      " [-0.53780017]\n",
      " [-0.51425927]\n",
      " [ 0.91672324]\n",
      " [ 0.35682997]\n",
      " [ 0.83757869]\n",
      " [ 0.07545659]\n",
      " [-2.00619847]\n",
      " [ 0.57234498]\n",
      " [-1.24144426]\n",
      " [ 0.97510679]\n",
      " [ 0.4046301 ]\n",
      " [ 0.34267323]\n",
      " [-1.35014024]\n",
      " [-0.18352947]\n",
      " [-1.36362773]\n",
      " [-1.44254076]\n",
      " [-1.26344141]\n",
      " [ 0.08664281]\n",
      " [-0.89040583]\n",
      " [ 0.86600914]\n",
      " [-1.31328778]\n",
      " [-1.0995436 ]\n",
      " [-1.04319612]\n",
      " [ 0.21567299]\n",
      " [-0.07263052]\n",
      " [-1.51624119]\n",
      " [-1.33886021]\n",
      " [-1.20735552]\n",
      " [ 0.20038827]\n",
      " [-0.67915512]\n",
      " [-0.18350029]\n",
      " [ 2.010098  ]\n",
      " [ 1.9128477 ]\n",
      " [ 1.09277267]\n",
      " [ 0.94410156]\n",
      " [ 0.55071225]\n",
      " [-0.87006803]\n",
      " [ 0.70805686]\n",
      " [-2.17142083]\n",
      " [ 0.69699379]\n",
      " [ 0.6997762 ]\n",
      " [-1.59305104]\n",
      " [-0.91452658]\n",
      " [ 0.5610209 ]\n",
      " [-0.32720354]\n",
      " [-1.65559346]\n",
      " [-0.43725765]\n",
      " [-1.7450297 ]\n",
      " [ 1.28277519]\n",
      " [-1.04413488]\n",
      " [-0.13412524]\n",
      " [-0.37200063]\n",
      " [ 0.09069778]\n",
      " [ 0.40272115]\n",
      " [-0.36053899]\n",
      " [ 0.16175509]\n",
      " [-1.17336667]]\n",
      "y: [ -25.6508181   -15.53379456   41.77031811  -56.71045454  -21.95778585\n",
      "   64.81111134   46.43348061   -8.30713521   43.49032332   71.88111271\n",
      "   80.05236557  -39.15097669   92.11350571   49.93696237   -6.61824884\n",
      "  103.89992867  -16.9756385   -54.13317982  150.83649833  -90.89269642\n",
      "   17.06755048  -50.27718565   10.95419031  -29.82057745   95.92972223\n",
      "  -23.92021964   49.57819194  -35.30415724  -14.87955615 -164.02262245\n",
      "  123.58421843   52.37017917  130.76652578  -88.44113695   54.88362595\n",
      "   55.50552433  -25.92625525  -70.88175375  -87.99593283  -21.63455511\n",
      "   42.66017937  169.41398553  201.78965839 -105.02674347  194.42322375\n",
      "  -69.15947556   16.20088544   24.23577919  -69.19830898  -47.94092866\n",
      "   -2.4671719   -44.74924736 -173.25199485  -13.75511378   79.92390863\n",
      "   17.33903297  124.3748171    30.41632723   45.29799002    3.0486242\n",
      "  -20.60261831 -125.87195854  -43.62249061   53.86653453  -79.18114034\n",
      "  -28.37562609 -140.5004329   129.67015095   75.41885514  -14.10322738\n",
      "   22.10893744  163.4194624   160.53345676  -83.77430833  117.11774467\n",
      "  125.18848401  -42.60849396  -45.8304677  -123.08283439   77.62187058\n",
      "   72.08642647  -40.48743019  -49.94358525  -36.30322058   -3.13735458\n",
      "  -32.67721513   34.14215006  -66.38133132   89.01289916   37.98466475\n",
      " -150.26179814  193.71841104  -37.07810077  -66.81220465   39.9299933\n",
      "  -65.53959399  -26.07147899   35.78767227   46.50232829   -1.45594618\n",
      " -186.95140971  -99.98180171  -12.20574656 -143.2049894   -47.39765306\n",
      "  -92.20749081  121.54716524   62.06677264   60.59406225  -67.26362482\n",
      "   91.39288585   20.97190272  -14.59774147 -106.53206212  160.13768568\n",
      "  -34.04187449  -17.14330371 -114.33188204   20.79164991   48.00007005\n",
      "  -51.35923589   68.25853241  -75.72525201  -62.66732631   35.2498931\n",
      "   43.47243899  -91.59482899  -21.97614917   44.25540976   14.54176193\n",
      "  -20.52498272   -8.06241404  100.10533314 -106.69213708   90.12555457\n",
      "  -82.72836004   -7.67559397   22.54075036  -10.77822773  -34.88669723\n",
      "  -42.58155699  329.90413769  -18.35864834  -52.09243393  -48.55495035\n",
      "  100.41071814   48.07683445   71.88542536   22.24359833 -192.87993044\n",
      "   60.59889138 -115.14924612   89.24434879   24.34562479   34.45710753\n",
      " -121.30668662   -2.7457645  -142.8194501  -132.84950073 -127.26391779\n",
      "    3.14155928  -90.64269415   88.48119478 -126.05581264  -97.77391624\n",
      "  -80.94258064   30.43161516  -26.93419808 -150.5657739  -117.21591421\n",
      " -109.2007605    31.24115966  -49.95559051  -13.30025013  189.42374529\n",
      "  190.7175656   115.26465403   93.3187311    61.90461318  -77.67425222\n",
      "   66.53231451 -216.101231     60.35974324   59.47486977 -141.49036435\n",
      "  -90.42073022   60.05044289  -26.00540103 -152.5665641   -26.19920837\n",
      " -168.44625122  147.74892685  -99.36788736    1.57974647  -59.087893\n",
      "  -14.0493188    48.65898878  -14.8980506     1.48529847 -119.80884609]\n"
     ]
    }
   ],
   "source": [
    "X, y = make_regression(n_samples=200, n_features=1, bias=1, noise=10)\n",
    "print('X:', X)\n",
    "print('y:', y)"
   ]
  },
  {
   "cell_type": "raw",
   "metadata": {},
   "source": [
    "pip install matplotlib"
   ]
  },
  {
   "cell_type": "code",
   "execution_count": 4,
   "metadata": {
    "scrolled": true
   },
   "outputs": [],
   "source": [
    "#데이터 시각화를 위한 패키지 임폴트\n",
    "from matplotlib import pyplot as plt #plt로 축약해서 사용하기 위해"
   ]
  },
  {
   "cell_type": "code",
   "execution_count": 5,
   "metadata": {},
   "outputs": [
    {
     "data": {
      "image/png": "[encoded data removed]",
      "text/plain": [
       "<Figure size 432x288 with 1 Axes>"
      ]
     },
     "metadata": {
      "needs_background": "light"
     },
     "output_type": "display_data"
    }
   ],
   "source": [
    "#산점도를 이용한 시각화 = scatter\n",
    "plt.scatter(X, y)\n",
    "plt.xlabel('X1')\n",
    "plt.ylabel('y')\n",
    "plt.show()"
   ]
  },
  {
   "cell_type": "code",
   "execution_count": 6,
   "metadata": {},
   "outputs": [],
   "source": [
    "#linearRegression 모델 사용을 위한 패키지 임폴트\n",
    "from sklearn.linear_model import LinearRegression"
   ]
  },
  {
   "cell_type": "code",
   "execution_count": 7,
   "metadata": {},
   "outputs": [],
   "source": [
    "# machinelearning할때 model을 LinearRegression으로 선택하겠다.\n",
    "model = LinearRegression()"
   ]
  },
  {
   "cell_type": "code",
   "execution_count": 8,
   "metadata": {},
   "outputs": [],
   "source": [
    "#trainset & testset split해주는 메서드를 임폴트\n",
    "from sklearn.model_selection import train_test_split"
   ]
  },
  {
   "cell_type": "code",
   "execution_count": 9,
   "metadata": {},
   "outputs": [],
   "source": [
    "X_train, X_test, y_train, y_test = train_test_split(X, y, test_size=0.2,\n",
    "                                                   shuffle=True)"
   ]
  },
  {
   "cell_type": "code",
   "execution_count": 10,
   "metadata": {},
   "outputs": [
    {
     "data": {
      "text/plain": [
       "LinearRegression(copy_X=True, fit_intercept=True, n_jobs=None,\n",
       "         normalize=False)"
      ]
     },
     "execution_count": 10,
     "metadata": {},
     "output_type": "execute_result"
    }
   ],
   "source": [
    "#선택한 모델을 가지고 학습을 시키자.\n",
    "model.fit(X_train, y_train) #fit <- trainset"
   ]
  },
  {
   "cell_type": "code",
   "execution_count": 11,
   "metadata": {},
   "outputs": [
    {
     "data": {
      "text/plain": [
       "(array([95.51208101]), 2.155152597599442)"
      ]
     },
     "execution_count": 11,
     "metadata": {},
     "output_type": "execute_result"
    }
   ],
   "source": [
    "#coef_ = weight(기울기), intercept_ = bias(y절편)\n",
    "model.coef_, model.intercept_"
   ]
  },
  {
   "cell_type": "code",
   "execution_count": 12,
   "metadata": {},
   "outputs": [
    {
     "data": {
      "text/plain": [
       "0.98740437784847"
      ]
     },
     "execution_count": 12,
     "metadata": {},
     "output_type": "execute_result"
    }
   ],
   "source": [
    "#model 검증(test)\n",
    "model.score(X_test, y_test) # score <- trainset testset 각각"
   ]
  },
  {
   "cell_type": "code",
   "execution_count": 13,
   "metadata": {},
   "outputs": [
    {
     "data": {
      "text/plain": [
       "0.987268149841162"
      ]
     },
     "execution_count": 13,
     "metadata": {},
     "output_type": "execute_result"
    }
   ],
   "source": [
    "model.score(X_train, y_train)"
   ]
  },
  {
   "cell_type": "markdown",
   "metadata": {},
   "source": [
    "hypothesis 시각화"
   ]
  },
  {
   "cell_type": "code",
   "execution_count": 24,
   "metadata": {},
   "outputs": [],
   "source": [
    "x = [-3, 4]\n",
    "hypo = model.coef_ * x + model.intercept_"
   ]
  },
  {
   "cell_type": "code",
   "execution_count": 25,
   "metadata": {},
   "outputs": [
    {
     "data": {
      "image/png": "[encoded data removed]",
      "text/plain": [
       "<Figure size 432x288 with 1 Axes>"
      ]
     },
     "metadata": {
      "needs_background": "light"
     },
     "output_type": "display_data"
    }
   ],
   "source": [
    "plt.plot(x, hypo, 'r')\n",
    "plt.scatter(X, y)\n",
    "plt.xlabel('X1')\n",
    "plt.ylabel('y')\n",
    "plt.show()"
   ]
  },
  {
   "cell_type": "markdown",
   "metadata": {},
   "source": [
    "#### Example Practice"
   ]
  },
  {
   "cell_type": "code",
   "execution_count": 2,
   "metadata": {},
   "outputs": [
    {
     "ename": "SyntaxError",
     "evalue": "invalid syntax (<ipython-input-2-5fd17f20b257>, line 1)",
     "output_type": "error",
     "traceback": [
      "\u001b[1;36m  File \u001b[1;32m\"<ipython-input-2-5fd17f20b257>\"\u001b[1;36m, line \u001b[1;32m1\u001b[0m\n\u001b[1;33m    from sklearn.datasets import\u001b[0m\n\u001b[1;37m                                 ^\u001b[0m\n\u001b[1;31mSyntaxError\u001b[0m\u001b[1;31m:\u001b[0m invalid syntax\n"
     ]
    }
   ],
   "source": [
    "from sklearn.datasets import "
   ]
  },
  {
   "cell_type": "raw",
   "metadata": {},
   "source": [
    "from mglearn.datasets import load_extended_boston"
   ]
  },
  {
   "cell_type": "code",
   "execution_count": null,
   "metadata": {},
   "outputs": [],
   "source": []
  }
 ],
 "metadata": {
  "kernelspec": {
   "display_name": "Python 3",
   "language": "python",
   "name": "python3"
  },
  "language_info": {
   "codemirror_mode": {
    "name": "ipython",
    "version": 3
   },
   "file_extension": ".py",
   "mimetype": "text/x-python",
   "name": "python",
   "nbconvert_exporter": "python",
   "pygments_lexer": "ipython3",
   "version": "3.7.3"
  }
 },
 "nbformat": 4,
 "nbformat_minor": 2
}
