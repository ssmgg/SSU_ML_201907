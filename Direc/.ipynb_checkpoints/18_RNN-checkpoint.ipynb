{
 "cells": [
  {
   "cell_type": "markdown",
   "metadata": {},
   "source": [
    "# RNN"
   ]
  },
  {
   "cell_type": "raw",
   "metadata": {},
   "source": [
    "pip install tensorflow"
   ]
  },
  {
   "cell_type": "code",
   "execution_count": 9,
   "metadata": {
    "scrolled": true
   },
   "outputs": [],
   "source": [
    "import tensorflow as tf\n",
    "import numpy as np"
   ]
  },
  {
   "cell_type": "code",
   "execution_count": 4,
   "metadata": {},
   "outputs": [],
   "source": [
    "tf.reset_default_graph()"
   ]
  },
  {
   "cell_type": "code",
   "execution_count": 5,
   "metadata": {},
   "outputs": [],
   "source": [
    "tf.set_random_seed(777)  # reproducibility"
   ]
  },
  {
   "cell_type": "code",
   "execution_count": 6,
   "metadata": {},
   "outputs": [],
   "source": [
    "sample = \"How are you?\""
   ]
  },
  {
   "cell_type": "code",
   "execution_count": 7,
   "metadata": {},
   "outputs": [
    {
     "data": {
      "text/plain": [
       "['?', 'y', 'o', 'w', 'H', 'u', ' ', 'e', 'a', 'r']"
      ]
     },
     "execution_count": 7,
     "metadata": {},
     "output_type": "execute_result"
    }
   ],
   "source": [
    "idx2char = list(set(sample))  #set() : 중복제거\n",
    "idx2char"
   ]
  },
  {
   "cell_type": "markdown",
   "metadata": {},
   "source": [
    "##### python 기초"
   ]
  },
  {
   "cell_type": "code",
   "execution_count": 10,
   "metadata": {
    "scrolled": true
   },
   "outputs": [
    {
     "name": "stdout",
     "output_type": "stream",
     "text": [
      "?\n",
      "y\n",
      "o\n",
      "w\n",
      "H\n",
      "u\n",
      " \n",
      "e\n",
      "a\n",
      "r\n"
     ]
    }
   ],
   "source": [
    "for c in idx2char: #리스트를 for문(반복문)\n",
    "    print(c) #c가 순차적으로 idx2char 리스트의 원소 "
   ]
  },
  {
   "cell_type": "markdown",
   "metadata": {},
   "source": [
    "리스트를 이용해 for문 돌릴 때, 리스트의 원소와 함께 index도 함께 뽑고싶다면? --> enumerate"
   ]
  },
  {
   "cell_type": "code",
   "execution_count": 11,
   "metadata": {},
   "outputs": [
    {
     "name": "stdout",
     "output_type": "stream",
     "text": [
      "0 ?\n",
      "1 y\n",
      "2 o\n",
      "3 w\n",
      "4 H\n",
      "5 u\n",
      "6  \n",
      "7 e\n",
      "8 a\n",
      "9 r\n"
     ]
    }
   ],
   "source": [
    "for i, c in enumerate(idx2char):\n",
    "    print(i, c)"
   ]
  },
  {
   "cell_type": "markdown",
   "metadata": {},
   "source": [
    "dictionary"
   ]
  },
  {
   "cell_type": "code",
   "execution_count": 12,
   "metadata": {},
   "outputs": [
    {
     "data": {
      "text/plain": [
       "{'name': 'ardino', 'job': 'engineer'}"
      ]
     },
     "execution_count": 12,
     "metadata": {},
     "output_type": "execute_result"
    }
   ],
   "source": [
    "#아래와 같이 key와 value로 이루어진 여러개의 데이터를 담는 자료구조\n",
    "#key : 'name', 'job' / value : 'ardino', 'engineer'\n",
    "data = {'name': 'ardino', 'job': 'engineer'}\n",
    "data"
   ]
  },
  {
   "cell_type": "markdown",
   "metadata": {},
   "source": [
    "for문을 이용해서 dictionary를 만들고 싶다면? -> comprehension(내포)"
   ]
  },
  {
   "cell_type": "code",
   "execution_count": 13,
   "metadata": {},
   "outputs": [
    {
     "data": {
      "text/plain": [
       "{'?': 0,\n",
       " 'y': 1,\n",
       " 'o': 2,\n",
       " 'w': 3,\n",
       " 'H': 4,\n",
       " 'u': 5,\n",
       " ' ': 6,\n",
       " 'e': 7,\n",
       " 'a': 8,\n",
       " 'r': 9}"
      ]
     },
     "execution_count": 13,
     "metadata": {},
     "output_type": "execute_result"
    }
   ],
   "source": [
    "#key -> 'H', 'u' etc (data) / value -> 0, 1, 2 (index)\n",
    "char2idx = {c: i for i, c in enumerate(idx2char)}  # comprehension\n",
    "char2idx"
   ]
  },
  {
   "cell_type": "markdown",
   "metadata": {},
   "source": [
    "#### rnn parameter"
   ]
  },
  {
   "cell_type": "markdown",
   "metadata": {},
   "source": [
    "- dic size : n_input_node = X_feature의 개수  \n",
    "- hidden size : n_hidden_node\n",
    "- num classes : n_output_node\n",
    "- sequence length : 1개 데이터의 sequence data 개수"
   ]
  },
  {
   "cell_type": "code",
   "execution_count": 33,
   "metadata": {},
   "outputs": [],
   "source": [
    "dic_size = len(char2idx)\n",
    "hidden_size = len(char2idx)\n",
    "num_classes = len(char2idx)\n",
    "sequence_length = len(sample) - 1 #len(how are you?) - 1(?)"
   ]
  },
  {
   "cell_type": "code",
   "execution_count": 34,
   "metadata": {},
   "outputs": [],
   "source": [
    "batch_size = 1 # data가 1개뿐 : data = {X:how are you, y: ow are you?}\n",
    "learning_rate = 0.1"
   ]
  },
  {
   "cell_type": "markdown",
   "metadata": {},
   "source": [
    "#### 리스트 컴프리헨션 이해하기"
   ]
  },
  {
   "cell_type": "code",
   "execution_count": 35,
   "metadata": {},
   "outputs": [
    {
     "data": {
      "text/plain": [
       "{'o': 0,\n",
       " 'a': 1,\n",
       " 'H': 2,\n",
       " 'e': 3,\n",
       " 'w': 4,\n",
       " 'r': 5,\n",
       " 'u': 6,\n",
       " '?': 7,\n",
       " ' ': 8,\n",
       " 'y': 9}"
      ]
     },
     "execution_count": 35,
     "metadata": {},
     "output_type": "execute_result"
    }
   ],
   "source": [
    "char2idx"
   ]
  },
  {
   "cell_type": "code",
   "execution_count": 36,
   "metadata": {},
   "outputs": [
    {
     "name": "stdout",
     "output_type": "stream",
     "text": [
      "2\n",
      "0\n",
      "4\n",
      "8\n",
      "1\n",
      "5\n",
      "3\n",
      "8\n",
      "9\n",
      "0\n",
      "6\n",
      "7\n"
     ]
    }
   ],
   "source": [
    "for c in sample: #sample = 'how are you?'\n",
    "    print(char2idx[c]) #c = h , o, w, ' ', a, r, e, ' ', y, o, u, ?\n",
    "    #print(char2idx['h']) -> 2\n",
    "    #print(char2idx['o']) -> 0    \n",
    "    #print(char2idx['w']) -> 4    \n",
    "    #print(char2idx[' ']) -> 8    "
   ]
  },
  {
   "cell_type": "code",
   "execution_count": 37,
   "metadata": {},
   "outputs": [
    {
     "data": {
      "text/plain": [
       "[2, 0, 4, 8, 1, 5, 3, 8, 9, 0, 6, 7]"
      ]
     },
     "execution_count": 37,
     "metadata": {},
     "output_type": "execute_result"
    }
   ],
   "source": [
    "sample_idx = [char2idx[c] for c in sample]  # char to index\n",
    "sample_idx #[h, o, w, ' ', a, r, e, ' ', y, o, u, ?] -> index"
   ]
  },
  {
   "cell_type": "markdown",
   "metadata": {},
   "source": [
    "sample_idx = 'how are you?'를 index로 변환한 값"
   ]
  },
  {
   "cell_type": "markdown",
   "metadata": {},
   "source": [
    "##### 파이썬 기초 : 리스트 슬라이싱"
   ]
  },
  {
   "cell_type": "code",
   "execution_count": 38,
   "metadata": {},
   "outputs": [
    {
     "data": {
      "text/plain": [
       "[1, 2]"
      ]
     },
     "execution_count": 38,
     "metadata": {},
     "output_type": "execute_result"
    }
   ],
   "source": [
    "data = [1, 2, 3, 4, 5, 6]\n",
    "data[0:2] #0번째 ~ 1번째까지 슬라이싱"
   ]
  },
  {
   "cell_type": "code",
   "execution_count": 39,
   "metadata": {},
   "outputs": [
    {
     "data": {
      "text/plain": [
       "[1, 2]"
      ]
     },
     "execution_count": 39,
     "metadata": {},
     "output_type": "execute_result"
    }
   ],
   "source": [
    "data[:2] #0번째는 생략 가능"
   ]
  },
  {
   "cell_type": "code",
   "execution_count": 40,
   "metadata": {},
   "outputs": [
    {
     "data": {
      "text/plain": [
       "[3, 4, 5, 6]"
      ]
     },
     "execution_count": 40,
     "metadata": {},
     "output_type": "execute_result"
    }
   ],
   "source": [
    "data[2:] #맨끝까지 슬라이싱하고 싶다면 :뒤에도 생략하기"
   ]
  },
  {
   "cell_type": "code",
   "execution_count": 41,
   "metadata": {},
   "outputs": [
    {
     "data": {
      "text/plain": [
       "[1, 2, 3, 4, 5]"
      ]
     },
     "execution_count": 41,
     "metadata": {},
     "output_type": "execute_result"
    }
   ],
   "source": [
    "#0번째부터 맨마지막 -1 번째까지 (맨마지막 data만 제외)시키고싶다면?\n",
    "data[:-1] # -1 = 맨끝, -2 = 맨끝-1, -3 = 맨끝-2"
   ]
  },
  {
   "cell_type": "markdown",
   "metadata": {},
   "source": [
    "#### sample('how are you?')로부터 X_data, y_data만들기"
   ]
  },
  {
   "cell_type": "code",
   "execution_count": 42,
   "metadata": {},
   "outputs": [],
   "source": [
    "x_data = [sample_idx[:-1]]  # X data sample (0 ~ n-1) = how are you\n",
    "y_data = [sample_idx[1:]]   # Y label sample (1 ~ n) = ow are you?"
   ]
  },
  {
   "cell_type": "markdown",
   "metadata": {},
   "source": [
    "#### tensor build 시작하기"
   ]
  },
  {
   "cell_type": "code",
   "execution_count": 43,
   "metadata": {},
   "outputs": [],
   "source": [
    "X = tf.placeholder(tf.int32, [None, sequence_length])  # None = batch size -> 1\n",
    "Y = tf.placeholder(tf.int32, [None, sequence_length])  # None = batch size -> 1"
   ]
  },
  {
   "cell_type": "markdown",
   "metadata": {},
   "source": [
    "##### X data one_hot encoding 하기 : num_classes만큼 (n_X_feature = num_classes)"
   ]
  },
  {
   "cell_type": "code",
   "execution_count": 44,
   "metadata": {},
   "outputs": [],
   "source": [
    "x_one_hot = tf.one_hot(X, num_classes)"
   ]
  },
  {
   "cell_type": "markdown",
   "metadata": {},
   "source": [
    "#### 모델 구축"
   ]
  },
  {
   "cell_type": "code",
   "execution_count": 45,
   "metadata": {},
   "outputs": [
    {
     "name": "stderr",
     "output_type": "stream",
     "text": [
      "WARNING: Logging before flag parsing goes to stderr.\n",
      "W0711 14:42:53.043931  8092 lazy_loader.py:50] \n",
      "The TensorFlow contrib module will not be included in TensorFlow 2.0.\n",
      "For more information, please see:\n",
      "  * https://github.com/tensorflow/community/blob/master/rfcs/20180907-contrib-sunset.md\n",
      "  * https://github.com/tensorflow/addons\n",
      "  * https://github.com/tensorflow/io (for I/O related ops)\n",
      "If you depend on functionality not listed there, please file an issue.\n",
      "\n",
      "W0711 14:42:53.044930  8092 deprecation.py:323] From <ipython-input-45-49f1f939062b>:3: BasicLSTMCell.__init__ (from tensorflow.python.ops.rnn_cell_impl) is deprecated and will be removed in a future version.\n",
      "Instructions for updating:\n",
      "This class is equivalent as tf.keras.layers.LSTMCell, and will be replaced by that in Tensorflow 2.0.\n",
      "W0711 14:42:53.064921  8092 deprecation.py:323] From <ipython-input-45-49f1f939062b>:10: dynamic_rnn (from tensorflow.python.ops.rnn) is deprecated and will be removed in a future version.\n",
      "Instructions for updating:\n",
      "Please use `keras.layers.RNN(cell)`, which is equivalent to this API\n",
      "W0711 14:42:53.121148  8092 deprecation.py:506] From C:\\Users\\OIST\\Anaconda3\\envs\\snu_python\\lib\\site-packages\\tensorflow\\python\\ops\\init_ops.py:1251: calling VarianceScaling.__init__ (from tensorflow.python.ops.init_ops) with dtype is deprecated and will be removed in a future version.\n",
      "Instructions for updating:\n",
      "Call initializer instance with the dtype argument instead of passing it to the constructor\n",
      "W0711 14:42:53.146507  8092 deprecation.py:506] From C:\\Users\\OIST\\Anaconda3\\envs\\snu_python\\lib\\site-packages\\tensorflow\\python\\ops\\rnn_cell_impl.py:738: calling Zeros.__init__ (from tensorflow.python.ops.init_ops) with dtype is deprecated and will be removed in a future version.\n",
      "Instructions for updating:\n",
      "Call initializer instance with the dtype argument instead of passing it to the constructor\n"
     ]
    }
   ],
   "source": [
    "#cell 구조 선택 = BasicRNN or BasicLSTM or GRU \n",
    "cell = tf.contrib.rnn.BasicLSTMCell(\n",
    "    num_units=hidden_size, state_is_tuple=True)\n",
    "\n",
    "#cell initial_state\n",
    "initial_state = cell.zero_state(batch_size, tf.float32)\n",
    "\n",
    "#cell connect\n",
    "outputs, _states = tf.nn.dynamic_rnn(\n",
    "    cell, x_one_hot, initial_state=initial_state, dtype=tf.float32)"
   ]
  },
  {
   "cell_type": "code",
   "execution_count": 46,
   "metadata": {},
   "outputs": [],
   "source": [
    "#output layer = fully connected layer (cnn의 fc와 같은 개념)\n",
    "X_for_fc = tf.reshape(outputs, [-1, hidden_size]) # -1 = None\n",
    "hypothesis = tf.contrib.layers.fully_connected(X_for_fc, num_classes, activation_fn=None)"
   ]
  },
  {
   "cell_type": "code",
   "execution_count": 47,
   "metadata": {},
   "outputs": [],
   "source": [
    "# reshape out for sequence_loss\n",
    "hypothesis = tf.reshape(hypothesis, [batch_size, sequence_length, num_classes])\n",
    "#예측값 shape = batch size 수 x sequence 길이 x X_feature 수"
   ]
  },
  {
   "cell_type": "markdown",
   "metadata": {},
   "source": [
    "#### cost & optimizer"
   ]
  },
  {
   "cell_type": "code",
   "execution_count": 48,
   "metadata": {},
   "outputs": [],
   "source": [
    "#loss 계산을 위해 필요한 가중치\n",
    "weights = tf.ones([batch_size, sequence_length])\n",
    "\n",
    "#loss = sequence_loss를 이용(기본적인 loss개념은 동일)\n",
    "sequence_loss = tf.contrib.seq2seq.sequence_loss(\n",
    "    logits=hypothesis, targets=Y, weights=weights)\n",
    "cost = tf.reduce_mean(sequence_loss) #avg of loss\n",
    "\n",
    "optimizer = tf.train.AdamOptimizer(learning_rate).minimize(cost)"
   ]
  },
  {
   "cell_type": "markdown",
   "metadata": {},
   "source": [
    "#### prediction"
   ]
  },
  {
   "cell_type": "code",
   "execution_count": 49,
   "metadata": {},
   "outputs": [],
   "source": [
    "prediction = tf.argmax(hypothesis, axis=2)"
   ]
  },
  {
   "cell_type": "markdown",
   "metadata": {},
   "source": [
    "#### Session Run"
   ]
  },
  {
   "cell_type": "code",
   "execution_count": 58,
   "metadata": {},
   "outputs": [],
   "source": [
    "epochs = 30"
   ]
  },
  {
   "cell_type": "code",
   "execution_count": 60,
   "metadata": {},
   "outputs": [
    {
     "name": "stdout",
     "output_type": "stream",
     "text": [
      "current epoch: 0/30\n",
      "prediction_idx : [[0 8 8 8 8 8 8 8 0 8 8]]\n",
      "cost: 2.3146093 Prediction: o       o  \n",
      "\n",
      "current epoch: 3/30\n",
      "prediction_idx : [[0 8 8 8 8 8 8 9 0 0 7]]\n",
      "cost: 1.6751213 Prediction: o      yoo?\n",
      "\n",
      "current epoch: 6/30\n",
      "prediction_idx : [[0 4 8 1 5 3 8 9 0 6 7]]\n",
      "cost: 0.8302562 Prediction: ow are you?\n",
      "\n",
      "current epoch: 9/30\n",
      "prediction_idx : [[0 4 8 1 5 3 8 9 0 6 7]]\n",
      "cost: 0.3412471 Prediction: ow are you?\n",
      "\n",
      "current epoch: 12/30\n",
      "prediction_idx : [[0 4 8 1 5 3 8 9 0 6 7]]\n",
      "cost: 0.12807727 Prediction: ow are you?\n",
      "\n",
      "current epoch: 15/30\n",
      "prediction_idx : [[0 4 8 1 5 3 8 9 0 6 7]]\n",
      "cost: 0.04222153 Prediction: ow are you?\n",
      "\n",
      "current epoch: 18/30\n",
      "prediction_idx : [[0 4 8 1 5 3 8 9 0 6 7]]\n",
      "cost: 0.0149756875 Prediction: ow are you?\n",
      "\n",
      "current epoch: 21/30\n",
      "prediction_idx : [[0 4 8 1 5 3 8 9 0 6 7]]\n",
      "cost: 0.0065447283 Prediction: ow are you?\n",
      "\n",
      "current epoch: 24/30\n",
      "prediction_idx : [[0 4 8 1 5 3 8 9 0 6 7]]\n",
      "cost: 0.0036384559 Prediction: ow are you?\n",
      "\n",
      "current epoch: 27/30\n",
      "prediction_idx : [[0 4 8 1 5 3 8 9 0 6 7]]\n",
      "cost: 0.0022691945 Prediction: ow are you?\n",
      "\n"
     ]
    }
   ],
   "source": [
    "with tf.Session() as sess:\n",
    "    sess.run(tf.global_variables_initializer())\n",
    "    for epoch in range(epochs):\n",
    "        #training = optimizing\n",
    "        l, _ = sess.run([cost, optimizer], feed_dict={X: x_data, Y: y_data})\n",
    "\n",
    "        if epoch%3 == 0: #epoch = 10번째마다 한번씩 test\n",
    "            print('current epoch: {}/{}'.format(epoch, epochs))\n",
    "            #testing = prediction\n",
    "            result = sess.run(prediction, feed_dict={X: x_data})\n",
    "            print('prediction_idx : {}'.format(result))\n",
    "            # idx -> char \n",
    "            result_str = [idx2char[i] for i in np.squeeze(result)] #squeeze = [[1, 2, 3]] -> [1, 2, 3]\n",
    "\n",
    "            print(\"cost:\", l, \"Prediction:\", ''.join(result_str))\n",
    "            print()\n"
   ]
  },
  {
   "cell_type": "code",
   "execution_count": null,
   "metadata": {},
   "outputs": [],
   "source": []
  }
 ],
 "metadata": {
  "kernelspec": {
   "display_name": "Python 3",
   "language": "python",
   "name": "python3"
  },
  "language_info": {
   "codemirror_mode": {
    "name": "ipython",
    "version": 3
   },
   "file_extension": ".py",
   "mimetype": "text/x-python",
   "name": "python",
   "nbconvert_exporter": "python",
   "pygments_lexer": "ipython3",
   "version": "3.7.3"
  }
 },
 "nbformat": 4,
 "nbformat_minor": 2
}
