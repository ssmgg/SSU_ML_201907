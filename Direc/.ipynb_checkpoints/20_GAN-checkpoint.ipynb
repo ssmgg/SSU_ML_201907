{
 "cells": [
  {
   "cell_type": "code",
   "execution_count": 2,
   "metadata": {},
   "outputs": [],
   "source": [
    "import tensorflow as tf\n",
    "import matplotlib.pyplot as plt\n",
    "import numpy as np\n",
    "from tensorflow.examples.tutorials.mnist import input_data"
   ]
  },
  {
   "cell_type": "code",
   "execution_count": 4,
   "metadata": {},
   "outputs": [
    {
     "name": "stdout",
     "output_type": "stream",
     "text": [
      "Extracting ./mnist/data/train-images-idx3-ubyte.gz\n",
      "Extracting ./mnist/data/train-labels-idx1-ubyte.gz\n",
      "Extracting ./mnist/data/t10k-images-idx3-ubyte.gz\n",
      "Extracting ./mnist/data/t10k-labels-idx1-ubyte.gz\n"
     ]
    }
   ],
   "source": [
    "mnist = input_data.read_data_sets(\"./mnist/data/\", one_hot=True)\n",
    "X = tf.placeholder(tf.float32, [None, 28 * 28]) # MNIST = 28*28\n",
    "Z = tf.placeholder(tf.float32, [None, 128]) # Noise Dimension = 128"
   ]
  },
  {
   "cell_type": "code",
   "execution_count": 5,
   "metadata": {},
   "outputs": [],
   "source": [
    "def generator(noise_z): # 128 -> 256 -> 28*28\n",
    "    G_W1 = tf.Variable(tf.random_normal([128, 256]))\n",
    "    G_b1 = tf.Variable(tf.zeros([256]))\n",
    "    hidden = tf.nn.relu(tf.matmul(noise_z, G_W1) + G_b1)\n",
    "    \n",
    "    G_W2 = tf.Variable(tf.random_normal([256, 28 * 28]))\n",
    "    G_b2 = tf.Variable(tf.zeros([28 * 28]))\n",
    "    output = tf.nn.sigmoid(tf.matmul(hidden, G_W2) + G_b2)\n",
    "    return output, [G_W1, G_b1, G_W2, G_b2]"
   ]
  },
  {
   "cell_type": "code",
   "execution_count": 6,
   "metadata": {},
   "outputs": [],
   "source": [
    "def discriminator(inputs): # 28*28 -> 256 -> 1\n",
    "    D_W1 = tf.Variable(tf.random_normal([28 * 28, 128], stddev=0.01))\n",
    "    D_b1 = tf.Variable(tf.zeros([128]))\n",
    "    hidden = tf.nn.relu(tf.matmul(inputs, D_W1) + D_b1)\n",
    "    \n",
    "    D_W2 = tf.Variable(tf.random_normal([128, 1], stddev=0.01))\n",
    "    D_b2 = tf.Variable(tf.zeros([1]))\n",
    "    output = tf.nn.sigmoid(tf.matmul(hidden, D_W2) + D_b2)\n",
    "    return output, [D_W1, D_b1, D_W2, D_b2]"
   ]
  },
  {
   "cell_type": "markdown",
   "metadata": {},
   "source": [
    "D(G) == 1 : D가 G를 real이라고 예측했다\n",
    "- G 입장 : 나이스! 오차 0으로! \n",
    "- D 입장 : 이런! 오차를 무한대로!\n",
    "  \n",
    "D(G) == 0 : D가 G를 fake라고 예측했다\n",
    "- G 입장 : 이런! 오차를 무한대로!\n",
    "- D 입장 : 나이스! 오차 0으로! \n",
    "\n",
    "D(X) == 1 : D가 X를 real이라고 예측했다\n",
    "- D 입장 : 나이스! 오차 0으로! \n",
    "\n",
    "D(X) == 0 : D가 X를 fake라고 예측했다\n",
    "- D 입장 : 이런! 오차를 무한대로!"
   ]
  },
  {
   "cell_type": "code",
   "execution_count": 7,
   "metadata": {},
   "outputs": [
    {
     "name": "stdout",
     "output_type": "stream",
     "text": [
      "WARNING:tensorflow:From /anaconda3/envs/test/lib/python3.7/site-packages/tensorflow/python/framework/op_def_library.py:263: colocate_with (from tensorflow.python.framework.ops) is deprecated and will be removed in a future version.\n",
      "Instructions for updating:\n",
      "Colocations handled automatically by placer.\n"
     ]
    }
   ],
   "source": [
    "learning_rate = 0.02\n",
    "\n",
    "G, W_G = generator(Z)\n",
    "\n",
    "D_X, W_D = discriminator(X)\n",
    "D_G, W_D = discriminator(G)\n",
    "\n",
    "loss_D = -tf.reduce_mean(tf.log(D_X) + tf.log(1 - D_G))\n",
    "loss_G = -tf.reduce_mean(tf.log(D_G))\n",
    "\n",
    "train_D = tf.train.AdamOptimizer(learning_rate).minimize(loss_D, var_list=W_D)\n",
    "train_G = tf.train.AdamOptimizer(learning_rate).minimize(loss_G, var_list=W_G)"
   ]
  },
  {
   "cell_type": "code",
   "execution_count": 8,
   "metadata": {},
   "outputs": [],
   "source": [
    "def print_fig(pred, y, sample_size):\n",
    "    fig, ax = plt.subplots(2, sample_size, figsize=(sample_size, 2))\n",
    "\n",
    "    for i in range(sample_size):\n",
    "        ax[0][i].set_axis_off()\n",
    "        ax[1][i].set_axis_off()\n",
    "        ax[0][i].imshow(np.reshape(pred[i], (28, 28)))\n",
    "        ax[1][i].imshow(np.reshape(y[i], (28, 28)))\n",
    "\n",
    "    plt.show()"
   ]
  },
  {
   "cell_type": "code",
   "execution_count": 9,
   "metadata": {},
   "outputs": [],
   "source": [
    "epoches=100"
   ]
  },
  {
   "cell_type": "code",
   "execution_count": null,
   "metadata": {},
   "outputs": [],
   "source": [
    "with tf.Session() as sess:\n",
    "    sess.run(tf.global_variables_initializer())\n",
    "\n",
    "    # ********* Training and Testing\n",
    "    noise_test = np.random.normal(size=(10, 128)) # 10 = Test Sample Size, 128 = Noise Dimension\n",
    "    \n",
    "    for epoch in range(epoches): # 200 = Num. of Epoch\n",
    "        print('{} epoch'.format(epoch+1), end='')\n",
    "        for i in range(int(mnist.train.num_examples / 100)): # 100 = Batch Size\n",
    "            batch_xs, _ = mnist.train.next_batch(100)\n",
    "            noise = np.random.normal(size=(100, 128))\n",
    "\n",
    "            sess.run(train_D, feed_dict={X: batch_xs, Z: noise})\n",
    "            sess.run(train_G, feed_dict={Z: noise})\n",
    "            if i % 100 == 0:\n",
    "                print('.', end='')\n",
    "        print('finished')\n",
    "        if (epoch + 1) % 10 == 1: # 10 = Saving Period\n",
    "            samples = sess.run(G, feed_dict={Z: noise_test})\n",
    "            \n",
    "            sample_size=10\n",
    "            print_fig(samples.astype(tf.float64), mnist.test.images, sample_size)"
   ]
  },
  {
   "cell_type": "code",
   "execution_count": null,
   "metadata": {},
   "outputs": [],
   "source": []
  }
 ],
 "metadata": {
  "kernelspec": {
   "display_name": "Python 3",
   "language": "python",
   "name": "python3"
  },
  "language_info": {
   "codemirror_mode": {
    "name": "ipython",
    "version": 3
   },
   "file_extension": ".py",
   "mimetype": "text/x-python",
   "name": "python",
   "nbconvert_exporter": "python",
   "pygments_lexer": "ipython3",
   "version": "3.7.3"
  }
 },
 "nbformat": 4,
 "nbformat_minor": 2
}
