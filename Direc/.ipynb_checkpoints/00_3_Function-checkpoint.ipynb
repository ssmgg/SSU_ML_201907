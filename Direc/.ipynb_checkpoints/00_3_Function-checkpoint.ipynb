{
 "cells": [
  {
   "cell_type": "markdown",
   "metadata": {},
   "source": [
    "# Function"
   ]
  },
  {
   "cell_type": "code",
   "execution_count": 6,
   "metadata": {},
   "outputs": [
    {
     "name": "stdout",
     "output_type": "stream",
     "text": [
      "input any number:1\n",
      "input any number:2\n",
      "input any number:3\n"
     ]
    },
    {
     "data": {
      "text/plain": [
       "['1', '2', '3']"
      ]
     },
     "execution_count": 6,
     "metadata": {},
     "output_type": "execute_result"
    }
   ],
   "source": [
    "num_list = []\n",
    "\n",
    "for i in range(3):\n",
    "    num = input('input any number:')\n",
    "    num_list.append(num)\n",
    "num_list"
   ]
  },
  {
   "cell_type": "code",
   "execution_count": 5,
   "metadata": {},
   "outputs": [
    {
     "name": "stdout",
     "output_type": "stream",
     "text": [
      "input any data:a\n",
      "input any data:b\n",
      "input any data:c\n",
      "input any data:d\n",
      "input any data:e\n"
     ]
    },
    {
     "data": {
      "text/plain": [
       "['a', 'b', 'c', 'd', 'e']"
      ]
     },
     "execution_count": 5,
     "metadata": {},
     "output_type": "execute_result"
    }
   ],
   "source": [
    "data_list = []\n",
    "\n",
    "for i in range(5):\n",
    "    data = input('input any data:')\n",
    "    data_list.append(data)\n",
    "data_list"
   ]
  },
  {
   "cell_type": "markdown",
   "metadata": {},
   "source": [
    "위의 두 코드는 거의 흡사하다.  \n",
    "이와 같이 반복되는 코드를 재사용하기 위해서 함수를 사용한다."
   ]
  },
  {
   "cell_type": "code",
   "execution_count": 7,
   "metadata": {},
   "outputs": [],
   "source": [
    "def create_data_list(): #함수 정의(생성) var = 234543\n",
    "    data_list = []\n",
    "\n",
    "    for i in range(5):\n",
    "        data = input('input any data:')\n",
    "        data_list.append(data)"
   ]
  },
  {
   "cell_type": "code",
   "execution_count": 9,
   "metadata": {},
   "outputs": [
    {
     "name": "stdout",
     "output_type": "stream",
     "text": [
      "input any data:1\n",
      "input any data:2\n",
      "input any data:3\n",
      "input any data:4\n",
      "input any data:5\n"
     ]
    }
   ],
   "source": [
    "create_data_list() #함수 호출(사용) var "
   ]
  },
  {
   "cell_type": "markdown",
   "metadata": {},
   "source": [
    "#### 함수의 종류\n",
    "1) input X, output X : 함수 내 코드 그대로만 사용가능  \n",
    "2) input O, output X : 함수 내 코드를 input인자를 사용하여 변경 가능  \n",
    "3) input X, output O : 함수 내의 변수를 함수 밖으로 return 가능  \n",
    "4) input O, output O : 코드 변경 O, 함수 내 변수 return O"
   ]
  },
  {
   "cell_type": "code",
   "execution_count": 14,
   "metadata": {},
   "outputs": [],
   "source": [
    "def create_data_list_2(n_iter, name_var): #함수 정의(생성) var = 234543\n",
    "    data_list = []\n",
    "\n",
    "    for i in range(n_iter):\n",
    "        data = input('input any {}:'.format(name_var))\n",
    "        data_list.append(data)"
   ]
  },
  {
   "cell_type": "code",
   "execution_count": 17,
   "metadata": {
    "scrolled": true
   },
   "outputs": [
    {
     "name": "stdout",
     "output_type": "stream",
     "text": [
      "input any number:1\n",
      "input any number:2\n"
     ]
    }
   ],
   "source": [
    "create_data_list_2(2, 'number') #반복할 횟수, 변수 이름을 호출 시에 정해줌."
   ]
  },
  {
   "cell_type": "code",
   "execution_count": 19,
   "metadata": {
    "scrolled": true
   },
   "outputs": [
    {
     "name": "stdout",
     "output_type": "stream",
     "text": [
      "input any number:1\n",
      "input any number:2\n"
     ]
    }
   ],
   "source": [
    "create_data_list_2(name_var='number', n_iter=2)"
   ]
  },
  {
   "cell_type": "markdown",
   "metadata": {},
   "source": [
    "함수 내의 변수를 함수 밖에서 사용하고 싶다면?"
   ]
  },
  {
   "cell_type": "code",
   "execution_count": 20,
   "metadata": {},
   "outputs": [],
   "source": [
    "def create_data_list_3(): #함수 정의(생성) var = 234543\n",
    "    data_list = []\n",
    "\n",
    "    for i in range(5):\n",
    "        data = input('input any data:')\n",
    "        data_list.append(data)\n",
    "    return data_list"
   ]
  },
  {
   "cell_type": "code",
   "execution_count": 21,
   "metadata": {},
   "outputs": [
    {
     "name": "stdout",
     "output_type": "stream",
     "text": [
      "input any data:1\n",
      "input any data:2\n",
      "input any data:3\n",
      "input any data:4\n",
      "input any data:5\n"
     ]
    }
   ],
   "source": [
    "data = create_data_list_3()"
   ]
  },
  {
   "cell_type": "code",
   "execution_count": 22,
   "metadata": {},
   "outputs": [
    {
     "data": {
      "text/plain": [
       "['1', '2', '3', '4', '5']"
      ]
     },
     "execution_count": 22,
     "metadata": {},
     "output_type": "execute_result"
    }
   ],
   "source": [
    "data"
   ]
  },
  {
   "cell_type": "markdown",
   "metadata": {},
   "source": [
    "함수 내 코드도 변경하고, 함수 내 변수도 밖에서 사용하려면?"
   ]
  },
  {
   "cell_type": "code",
   "execution_count": 23,
   "metadata": {},
   "outputs": [],
   "source": [
    "def create_data_list_4(n_iter, name_var): #함수 정의(생성) var = 234543\n",
    "    data_list = []\n",
    "\n",
    "    for i in range(n_iter):\n",
    "        data = input('input any {}:'.format(name_var))\n",
    "        data_list.append(data)\n",
    "    return data_list"
   ]
  },
  {
   "cell_type": "code",
   "execution_count": 25,
   "metadata": {},
   "outputs": [
    {
     "name": "stdout",
     "output_type": "stream",
     "text": [
      "input any key:1\n",
      "input any key:2\n",
      "input any key:3\n",
      "['1', '2', '3']\n"
     ]
    }
   ],
   "source": [
    "data = create_data_list_4(3, 'key')\n",
    "print(data)"
   ]
  },
  {
   "cell_type": "markdown",
   "metadata": {},
   "source": [
    "Quiz) 이름과 폰번호, 이메일주소를 input인자로 받아서,  \n",
    "이 3가지 데이터를dictionary형태로 묶어서 return해주는 함수를 만들어보세요.  \n",
    "함수 이름 : create_info_dict"
   ]
  },
  {
   "cell_type": "code",
   "execution_count": null,
   "metadata": {},
   "outputs": [],
   "source": []
  },
  {
   "cell_type": "code",
   "execution_count": null,
   "metadata": {},
   "outputs": [],
   "source": []
  },
  {
   "cell_type": "markdown",
   "metadata": {},
   "source": [
    "- 함수 호출 시, 인자를 변수를 넣어도 된다.\n",
    "- return이 있는 함수를 호출 시, 반드시 return에대한 변수를 선언해줘야 하는 것은 아니다."
   ]
  },
  {
   "cell_type": "markdown",
   "metadata": {},
   "source": [
    "#### Default값 설정"
   ]
  },
  {
   "cell_type": "markdown",
   "metadata": {},
   "source": [
    "create_info_dict의 input인자는 3개다.  \n",
    "만약 input인자를 2개만 넘겨주면 어떻게 될까?  \n",
    "type error 발생!  \n",
    "  \n",
    "그럼 어떻게 바꿔줘야 할까?"
   ]
  },
  {
   "cell_type": "code",
   "execution_count": 37,
   "metadata": {},
   "outputs": [],
   "source": [
    "def create_info_dict(name, phone='010-0000-0000', email='@.com'):\n",
    "    data = {'name': name,\n",
    "           'phone-number': phone,\n",
    "           'email': email}\n",
    "    return data"
   ]
  },
  {
   "cell_type": "code",
   "execution_count": 40,
   "metadata": {},
   "outputs": [
    {
     "data": {
      "text/plain": [
       "{'name': 'ardino', 'phone-number': '010-0000-0000', 'email': 'naver.com'}"
      ]
     },
     "execution_count": 40,
     "metadata": {},
     "output_type": "execute_result"
    }
   ],
   "source": [
    "create_info_dict('ardino', email='naver.com')"
   ]
  },
  {
   "cell_type": "code",
   "execution_count": 44,
   "metadata": {},
   "outputs": [
    {
     "name": "stdout",
     "output_type": "stream",
     "text": [
      "4\n",
      "4*\n",
      "4:5*"
     ]
    }
   ],
   "source": [
    "#print함수를 기억해보자.\n",
    "print(4)\n",
    "print(4, end='*')\n",
    "print()\n",
    "print(4, 5, sep=':', end='*')"
   ]
  },
  {
   "cell_type": "markdown",
   "metadata": {},
   "source": [
    "#### 가변인자 설정"
   ]
  },
  {
   "cell_type": "markdown",
   "metadata": {},
   "source": [
    "print함수의 경우, var을 1개만 넣어줘도 되고, 안넣어줘도, 여러개를 넣어줘도 된다.  \n",
    "그런 함수를 만들려면 어떻게 해야할까?  \n",
    "  \n",
    "  가변인자 설정\n",
    "  \n",
    "  - 가변인자 : *인자이름\n",
    "  - 특징 : 가변인자의 type은 tuple이다."
   ]
  },
  {
   "cell_type": "code",
   "execution_count": 71,
   "metadata": {},
   "outputs": [],
   "source": [
    "def print_data(*data): #*data = 가변인자\n",
    "    print('data: ', data)\n",
    "    \n",
    "    data_list = list(data) #리스트로 형변환\n",
    "#     print('list: ', data_list)\n",
    "#     return data_list"
   ]
  },
  {
   "cell_type": "code",
   "execution_count": 72,
   "metadata": {},
   "outputs": [
    {
     "name": "stdout",
     "output_type": "stream",
     "text": [
      "data:  ()\n",
      "data:  (1,)\n",
      "data:  (1, 2, 3)\n"
     ]
    }
   ],
   "source": [
    "print_data()\n",
    "print_data(1)\n",
    "print_data(1, 2, 3) #함수 호출 시, data로 대입"
   ]
  },
  {
   "cell_type": "markdown",
   "metadata": {},
   "source": [
    "함수 호출 시, data로 직접 대입하지 않고,  \n",
    "변수로 대입하여 호출해보자."
   ]
  },
  {
   "cell_type": "code",
   "execution_count": 73,
   "metadata": {},
   "outputs": [
    {
     "name": "stdout",
     "output_type": "stream",
     "text": [
      "data:  (1, 2, 3)\n"
     ]
    }
   ],
   "source": [
    "sample_list = [1, 2, 3]\n",
    "print_data(*sample_list)"
   ]
  },
  {
   "cell_type": "markdown",
   "metadata": {},
   "source": [
    "가변인자를 key값을 가진 변수로 선언하고 싶다면?\n",
    "\n",
    "  가변인자 설정\n",
    "  \n",
    "  - 가변인자 : **인자이름\n",
    "  - 특징 : 가변인자의 type은 dictionary이다."
   ]
  },
  {
   "cell_type": "code",
   "execution_count": 81,
   "metadata": {},
   "outputs": [],
   "source": [
    "def print_data_2(**data):\n",
    "    print(data, type(data))"
   ]
  },
  {
   "cell_type": "code",
   "execution_count": 82,
   "metadata": {},
   "outputs": [
    {
     "name": "stdout",
     "output_type": "stream",
     "text": [
      "{'name': 'ardino', 'phone': '010-0000-0000', 'email': '@.com'} <class 'dict'>\n"
     ]
    }
   ],
   "source": [
    "print_data_2(name='ardino', phone='010-0000-0000', email='@.com')"
   ]
  },
  {
   "cell_type": "code",
   "execution_count": 85,
   "metadata": {},
   "outputs": [
    {
     "name": "stdout",
     "output_type": "stream",
     "text": [
      "{'name': 'ardino', 'phone': '010', 'email': 'naver.com'} <class 'dict'>\n"
     ]
    }
   ],
   "source": [
    "sample_dict = {\n",
    "    'name': 'ardino',\n",
    "    'phone': '010',\n",
    "    'email': 'naver.com'\n",
    "}\n",
    "print_data_2(**sample_dict)"
   ]
  }
 ],
 "metadata": {
  "kernelspec": {
   "display_name": "Python 3",
   "language": "python",
   "name": "python3"
  },
  "language_info": {
   "codemirror_mode": {
    "name": "ipython",
    "version": 3
   },
   "file_extension": ".py",
   "mimetype": "text/x-python",
   "name": "python",
   "nbconvert_exporter": "python",
   "pygments_lexer": "ipython3",
   "version": "3.7.3"
  }
 },
 "nbformat": 4,
 "nbformat_minor": 2
}
