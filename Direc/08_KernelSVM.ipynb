{
 "cells": [
  {
   "cell_type": "markdown",
   "metadata": {},
   "source": [
    "# Kernel SVM"
   ]
  },
  {
   "cell_type": "code",
   "execution_count": 4,
   "metadata": {},
   "outputs": [],
   "source": [
    "from sklearn.svm import SVC\n",
    "from sklearn.datasets import make_blobs"
   ]
  },
  {
   "cell_type": "code",
   "execution_count": 5,
   "metadata": {},
   "outputs": [
    {
     "data": {
      "text/plain": [
       "<matplotlib.figure.Figure at 0x1f2fdf32630>"
      ]
     },
     "metadata": {},
     "output_type": "display_data"
    }
   ],
   "source": [
    "import numpy as np\n",
    "from matplotlib import pyplot as plt\n",
    "#200개의 데이터, feature = 2개\n",
    "np.random.seed(30)\n",
    "X = np.random.randn(200, 2)\n",
    "y = np.logical_xor(X[:, 0]>0, X[:, 1]>0)\n",
    "y = np.where(y, 1, -1)\n",
    "plt.scatter(X[y==1, 0], X[y==1, 1], c='b')\n",
    "plt.scatter(X[y==-1, 0], X[y==-1, 1], c='r')\n",
    "plt.show()"
   ]
  },
  {
   "cell_type": "code",
   "execution_count": 6,
   "metadata": {},
   "outputs": [
    {
     "data": {
      "image/png": "[encoded data removed]",
      "text/plain": [
       "<matplotlib.figure.Figure at 0x1f2fd1a1828>"
      ]
     },
     "metadata": {},
     "output_type": "display_data"
    }
   ],
   "source": [
    "from sklearn.model_selection import train_test_split\n",
    "\n",
    "X_train, X_test, y_train, y_test = train_test_split(X, y,\n",
    "                                                   test_size=0.2,\n",
    "                                                   shuffle=True)\n",
    "plt.scatter(X_train[y_train==1, 0],\n",
    "            X_train[y_train==1, 1], c='b')\n",
    "plt.scatter(X_train[y_train==-1, 0],\n",
    "            X_train[y_train==-1, 1], c='r')\n",
    "plt.show()"
   ]
  },
  {
   "cell_type": "code",
   "execution_count": 7,
   "metadata": {},
   "outputs": [
    {
     "data": {
      "text/plain": [
       "0.55"
      ]
     },
     "execution_count": 7,
     "metadata": {},
     "output_type": "execute_result"
    }
   ],
   "source": [
    "model_linear = SVC(kernel='linear', C=0.1).fit(X_train, y_train)\n",
    "model_linear.score(X_test, y_test)"
   ]
  },
  {
   "cell_type": "markdown",
   "metadata": {},
   "source": [
    "contourf : 선 그리기  \n",
    "meshgrid : 격자 점 만들기"
   ]
  },
  {
   "cell_type": "markdown",
   "metadata": {},
   "source": [
    "#### boundary 그리기"
   ]
  },
  {
   "cell_type": "code",
   "execution_count": 8,
   "metadata": {},
   "outputs": [
    {
     "name": "stdout",
     "output_type": "stream",
     "text": [
      "(6000, 6000) [[-3.    -2.999 -2.998 ...  2.997  2.998  2.999]\n",
      " [-3.    -2.999 -2.998 ...  2.997  2.998  2.999]\n",
      " [-3.    -2.999 -2.998 ...  2.997  2.998  2.999]\n",
      " ...\n",
      " [-3.    -2.999 -2.998 ...  2.997  2.998  2.999]\n",
      " [-3.    -2.999 -2.998 ...  2.997  2.998  2.999]\n",
      " [-3.    -2.999 -2.998 ...  2.997  2.998  2.999]]\n"
     ]
    }
   ],
   "source": [
    "x_min, x_max, y_min, y_max = -3, 3, -3, 3\n",
    "X_grid, Y_grid = np.meshgrid(np.arange(x_min, x_max, 0.001),\n",
    "                            np.arange(y_min, y_max, 0.001))\n",
    "print(X_grid.shape, X_grid)"
   ]
  },
  {
   "cell_type": "code",
   "execution_count": 9,
   "metadata": {},
   "outputs": [
    {
     "name": "stdout",
     "output_type": "stream",
     "text": [
      "[1 2 3 4 5 6]\n",
      "(36000000,) [-3.    -2.999 -2.998 ...  2.997  2.998  2.999]\n"
     ]
    }
   ],
   "source": [
    "#flatten : ravel()\n",
    "x = np.array([[1, 2, 3], [4, 5, 6]])\n",
    "print(x.ravel())\n",
    "\n",
    "print(X_grid.ravel().shape, X_grid.ravel())"
   ]
  },
  {
   "cell_type": "code",
   "execution_count": 10,
   "metadata": {},
   "outputs": [
    {
     "name": "stdout",
     "output_type": "stream",
     "text": [
      "[[ 1 10]\n",
      " [ 2 20]\n",
      " [ 3 30]]\n"
     ]
    },
    {
     "data": {
      "text/plain": [
       "array([[-3.   , -3.   ],\n",
       "       [-2.999, -3.   ],\n",
       "       [-2.998, -3.   ],\n",
       "       ...,\n",
       "       [ 2.997,  2.999],\n",
       "       [ 2.998,  2.999],\n",
       "       [ 2.999,  2.999]])"
      ]
     },
     "execution_count": 10,
     "metadata": {},
     "output_type": "execute_result"
    }
   ],
   "source": [
    "x, y = [1, 2, 3], [10, 20, 30]\n",
    "print(np.array([x, y]).T)\n",
    "\n",
    "np.array([X_grid.ravel(), Y_grid.ravel()]).T"
   ]
  },
  {
   "cell_type": "code",
   "execution_count": 11,
   "metadata": {},
   "outputs": [],
   "source": [
    "def draw_contour(model, X, y):\n",
    "    x_min, x_max, y_min, y_max = -3, 3, -3, 3\n",
    "    X_grid, Y_grid = np.meshgrid(np.arange(x_min, x_max, 0.001),\n",
    "                                np.arange(y_min, y_max, 0.001))\n",
    "\n",
    "    pred_grid = model.predict(np.array([X_grid.ravel(), Y_grid.ravel()]).T)\n",
    "    Z = np.reshape(pred_grid, X_grid.shape)\n",
    "\n",
    "    plt.contourf(X_grid, Y_grid, Z, alpha=0.3)\n",
    "    plt.scatter(X[y==1, 0],\n",
    "                X[y==1, 1], c='b')\n",
    "    plt.scatter(X[y==-1, 0],\n",
    "                X[y==-1, 1], c='r')\n",
    "    plt.show()"
   ]
  },
  {
   "cell_type": "code",
   "execution_count": 12,
   "metadata": {},
   "outputs": [
    {
     "name": "stdout",
     "output_type": "stream",
     "text": [
      "degree: 0, trainset: 0.55, testset: 0.55\n",
      "degree: 1, trainset: 0.55, testset: 0.55\n",
      "degree: 2, trainset: 0.9625, testset: 0.925\n",
      "degree: 3, trainset: 0.95625, testset: 0.875\n",
      "degree: 4, trainset: 0.975, testset: 0.925\n",
      "degree: 5, trainset: 0.98125, testset: 0.925\n",
      "degree: 6, trainset: 0.98125, testset: 0.9\n",
      "degree: 7, trainset: 0.9875, testset: 0.9\n",
      "degree: 8, trainset: 0.9875, testset: 0.9\n",
      "degree: 9, trainset: 0.9875, testset: 0.9\n"
     ]
    }
   ],
   "source": [
    "degree = [d for d in range(10)]\n",
    "\n",
    "acc_tr, acc_ts = [], []\n",
    "\n",
    "for d in degree:\n",
    "    model_poly = SVC(kernel='poly', degree=d, gamma=1, coef0=1).fit(X_train, \n",
    "                                                                    y_train)\n",
    "\n",
    "    print('degree: {}, trainset: {}, testset: {}'.format(d,\n",
    "                        model_poly.score(X_train, y_train),\n",
    "                          model_poly.score(X_test, y_test)))\n",
    "    acc_tr.append(model_poly.score(X_train, y_train))\n",
    "    acc_ts.append(model_poly.score(X_test, y_test))"
   ]
  },
  {
   "cell_type": "code",
   "execution_count": 18,
   "metadata": {
    "scrolled": true
   },
   "outputs": [
    {
     "data": {
      "image/png": "[encoded data removed]",
      "text/plain": [
       "<matplotlib.figure.Figure at 0x1f2ff6b30b8>"
      ]
     },
     "metadata": {},
     "output_type": "display_data"
    }
   ],
   "source": [
    "plt.plot(degree, acc_tr, c='b', label='trainset')\n",
    "plt.plot(degree, acc_ts, c='r', label='testset')\n",
    "plt.legend(loc=4)\n",
    "plt.show()"
   ]
  },
  {
   "cell_type": "code",
   "execution_count": 28,
   "metadata": {},
   "outputs": [
    {
     "data": {
      "image/png": "[encoded data removed]",
      "text/plain": [
       "<Figure size 432x288 with 1 Axes>"
      ]
     },
     "metadata": {
      "needs_background": "light"
     },
     "output_type": "display_data"
    }
   ],
   "source": [
    "draw_contour(model_poly, X_train, y_train)"
   ]
  },
  {
   "cell_type": "code",
   "execution_count": 29,
   "metadata": {},
   "outputs": [
    {
     "data": {
      "image/png": "[encoded data removed]",
      "text/plain": [
       "<Figure size 432x288 with 1 Axes>"
      ]
     },
     "metadata": {
      "needs_background": "light"
     },
     "output_type": "display_data"
    }
   ],
   "source": [
    "#가우시안 커널 \n",
    "model_rbf = SVC(kernel='rbf', gamma=1).fit(X_train, y_train)\n",
    "draw_contour(model_rbf, X_train, y_train)"
   ]
  },
  {
   "cell_type": "code",
   "execution_count": 30,
   "metadata": {},
   "outputs": [
    {
     "data": {
      "image/png": "[encoded data removed]",
      "text/plain": [
       "<Figure size 432x288 with 1 Axes>"
      ]
     },
     "metadata": {
      "needs_background": "light"
     },
     "output_type": "display_data"
    }
   ],
   "source": [
    "model_rbf = SVC(kernel='rbf', gamma=1e1).fit(X_train, y_train)\n",
    "draw_contour(model_rbf, X_train, y_train)"
   ]
  },
  {
   "cell_type": "code",
   "execution_count": 33,
   "metadata": {},
   "outputs": [
    {
     "data": {
      "image/png": "[encoded data removed]",
      "text/plain": [
       "<Figure size 432x288 with 1 Axes>"
      ]
     },
     "metadata": {
      "needs_background": "light"
     },
     "output_type": "display_data"
    }
   ],
   "source": [
    "model_rbf = SVC(kernel='sigmoid', gamma=1, coef0=1).fit(X_train, y_train)\n",
    "draw_contour(model_rbf, X_train, y_train)"
   ]
  },
  {
   "cell_type": "code",
   "execution_count": 32,
   "metadata": {},
   "outputs": [],
   "source": [
    "from sklearn.preprocessing import FunctionTransformer\n",
    "from sklearn.pipeline import Pipeline "
   ]
  },
  {
   "cell_type": "code",
   "execution_count": 52,
   "metadata": {},
   "outputs": [
    {
     "data": {
      "text/plain": [
       "(160, 2)"
      ]
     },
     "execution_count": 52,
     "metadata": {},
     "output_type": "execute_result"
    }
   ],
   "source": [
    "X_train.shape"
   ]
  },
  {
   "cell_type": "raw",
   "metadata": {},
   "source": [
    "기존 독립변수 \n",
    "X[:, 0], X[:, 1]\n",
    "\n",
    "basis function\n",
    "Z1 = X0**2 = X[:, 0]**2, \n",
    "Z2 = X0*X1 = X[:, 0]*X[:, 1], \n",
    "Z3 = X1**2 = X[:, 1]**2"
   ]
  },
  {
   "cell_type": "code",
   "execution_count": 55,
   "metadata": {},
   "outputs": [],
   "source": [
    "def basis(X):\n",
    "    basis_function = [X[:, 0]**2, X[:, 0]*X[:, 1], X[:, 1]**2]\n",
    "    basis = np.array(basis_function).T\n",
    "    return basis"
   ]
  },
  {
   "cell_type": "code",
   "execution_count": 56,
   "metadata": {},
   "outputs": [
    {
     "data": {
      "text/plain": [
       "(160, 3)"
      ]
     },
     "execution_count": 56,
     "metadata": {},
     "output_type": "execute_result"
    }
   ],
   "source": [
    "basis(X_train).shape"
   ]
  },
  {
   "cell_type": "code",
   "execution_count": 69,
   "metadata": {},
   "outputs": [
    {
     "data": {
      "text/plain": [
       "array([[0, 1],\n",
       "       [2, 3],\n",
       "       [4, 5]])"
      ]
     },
     "execution_count": 69,
     "metadata": {},
     "output_type": "execute_result"
    }
   ],
   "source": [
    "x = np.arange(6).reshape(3, 2)\n",
    "x"
   ]
  },
  {
   "cell_type": "code",
   "execution_count": 70,
   "metadata": {},
   "outputs": [
    {
     "data": {
      "text/plain": [
       "array([[ 0,  0,  1],\n",
       "       [ 4,  6,  9],\n",
       "       [16, 20, 25]])"
      ]
     },
     "execution_count": 70,
     "metadata": {},
     "output_type": "execute_result"
    }
   ],
   "source": [
    "basis(x)"
   ]
  },
  {
   "cell_type": "code",
   "execution_count": 71,
   "metadata": {},
   "outputs": [
    {
     "data": {
      "text/plain": [
       "(160, 2)"
      ]
     },
     "execution_count": 71,
     "metadata": {},
     "output_type": "execute_result"
    }
   ],
   "source": [
    "X_train.shape"
   ]
  },
  {
   "cell_type": "code",
   "execution_count": 72,
   "metadata": {},
   "outputs": [
    {
     "data": {
      "text/plain": [
       "(160, 3)"
      ]
     },
     "execution_count": 72,
     "metadata": {},
     "output_type": "execute_result"
    }
   ],
   "source": [
    "basis(X_train).shape"
   ]
  },
  {
   "cell_type": "code",
   "execution_count": 76,
   "metadata": {},
   "outputs": [
    {
     "data": {
      "image/png": "[encoded data removed]",
      "text/plain": [
       "<Figure size 432x288 with 1 Axes>"
      ]
     },
     "metadata": {
      "needs_background": "light"
     },
     "output_type": "display_data"
    }
   ],
   "source": [
    "plt.scatter(basis(X_train)[y_train==1, 0], \n",
    "            basis(X_train)[y_train==1, 1], c='r')\n",
    "plt.scatter(basis(X_train)[y_train==-1, 0], \n",
    "            basis(X_train)[y_train==-1, 1], c='b')\n",
    "plt.show()"
   ]
  },
  {
   "cell_type": "code",
   "execution_count": 77,
   "metadata": {},
   "outputs": [
    {
     "data": {
      "image/png": "[encoded data removed]",
      "text/plain": [
       "<Figure size 432x288 with 1 Axes>"
      ]
     },
     "metadata": {
      "needs_background": "light"
     },
     "output_type": "display_data"
    }
   ],
   "source": [
    "plt.scatter(basis(X_train)[y_train==1, 1], \n",
    "            basis(X_train)[y_train==1, 2], c='r')\n",
    "plt.scatter(basis(X_train)[y_train==-1, 1], \n",
    "            basis(X_train)[y_train==-1, 2], c='b')\n",
    "plt.show()"
   ]
  },
  {
   "cell_type": "code",
   "execution_count": 81,
   "metadata": {},
   "outputs": [
    {
     "data": {
      "image/png": "[encoded data removed]",
      "text/plain": [
       "<Figure size 432x288 with 1 Axes>"
      ]
     },
     "metadata": {
      "needs_background": "light"
     },
     "output_type": "display_data"
    }
   ],
   "source": [
    "plt.scatter(basis(X_train)[y_train==1, 0], \n",
    "            basis(X_train)[y_train==1, 2], c='r')\n",
    "plt.scatter(basis(X_train)[y_train==-1, 0], \n",
    "            basis(X_train)[y_train==-1, 2], c='b')\n",
    "plt.show()"
   ]
  },
  {
   "cell_type": "code",
   "execution_count": null,
   "metadata": {},
   "outputs": [],
   "source": []
  }
 ],
 "metadata": {
  "kernelspec": {
   "display_name": "Python 3",
   "language": "python",
   "name": "python3"
  },
  "language_info": {
   "codemirror_mode": {
    "name": "ipython",
    "version": 3
   },
   "file_extension": ".py",
   "mimetype": "text/x-python",
   "name": "python",
   "nbconvert_exporter": "python",
   "pygments_lexer": "ipython3",
   "version": "3.6.4"
  }
 },
 "nbformat": 4,
 "nbformat_minor": 2
}
