{
 "cells": [
  {
   "cell_type": "markdown",
   "metadata": {},
   "source": [
    "# Logistic Regression"
   ]
  },
  {
   "cell_type": "code",
   "execution_count": 1,
   "metadata": {},
   "outputs": [],
   "source": [
    "from sklearn.linear_model import LogisticRegression\n",
    "from sklearn.datasets import make_classification\n",
    "from sklearn.model_selection import train_test_split"
   ]
  },
  {
   "cell_type": "code",
   "execution_count": 3,
   "metadata": {},
   "outputs": [
    {
     "data": {
      "text/plain": [
       "100"
      ]
     },
     "execution_count": 3,
     "metadata": {},
     "output_type": "execute_result"
    }
   ],
   "source": [
    "#가상의 분류용 데이터 생성\n",
    "X, y = make_classification(n_samples=100, n_features=1,\n",
    "                           n_redundant=0, n_informative=1,\n",
    "                           n_clusters_per_class=1,\n",
    "                          random_state=30)\n",
    "len(y)"
   ]
  },
  {
   "cell_type": "markdown",
   "metadata": {},
   "source": [
    "shape: 데이터의 개수 X feature의 개수\n",
    "- n_sample : 100\n",
    "- n_feature : 1"
   ]
  },
  {
   "cell_type": "code",
   "execution_count": 3,
   "metadata": {},
   "outputs": [
    {
     "data": {
      "text/plain": [
       "(100, 1)"
      ]
     },
     "execution_count": 3,
     "metadata": {},
     "output_type": "execute_result"
    }
   ],
   "source": [
    "X.shape"
   ]
  },
  {
   "cell_type": "code",
   "execution_count": 4,
   "metadata": {
    "scrolled": true
   },
   "outputs": [
    {
     "data": {
      "text/plain": [
       "array([[-0.82038224],\n",
       "       [ 0.9850007 ],\n",
       "       [ 2.20060442],\n",
       "       [ 1.39812364],\n",
       "       [-1.93050284]])"
      ]
     },
     "execution_count": 4,
     "metadata": {},
     "output_type": "execute_result"
    }
   ],
   "source": [
    "X[:5]"
   ]
  },
  {
   "cell_type": "code",
   "execution_count": 6,
   "metadata": {},
   "outputs": [
    {
     "data": {
      "text/plain": [
       "array([1, 1, 1, 1, 0, 1, 0, 0, 0, 0])"
      ]
     },
     "execution_count": 6,
     "metadata": {},
     "output_type": "execute_result"
    }
   ],
   "source": [
    "y[:10] #class 0 or 1 ; 2진 분류 데이터"
   ]
  },
  {
   "cell_type": "raw",
   "metadata": {},
   "source": [
    "hypothesis = 1 / 1 + e**-(W0+W1*X1)"
   ]
  },
  {
   "cell_type": "code",
   "execution_count": 10,
   "metadata": {},
   "outputs": [],
   "source": [
    "from matplotlib import font_manager, rc\n",
    "font_loc = \"c:/Windows/Fonts/malgun.ttf\"\n",
    "font_name = font_manager.FontProperties(fname=font_loc).get_name()\n",
    "rc('font', family=font_name)"
   ]
  },
  {
   "cell_type": "code",
   "execution_count": 13,
   "metadata": {},
   "outputs": [
    {
     "data": {
      "image/png": "[encoded data removed]",
      "text/plain": [
       "<matplotlib.figure.Figure at 0x1d2f6ef9e80>"
      ]
     },
     "metadata": {},
     "output_type": "display_data"
    }
   ],
   "source": [
    "from matplotlib import pyplot as plt\n",
    "\n",
    "plt.figure(figsize=(4,3))\n",
    "plt.scatter(X, y, marker='o', c=y, edgecolors='k') #color = y(0:c1, 1:c2)\n",
    "plt.xlabel('크기')\n",
    "plt.ylabel('악성(1) / 양성(0)')\n",
    "plt.title('종양의 크기에 대한 악성/양성')\n",
    "plt.show()"
   ]
  },
  {
   "cell_type": "code",
   "execution_count": 14,
   "metadata": {},
   "outputs": [
    {
     "name": "stdout",
     "output_type": "stream",
     "text": [
      "weight:\n",
      "[[2.44516018]]\n",
      " bias:\n",
      "[0.03738503]\n"
     ]
    }
   ],
   "source": [
    "X_train, X_test, y_train, y_test = train_test_split(X, y,\n",
    "                                                   test_size=0.2,\n",
    "                                                   shuffle=True)\n",
    "model = LogisticRegression()\n",
    "model_logistic = model.fit(X_train, y_train)\n",
    "print('weight:\\n{}\\n bias:\\n{}'.format(model_logistic.coef_, model_logistic.intercept_))"
   ]
  },
  {
   "cell_type": "code",
   "execution_count": 15,
   "metadata": {},
   "outputs": [
    {
     "data": {
      "text/plain": [
       "1.0"
      ]
     },
     "execution_count": 15,
     "metadata": {},
     "output_type": "execute_result"
    }
   ],
   "source": [
    "model_logistic.score(X_test, y_test)"
   ]
  },
  {
   "cell_type": "code",
   "execution_count": 16,
   "metadata": {},
   "outputs": [
    {
     "data": {
      "text/plain": [
       "0.875"
      ]
     },
     "execution_count": 16,
     "metadata": {},
     "output_type": "execute_result"
    }
   ],
   "source": [
    "model_logistic.score(X_train, y_train)"
   ]
  },
  {
   "cell_type": "markdown",
   "metadata": {},
   "source": [
    "### 가상의 분류용 데이터 만들기"
   ]
  },
  {
   "cell_type": "markdown",
   "metadata": {},
   "source": [
    "- n_samples,n_features : data 수, feature 수\n",
    "- n_redundant : 다른 x들의 선형 조합으로 만들어지는 x의 수\n",
    "- n_informative : y와 관련있는 x의 수\n",
    "- n_repeated : 중복되는 x의 수\n",
    "- n_classes : class 수 ex) n_classes = 4 > 카테고리 4개짜리 데이터\n",
    "- n_cluster~ : 각 class 당 cluster 수 \n",
    "- random_state : random pattern label"
   ]
  },
  {
   "cell_type": "markdown",
   "metadata": {},
   "source": [
    "feature : 2개, class : 2개, data : 100개  "
   ]
  },
  {
   "cell_type": "code",
   "execution_count": 17,
   "metadata": {},
   "outputs": [],
   "source": [
    "X, y = make_classification(n_samples=100, n_features=10, \n",
    "                          n_clusters_per_class=1,\n",
    "                          random_state=30,\n",
    "                          n_redundant=3,\n",
    "                          n_informative=1,\n",
    "                          n_repeated=0)"
   ]
  },
  {
   "cell_type": "code",
   "execution_count": 18,
   "metadata": {},
   "outputs": [
    {
     "data": {
      "text/plain": [
       "(100, 10)"
      ]
     },
     "execution_count": 18,
     "metadata": {},
     "output_type": "execute_result"
    }
   ],
   "source": [
    "X.shape"
   ]
  },
  {
   "cell_type": "code",
   "execution_count": 19,
   "metadata": {},
   "outputs": [
    {
     "data": {
      "text/plain": [
       "array([[ 1.59355057e-01, -1.82255756e-01,  1.77030439e+00,\n",
       "         2.58892496e-01, -9.70687130e-01,  1.71569932e+00,\n",
       "         9.38421289e-02, -4.28013733e-01,  5.99534871e-02,\n",
       "        -2.27673875e-01],\n",
       "       [ 5.16955319e-01, -6.56726141e-01, -5.70504164e-01,\n",
       "         8.09185209e-01,  3.42278657e-01, -7.19511810e-01,\n",
       "         3.38143390e-01, -6.24972845e-01,  2.16031708e-01,\n",
       "        -8.20382239e-01],\n",
       "       [-4.23976469e-04,  8.17411635e-01,  6.83387824e-01,\n",
       "         4.16285860e-01, -6.26865219e-01,  8.08133893e-01,\n",
       "        -4.20879152e-01,  1.61333120e+00, -2.68889603e-01,\n",
       "         1.02111054e+00],\n",
       "       [ 5.22931309e-01,  9.87177983e-01, -1.64656498e+00,\n",
       "         9.40729975e-01, -4.90234053e-01,  1.56521134e+00,\n",
       "        -5.08290578e-01,  1.69678792e+00, -3.24734668e-01,\n",
       "         1.23318265e+00],\n",
       "       [ 7.28449443e-01,  4.65786992e-01,  8.66745439e-01,\n",
       "         9.43816790e-01,  1.07497451e+00,  1.40912351e+00,\n",
       "        -2.39830247e-01, -3.02979901e-01, -1.53221797e-01,\n",
       "         5.81861070e-01],\n",
       "       [-1.95181070e+00,  1.45831528e-01, -3.71790427e-01,\n",
       "         9.28250954e-01,  1.34989209e+00, -3.03932181e-01,\n",
       "        -7.50875658e-02, -3.64637874e-01, -4.79716462e-02,\n",
       "         1.82172732e-01],\n",
       "       [ 2.02772777e+00,  6.30272685e-01, -5.10667430e-01,\n",
       "        -2.14801300e-01, -1.40875985e+00,  1.96687115e+00,\n",
       "        -3.24522703e-01, -5.37086263e-01, -2.07329778e-01,\n",
       "         7.87336585e-01],\n",
       "       [ 6.45467521e-01,  1.51414265e+00,  7.99851419e-01,\n",
       "         9.26192416e-01, -2.57180778e-01,  1.32896612e+00,\n",
       "        -7.79620754e-01, -3.30566352e-01, -4.98081015e-01,\n",
       "         1.89146687e+00],\n",
       "       [-2.09259819e-01,  5.19992775e-01,  6.62973571e-01,\n",
       "        -7.48707869e-01,  8.06502141e-01, -3.94072926e-01,\n",
       "        -2.67740400e-01, -1.72320526e-01, -1.71052925e-01,\n",
       "         6.49574930e-01],\n",
       "       [-8.54559136e-01,  2.42320319e-01, -4.38386583e-01,\n",
       "         1.23854772e+00,  1.28901933e+00,  1.31801189e+00,\n",
       "        -1.24768924e-01, -1.70057482e+00, -7.97118753e-02,\n",
       "         3.02706521e-01],\n",
       "       [ 7.36466412e-01,  1.12417022e+00, -5.16453671e-01,\n",
       "        -1.96017279e+00, -1.05399337e+00, -6.00639023e-01,\n",
       "        -5.78826861e-01,  1.22786781e+00, -3.69798609e-01,\n",
       "         1.40431335e+00],\n",
       "       [ 5.72805183e-01, -1.02164103e+00, -1.03603074e+00,\n",
       "         7.49325266e-01, -3.96778842e-01, -6.02011112e-01,\n",
       "         5.26035345e-01,  5.97594967e-01,  3.36071375e-01,\n",
       "        -1.27623389e+00],\n",
       "       [ 8.81694091e-01,  1.29431694e+00,  8.09570486e-01,\n",
       "        -2.92027833e-01, -1.78223805e-01,  9.04753709e-01,\n",
       "        -6.66434133e-01,  9.20981828e-01, -4.25768796e-01,\n",
       "         1.61686060e+00],\n",
       "       [ 7.85819949e-01,  2.06729102e-01, -6.79768391e-01,\n",
       "         6.67269842e-01, -7.63850794e-01,  1.15569300e+00,\n",
       "        -1.06443272e-01,  1.45638396e-01, -6.80040555e-02,\n",
       "         2.58245976e-01],\n",
       "       [-1.15836835e+00,  1.49941321e+00, -1.79544188e-01,\n",
       "        -6.47740601e-01,  1.66035403e-02, -9.40464204e-01,\n",
       "        -7.72036677e-01, -9.38915458e-01, -4.93235730e-01,\n",
       "         1.87306686e+00],\n",
       "       [ 1.33724487e+00,  6.78581730e-01, -1.31257719e+00,\n",
       "         1.69040609e+00,  6.24401242e-01, -8.92537762e-01,\n",
       "        -3.49396670e-01, -1.31704934e+00, -2.23221159e-01,\n",
       "         8.47684239e-01],\n",
       "       [ 2.62521974e-01, -2.80371159e-01, -1.12341395e-01,\n",
       "        -1.74157509e-01, -6.07088389e-01,  1.15801802e+00,\n",
       "         1.44361018e-01, -9.03700441e-01,  9.22287946e-02,\n",
       "        -3.50239628e-01],\n",
       "       [-2.12613154e+00,  9.82379096e-01, -2.34678746e+00,\n",
       "        -6.87179040e-01, -3.83139828e-01,  1.77199289e+00,\n",
       "        -5.05819667e-01,  1.49304497e+00, -3.23156063e-01,\n",
       "         1.22718788e+00],\n",
       "       [ 3.08064994e-01,  1.30749320e+00, -2.03982395e+00,\n",
       "        -4.86677978e-01,  8.72781155e-01, -1.33625533e+00,\n",
       "        -6.73218491e-01, -3.15547003e-01, -4.30103159e-01,\n",
       "         1.63332039e+00],\n",
       "       [ 1.89864124e-01, -8.98148966e-02, -6.95931081e-01,\n",
       "         1.49176116e+00, -1.20186211e+00,  1.35431960e+00,\n",
       "         4.62450201e-02, -2.39848673e-03,  2.95448350e-02,\n",
       "        -1.12196761e-01],\n",
       "       [ 4.71748214e-01,  1.35796611e+00, -9.22890286e-01,\n",
       "         1.09623099e+00, -8.22706243e-01, -8.39526414e-01,\n",
       "        -6.99206620e-01,  1.10967803e-01, -4.46706352e-01,\n",
       "         1.69637115e+00],\n",
       "       [ 7.62131290e-01,  1.31440836e+00, -1.86114651e-01,\n",
       "        -1.44847181e+00, -8.86638529e-01, -1.21039820e+00,\n",
       "        -6.76779060e-01, -7.77363438e-01, -4.32377922e-01,\n",
       "         1.64195882e+00],\n",
       "       [ 4.07673493e-01, -1.41791176e-03, -3.54345498e-01,\n",
       "         3.94406038e-04, -1.14589223e+00,  4.22313025e-01,\n",
       "         7.30072184e-04, -6.54525400e-01,  4.66425621e-04,\n",
       "        -1.77125524e-03],\n",
       "       [-3.11777028e-01, -1.45081947e+00, -2.02931093e+00,\n",
       "         5.44881034e-01, -1.10634702e+00, -2.48021300e-01,\n",
       "         7.47016122e-01, -9.41212560e-01,  4.77250697e-01,\n",
       "        -1.81236356e+00],\n",
       "       [ 3.15255613e-02,  1.50323856e-01,  1.26325952e+00,\n",
       "        -8.16438397e-02, -1.01545586e+00,  1.85101367e-01,\n",
       "        -7.74006320e-02, -1.72711631e-01, -4.94494088e-02,\n",
       "         1.87784548e-01],\n",
       "       [ 1.93408548e+00, -6.01726090e-01,  7.26034393e-01,\n",
       "         9.39733015e-01,  1.69530453e+00, -2.23086007e-01,\n",
       "         3.09824274e-01,  8.75967542e-02,  1.97939303e-01,\n",
       "        -7.51676180e-01],\n",
       "       [ 5.89475884e-01,  5.63858323e-01, -5.20997965e-01,\n",
       "        -1.19061375e+00,  2.43019399e+00,  1.17203698e+00,\n",
       "        -2.90326443e-01,  8.52194485e-01, -1.85482607e-01,\n",
       "         7.04371769e-01],\n",
       "       [-7.59892057e-02, -3.09542859e-01,  3.41543852e-01,\n",
       "        -9.69530752e-01, -1.17688716e+00,  9.10566183e-01,\n",
       "         1.59381308e-01, -7.00292037e-01,  1.01824898e-01,\n",
       "        -3.86680912e-01],\n",
       "       [ 1.30003370e-02,  7.88505254e-01,  7.63446622e-01,\n",
       "         4.45876879e-01,  1.03695413e+00,  7.04669848e-01,\n",
       "        -4.05995472e-01, -7.44161794e-01, -2.59380777e-01,\n",
       "         9.85000696e-01],\n",
       "       [-4.80159635e-02, -4.08190166e-02, -3.00260017e-01,\n",
       "         1.75462501e+00, -1.00330113e+00, -6.97679804e-01,\n",
       "         2.10174071e-02,  1.14051137e-01,  1.34275177e-02,\n",
       "        -5.09911121e-02],\n",
       "       [-2.73625770e-01,  2.13094679e-01, -9.41107810e-01,\n",
       "         7.21726700e-01,  1.11022910e+00,  1.03166281e+00,\n",
       "        -1.09720860e-01,  2.05644598e+00, -7.00980281e-02,\n",
       "         2.66197855e-01],\n",
       "       [ 6.24744436e-02, -3.99778943e-01,  2.84737579e-01,\n",
       "         1.80558596e+00, -1.05095113e+00,  1.55279450e-01,\n",
       "         2.05843195e-01, -1.35031653e-02,  1.31508284e-01,\n",
       "        -4.99403821e-01],\n",
       "       [-3.47641955e-02,  1.05180376e-01, -3.06510653e-01,\n",
       "        -1.52276566e+00, -7.12526365e-01, -1.74515998e+00,\n",
       "        -5.41565909e-02, -2.34220791e+00, -3.45993480e-02,\n",
       "         1.31391317e-01],\n",
       "       [ 1.82440606e+00, -1.24120129e+00,  4.40160738e-01,\n",
       "        -1.04763750e+00, -5.53347816e-01,  4.31126356e-02,\n",
       "         6.39085283e-01,  1.01590477e+00,  4.08296271e-01,\n",
       "        -1.55050855e+00],\n",
       "       [-1.18893791e+00, -7.86793938e-01, -2.91080770e-01,\n",
       "        -6.02835567e-01, -6.42955014e-02, -7.46291439e-01,\n",
       "         4.05114328e-01,  4.48346053e-01,  2.58817835e-01,\n",
       "        -9.82862920e-01],\n",
       "       [-6.30406313e-01,  7.28269761e-01,  2.17296524e-01,\n",
       "         3.44739526e-01, -2.92928739e-01,  2.39648669e-01,\n",
       "        -3.74980666e-01,  8.29294312e-01, -2.39566161e-01,\n",
       "         9.09754523e-01],\n",
       "       [ 1.93861730e-01, -1.51851630e+00, -3.64829402e-02,\n",
       "        -4.86685234e-01,  1.36140585e+00, -1.27674072e+00,\n",
       "         7.81872712e-01, -1.68230459e+00,  4.99519737e-01,\n",
       "        -1.89693043e+00],\n",
       "       [-8.39809841e-01, -8.63621972e-01, -1.56884327e+00,\n",
       "         5.19862517e-01,  4.80963083e-02, -3.80147545e-01,\n",
       "         4.44672510e-01, -3.66612894e-01,  2.84090610e-01,\n",
       "        -1.07883649e+00],\n",
       "       [-6.69635223e-01,  1.36474085e+00, -4.20825939e-01,\n",
       "        -1.18427260e+00,  3.03761343e-01, -1.41601159e+00,\n",
       "        -7.02694880e-01,  2.79628750e+00, -4.48934918e-01,\n",
       "         1.70483415e+00],\n",
       "       [-6.24055508e-01, -1.56033276e+00,  6.24888275e-01,\n",
       "        -1.52270809e+00, -7.17146750e-01,  8.73430813e-02,\n",
       "         8.03403696e-01,  9.12555387e-01,  5.13275367e-01,\n",
       "        -1.94916755e+00],\n",
       "       [ 2.32882919e+00, -4.36230404e-01, -5.98944176e-01,\n",
       "        -1.05939846e-01, -1.04461605e+00,  3.29653673e-01,\n",
       "         2.24611780e-01,  2.07955786e+00,  1.43499083e-01,\n",
       "        -5.44938983e-01],\n",
       "       [-1.49361382e+00,  7.02917708e-01,  4.35696548e-01,\n",
       "         4.97873818e-01, -2.15217370e-01,  8.64693709e-01,\n",
       "        -3.61927083e-01, -1.63741095e-01, -2.31226539e-01,\n",
       "         8.78084740e-01],\n",
       "       [-5.01129783e-02,  9.93809076e-01, -1.82199091e-01,\n",
       "        -1.47769213e+00,  5.29923181e-01,  1.21095712e-01,\n",
       "        -5.11704878e-01,  2.01377574e+00, -3.26915983e-01,\n",
       "         1.24146621e+00],\n",
       "       [-3.73036865e-01, -1.30074122e+00,  4.11113392e-01,\n",
       "         4.09067731e-02, -6.68028244e-01, -9.50526731e-02,\n",
       "         6.69741947e-01, -9.04765645e-01,  4.27882079e-01,\n",
       "        -1.62488582e+00],\n",
       "       [ 1.07572247e+00, -1.15783783e+00,  1.53820799e+00,\n",
       "        -2.00975025e-01,  6.09357423e-01,  9.63521996e-01,\n",
       "         5.96162062e-01, -1.53278735e+00,  3.80873654e-01,\n",
       "        -1.44637092e+00],\n",
       "       [ 8.52706037e-01, -1.32376294e+00, -1.53362844e+00,\n",
       "        -1.68480965e+00, -6.71062536e-02,  9.42444000e-01,\n",
       "         6.81595663e-01,  1.41790031e-01,  4.35455134e-01,\n",
       "        -1.65364456e+00],\n",
       "       [ 2.78072832e-01,  7.78271808e-02,  9.37217234e-02,\n",
       "         3.28737851e-01,  2.35727680e-01, -3.25912067e-01,\n",
       "        -4.00726347e-02,  7.12166395e-02, -2.56014459e-02,\n",
       "         9.72217075e-02],\n",
       "       [ 6.04763698e-01,  2.01820249e-01,  3.18643501e-01,\n",
       "        -8.35578338e-01,  1.03397699e+00, -7.07356846e-01,\n",
       "        -1.03915740e-01,  1.76396612e+00, -6.63892760e-02,\n",
       "         2.52113837e-01],\n",
       "       [ 3.03885354e-01,  6.54224290e-01,  9.88568002e-01,\n",
       "         1.23252899e+00, -3.99778416e-02,  9.87841177e-01,\n",
       "        -3.36855205e-01, -5.73765931e-01, -2.15208718e-01,\n",
       "         8.17256927e-01],\n",
       "       [ 2.09530079e-01, -2.08699611e-01,  2.99958342e+00,\n",
       "        -1.15699320e+00,  3.33461698e-01,  3.00878657e-01,\n",
       "         1.07457872e-01,  1.56817408e+00,  6.86522594e-02,\n",
       "        -2.60707536e-01],\n",
       "       [-3.95524081e-01, -7.97797147e-01, -1.63504526e-03,\n",
       "        -1.98581322e+00, -1.99603125e-01, -6.31017939e-01,\n",
       "         4.10779798e-01, -1.33756217e+00,  2.62437368e-01,\n",
       "        -9.96608127e-01],\n",
       "       [-6.58724062e-02,  5.41615369e-01, -4.79050234e-01,\n",
       "         8.72426912e-01,  1.70045092e-01, -1.37962866e+00,\n",
       "        -2.78873713e-01, -2.21274490e-01, -1.78165731e-01,\n",
       "         6.76585873e-01],\n",
       "       [-1.17522818e+00, -9.43272990e-01, -4.44938104e-01,\n",
       "         9.47266384e-01, -6.94671328e-01, -1.10311481e+00,\n",
       "         4.85684225e-01,  7.12810618e-01,  3.10292011e-01,\n",
       "        -1.17833654e+00],\n",
       "       [ 4.61126405e-01, -6.33758969e-01, -8.49455415e-01,\n",
       "        -8.06274356e-01, -1.01214240e+00,  2.23860226e-02,\n",
       "         3.26317764e-01,  3.08472778e-01,  2.08476599e-01,\n",
       "        -7.91691650e-01],\n",
       "       [ 1.25412820e+00,  1.29518088e+00,  1.22754233e+00,\n",
       "         6.09483394e-01,  2.73526288e-01, -9.64825823e-01,\n",
       "        -6.66878970e-01, -1.27685553e+00, -4.26052991e-01,\n",
       "         1.61793984e+00],\n",
       "       [ 5.17342588e-01,  1.76161109e+00, -9.28248224e-01,\n",
       "         8.61817646e-01,  4.56377293e-01,  1.01742084e+00,\n",
       "        -9.07040407e-01, -1.40266520e+00, -5.79486378e-01,\n",
       "         2.20060442e+00],\n",
       "       [ 1.61143492e+00, -1.05350577e+00,  6.83531204e-01,\n",
       "        -8.67303800e-01,  8.96530116e-02,  9.35116526e-01,\n",
       "         5.42442263e-01,  3.01807372e-01,  3.46553361e-01,\n",
       "        -1.31603932e+00],\n",
       "       [-7.12628715e-01, -1.19952165e+00, -5.61665441e-01,\n",
       "        -4.98865019e-01, -2.37738263e-01,  1.54073561e+00,\n",
       "         6.17624750e-01, -2.52645503e+00,  3.94585651e-01,\n",
       "        -1.49844235e+00],\n",
       "       [ 5.12178201e-01,  1.04648511e+00,  3.05029846e-02,\n",
       "         4.94642470e-02, -4.59634777e-01, -1.91722221e+00,\n",
       "        -5.38827376e-01,  9.08544551e-02, -3.44243897e-01,\n",
       "         1.30726911e+00],\n",
       "       [-9.98702179e-01, -6.18642910e-01, -4.83440479e-01,\n",
       "         3.98742160e-01,  1.02842707e+00,  5.66024780e-01,\n",
       "         3.18534618e-01, -7.89721272e-01,  2.03504134e-01,\n",
       "        -7.72808670e-01],\n",
       "       [ 1.03625393e-02, -2.83525149e-01,  6.66914164e-02,\n",
       "        -8.22851536e-01,  1.15591545e+00,  3.33519060e-01,\n",
       "         1.45984984e-01, -1.38250154e-01,  9.32663074e-02,\n",
       "        -3.54179592e-01],\n",
       "       [-9.50516962e-01, -4.70904477e-01,  2.52423312e-01,\n",
       "         9.89773035e-01, -1.61568947e-01,  4.55887318e-01,\n",
       "         2.42465202e-01,  1.59965123e+00,  1.54905207e-01,\n",
       "        -5.88253833e-01],\n",
       "       [ 1.84622696e-02, -1.54216312e+00,  1.51537853e+00,\n",
       "        -1.40432564e+00, -8.96729927e-01,  1.18791523e+00,\n",
       "         7.94048282e-01, -9.87113266e-01,  5.07298417e-01,\n",
       "        -1.92647003e+00],\n",
       "       [ 4.99394305e-01, -5.80831413e-01, -5.30012701e-01,\n",
       "         2.02553952e-01, -1.41228335e+00, -7.81458235e-01,\n",
       "         2.99065761e-01, -7.30305027e-01,  1.91065947e-01,\n",
       "        -7.25574552e-01],\n",
       "       [ 2.92946284e-01, -7.53192281e-01,  7.78294590e-01,\n",
       "         1.92969157e+00,  2.02765983e+00, -2.70411007e-01,\n",
       "         3.87813086e-01,  4.79693189e-01,  2.47764486e-01,\n",
       "        -9.40887733e-01],\n",
       "       [ 8.16370955e-01,  5.69674356e-01,  4.82250353e-01,\n",
       "         9.44662606e-01,  1.00158689e+00, -4.19677375e-01,\n",
       "        -2.93321076e-01,  1.83298567e-01, -1.87395805e-01,\n",
       "         7.11637157e-01],\n",
       "       [ 2.43081463e-01, -4.41465711e-01, -1.78201063e+00,\n",
       "         1.11644210e-01, -6.03934902e-01,  1.24064397e-01,\n",
       "         2.27307401e-01, -1.41502267e+00,  1.45221251e-01,\n",
       "        -5.51478928e-01],\n",
       "       [-6.10157727e-01, -1.29426454e+00, -2.34807264e-01,\n",
       "        -1.06452821e-01,  6.62117973e-01,  1.37137368e-01,\n",
       "         6.66407154e-01, -1.20736871e-01,  4.25751560e-01,\n",
       "        -1.61679515e+00],\n",
       "       [ 9.05038069e-01, -4.88126031e-01,  1.29374425e+00,\n",
       "         9.73141728e-01,  1.15165062e+00, -1.23510831e+00,\n",
       "         2.51332451e-01,  3.01083898e-01,  1.60570280e-01,\n",
       "        -6.09766996e-01],\n",
       "       [-1.52152467e+00,  1.11047134e+00, -3.78842006e-01,\n",
       "         2.29860809e-01, -1.81369200e+00,  1.10870406e+00,\n",
       "        -5.71773410e-01, -8.91022655e-01, -3.65292328e-01,\n",
       "         1.38720071e+00],\n",
       "       [-9.36796419e-01,  7.91225083e-01,  2.46281743e-01,\n",
       "        -1.95960105e+00, -1.55311737e+00, -1.11423765e+00,\n",
       "        -4.07395892e-01,  4.60790922e-01, -2.60275472e-01,\n",
       "         9.88398306e-01],\n",
       "       [ 8.99188448e-01, -1.47039791e+00,  6.46245262e-01,\n",
       "         4.42025734e-01,  8.34678000e-03, -1.88508358e+00,\n",
       "         7.57096912e-01,  3.60629644e-01,  4.83691073e-01,\n",
       "        -1.83682094e+00],\n",
       "       [ 1.45571345e+00,  7.63317363e-01, -6.55161537e-01,\n",
       "        -3.04283945e-01, -1.42664862e+00, -6.77561136e-01,\n",
       "        -3.93026415e-01, -4.43597178e-02, -2.51095157e-01,\n",
       "         9.53535984e-01],\n",
       "       [ 3.55347550e-01, -8.51028564e-01, -6.51899610e-01,\n",
       "        -7.30964410e-01,  6.46654108e-01,  2.67184584e-03,\n",
       "         4.38188258e-01,  3.40071663e-01,  2.79947976e-01,\n",
       "        -1.06310481e+00],\n",
       "       [ 1.08292328e+00,  1.78766825e-01, -5.62999473e-01,\n",
       "        -5.75722871e-02, -5.77881998e-01,  8.57240579e-01,\n",
       "        -9.20457041e-02,  7.18165189e-01, -5.88057944e-02,\n",
       "         2.23315502e-01],\n",
       "       [-1.25708168e+00,  5.47253610e-01, -2.55533320e-01,\n",
       "         1.44299844e+00,  4.99060407e-01, -8.57912622e-01,\n",
       "        -2.81776801e-01,  7.00145891e-01, -1.80020445e-01,\n",
       "         6.83629163e-01],\n",
       "       [ 1.09791907e+00, -3.44349144e-01,  6.71501459e-01,\n",
       "        -9.51505208e-01, -9.15588513e-01,  1.13182734e-01,\n",
       "         1.77302805e-01,  9.92508053e-01,  1.13274513e-01,\n",
       "        -4.30160921e-01],\n",
       "       [ 3.86813984e-01, -2.06499958e-01,  7.56533787e-01,\n",
       "         1.20291314e+00,  5.74119744e-01,  5.10996197e-01,\n",
       "         1.06325288e-01, -9.20703875e-01,  6.79286780e-02,\n",
       "        -2.57959730e-01],\n",
       "       [ 4.61766273e-01,  6.41793766e-01,  2.22009307e-01,\n",
       "        -4.88208105e-01, -1.11217348e+00,  4.68482442e-01,\n",
       "        -3.30454822e-01, -5.58389628e-01, -2.11119666e-01,\n",
       "         8.01728718e-01],\n",
       "       [-6.95906445e-01, -1.18138861e+00,  7.81215530e-01,\n",
       "         7.31796637e-01,  1.72936213e-01, -3.86085049e-02,\n",
       "         6.08288181e-01, -5.41390013e-03,  3.88620741e-01,\n",
       "        -1.47579055e+00],\n",
       "       [ 3.65269159e-01,  2.96492621e-01,  2.10196662e+00,\n",
       "        -5.32510218e-01,  8.86552029e-01,  1.15445617e+00,\n",
       "        -1.52661839e-01,  4.61132358e-01, -9.75319899e-02,\n",
       "         3.70378557e-01],\n",
       "       [-1.47969151e+00,  1.24104927e+00,  1.92081249e+00,\n",
       "        -4.22447461e-01,  1.18633450e+00, -2.52175964e+00,\n",
       "        -6.39007007e-01, -4.90330015e-01, -4.08246262e-01,\n",
       "         1.55031864e+00],\n",
       "       [ 1.34060489e+00,  2.05470256e-01,  3.81112530e-01,\n",
       "         4.42775343e-01, -8.73185636e-03,  5.79723068e-01,\n",
       "        -1.05795102e-01, -6.78856159e-01, -6.75899550e-02,\n",
       "         2.56673426e-01],\n",
       "       [-3.29533964e-02, -4.76624919e-01,  3.26927308e-02,\n",
       "        -2.68840704e-01, -5.95891762e-01,  1.89274748e+00,\n",
       "         2.45410615e-01, -1.58790121e+00,  1.56786960e-01,\n",
       "        -5.95399808e-01],\n",
       "       [-7.39678325e-01, -6.66279855e-01,  5.50749307e-01,\n",
       "         3.22505967e-01, -8.54301788e-01, -5.19998088e-01,\n",
       "         3.43062526e-01,  7.55751953e-01,  2.19174426e-01,\n",
       "        -8.32316738e-01],\n",
       "       [ 5.40615356e-01,  1.11921528e+00, -7.76162797e-01,\n",
       "         1.54446052e+00,  2.81755748e-01, -1.73808968e+00,\n",
       "        -5.76275599e-01, -2.90377355e-01, -3.68168669e-01,\n",
       "         1.39812364e+00],\n",
       "       [ 1.66610298e-01, -1.26339883e+00, -6.63692778e-01,\n",
       "        -1.25334073e+00,  1.28872939e+00,  4.18245065e-01,\n",
       "         6.50514631e-01, -7.80464126e-01,  4.15598208e-01,\n",
       "        -1.57823771e+00],\n",
       "       [ 2.34109283e-01,  9.16240155e-01,  2.15203526e-01,\n",
       "        -5.16578309e-02, -8.07076701e-01, -3.24992650e-01,\n",
       "        -4.71765219e-01,  2.93281219e-01, -3.01399492e-01,\n",
       "         1.14456712e+00],\n",
       "       [ 2.30347935e-01,  1.00903177e-01, -1.37594416e-01,\n",
       "        -1.09827691e+00,  2.51531589e+00,  1.53785212e-01,\n",
       "        -5.19542928e-02,  7.29211002e-01, -3.31923526e-02,\n",
       "         1.26048240e-01],\n",
       "       [ 1.06784393e+00, -1.45561687e+00,  5.87074051e-02,\n",
       "         7.21102723e-01,  7.12909169e-02, -1.14151445e+00,\n",
       "         7.49486267e-01, -1.81245618e+00,  4.78828814e-01,\n",
       "        -1.81835647e+00],\n",
       "       [ 8.89856712e-01,  1.02297061e-01, -3.76229276e-01,\n",
       "         2.64362498e-02, -6.57212885e-01,  4.42599150e-01,\n",
       "        -5.26719932e-02,  2.03291582e+00, -3.36508741e-02,\n",
       "         1.27789479e-01],\n",
       "       [-4.55964321e-01,  1.95065606e-02, -1.35364995e-01,\n",
       "         2.32614127e-01,  5.09697497e-01,  5.96041113e-01,\n",
       "        -1.00437825e-02,  4.95268560e-01, -6.41673194e-03,\n",
       "         2.43675938e-02],\n",
       "       [-2.08810891e-01, -1.69284790e+00,  2.19180273e-01,\n",
       "         6.46459808e-01, -1.17272697e-01, -1.50465768e+00,\n",
       "         8.71634752e-01,  1.31431745e+00,  5.56866553e-01,\n",
       "        -2.11470545e+00],\n",
       "       [-9.95236946e-01,  1.75990977e+00, -9.09989260e-01,\n",
       "         5.25265425e-01,  3.43214343e-01, -5.52894264e-02,\n",
       "        -9.06164409e-01,  2.06249189e-01, -5.78926724e-01,\n",
       "         2.19847913e+00],\n",
       "       [-9.08280924e-01, -1.54539143e+00,  2.19339372e+00,\n",
       "        -9.21644089e-02, -5.86341448e-01,  3.75436386e-01,\n",
       "         7.95710516e-01,  3.46667823e-01,  5.08360379e-01,\n",
       "        -1.93050284e+00],\n",
       "       [ 1.25041709e+00,  1.33761197e+00, -5.65239175e-01,\n",
       "        -1.46122623e-01,  1.35087004e+00,  4.67766011e-01,\n",
       "        -6.88726422e-01, -3.17632444e-01, -4.40010805e-01,\n",
       "         1.67094476e+00],\n",
       "       [-1.07573356e+00, -6.13543746e-01, -3.59442603e-01,\n",
       "        -3.77467147e-01,  2.25972638e-01,  2.31248900e-01,\n",
       "         3.15909097e-01, -1.12739181e+00,  2.01826751e-01,\n",
       "        -7.66438795e-01],\n",
       "       [ 8.14357482e-02, -1.27942782e+00, -4.49902493e-01,\n",
       "        -6.46695519e-01, -5.73747219e-01, -9.06949682e-01,\n",
       "         6.58767836e-01, -1.06376419e+00,  4.20870983e-01,\n",
       "        -1.59826112e+00],\n",
       "       [ 1.49205414e+00,  1.05638927e-02,  6.38447715e-02,\n",
       "        -7.00378358e-01,  1.16307513e+00, -1.25105248e+00,\n",
       "        -5.43926951e-03, -2.50946314e-01, -3.47501893e-03,\n",
       "         1.31964138e-02],\n",
       "       [-1.82402410e+00, -5.48220602e-01, -2.16680755e+00,\n",
       "        -7.59986535e-01, -9.77587507e-01,  1.03389038e+00,\n",
       "         2.82274698e-01, -2.21688829e-01,  1.80338539e-01,\n",
       "        -6.84837130e-01]])"
      ]
     },
     "execution_count": 19,
     "metadata": {},
     "output_type": "execute_result"
    }
   ],
   "source": [
    "X"
   ]
  },
  {
   "cell_type": "code",
   "execution_count": 20,
   "metadata": {},
   "outputs": [
    {
     "data": {
      "text/plain": [
       "array([ 1.59355057e-01,  5.16955319e-01, -4.23976469e-04,  5.22931309e-01,\n",
       "        7.28449443e-01, -1.95181070e+00,  2.02772777e+00,  6.45467521e-01,\n",
       "       -2.09259819e-01, -8.54559136e-01,  7.36466412e-01,  5.72805183e-01,\n",
       "        8.81694091e-01,  7.85819949e-01, -1.15836835e+00,  1.33724487e+00,\n",
       "        2.62521974e-01, -2.12613154e+00,  3.08064994e-01,  1.89864124e-01,\n",
       "        4.71748214e-01,  7.62131290e-01,  4.07673493e-01, -3.11777028e-01,\n",
       "        3.15255613e-02,  1.93408548e+00,  5.89475884e-01, -7.59892057e-02,\n",
       "        1.30003370e-02, -4.80159635e-02, -2.73625770e-01,  6.24744436e-02,\n",
       "       -3.47641955e-02,  1.82440606e+00, -1.18893791e+00, -6.30406313e-01,\n",
       "        1.93861730e-01, -8.39809841e-01, -6.69635223e-01, -6.24055508e-01,\n",
       "        2.32882919e+00, -1.49361382e+00, -5.01129783e-02, -3.73036865e-01,\n",
       "        1.07572247e+00,  8.52706037e-01,  2.78072832e-01,  6.04763698e-01,\n",
       "        3.03885354e-01,  2.09530079e-01, -3.95524081e-01, -6.58724062e-02,\n",
       "       -1.17522818e+00,  4.61126405e-01,  1.25412820e+00,  5.17342588e-01,\n",
       "        1.61143492e+00, -7.12628715e-01,  5.12178201e-01, -9.98702179e-01,\n",
       "        1.03625393e-02, -9.50516962e-01,  1.84622696e-02,  4.99394305e-01,\n",
       "        2.92946284e-01,  8.16370955e-01,  2.43081463e-01, -6.10157727e-01,\n",
       "        9.05038069e-01, -1.52152467e+00, -9.36796419e-01,  8.99188448e-01,\n",
       "        1.45571345e+00,  3.55347550e-01,  1.08292328e+00, -1.25708168e+00,\n",
       "        1.09791907e+00,  3.86813984e-01,  4.61766273e-01, -6.95906445e-01,\n",
       "        3.65269159e-01, -1.47969151e+00,  1.34060489e+00, -3.29533964e-02,\n",
       "       -7.39678325e-01,  5.40615356e-01,  1.66610298e-01,  2.34109283e-01,\n",
       "        2.30347935e-01,  1.06784393e+00,  8.89856712e-01, -4.55964321e-01,\n",
       "       -2.08810891e-01, -9.95236946e-01, -9.08280924e-01,  1.25041709e+00,\n",
       "       -1.07573356e+00,  8.14357482e-02,  1.49205414e+00, -1.82402410e+00])"
      ]
     },
     "execution_count": 20,
     "metadata": {},
     "output_type": "execute_result"
    }
   ],
   "source": [
    "X[:, 0]"
   ]
  },
  {
   "cell_type": "code",
   "execution_count": 21,
   "metadata": {},
   "outputs": [
    {
     "data": {
      "image/png": "[encoded data removed]",
      "text/plain": [
       "<matplotlib.figure.Figure at 0x1d2f6ee4b70>"
      ]
     },
     "metadata": {},
     "output_type": "display_data"
    }
   ],
   "source": [
    "# plt.scatter(1, 2)\n",
    "# plt.scatter(2, 3)\n",
    "plt.scatter(X[:, 3], X[:, 7])\n",
    "plt.show()"
   ]
  },
  {
   "cell_type": "markdown",
   "metadata": {},
   "source": [
    "### Logistic Regression의 regularization"
   ]
  },
  {
   "cell_type": "code",
   "execution_count": 22,
   "metadata": {},
   "outputs": [],
   "source": [
    "model = LogisticRegression(penalty='l1', C=0.1) \n",
    "#default = l2, C = 1.0"
   ]
  },
  {
   "cell_type": "markdown",
   "metadata": {},
   "source": [
    "- C는 alpha의 역수 \n",
    "- 즉, overfitting이라면, 규제를 강하게! C를 작게!"
   ]
  },
  {
   "cell_type": "code",
   "execution_count": 23,
   "metadata": {},
   "outputs": [
    {
     "name": "stdout",
     "output_type": "stream",
     "text": [
      "weight:\n",
      "[[1.29933841]]\n",
      " bias:\n",
      "[0.]\n"
     ]
    }
   ],
   "source": [
    "model_logistic = model.fit(X_train, y_train)\n",
    "print('weight:\\n{}\\n bias:\\n{}'.format(model_logistic.coef_, model_logistic.intercept_))"
   ]
  },
  {
   "cell_type": "code",
   "execution_count": 24,
   "metadata": {},
   "outputs": [
    {
     "data": {
      "text/plain": [
       "1.0"
      ]
     },
     "execution_count": 24,
     "metadata": {},
     "output_type": "execute_result"
    }
   ],
   "source": [
    "model_logistic.score(X_test, y_test)"
   ]
  },
  {
   "cell_type": "code",
   "execution_count": 25,
   "metadata": {},
   "outputs": [
    {
     "data": {
      "text/plain": [
       "0.8875"
      ]
     },
     "execution_count": 25,
     "metadata": {},
     "output_type": "execute_result"
    }
   ],
   "source": [
    "model_logistic.score(X_train, y_train)"
   ]
  },
  {
   "cell_type": "markdown",
   "metadata": {},
   "source": [
    "### multinomial Classification(다중 분류)"
   ]
  },
  {
   "cell_type": "code",
   "execution_count": 26,
   "metadata": {},
   "outputs": [],
   "source": [
    "X, y = make_classification(n_samples=100, n_features=10, \n",
    "                           n_informative=4,\n",
    "                           n_classes=4)"
   ]
  },
  {
   "cell_type": "code",
   "execution_count": 205,
   "metadata": {},
   "outputs": [
    {
     "data": {
      "text/plain": [
       "array([1, 3, 3, 1, 0, 3, 1, 2, 1, 3, 3, 3, 0, 3, 0, 0, 3, 0, 3, 3, 0, 2,\n",
       "       2, 1, 3, 2, 2, 2, 0, 3, 1, 2, 2, 1, 1, 2, 0, 3, 1, 1, 1, 2, 0, 3,\n",
       "       2, 2, 2, 2, 2, 3, 2, 0, 1, 0, 0, 0, 3, 2, 2, 3, 2, 1, 0, 2, 3, 1,\n",
       "       1, 0, 1, 1, 1, 1, 1, 0, 1, 3, 3, 0, 0, 3, 2, 0, 0, 0, 3, 2, 2, 2,\n",
       "       1, 1, 3, 1, 3, 0, 2, 0, 0, 0, 3, 1])"
      ]
     },
     "execution_count": 205,
     "metadata": {},
     "output_type": "execute_result"
    }
   ],
   "source": [
    "y # target value = 0, 1, 2, 3 중에 하나"
   ]
  },
  {
   "cell_type": "code",
   "execution_count": 206,
   "metadata": {},
   "outputs": [
    {
     "name": "stderr",
     "output_type": "stream",
     "text": [
      "C:\\ProgramData\\Anaconda3\\envs\\finance\\lib\\site-packages\\sklearn\\linear_model\\logistic.py:433: FutureWarning: Default solver will be changed to 'lbfgs' in 0.22. Specify a solver to silence this warning.\n",
      "  FutureWarning)\n",
      "C:\\ProgramData\\Anaconda3\\envs\\finance\\lib\\site-packages\\sklearn\\linear_model\\logistic.py:460: FutureWarning: Default multi_class will be changed to 'auto' in 0.22. Specify the multi_class option to silence this warning.\n",
      "  \"this warning.\", FutureWarning)\n"
     ]
    }
   ],
   "source": [
    "X_train, X_test, y_train, y_test = train_test_split(X, y,\n",
    "                                                   test_size=0.2,\n",
    "                                                   shuffle=True)\n",
    "\n",
    "model = LogisticRegression(C=0.5)\n",
    "model_logistic_ovr = model.fit(X_train, y_train)"
   ]
  },
  {
   "cell_type": "markdown",
   "metadata": {},
   "source": [
    "예측 메서드 = predict(X_data)"
   ]
  },
  {
   "cell_type": "code",
   "execution_count": 210,
   "metadata": {},
   "outputs": [
    {
     "name": "stdout",
     "output_type": "stream",
     "text": [
      "X_test:(20, 10)\n",
      "y_test:(20,)\n"
     ]
    }
   ],
   "source": [
    "print('X_test:{}\\ny_test:{}'.format(X_test.shape, y_test.shape))"
   ]
  },
  {
   "cell_type": "code",
   "execution_count": 207,
   "metadata": {
    "scrolled": true
   },
   "outputs": [
    {
     "data": {
      "text/plain": [
       "array([3, 0, 3, 2, 2, 0, 1, 2, 2, 1, 1, 3, 3, 2, 0, 2, 1, 2, 3, 2])"
      ]
     },
     "execution_count": 207,
     "metadata": {},
     "output_type": "execute_result"
    }
   ],
   "source": [
    "model_logistic_ovr.predict(X_test)"
   ]
  },
  {
   "cell_type": "markdown",
   "metadata": {},
   "source": [
    "- 예측 결과 분석  \n",
    "1) 예측 데이터 개수 : 20개  \n",
    "2) 예측 카테고리(클래스) : 0 or 1 or 2 or 3 (total 4개)"
   ]
  },
  {
   "cell_type": "code",
   "execution_count": 211,
   "metadata": {},
   "outputs": [
    {
     "data": {
      "text/plain": [
       "array([[0.13350035, 0.37352329, 0.09339401, 0.39958235],\n",
       "       [0.33910386, 0.2696372 , 0.25070681, 0.14055213],\n",
       "       [0.09718424, 0.42210166, 0.01819235, 0.46252175],\n",
       "       [0.2623451 , 0.10102935, 0.58357095, 0.0530546 ],\n",
       "       [0.13638677, 0.29039725, 0.52208781, 0.05112818],\n",
       "       [0.59590919, 0.26102038, 0.05524989, 0.08782054],\n",
       "       [0.21117752, 0.39092635, 0.03494692, 0.3629492 ],\n",
       "       [0.08804545, 0.14966383, 0.7348618 , 0.02742893],\n",
       "       [0.25218952, 0.14406649, 0.52136824, 0.08237574],\n",
       "       [0.22025037, 0.44212224, 0.01761469, 0.3200127 ],\n",
       "       [0.14053139, 0.38290834, 0.12867179, 0.34788849],\n",
       "       [0.23542063, 0.30274793, 0.03647909, 0.42535235],\n",
       "       [0.18689991, 0.25984255, 0.27269661, 0.28056093],\n",
       "       [0.12016541, 0.10068767, 0.75951002, 0.0196369 ],\n",
       "       [0.47118408, 0.24584271, 0.1516753 , 0.1312979 ],\n",
       "       [0.26315019, 0.25435618, 0.37015702, 0.1123366 ],\n",
       "       [0.14547877, 0.31851912, 0.21959202, 0.3164101 ],\n",
       "       [0.26536229, 0.12853933, 0.58188044, 0.02421795],\n",
       "       [0.17784616, 0.35701449, 0.04173015, 0.4234092 ],\n",
       "       [0.1814125 , 0.20186897, 0.39686271, 0.21985582]])"
      ]
     },
     "execution_count": 211,
     "metadata": {},
     "output_type": "execute_result"
    }
   ],
   "source": [
    "model_logistic_ovr.predict_proba(X_test)"
   ]
  },
  {
   "cell_type": "markdown",
   "metadata": {},
   "source": [
    "위의 방식은 일대다 방식으로 다중분류를 한 것이다.  \n",
    "Softmax로 다중분류를 하고 싶다면?"
   ]
  },
  {
   "cell_type": "markdown",
   "metadata": {},
   "source": [
    "softmax 를 지원하는 optimizer를 정해줘야됨.\n",
    "- 기본 optimizer : liblinear(softmax 지원X)\n",
    "- softmax를 지원 :   \n",
    "1) lbfgs(limited memory bfgs) : l2규제만 지원  \n",
    "2) newton_cg : l2규제만 지원  \n",
    "3) sag : l2규제만 지원  \n",
    "4) saga : l1,l2규제 지원"
   ]
  },
  {
   "cell_type": "code",
   "execution_count": 248,
   "metadata": {},
   "outputs": [],
   "source": [
    "model_softmax = LogisticRegression(multi_class='multinomial',\n",
    "                                   solver='saga',                                   penalty='l1',\n",
    "                                  C=0.5)"
   ]
  },
  {
   "cell_type": "code",
   "execution_count": 249,
   "metadata": {},
   "outputs": [
    {
     "name": "stderr",
     "output_type": "stream",
     "text": [
      "C:\\ProgramData\\Anaconda3\\envs\\finance\\lib\\site-packages\\sklearn\\linear_model\\sag.py:334: ConvergenceWarning: The max_iter was reached which means the coef_ did not converge\n",
      "  \"the coef_ did not converge\", ConvergenceWarning)\n"
     ]
    },
    {
     "data": {
      "text/plain": [
       "LogisticRegression(C=0.5, class_weight=None, dual=False, fit_intercept=True,\n",
       "          intercept_scaling=1, max_iter=100, multi_class='multinomial',\n",
       "          n_jobs=None, penalty='l1', random_state=None, solver='saga',\n",
       "          tol=0.0001, verbose=0, warm_start=False)"
      ]
     },
     "execution_count": 249,
     "metadata": {},
     "output_type": "execute_result"
    }
   ],
   "source": [
    "model_softmax.fit(X_train, y_train)"
   ]
  },
  {
   "cell_type": "code",
   "execution_count": 250,
   "metadata": {},
   "outputs": [
    {
     "data": {
      "text/plain": [
       "array([1, 1, 3, 2, 2, 0, 3, 2, 2, 1, 1, 3, 3, 2, 0, 1, 1, 2, 3, 2])"
      ]
     },
     "execution_count": 250,
     "metadata": {},
     "output_type": "execute_result"
    }
   ],
   "source": [
    "model_softmax.predict(X_test)"
   ]
  },
  {
   "cell_type": "markdown",
   "metadata": {},
   "source": [
    "predict의 근거를 확인하려면? predict_prob"
   ]
  },
  {
   "cell_type": "code",
   "execution_count": 251,
   "metadata": {},
   "outputs": [
    {
     "data": {
      "text/plain": [
       "array([[0.15545484, 0.406337  , 0.08286232, 0.35534584],\n",
       "       [0.25803672, 0.30315117, 0.28843594, 0.15037618],\n",
       "       [0.11969662, 0.37130813, 0.01994169, 0.48905356],\n",
       "       [0.14811551, 0.07225835, 0.74465134, 0.0349748 ],\n",
       "       [0.1543895 , 0.30813257, 0.48143627, 0.05604166],\n",
       "       [0.5434722 , 0.30510351, 0.02769908, 0.12372521],\n",
       "       [0.1998563 , 0.37205206, 0.04639472, 0.38169692],\n",
       "       [0.00966087, 0.01720858, 0.97009714, 0.00303341],\n",
       "       [0.20088456, 0.1386798 , 0.58637905, 0.07405659],\n",
       "       [0.19227917, 0.48515535, 0.01534273, 0.30722276],\n",
       "       [0.19041274, 0.39784955, 0.1056443 , 0.30609341],\n",
       "       [0.24554235, 0.27270421, 0.0376567 , 0.44409675],\n",
       "       [0.21601981, 0.25892103, 0.25645784, 0.26860132],\n",
       "       [0.07596408, 0.05683205, 0.85423208, 0.0129718 ],\n",
       "       [0.41332225, 0.30573738, 0.08918576, 0.19175461],\n",
       "       [0.29084221, 0.30138085, 0.28523579, 0.12254114],\n",
       "       [0.21566025, 0.35358335, 0.1377307 , 0.29302569],\n",
       "       [0.27050944, 0.16950253, 0.52040609, 0.03958194],\n",
       "       [0.14827105, 0.35453261, 0.05088503, 0.44631132],\n",
       "       [0.23879689, 0.22998234, 0.3137143 , 0.21750648]])"
      ]
     },
     "execution_count": 251,
     "metadata": {},
     "output_type": "execute_result"
    }
   ],
   "source": [
    "model_softmax.predict_proba(X_test)"
   ]
  },
  {
   "cell_type": "markdown",
   "metadata": {},
   "source": [
    "homework) "
   ]
  },
  {
   "cell_type": "code",
   "execution_count": 29,
   "metadata": {},
   "outputs": [],
   "source": [
    "from sklearn.datasets import load_breast_cancer"
   ]
  },
  {
   "cell_type": "code",
   "execution_count": null,
   "metadata": {},
   "outputs": [],
   "source": []
  }
 ],
 "metadata": {
  "kernelspec": {
   "display_name": "Python 3",
   "language": "python",
   "name": "python3"
  },
  "language_info": {
   "codemirror_mode": {
    "name": "ipython",
    "version": 3
   },
   "file_extension": ".py",
   "mimetype": "text/x-python",
   "name": "python",
   "nbconvert_exporter": "python",
   "pygments_lexer": "ipython3",
   "version": "3.6.4"
  }
 },
 "nbformat": 4,
 "nbformat_minor": 2
}
