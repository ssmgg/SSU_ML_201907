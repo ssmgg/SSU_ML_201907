{
 "cells": [
  {
   "cell_type": "markdown",
   "metadata": {},
   "source": [
    "# Hello JupyterNotebook (주피터노트북 기초)"
   ]
  },
  {
   "cell_type": "markdown",
   "metadata": {},
   "source": [
    "# 헤드라인기능 : (command 상태에서) 1"
   ]
  },
  {
   "cell_type": "markdown",
   "metadata": {},
   "source": [
    "## (command 상태에서) 2"
   ]
  },
  {
   "cell_type": "markdown",
   "metadata": {},
   "source": [
    "### 3"
   ]
  },
  {
   "cell_type": "markdown",
   "metadata": {},
   "source": [
    "#### 4"
   ]
  },
  {
   "cell_type": "markdown",
   "metadata": {},
   "source": [
    "##### 5"
   ]
  },
  {
   "cell_type": "markdown",
   "metadata": {},
   "source": [
    "###### 6"
   ]
  },
  {
   "cell_type": "markdown",
   "metadata": {},
   "source": [
    "#### 셀 실행방법\n",
    "1) ctrl + enter : 현재 셀 실행  \n",
    "2) shift + enter : 현재 셀 실행 후, 아래 셀로 이동  \n",
    "3) alt + enter : 현재 셀 실행 후, 아래 셀 추가"
   ]
  },
  {
   "cell_type": "markdown",
   "metadata": {},
   "source": [
    "##### tip) markdown 줄바꿈 = 끝에 공백 두번"
   ]
  },
  {
   "cell_type": "markdown",
   "metadata": {},
   "source": [
    "#### 셀 상태\n",
    "1) 초록색 : edit -> 편집 가능  \n",
    "2) 파랑색 : command -> 명령 가능"
   ]
  },
  {
   "cell_type": "markdown",
   "metadata": {},
   "source": [
    "#### 셀 추가\n",
    "1) 위 : a  \n",
    "2) 아래 : b"
   ]
  },
  {
   "cell_type": "code",
   "execution_count": null,
   "metadata": {},
   "outputs": [],
   "source": []
  },
  {
   "cell_type": "markdown",
   "metadata": {},
   "source": [
    "#### cell type\n",
    "1) code cell : y  \n",
    "2) markdown cell : m  \n",
    "3) raw code cell : r"
   ]
  },
  {
   "cell_type": "markdown",
   "metadata": {},
   "source": [
    "#### 코드 셀 사용해보기"
   ]
  },
  {
   "cell_type": "code",
   "execution_count": 13,
   "metadata": {},
   "outputs": [
    {
     "data": {
      "text/plain": [
       "20"
      ]
     },
     "execution_count": 13,
     "metadata": {},
     "output_type": "execute_result"
    }
   ],
   "source": [
    "5 + 5 + 5 + 5"
   ]
  },
  {
   "cell_type": "code",
   "execution_count": null,
   "metadata": {},
   "outputs": [],
   "source": []
  },
  {
   "cell_type": "code",
   "execution_count": 11,
   "metadata": {},
   "outputs": [
    {
     "data": {
      "text/plain": [
       "125"
      ]
     },
     "execution_count": 11,
     "metadata": {},
     "output_type": "execute_result"
    }
   ],
   "source": [
    "5*5*5"
   ]
  },
  {
   "cell_type": "code",
   "execution_count": null,
   "metadata": {},
   "outputs": [],
   "source": []
  },
  {
   "cell_type": "markdown",
   "metadata": {},
   "source": [
    "#### command 명령어\n",
    "1) cell 복사 : c (ctrl 필요 X)  \n",
    "2) cell 붙여넣기 : v  \n",
    "3) cell 잘라내기 : x, dd(삭제)  \n",
    "4) cell 되돌리기 : z  \n",
    "5) 파일 저장하기 : s  \n",
    "6) 단어 replace : f  \n",
    "7) 여러 셀 드래그 : shift + 방향키(or 마우스 클릭)"
   ]
  },
  {
   "cell_type": "code",
   "execution_count": 16,
   "metadata": {},
   "outputs": [],
   "source": [
    "#주석\n",
    "# (code cell안에서 \n",
    "#  코드에 포함시키지 \n",
    "#  않고 싶은 부분 \n",
    "#  처리)\n",
    "apple = 4 #apple를 replapplece기능으로 apple로 대체"
   ]
  },
  {
   "cell_type": "code",
   "execution_count": null,
   "metadata": {},
   "outputs": [],
   "source": [
    "apple = 3"
   ]
  },
  {
   "cell_type": "code",
   "execution_count": null,
   "metadata": {},
   "outputs": [],
   "source": [
    "apple = 2"
   ]
  },
  {
   "cell_type": "markdown",
   "metadata": {},
   "source": [
    "#### Edit 명령어\n",
    "1) 주석처리 : ctrl + /  \n",
    "2) 코드 복사 : ctrl + c (드래그 필요 x)  \n",
    "3) 코드 붙여넣기 : ctrl + v (드래그 필요 x)    \n",
    "3) 코드 잘라내기 : ctrl + x, d(삭제)  \n",
    "4) 코드 되돌리기 : ctrl + z  \n",
    "5) 코드 전체선택 : ctrl + a  \n",
    "6) 단어 검색 : ctrl + f  \n",
    "7) 들여쓰기 : ctrl + [ or ]  \n",
    "8) 자동완성 : tab"
   ]
  },
  {
   "cell_type": "code",
   "execution_count": 1,
   "metadata": {},
   "outputs": [
    {
     "data": {
      "text/plain": [
       "array([1, 2, 3])"
      ]
     },
     "execution_count": 1,
     "metadata": {},
     "output_type": "execute_result"
    }
   ],
   "source": [
    "# 여기에는\n",
    "# 샘플 코드를 \n",
    "# 작성보도록 하죠\n",
    "import numpy as np"
   ]
  },
  {
   "cell_type": "code",
   "execution_count": 2,
   "metadata": {},
   "outputs": [
    {
     "data": {
      "text/plain": [
       "array([1, 2, 3])"
      ]
     },
     "execution_count": 2,
     "metadata": {},
     "output_type": "execute_result"
    }
   ],
   "source": [
    "data = np.array([1, 2, 3])\n",
    "data"
   ]
  }
 ],
 "metadata": {
  "kernelspec": {
   "display_name": "Python 3",
   "language": "python",
   "name": "python3"
  },
  "language_info": {
   "codemirror_mode": {
    "name": "ipython",
    "version": 3
   },
   "file_extension": ".py",
   "mimetype": "text/x-python",
   "name": "python",
   "nbconvert_exporter": "python",
   "pygments_lexer": "ipython3",
   "version": "3.6.4"
  }
 },
 "nbformat": 4,
 "nbformat_minor": 2
}
